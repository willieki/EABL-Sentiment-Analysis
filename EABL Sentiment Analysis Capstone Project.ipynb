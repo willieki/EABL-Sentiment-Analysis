{
 "cells": [
  {
   "cell_type": "markdown",
   "metadata": {},
   "source": [
    "# Data-Driven Brand Mastery: EABL's Social Analytics\n",
    "\n",
    "\n",
    "## Business Overview\n",
    "media for brand monitoring to enhance brand perception and customer engagement.\n",
    "East African Breweries Limited (EABL) is a leading Fast-Moving Consumer Goods (FMCG) company operating in the beverage industry.\n",
    "EABL's market footprint extends across East Africa, with a significant presence in countries such as Kenya, Uganda, Tanzania, Rwanda, and South Sudan.\n",
    "With a diverse portfolio of brands such as Tusker Lager, Pilsner Lager, WhiteCap Lager,  Johnnie Walker, Smirnoff, Gilbey's Gin, Richot Brandy, Bond 7 Whiskey and Baileys Irish Cream.\n",
    "As part of its strategic approach, EABL is keen on leveraging social \n",
    "\n",
    "##  Problem Statement\n",
    "EABL recognizes the need to closely monitor and understand the sentiments expressed on social media platforms regarding its brands, products, and marketing initiatives. The company aims to address the following challenges:\n",
    "\n",
    "#### 1. Brand Perception and Engagement: \n",
    "\n",
    "The current state of public sentiment towards EABL on social media is not well-understood, and the company lacks insights to proactively manage and improve its brand perception.\n",
    "\n",
    "#### 2. Marketing Campaign Effectiveness: \n",
    "\n",
    "EABL needs to evaluate the impact of its marketing campaigns and promotions on social media to optimize strategies and refine future campaigns.\n",
    "\n",
    "#### 3. Customer Feedback Analysis: \n",
    "\n",
    "There is a lack of systematic analysis of customer feedback related to product quality, packaging, pricing, and overall satisfaction. EABL aims to utilize this feedback for continuous product improvement and innovation.\n",
    "\n",
    "## Objectives\n",
    "\n",
    "### Main Objectives\n",
    "\n",
    "#### Enhance Brand Perception and Customer Engagement:\n",
    "\n",
    "The main objective of our project is to monitor and analyze social media conversations to understand public sentiment towards EABL brands.\n",
    "Identifying areas for improvement and take proactive measures to enhance overall brand perception.\n",
    "\n",
    "### Specific Objectives\n",
    "\n",
    "#### Brand Sentiment Analysis:\n",
    "\n",
    "Analyze sentiments expressed by consumers regarding EABL products, marketing campaigns, and brand image.\n",
    "\n",
    "Categorize sentiments as positive, negative, or neutral to derive actionable insights.\n",
    "\n",
    "#### Campaign Effectiveness:\n",
    "\n",
    "Evaluate the effectiveness of marketing campaigns and promotions through public reactions on social media.\n",
    "\n",
    "Measure key performance indicators (KPIs) such as engagement rates, reach, and sentiment shift during and after campaigns.\n",
    "\n",
    "#### Customer Feedback Analysis:\n",
    "\n",
    "Capture and analyze customer feedback on specific EABL products.\n",
    "\n",
    "Extract insights on taste, packaging, pricing, and overall satisfaction to guide product development and enhancement.\n",
    "\n",
    "######  Success Criteria\n",
    "\n",
    "The success of this project will be measured by:\n",
    "\n",
    "1. A notable improvement in overall brand sentiment scores over a defined period.\n",
    "\n",
    "2. Positive shifts in sentiment during and after key marketing campaigns.\n",
    "\n",
    "3. Tangible product improvements based on customer feedback.\n",
    "\n",
    "4. Enhanced online visibility and engagement compared to competitors.\n",
    "\n",
    "Stakeholders\n",
    "Marketing Team:\n",
    "\n",
    "Benefit from insights to optimize marketing strategies and refine campaigns.\n",
    "Product Development Team:\n",
    "\n",
    "Utilize feedback for continuous product improvement and innovation.\n",
    "Executive Leadership:\n",
    "\n",
    "Receive regular reports on brand health and public perception for strategic decision-making. Objectives\n",
    "\n",
    "\n",
    "## Stakeholders\n",
    "\n",
    "#### 1. Marketing Team:\n",
    "\n",
    "Benefit from insights to optimize marketing strategies and refine campaigns.\n",
    "\n",
    "#### 2. Product Development Team:\n",
    "\n",
    "Utilize feedback for continuous product improvement and innovation.\n",
    "\n",
    "#### 3. Executive Leadership:\n",
    "\n",
    "Receive regular reports on brand health and public perception for strategic decision-making. "
   ]
  },
  {
   "cell_type": "markdown",
   "metadata": {},
   "source": [
    "## Data Understanding\n",
    "\n",
    "#### 1. Brand Mentions:\n",
    "\n",
    "Social media posts, comments, and mentions related to EABL and its brands.\n",
    "\n",
    "Data sources: Twitter, Facebook, Instagram (Likes, shares, comments, EABL relevant hashtags.)\n",
    "\n",
    "\n",
    "#### Product Feedback:\n",
    "\n",
    "Comments and discussions regarding specific EABL products.\n",
    "\n",
    "#### Data sources: \n",
    "\n",
    "Social media platforms, review sites, online forums.\n",
    "\n",
    "Data on taste, packaging, pricing, and overall satisfaction.\n",
    "\n",
    "#### Campaign Reactions:\n",
    "\n",
    "Public reactions to EABL's marketing campaigns and promotions.\n",
    "\n",
    "Data sources: Social media platforms.\n",
    "\n",
    "#### Event Participation:\n",
    "\n",
    "Social media mentions related to EABL-sponsored events and promotions.\n",
    "\n",
    "#### Customer Service Interactions:\n",
    "\n",
    "Social media interactions with EABL's official customer service handles."
   ]
  },
  {
   "cell_type": "markdown",
   "metadata": {},
   "source": [
    "## Importing Libraries "
   ]
  },
  {
   "cell_type": "code",
   "execution_count": 1,
   "metadata": {},
   "outputs": [
    {
     "name": "stderr",
     "output_type": "stream",
     "text": [
      "[nltk_data] Downloading package punkt to\n",
      "[nltk_data]     C:\\Users\\ADMIN\\AppData\\Roaming\\nltk_data...\n",
      "[nltk_data]   Package punkt is already up-to-date!\n",
      "[nltk_data] Downloading package stopwords to\n",
      "[nltk_data]     C:\\Users\\ADMIN\\AppData\\Roaming\\nltk_data...\n",
      "[nltk_data]   Package stopwords is already up-to-date!\n"
     ]
    }
   ],
   "source": [
    "import pandas as pd\n",
    "import numpy as np\n",
    "import matplotlib.pyplot as plt\n",
    "import seaborn as sns\n",
    "import nltk\n",
    "from nltk.corpus import stopwords\n",
    "from nltk import word_tokenize\n",
    "from nltk.tokenize import RegexpTokenizer\n",
    "from  nltk import FreqDist\n",
    "from nltk.stem.wordnet import WordNetLemmatizer\n",
    "import re\n",
    "from sklearn. feature_extraction. text import CountVectorizer,TfidfVectorizer,TfidfTransformer\n",
    "from sklearn.model_selection import train_test_split\n",
    "from sklearn.naive_bayes import MultinomialNB\n",
    "from sklearn.metrics import classification_report, accuracy_score\n",
    "from sklearn.pipeline import make_pipeline\n",
    "\n",
    "import string\n",
    "nltk.download('punkt')\n",
    "nltk.download('stopwords')\n",
    "\n",
    "%matplotlib inline"
   ]
  },
  {
   "cell_type": "markdown",
   "metadata": {},
   "source": [
    "## Importing Datasets"
   ]
  },
  {
   "cell_type": "code",
   "execution_count": 2,
   "metadata": {},
   "outputs": [],
   "source": [
    "# reading the datasets\n",
    "Eabl_mentions = pd.read_csv(\"FinalMentions.CSV\")\n",
    "Eabl_hashtags = pd.read_csv(\"FinalHashtags.CSV\")\n",
    "Eabl_brands = pd.read_csv(\"eablProducts.csv\")\n",
    "Google_news = pd.read_csv(\"FinalGoogleNews.csv\")\n",
    "Chrome_Gin = pd.read_csv(\"ChromeGin.CSV\")"
   ]
  },
  {
   "cell_type": "markdown",
   "metadata": {},
   "source": [
    "##### MERGING DATAFRAMES"
   ]
  },
  {
   "cell_type": "code",
   "execution_count": 3,
   "metadata": {
    "scrolled": true
   },
   "outputs": [
    {
     "data": {
      "text/html": [
       "<div>\n",
       "<style scoped>\n",
       "    .dataframe tbody tr th:only-of-type {\n",
       "        vertical-align: middle;\n",
       "    }\n",
       "\n",
       "    .dataframe tbody tr th {\n",
       "        vertical-align: top;\n",
       "    }\n",
       "\n",
       "    .dataframe thead th {\n",
       "        text-align: right;\n",
       "    }\n",
       "</style>\n",
       "<table border=\"1\" class=\"dataframe\">\n",
       "  <thead>\n",
       "    <tr style=\"text-align: right;\">\n",
       "      <th></th>\n",
       "      <th>Unnamed: 0</th>\n",
       "      <th>cleaned_text</th>\n",
       "      <th>sentiment</th>\n",
       "      <th>stats</th>\n",
       "      <th>comments</th>\n",
       "      <th>retweets</th>\n",
       "      <th>quotes</th>\n",
       "      <th>likes</th>\n",
       "    </tr>\n",
       "  </thead>\n",
       "  <tbody>\n",
       "    <tr>\n",
       "      <th>0</th>\n",
       "      <td>0</td>\n",
       "      <td>guys do you remember shaffie weru dj joe mfalm...</td>\n",
       "      <td>Negative</td>\n",
       "      <td>Jan 7, 2024 · 4:59 AM UTC</td>\n",
       "      <td>14</td>\n",
       "      <td>40</td>\n",
       "      <td>1</td>\n",
       "      <td>157</td>\n",
       "    </tr>\n",
       "    <tr>\n",
       "      <th>1</th>\n",
       "      <td>1</td>\n",
       "      <td>drilling water at kenneth matiba hospital make...</td>\n",
       "      <td>Positive</td>\n",
       "      <td>Jan 9, 2024 · 5:13 PM UTC</td>\n",
       "      <td>18</td>\n",
       "      <td>29</td>\n",
       "      <td>1</td>\n",
       "      <td>194</td>\n",
       "    </tr>\n",
       "    <tr>\n",
       "      <th>2</th>\n",
       "      <td>2</td>\n",
       "      <td>kenyans wakitambua hii beer it is over for eabl</td>\n",
       "      <td>Neutral</td>\n",
       "      <td>Jan 9, 2024 · 1:45 PM UTC</td>\n",
       "      <td>33</td>\n",
       "      <td>122</td>\n",
       "      <td>2</td>\n",
       "      <td>537</td>\n",
       "    </tr>\n",
       "    <tr>\n",
       "      <th>3</th>\n",
       "      <td>3</td>\n",
       "      <td>i thought eabl products are unwanted around th...</td>\n",
       "      <td>Neutral</td>\n",
       "      <td>Jan 10, 2024 · 2:43 PM UTC</td>\n",
       "      <td>0</td>\n",
       "      <td>0</td>\n",
       "      <td>0</td>\n",
       "      <td>0</td>\n",
       "    </tr>\n",
       "    <tr>\n",
       "      <th>4</th>\n",
       "      <td>4</td>\n",
       "      <td>NaN</td>\n",
       "      <td>Neutral</td>\n",
       "      <td>Jan 10, 2024 · 2:39 PM UTC</td>\n",
       "      <td>0</td>\n",
       "      <td>0</td>\n",
       "      <td>0</td>\n",
       "      <td>1</td>\n",
       "    </tr>\n",
       "  </tbody>\n",
       "</table>\n",
       "</div>"
      ],
      "text/plain": [
       "   Unnamed: 0                                       cleaned_text sentiment  \\\n",
       "0           0  guys do you remember shaffie weru dj joe mfalm...  Negative   \n",
       "1           1  drilling water at kenneth matiba hospital make...  Positive   \n",
       "2           2    kenyans wakitambua hii beer it is over for eabl   Neutral   \n",
       "3           3  i thought eabl products are unwanted around th...   Neutral   \n",
       "4           4                                                NaN   Neutral   \n",
       "\n",
       "                        stats  comments  retweets  quotes  likes  \n",
       "0   Jan 7, 2024 · 4:59 AM UTC        14        40       1    157  \n",
       "1   Jan 9, 2024 · 5:13 PM UTC        18        29       1    194  \n",
       "2   Jan 9, 2024 · 1:45 PM UTC        33       122       2    537  \n",
       "3  Jan 10, 2024 · 2:43 PM UTC         0         0       0      0  \n",
       "4  Jan 10, 2024 · 2:39 PM UTC         0         0       0      1  "
      ]
     },
     "execution_count": 3,
     "metadata": {},
     "output_type": "execute_result"
    }
   ],
   "source": [
    "# Combining  the DataFrames vertically to form one df\n",
    "combined_df = pd.concat([Eabl_mentions, Eabl_hashtags, Eabl_brands, Chrome_Gin], ignore_index=True)\n",
    "combined_df.head()"
   ]
  },
  {
   "cell_type": "code",
   "execution_count": 4,
   "metadata": {},
   "outputs": [],
   "source": [
    "#combined_df.to_csv(\"CombinedFinal.csv\")"
   ]
  },
  {
   "cell_type": "markdown",
   "metadata": {},
   "source": [
    "## 1. DATA CLEANING"
   ]
  },
  {
   "cell_type": "code",
   "execution_count": 5,
   "metadata": {},
   "outputs": [
    {
     "name": "stdout",
     "output_type": "stream",
     "text": [
      "Our Final Combined data has 125218 rows & 8 columns.\n"
     ]
    }
   ],
   "source": [
    "print(f\"Our Final Combined data has {combined_df.shape[0]} rows & {combined_df.shape[1]} columns.\")"
   ]
  },
  {
   "cell_type": "code",
   "execution_count": 6,
   "metadata": {},
   "outputs": [],
   "source": [
    "#dropping the Unnamed: 0 column\n",
    "combined_df = combined_df.drop('Unnamed: 0',axis=1)"
   ]
  },
  {
   "cell_type": "code",
   "execution_count": 7,
   "metadata": {},
   "outputs": [
    {
     "data": {
      "text/plain": [
       "Index(['cleaned_text', 'sentiment', 'stats', 'comments', 'retweets', 'quotes',\n",
       "       'likes'],\n",
       "      dtype='object')"
      ]
     },
     "execution_count": 7,
     "metadata": {},
     "output_type": "execute_result"
    }
   ],
   "source": [
    "combined_df.columns"
   ]
  },
  {
   "cell_type": "markdown",
   "metadata": {},
   "source": [
    "##### 1. Missing values"
   ]
  },
  {
   "cell_type": "code",
   "execution_count": 8,
   "metadata": {},
   "outputs": [
    {
     "name": "stdout",
     "output_type": "stream",
     "text": [
      "The cleaned_text column has 4724 missing values\n",
      "The sentiment column has 4 missing values\n",
      "The stats column has 2 missing values\n"
     ]
    }
   ],
   "source": [
    "# Checking for missing values in each column\n",
    "missing_values = combined_df.isna().sum()\n",
    "\n",
    "for column, count in missing_values.items():\n",
    "    if count > 0:\n",
    "        print(f\"The {column} column has {count} missing values\")"
   ]
  },
  {
   "cell_type": "code",
   "execution_count": 9,
   "metadata": {},
   "outputs": [
    {
     "name": "stdout",
     "output_type": "stream",
     "text": [
      "Percentage of Missing Values\n"
     ]
    },
    {
     "data": {
      "text/html": [
       "<div>\n",
       "<style scoped>\n",
       "    .dataframe tbody tr th:only-of-type {\n",
       "        vertical-align: middle;\n",
       "    }\n",
       "\n",
       "    .dataframe tbody tr th {\n",
       "        vertical-align: top;\n",
       "    }\n",
       "\n",
       "    .dataframe thead th {\n",
       "        text-align: right;\n",
       "    }\n",
       "</style>\n",
       "<table border=\"1\" class=\"dataframe\">\n",
       "  <thead>\n",
       "    <tr style=\"text-align: right;\">\n",
       "      <th></th>\n",
       "      <th>Columns</th>\n",
       "      <th>% of Missing Values</th>\n",
       "    </tr>\n",
       "  </thead>\n",
       "  <tbody>\n",
       "    <tr>\n",
       "      <th>0</th>\n",
       "      <td>cleaned_text</td>\n",
       "      <td>3.772621</td>\n",
       "    </tr>\n",
       "    <tr>\n",
       "      <th>1</th>\n",
       "      <td>sentiment</td>\n",
       "      <td>0.003194</td>\n",
       "    </tr>\n",
       "    <tr>\n",
       "      <th>2</th>\n",
       "      <td>stats</td>\n",
       "      <td>0.001597</td>\n",
       "    </tr>\n",
       "  </tbody>\n",
       "</table>\n",
       "</div>"
      ],
      "text/plain": [
       "        Columns  % of Missing Values\n",
       "0  cleaned_text             3.772621\n",
       "1     sentiment             0.003194\n",
       "2         stats             0.001597"
      ]
     },
     "execution_count": 9,
     "metadata": {},
     "output_type": "execute_result"
    }
   ],
   "source": [
    "# Calculating percentage of missing values in each column\n",
    "missing_percentage = combined_df.isna().mean() * 100\n",
    "\n",
    "missing_percentage = missing_percentage[missing_percentage > 0]\n",
    "\n",
    "# A DataFrame with columns and percentage of missing values\n",
    "missing_table = pd.DataFrame({\n",
    "    'Columns': missing_percentage.index,\n",
    "    '% of Missing Values': missing_percentage.values\n",
    "})\n",
    "print(\"Percentage of Missing Values\")\n",
    "missing_table"
   ]
  },
  {
   "cell_type": "code",
   "execution_count": 10,
   "metadata": {},
   "outputs": [
    {
     "data": {
      "text/plain": [
       "(120490, 7)"
      ]
     },
     "execution_count": 10,
     "metadata": {},
     "output_type": "execute_result"
    }
   ],
   "source": [
    "# Drop rows with NaN values in the 'cleaned_text', 'sentiment','stats columns\n",
    "combined_df = combined_df.dropna(subset=['cleaned_text','sentiment','stats'])\n",
    "combined_df.shape"
   ]
  },
  {
   "cell_type": "markdown",
   "metadata": {},
   "source": [
    "#####  2. Duplicates"
   ]
  },
  {
   "cell_type": "code",
   "execution_count": 11,
   "metadata": {},
   "outputs": [
    {
     "name": "stdout",
     "output_type": "stream",
     "text": [
      "The DataFrame has 54707 duplicated rows.\n"
     ]
    }
   ],
   "source": [
    "# checking for dupliacated rows in the df\n",
    "duplicated_rows = combined_df.duplicated().sum()\n",
    "print(f'The DataFrame has {duplicated_rows} duplicated rows.')"
   ]
  },
  {
   "cell_type": "code",
   "execution_count": 12,
   "metadata": {},
   "outputs": [
    {
     "name": "stdout",
     "output_type": "stream",
     "text": [
      "Percentage of missing values in each column:\n",
      "cleaned_text    0.0\n",
      "sentiment       0.0\n",
      "stats           0.0\n",
      "comments        0.0\n",
      "retweets        0.0\n",
      "quotes          0.0\n",
      "likes           0.0\n",
      "dtype: float64\n"
     ]
    }
   ],
   "source": [
    "# Calculate the percentage of missing values for each column\n",
    "missing_percentages1 = (combined_df.isnull().sum() / len(combined_df)) * 100\n",
    "\n",
    "# Print the result\n",
    "print(\"Percentage of missing values in each column:\")\n",
    "print(missing_percentages1)"
   ]
  },
  {
   "cell_type": "code",
   "execution_count": 13,
   "metadata": {},
   "outputs": [],
   "source": [
    "#dropping all the duplicates\n",
    "combined_df = combined_df.drop_duplicates()"
   ]
  },
  {
   "cell_type": "code",
   "execution_count": 14,
   "metadata": {},
   "outputs": [
    {
     "name": "stdout",
     "output_type": "stream",
     "text": [
      "The DataFrame has 0 duplicated rows.\n"
     ]
    }
   ],
   "source": [
    "duplicated_rows = combined_df.duplicated().sum()\n",
    "print(f'The DataFrame has {duplicated_rows} duplicated rows.')"
   ]
  },
  {
   "cell_type": "markdown",
   "metadata": {},
   "source": [
    "#####  3. Correcting Data Types"
   ]
  },
  {
   "cell_type": "code",
   "execution_count": 15,
   "metadata": {},
   "outputs": [
    {
     "name": "stdout",
     "output_type": "stream",
     "text": [
      "<class 'pandas.core.frame.DataFrame'>\n",
      "Int64Index: 65783 entries, 0 to 125217\n",
      "Data columns (total 7 columns):\n",
      " #   Column        Non-Null Count  Dtype \n",
      "---  ------        --------------  ----- \n",
      " 0   cleaned_text  65783 non-null  object\n",
      " 1   sentiment     65783 non-null  object\n",
      " 2   stats         65783 non-null  object\n",
      " 3   comments      65783 non-null  int64 \n",
      " 4   retweets      65783 non-null  int64 \n",
      " 5   quotes        65783 non-null  int64 \n",
      " 6   likes         65783 non-null  int64 \n",
      "dtypes: int64(4), object(3)\n",
      "memory usage: 4.0+ MB\n"
     ]
    }
   ],
   "source": [
    "combined_df.info()"
   ]
  },
  {
   "cell_type": "markdown",
   "metadata": {},
   "source": [
    "#####  4. Outliers"
   ]
  },
  {
   "cell_type": "code",
   "execution_count": 16,
   "metadata": {
    "scrolled": false
   },
   "outputs": [
    {
     "data": {
      "image/png": "[encoded data removed]",
      "text/plain": [
       "<Figure size 864x720 with 4 Axes>"
      ]
     },
     "metadata": {},
     "output_type": "display_data"
    }
   ],
   "source": [
    "# style for seaborn\n",
    "sns.set(style=\"whitegrid\")\n",
    "\n",
    "# columns to check for outliers\n",
    "columns_to_check = ['comments', 'retweets', 'quotes', 'likes']\n",
    "\n",
    "# subplots\n",
    "fig, axes = plt.subplots(nrows=2, ncols=2, figsize=(12, 10))\n",
    "\n",
    "# Flatten the axes for easy iteration\n",
    "axes = axes.flatten()\n",
    "\n",
    "# Plot box plots for each column\n",
    "for i, column in enumerate(columns_to_check):\n",
    "    sns.boxplot(x=combined_df[column], ax=axes[i])\n",
    "    axes[i].set_title(f'Box Plot - {column}')\n",
    "\n",
    "# Adjust layout\n",
    "plt.tight_layout()\n",
    "plt.show()"
   ]
  },
  {
   "cell_type": "markdown",
   "metadata": {},
   "source": [
    "##### 5. Removing Uncessary Text"
   ]
  },
  {
   "cell_type": "code",
   "execution_count": 17,
   "metadata": {},
   "outputs": [],
   "source": [
    "def clean_text(text):\n",
    "    # Removing any unnecessary characters, symbols, or special characters\n",
    "    cleaned_text = ' '.join(e for e in str(text).split() if (e.isalnum() or e.isspace()))\n",
    "    # Converting all the text to lowercase\n",
    "    cleaned_text = cleaned_text.lower()\n",
    "    # Removing extra whitespaces\n",
    "    cleaned_text = ' '.join(cleaned_text.split())\n",
    "    return cleaned_text\n",
    "\n",
    "# Applying the cleaning function to the 'cleaned_text' column\n",
    "combined_df['cleaned_text'] = combined_df['cleaned_text'].apply(clean_text)"
   ]
  },
  {
   "cell_type": "markdown",
   "metadata": {},
   "source": [
    "## 2. FEATURE ENGINEERING"
   ]
  },
  {
   "cell_type": "code",
   "execution_count": 18,
   "metadata": {
    "scrolled": true
   },
   "outputs": [
    {
     "data": {
      "text/html": [
       "<div>\n",
       "<style scoped>\n",
       "    .dataframe tbody tr th:only-of-type {\n",
       "        vertical-align: middle;\n",
       "    }\n",
       "\n",
       "    .dataframe tbody tr th {\n",
       "        vertical-align: top;\n",
       "    }\n",
       "\n",
       "    .dataframe thead th {\n",
       "        text-align: right;\n",
       "    }\n",
       "</style>\n",
       "<table border=\"1\" class=\"dataframe\">\n",
       "  <thead>\n",
       "    <tr style=\"text-align: right;\">\n",
       "      <th></th>\n",
       "      <th>cleaned_text</th>\n",
       "      <th>sentiment</th>\n",
       "      <th>stats</th>\n",
       "      <th>comments</th>\n",
       "      <th>retweets</th>\n",
       "      <th>quotes</th>\n",
       "      <th>likes</th>\n",
       "    </tr>\n",
       "  </thead>\n",
       "  <tbody>\n",
       "    <tr>\n",
       "      <th>0</th>\n",
       "      <td>guys do you remember shaffie weru dj joe mfalm...</td>\n",
       "      <td>Negative</td>\n",
       "      <td>Jan 7, 2024 · 4:59 AM UTC</td>\n",
       "      <td>14</td>\n",
       "      <td>40</td>\n",
       "      <td>1</td>\n",
       "      <td>157</td>\n",
       "    </tr>\n",
       "    <tr>\n",
       "      <th>1</th>\n",
       "      <td>drilling water at kenneth matiba hospital make...</td>\n",
       "      <td>Positive</td>\n",
       "      <td>Jan 9, 2024 · 5:13 PM UTC</td>\n",
       "      <td>18</td>\n",
       "      <td>29</td>\n",
       "      <td>1</td>\n",
       "      <td>194</td>\n",
       "    </tr>\n",
       "    <tr>\n",
       "      <th>2</th>\n",
       "      <td>kenyans wakitambua hii beer it is over for eabl</td>\n",
       "      <td>Neutral</td>\n",
       "      <td>Jan 9, 2024 · 1:45 PM UTC</td>\n",
       "      <td>33</td>\n",
       "      <td>122</td>\n",
       "      <td>2</td>\n",
       "      <td>537</td>\n",
       "    </tr>\n",
       "    <tr>\n",
       "      <th>3</th>\n",
       "      <td>i thought eabl products are unwanted around th...</td>\n",
       "      <td>Neutral</td>\n",
       "      <td>Jan 10, 2024 · 2:43 PM UTC</td>\n",
       "      <td>0</td>\n",
       "      <td>0</td>\n",
       "      <td>0</td>\n",
       "      <td>0</td>\n",
       "    </tr>\n",
       "    <tr>\n",
       "      <th>6</th>\n",
       "      <td>unajua sai amafanya eabl anaweza tupea a years...</td>\n",
       "      <td>Neutral</td>\n",
       "      <td>Jan 10, 2024 · 10:12 AM UTC</td>\n",
       "      <td>1</td>\n",
       "      <td>0</td>\n",
       "      <td>0</td>\n",
       "      <td>0</td>\n",
       "    </tr>\n",
       "  </tbody>\n",
       "</table>\n",
       "</div>"
      ],
      "text/plain": [
       "                                        cleaned_text sentiment  \\\n",
       "0  guys do you remember shaffie weru dj joe mfalm...  Negative   \n",
       "1  drilling water at kenneth matiba hospital make...  Positive   \n",
       "2    kenyans wakitambua hii beer it is over for eabl   Neutral   \n",
       "3  i thought eabl products are unwanted around th...   Neutral   \n",
       "6  unajua sai amafanya eabl anaweza tupea a years...   Neutral   \n",
       "\n",
       "                         stats  comments  retweets  quotes  likes  \n",
       "0    Jan 7, 2024 · 4:59 AM UTC        14        40       1    157  \n",
       "1    Jan 9, 2024 · 5:13 PM UTC        18        29       1    194  \n",
       "2    Jan 9, 2024 · 1:45 PM UTC        33       122       2    537  \n",
       "3   Jan 10, 2024 · 2:43 PM UTC         0         0       0      0  \n",
       "6  Jan 10, 2024 · 10:12 AM UTC         1         0       0      0  "
      ]
     },
     "execution_count": 18,
     "metadata": {},
     "output_type": "execute_result"
    }
   ],
   "source": [
    "combined_df.head(5)"
   ]
  },
  {
   "cell_type": "markdown",
   "metadata": {},
   "source": [
    "##### 1. Length of the text"
   ]
  },
  {
   "cell_type": "code",
   "execution_count": 19,
   "metadata": {
    "scrolled": true
   },
   "outputs": [
    {
     "data": {
      "text/html": [
       "<div>\n",
       "<style scoped>\n",
       "    .dataframe tbody tr th:only-of-type {\n",
       "        vertical-align: middle;\n",
       "    }\n",
       "\n",
       "    .dataframe tbody tr th {\n",
       "        vertical-align: top;\n",
       "    }\n",
       "\n",
       "    .dataframe thead th {\n",
       "        text-align: right;\n",
       "    }\n",
       "</style>\n",
       "<table border=\"1\" class=\"dataframe\">\n",
       "  <thead>\n",
       "    <tr style=\"text-align: right;\">\n",
       "      <th></th>\n",
       "      <th>cleaned_text</th>\n",
       "      <th>text_length_words</th>\n",
       "    </tr>\n",
       "  </thead>\n",
       "  <tbody>\n",
       "    <tr>\n",
       "      <th>0</th>\n",
       "      <td>guys do you remember shaffie weru dj joe mfalm...</td>\n",
       "      <td>45</td>\n",
       "    </tr>\n",
       "    <tr>\n",
       "      <th>1</th>\n",
       "      <td>drilling water at kenneth matiba hospital make...</td>\n",
       "      <td>28</td>\n",
       "    </tr>\n",
       "    <tr>\n",
       "      <th>2</th>\n",
       "      <td>kenyans wakitambua hii beer it is over for eabl</td>\n",
       "      <td>9</td>\n",
       "    </tr>\n",
       "    <tr>\n",
       "      <th>3</th>\n",
       "      <td>i thought eabl products are unwanted around th...</td>\n",
       "      <td>9</td>\n",
       "    </tr>\n",
       "    <tr>\n",
       "      <th>6</th>\n",
       "      <td>unajua sai amafanya eabl anaweza tupea a years...</td>\n",
       "      <td>19</td>\n",
       "    </tr>\n",
       "  </tbody>\n",
       "</table>\n",
       "</div>"
      ],
      "text/plain": [
       "                                        cleaned_text  text_length_words\n",
       "0  guys do you remember shaffie weru dj joe mfalm...                 45\n",
       "1  drilling water at kenneth matiba hospital make...                 28\n",
       "2    kenyans wakitambua hii beer it is over for eabl                  9\n",
       "3  i thought eabl products are unwanted around th...                  9\n",
       "6  unajua sai amafanya eabl anaweza tupea a years...                 19"
      ]
     },
     "execution_count": 19,
     "metadata": {},
     "output_type": "execute_result"
    }
   ],
   "source": [
    "# Calculating  the number of words in the 'cleaned_text' column\n",
    "combined_df['text_length_words'] = combined_df['cleaned_text'].apply(lambda x: len(str(x).split()))\n",
    "\n",
    "combined_df[['cleaned_text', 'text_length_words']].head()"
   ]
  },
  {
   "cell_type": "code",
   "execution_count": 20,
   "metadata": {},
   "outputs": [
    {
     "name": "stdout",
     "output_type": "stream",
     "text": [
      "The Maximum number of words is 879 & The Minimum number of words is 0\n"
     ]
    }
   ],
   "source": [
    "print(f\"The Maximum number of words is {combined_df['text_length_words'].max()} & The Minimum number of words is {combined_df['text_length_words'].min()}\")"
   ]
  },
  {
   "cell_type": "markdown",
   "metadata": {},
   "source": [
    "##### 2. Datetime Features"
   ]
  },
  {
   "cell_type": "code",
   "execution_count": 21,
   "metadata": {},
   "outputs": [
    {
     "data": {
      "text/html": [
       "<div>\n",
       "<style scoped>\n",
       "    .dataframe tbody tr th:only-of-type {\n",
       "        vertical-align: middle;\n",
       "    }\n",
       "\n",
       "    .dataframe tbody tr th {\n",
       "        vertical-align: top;\n",
       "    }\n",
       "\n",
       "    .dataframe thead th {\n",
       "        text-align: right;\n",
       "    }\n",
       "</style>\n",
       "<table border=\"1\" class=\"dataframe\">\n",
       "  <thead>\n",
       "    <tr style=\"text-align: right;\">\n",
       "      <th></th>\n",
       "      <th>stats</th>\n",
       "      <th>day</th>\n",
       "      <th>month</th>\n",
       "      <th>year</th>\n",
       "      <th>hour</th>\n",
       "      <th>day_of_week</th>\n",
       "    </tr>\n",
       "  </thead>\n",
       "  <tbody>\n",
       "    <tr>\n",
       "      <th>0</th>\n",
       "      <td>2024-01-07 04:59:00</td>\n",
       "      <td>7.0</td>\n",
       "      <td>1.0</td>\n",
       "      <td>2024.0</td>\n",
       "      <td>4.0</td>\n",
       "      <td>6.0</td>\n",
       "    </tr>\n",
       "    <tr>\n",
       "      <th>1</th>\n",
       "      <td>2024-01-09 17:13:00</td>\n",
       "      <td>9.0</td>\n",
       "      <td>1.0</td>\n",
       "      <td>2024.0</td>\n",
       "      <td>17.0</td>\n",
       "      <td>1.0</td>\n",
       "    </tr>\n",
       "    <tr>\n",
       "      <th>2</th>\n",
       "      <td>2024-01-09 13:45:00</td>\n",
       "      <td>9.0</td>\n",
       "      <td>1.0</td>\n",
       "      <td>2024.0</td>\n",
       "      <td>13.0</td>\n",
       "      <td>1.0</td>\n",
       "    </tr>\n",
       "    <tr>\n",
       "      <th>3</th>\n",
       "      <td>2024-01-10 14:43:00</td>\n",
       "      <td>10.0</td>\n",
       "      <td>1.0</td>\n",
       "      <td>2024.0</td>\n",
       "      <td>14.0</td>\n",
       "      <td>2.0</td>\n",
       "    </tr>\n",
       "    <tr>\n",
       "      <th>6</th>\n",
       "      <td>2024-01-10 10:12:00</td>\n",
       "      <td>10.0</td>\n",
       "      <td>1.0</td>\n",
       "      <td>2024.0</td>\n",
       "      <td>10.0</td>\n",
       "      <td>2.0</td>\n",
       "    </tr>\n",
       "  </tbody>\n",
       "</table>\n",
       "</div>"
      ],
      "text/plain": [
       "                stats   day  month    year  hour  day_of_week\n",
       "0 2024-01-07 04:59:00   7.0    1.0  2024.0   4.0          6.0\n",
       "1 2024-01-09 17:13:00   9.0    1.0  2024.0  17.0          1.0\n",
       "2 2024-01-09 13:45:00   9.0    1.0  2024.0  13.0          1.0\n",
       "3 2024-01-10 14:43:00  10.0    1.0  2024.0  14.0          2.0\n",
       "6 2024-01-10 10:12:00  10.0    1.0  2024.0  10.0          2.0"
      ]
     },
     "execution_count": 21,
     "metadata": {},
     "output_type": "execute_result"
    }
   ],
   "source": [
    "# Converting 'stats' column to datetime format\n",
    "combined_df['stats'] = pd.to_datetime(combined_df['stats'], format='%b %d, %Y · %I:%M %p UTC', errors='coerce')\n",
    "\n",
    "# Extracting datetime features\n",
    "combined_df['day'] = combined_df['stats'].dt.day\n",
    "combined_df['month'] = combined_df['stats'].dt.month\n",
    "combined_df['year'] = combined_df['stats'].dt.year\n",
    "combined_df['hour'] = combined_df['stats'].dt.hour\n",
    "combined_df['day_of_week'] = combined_df['stats'].dt.dayofweek\n",
    "\n",
    "combined_df[['stats', 'day', 'month', 'year', 'hour','day_of_week']].head()\n"
   ]
  },
  {
   "cell_type": "code",
   "execution_count": 22,
   "metadata": {},
   "outputs": [
    {
     "data": {
      "text/html": [
       "<div>\n",
       "<style scoped>\n",
       "    .dataframe tbody tr th:only-of-type {\n",
       "        vertical-align: middle;\n",
       "    }\n",
       "\n",
       "    .dataframe tbody tr th {\n",
       "        vertical-align: top;\n",
       "    }\n",
       "\n",
       "    .dataframe thead th {\n",
       "        text-align: right;\n",
       "    }\n",
       "</style>\n",
       "<table border=\"1\" class=\"dataframe\">\n",
       "  <thead>\n",
       "    <tr style=\"text-align: right;\">\n",
       "      <th></th>\n",
       "      <th>stats</th>\n",
       "      <th>day</th>\n",
       "      <th>month</th>\n",
       "      <th>year</th>\n",
       "      <th>hour</th>\n",
       "      <th>day_of_week_text</th>\n",
       "      <th>month_text</th>\n",
       "    </tr>\n",
       "  </thead>\n",
       "  <tbody>\n",
       "    <tr>\n",
       "      <th>0</th>\n",
       "      <td>2024-01-07 04:59:00</td>\n",
       "      <td>7.0</td>\n",
       "      <td>1.0</td>\n",
       "      <td>2024.0</td>\n",
       "      <td>4.0</td>\n",
       "      <td>Sunday</td>\n",
       "      <td>January</td>\n",
       "    </tr>\n",
       "    <tr>\n",
       "      <th>1</th>\n",
       "      <td>2024-01-09 17:13:00</td>\n",
       "      <td>9.0</td>\n",
       "      <td>1.0</td>\n",
       "      <td>2024.0</td>\n",
       "      <td>17.0</td>\n",
       "      <td>Tuesday</td>\n",
       "      <td>January</td>\n",
       "    </tr>\n",
       "    <tr>\n",
       "      <th>2</th>\n",
       "      <td>2024-01-09 13:45:00</td>\n",
       "      <td>9.0</td>\n",
       "      <td>1.0</td>\n",
       "      <td>2024.0</td>\n",
       "      <td>13.0</td>\n",
       "      <td>Tuesday</td>\n",
       "      <td>January</td>\n",
       "    </tr>\n",
       "    <tr>\n",
       "      <th>3</th>\n",
       "      <td>2024-01-10 14:43:00</td>\n",
       "      <td>10.0</td>\n",
       "      <td>1.0</td>\n",
       "      <td>2024.0</td>\n",
       "      <td>14.0</td>\n",
       "      <td>Wednesday</td>\n",
       "      <td>January</td>\n",
       "    </tr>\n",
       "    <tr>\n",
       "      <th>6</th>\n",
       "      <td>2024-01-10 10:12:00</td>\n",
       "      <td>10.0</td>\n",
       "      <td>1.0</td>\n",
       "      <td>2024.0</td>\n",
       "      <td>10.0</td>\n",
       "      <td>Wednesday</td>\n",
       "      <td>January</td>\n",
       "    </tr>\n",
       "  </tbody>\n",
       "</table>\n",
       "</div>"
      ],
      "text/plain": [
       "                stats   day  month    year  hour day_of_week_text month_text\n",
       "0 2024-01-07 04:59:00   7.0    1.0  2024.0   4.0           Sunday    January\n",
       "1 2024-01-09 17:13:00   9.0    1.0  2024.0  17.0          Tuesday    January\n",
       "2 2024-01-09 13:45:00   9.0    1.0  2024.0  13.0          Tuesday    January\n",
       "3 2024-01-10 14:43:00  10.0    1.0  2024.0  14.0        Wednesday    January\n",
       "6 2024-01-10 10:12:00  10.0    1.0  2024.0  10.0        Wednesday    January"
      ]
     },
     "execution_count": 22,
     "metadata": {},
     "output_type": "execute_result"
    }
   ],
   "source": [
    "# Converting 'day_of_week' to text\n",
    "day_of_week_mapping = {0: 'Monday', 1: 'Tuesday', 2: 'Wednesday', 3: 'Thursday', 4: 'Friday', 5: 'Saturday', 6: 'Sunday'}\n",
    "combined_df['day_of_week_text'] = combined_df['day_of_week'].map(day_of_week_mapping)\n",
    "\n",
    "# Converting 'month' to text\n",
    "month_mapping = {1: 'January', 2: 'February', 3: 'March', 4: 'April', 5: 'May', 6: 'June', 7: 'July', 8: 'August', 9: 'September', 10: 'October', 11: 'November', 12: 'December'}\n",
    "combined_df['month_text'] = combined_df['month'].map(month_mapping)\n",
    "\n",
    "combined_df[['stats', 'day', 'month', 'year', 'hour','day_of_week_text', 'month_text']].head()"
   ]
  },
  {
   "cell_type": "markdown",
   "metadata": {},
   "source": [
    "##### 3. Total Engagement"
   ]
  },
  {
   "cell_type": "code",
   "execution_count": 23,
   "metadata": {},
   "outputs": [],
   "source": [
    "# calculating the total number of engagement in each post\n",
    "combined_df['total_engagement'] = combined_df['comments'] + combined_df['retweets'] + combined_df['quotes'] + combined_df['likes']"
   ]
  },
  {
   "cell_type": "code",
   "execution_count": 24,
   "metadata": {},
   "outputs": [],
   "source": [
    "# # Define the keywords\n",
    "# keywords = ['Chrome', 'Oktoberfest', 'Gilbeys']\n",
    "\n",
    "# # Create columns for each keyword\n",
    "# for keyword in keywords:\n",
    "#     combined_df[f'mentions_{keyword.lower()}'] = combined_df['cleaned_text'].str.contains(keyword, case=False)\n",
    "\n",
    "# # Convert the boolean values to 1 for True and 0 for False\n",
    "# for keyword in keywords:\n",
    "#     combined_df[f'mentions_{keyword.lower()}'] = combined_df[f'mentions_{keyword.lower()}'].astype(int)"
   ]
  },
  {
   "cell_type": "markdown",
   "metadata": {},
   "source": [
    "##### 4. Total Engagement"
   ]
  },
  {
   "cell_type": "code",
   "execution_count": 25,
   "metadata": {},
   "outputs": [],
   "source": [
    "# A function to classify weekdays and weekends\n",
    "def classify_weekday_weekend(day_of_week):\n",
    "    if day_of_week < 5:  # Monday to Friday (0 to 4)\n",
    "        return 'Weekday'\n",
    "    else:  # Saturday and Sunday (5 and 6)\n",
    "        return 'Weekend'\n",
    "\n",
    "# Apply the function to create a new 'weekday_or_weekend' column\n",
    "combined_df['weekday_or_weekend'] = combined_df['day_of_week'].apply(classify_weekday_weekend)"
   ]
  },
  {
   "cell_type": "code",
   "execution_count": 26,
   "metadata": {
    "scrolled": true
   },
   "outputs": [
    {
     "data": {
      "text/plain": [
       "Index(['cleaned_text', 'sentiment', 'stats', 'comments', 'retweets', 'quotes',\n",
       "       'likes', 'text_length_words', 'day', 'month', 'year', 'hour',\n",
       "       'day_of_week', 'day_of_week_text', 'month_text', 'total_engagement',\n",
       "       'weekday_or_weekend'],\n",
       "      dtype='object')"
      ]
     },
     "execution_count": 26,
     "metadata": {},
     "output_type": "execute_result"
    }
   ],
   "source": [
    "combined_df.columns"
   ]
  },
  {
   "cell_type": "code",
   "execution_count": 27,
   "metadata": {},
   "outputs": [],
   "source": [
    "#dropping irrelevant columns\n",
    "combined_df = combined_df.drop(['stats','day_of_week','month'],axis=1)"
   ]
  },
  {
   "cell_type": "code",
   "execution_count": 28,
   "metadata": {},
   "outputs": [
    {
     "data": {
      "text/html": [
       "<div>\n",
       "<style scoped>\n",
       "    .dataframe tbody tr th:only-of-type {\n",
       "        vertical-align: middle;\n",
       "    }\n",
       "\n",
       "    .dataframe tbody tr th {\n",
       "        vertical-align: top;\n",
       "    }\n",
       "\n",
       "    .dataframe thead th {\n",
       "        text-align: right;\n",
       "    }\n",
       "</style>\n",
       "<table border=\"1\" class=\"dataframe\">\n",
       "  <thead>\n",
       "    <tr style=\"text-align: right;\">\n",
       "      <th></th>\n",
       "      <th>text</th>\n",
       "      <th>sentiment</th>\n",
       "      <th>comments</th>\n",
       "      <th>retweets</th>\n",
       "      <th>quotes</th>\n",
       "      <th>likes</th>\n",
       "      <th>length</th>\n",
       "      <th>day(month)</th>\n",
       "      <th>year</th>\n",
       "      <th>hour</th>\n",
       "      <th>day(week)</th>\n",
       "      <th>month</th>\n",
       "      <th>total_engagement</th>\n",
       "      <th>weekday/end</th>\n",
       "    </tr>\n",
       "  </thead>\n",
       "  <tbody>\n",
       "    <tr>\n",
       "      <th>0</th>\n",
       "      <td>guys do you remember shaffie weru dj joe mfalm...</td>\n",
       "      <td>Negative</td>\n",
       "      <td>14</td>\n",
       "      <td>40</td>\n",
       "      <td>1</td>\n",
       "      <td>157</td>\n",
       "      <td>45</td>\n",
       "      <td>7.0</td>\n",
       "      <td>2024.0</td>\n",
       "      <td>4.0</td>\n",
       "      <td>Sunday</td>\n",
       "      <td>January</td>\n",
       "      <td>212</td>\n",
       "      <td>Weekend</td>\n",
       "    </tr>\n",
       "    <tr>\n",
       "      <th>1</th>\n",
       "      <td>drilling water at kenneth matiba hospital make...</td>\n",
       "      <td>Positive</td>\n",
       "      <td>18</td>\n",
       "      <td>29</td>\n",
       "      <td>1</td>\n",
       "      <td>194</td>\n",
       "      <td>28</td>\n",
       "      <td>9.0</td>\n",
       "      <td>2024.0</td>\n",
       "      <td>17.0</td>\n",
       "      <td>Tuesday</td>\n",
       "      <td>January</td>\n",
       "      <td>242</td>\n",
       "      <td>Weekday</td>\n",
       "    </tr>\n",
       "    <tr>\n",
       "      <th>2</th>\n",
       "      <td>kenyans wakitambua hii beer it is over for eabl</td>\n",
       "      <td>Neutral</td>\n",
       "      <td>33</td>\n",
       "      <td>122</td>\n",
       "      <td>2</td>\n",
       "      <td>537</td>\n",
       "      <td>9</td>\n",
       "      <td>9.0</td>\n",
       "      <td>2024.0</td>\n",
       "      <td>13.0</td>\n",
       "      <td>Tuesday</td>\n",
       "      <td>January</td>\n",
       "      <td>694</td>\n",
       "      <td>Weekday</td>\n",
       "    </tr>\n",
       "    <tr>\n",
       "      <th>3</th>\n",
       "      <td>i thought eabl products are unwanted around th...</td>\n",
       "      <td>Neutral</td>\n",
       "      <td>0</td>\n",
       "      <td>0</td>\n",
       "      <td>0</td>\n",
       "      <td>0</td>\n",
       "      <td>9</td>\n",
       "      <td>10.0</td>\n",
       "      <td>2024.0</td>\n",
       "      <td>14.0</td>\n",
       "      <td>Wednesday</td>\n",
       "      <td>January</td>\n",
       "      <td>0</td>\n",
       "      <td>Weekday</td>\n",
       "    </tr>\n",
       "    <tr>\n",
       "      <th>6</th>\n",
       "      <td>unajua sai amafanya eabl anaweza tupea a years...</td>\n",
       "      <td>Neutral</td>\n",
       "      <td>1</td>\n",
       "      <td>0</td>\n",
       "      <td>0</td>\n",
       "      <td>0</td>\n",
       "      <td>19</td>\n",
       "      <td>10.0</td>\n",
       "      <td>2024.0</td>\n",
       "      <td>10.0</td>\n",
       "      <td>Wednesday</td>\n",
       "      <td>January</td>\n",
       "      <td>1</td>\n",
       "      <td>Weekday</td>\n",
       "    </tr>\n",
       "  </tbody>\n",
       "</table>\n",
       "</div>"
      ],
      "text/plain": [
       "                                                text sentiment  comments  \\\n",
       "0  guys do you remember shaffie weru dj joe mfalm...  Negative        14   \n",
       "1  drilling water at kenneth matiba hospital make...  Positive        18   \n",
       "2    kenyans wakitambua hii beer it is over for eabl   Neutral        33   \n",
       "3  i thought eabl products are unwanted around th...   Neutral         0   \n",
       "6  unajua sai amafanya eabl anaweza tupea a years...   Neutral         1   \n",
       "\n",
       "   retweets  quotes  likes  length  day(month)    year  hour  day(week)  \\\n",
       "0        40       1    157      45         7.0  2024.0   4.0     Sunday   \n",
       "1        29       1    194      28         9.0  2024.0  17.0    Tuesday   \n",
       "2       122       2    537       9         9.0  2024.0  13.0    Tuesday   \n",
       "3         0       0      0       9        10.0  2024.0  14.0  Wednesday   \n",
       "6         0       0      0      19        10.0  2024.0  10.0  Wednesday   \n",
       "\n",
       "     month  total_engagement weekday/end  \n",
       "0  January               212     Weekend  \n",
       "1  January               242     Weekday  \n",
       "2  January               694     Weekday  \n",
       "3  January                 0     Weekday  \n",
       "6  January                 1     Weekday  "
      ]
     },
     "execution_count": 28,
     "metadata": {},
     "output_type": "execute_result"
    }
   ],
   "source": [
    "# Renaming the columns\n",
    "combined_df = combined_df.rename(columns={\n",
    "    'cleaned_text': 'text',\n",
    "    'text_length_words': 'length',\n",
    "    'day': 'day(month)',\n",
    "    'day_of_week_text': 'day(week)',\n",
    "    'month_text': 'month',\n",
    "    'weekday_or_weekend': 'weekday/end'\n",
    "})\n",
    "\n",
    "# Display the DataFrame with the renamed columns\n",
    "combined_df.head()"
   ]
  },
  {
   "cell_type": "markdown",
   "metadata": {},
   "source": [
    "## 3. EXPLORATORY DATA ANALYSIS"
   ]
  },
  {
   "cell_type": "code",
   "execution_count": 29,
   "metadata": {},
   "outputs": [
    {
     "name": "stdout",
     "output_type": "stream",
     "text": [
      "<class 'pandas.core.frame.DataFrame'>\n",
      "Int64Index: 65783 entries, 0 to 125217\n",
      "Data columns (total 14 columns):\n",
      " #   Column            Non-Null Count  Dtype  \n",
      "---  ------            --------------  -----  \n",
      " 0   text              65783 non-null  object \n",
      " 1   sentiment         65783 non-null  object \n",
      " 2   comments          65783 non-null  int64  \n",
      " 3   retweets          65783 non-null  int64  \n",
      " 4   quotes            65783 non-null  int64  \n",
      " 5   likes             65783 non-null  int64  \n",
      " 6   length            65783 non-null  int64  \n",
      " 7   day(month)        65514 non-null  float64\n",
      " 8   year              65514 non-null  float64\n",
      " 9   hour              65514 non-null  float64\n",
      " 10  day(week)         65514 non-null  object \n",
      " 11  month             65514 non-null  object \n",
      " 12  total_engagement  65783 non-null  int64  \n",
      " 13  weekday/end       65783 non-null  object \n",
      "dtypes: float64(3), int64(6), object(5)\n",
      "memory usage: 7.5+ MB\n"
     ]
    }
   ],
   "source": [
    "#Checking the summary of the combined data_set before embarking on the EDA\n",
    "combined_df.info()"
   ]
  },
  {
   "cell_type": "code",
   "execution_count": 40,
   "metadata": {},
   "outputs": [
    {
     "data": {
      "text/plain": [
       "'talk to eabl mchukuwe tusker fc change the name to tusker meru fc and have them play at kinoru stadium'"
      ]
     },
     "execution_count": 40,
     "metadata": {},
     "output_type": "execute_result"
    }
   ],
   "source": [
    "combined_df['text'][10]"
   ]
  },
  {
   "cell_type": "code",
   "execution_count": 31,
   "metadata": {},
   "outputs": [
    {
     "name": "stdout",
     "output_type": "stream",
     "text": [
      "                                                     text sentiment  comments  \\\n",
      "0       guys do you remember shaffie weru dj joe mfalm...  Negative        14   \n",
      "1       drilling water at kenneth matiba hospital make...  Positive        18   \n",
      "2         kenyans wakitambua hii beer it is over for eabl   Neutral        33   \n",
      "3       i thought eabl products are unwanted around th...   Neutral         0   \n",
      "6       unajua sai amafanya eabl anaweza tupea a years...   Neutral         1   \n",
      "...                                                   ...       ...       ...   \n",
      "125213  alcohol should not be sold to people under the...   Neutral         0   \n",
      "125214  these drinks deserve to be in the front seat a...  Positive         0   \n",
      "125215               get a 750ml at just ksh600 chromegin   Neutral         0   \n",
      "125216                                enjoyment chromegin   Neutral         1   \n",
      "125217  zinapiga boomerang tu hapa zikingoja maji iche...   Neutral         0   \n",
      "\n",
      "        retweets  quotes  likes  length  day(month)    year  hour  day(week)  \\\n",
      "0             40       1    157      45         7.0  2024.0   4.0     Sunday   \n",
      "1             29       1    194      28         9.0  2024.0  17.0    Tuesday   \n",
      "2            122       2    537       9         9.0  2024.0  13.0    Tuesday   \n",
      "3              0       0      0       9        10.0  2024.0  14.0  Wednesday   \n",
      "6              0       0      0      19        10.0  2024.0  10.0  Wednesday   \n",
      "...          ...     ...    ...     ...         ...     ...   ...        ...   \n",
      "125213         0       0      2      13        30.0  2020.0  18.0     Friday   \n",
      "125214         2       1      5      28        30.0  2020.0  17.0     Friday   \n",
      "125215         2       1      6       7        30.0  2020.0  17.0     Friday   \n",
      "125216         3       0     16       2        30.0  2020.0  17.0     Friday   \n",
      "125217         2       0      4      10        30.0  2020.0  17.0     Friday   \n",
      "\n",
      "          month  total_engagement weekday/end  \\\n",
      "0       January               212     Weekend   \n",
      "1       January               242     Weekday   \n",
      "2       January               694     Weekday   \n",
      "3       January                 0     Weekday   \n",
      "6       January                 1     Weekday   \n",
      "...         ...               ...         ...   \n",
      "125213  October                 2     Weekday   \n",
      "125214  October                 8     Weekday   \n",
      "125215  October                 9     Weekday   \n",
      "125216  October                20     Weekday   \n",
      "125217  October                 6     Weekday   \n",
      "\n",
      "                                           tokenized_text  \\\n",
      "0       [guys, do, you, remember, shaffie, weru, dj, j...   \n",
      "1       [drilling, water, at, kenneth, matiba, hospita...   \n",
      "2       [kenyans, wakitambua, hii, beer, it, is, over,...   \n",
      "3       [i, thought, eabl, products, are, unwanted, ar...   \n",
      "6       [unajua, sai, amafanya, eabl, anaweza, tupea, ...   \n",
      "...                                                   ...   \n",
      "125213  [alcohol, should, not, be, sold, to, people, u...   \n",
      "125214  [these, drinks, deserve, to, be, in, the, fron...   \n",
      "125215                      [get, a, at, just, chromegin]   \n",
      "125216                             [enjoyment, chromegin]   \n",
      "125217  [zinapiga, boomerang, tu, hapa, zikingoja, maj...   \n",
      "\n",
      "                                            filtered_text  \n",
      "0       [guys, remember, shaffie, weru, dj, joe, mfalm...  \n",
      "1       [drilling, water, kenneth, matiba, hospital, m...  \n",
      "2                  [kenyans, wakitambua, hii, beer, eabl]  \n",
      "3       [thought, eabl, products, unwanted, around, mo...  \n",
      "6       [unajua, sai, amafanya, eabl, anaweza, tupea, ...  \n",
      "...                                                   ...  \n",
      "125213            [alcohol, sold, people, age, chromegin]  \n",
      "125214  [drinks, deserve, front, seat, rest, crew, fit...  \n",
      "125215                                   [get, chromegin]  \n",
      "125216                             [enjoyment, chromegin]  \n",
      "125217  [zinapiga, boomerang, tu, hapa, zikingoja, maj...  \n",
      "\n",
      "[65783 rows x 16 columns]\n"
     ]
    }
   ],
   "source": [
    "from nltk.tokenize import word_tokenize\n",
    "\n",
    "# Convert non-string values to string\n",
    "combined_df['text'] = combined_df['text'].astype(str)\n",
    "\n",
    "# Applying tokenization using nltk's word_tokenize\n",
    "combined_df['tokenized_text'] = combined_df['text'].apply(word_tokenize)\n",
    "\n",
    "# Convert each word in the tokenized text to lowercase\n",
    "combined_df['tokenized_text'] = combined_df['tokenized_text'].apply(lambda tokens: [word.lower() for word in tokens if word.isalpha()])\n",
    "\n",
    "# Removing stop words\n",
    "stop_words = set(stopwords.words('english'))\n",
    "combined_df['filtered_text'] = combined_df['tokenized_text'].apply(lambda tokens: [word for word in tokens if word.lower() not in stop_words])\n",
    "\n",
    "# Display the DataFrame\n",
    "print(combined_df)\n"
   ]
  },
  {
   "cell_type": "code",
   "execution_count": 32,
   "metadata": {
    "scrolled": true
   },
   "outputs": [
    {
     "name": "stdout",
     "output_type": "stream",
     "text": [
      "neutral     28668\n",
      "positive    18354\n",
      "negative     6763\n",
      "Neutral      5259\n",
      "Positive     5218\n",
      "Negative     1521\n",
      "Name: sentiment, dtype: int64\n"
     ]
    },
    {
     "data": {
      "image/png": "[encoded data removed]",
      "text/plain": [
       "<Figure size 432x288 with 1 Axes>"
      ]
     },
     "metadata": {},
     "output_type": "display_data"
    }
   ],
   "source": [
    "#Checking the distibution of the sentiments\n",
    "sentiment_distribution = combined_df['sentiment'].value_counts()\n",
    "print(sentiment_distribution)\n",
    "#Converting the sentiments to lowercase:\n",
    "combined_df['sentiment'] = combined_df['sentiment'].str.lower()\n",
    "\n",
    "#Plotting a count plot graph for distribution of sentiments:\n",
    "sns.countplot(data=combined_df, x='sentiment', palette='viridis')\n",
    "plt.xlabel('Sentiment')\n",
    "plt.ylabel('Count')\n",
    "plt.title('Distribution of Sentiments')\n",
    "plt.show()\n"
   ]
  },
  {
   "cell_type": "code",
   "execution_count": null,
   "metadata": {},
   "outputs": [],
   "source": []
  }
 ],
 "metadata": {
  "kernelspec": {
   "display_name": "Python (learn-env)",
   "language": "python",
   "name": "learn-env"
  },
  "language_info": {
   "codemirror_mode": {
    "name": "ipython",
    "version": 3
   },
   "file_extension": ".py",
   "mimetype": "text/x-python",
   "name": "python",
   "nbconvert_exporter": "python",
   "pygments_lexer": "ipython3",
   "version": "3.8.5"
  }
 },
 "nbformat": 4,
 "nbformat_minor": 4
}
