{
 "cells": [
  {
   "cell_type": "markdown",
   "metadata": {},
   "source": [
    "# Data-Driven Brand Mastery: EABL's Social Analytics\n",
    "\n",
    "\n",
    "## Business Overview\n",
    "Media for brand monitoring to enhance brand perception and customer engagement.\n",
    "East African Breweries Limited (EABL) is a leading Fast-Moving Consumer Goods (FMCG) company operating in the beverage industry.\n",
    "EABL's market footprint extends across East Africa, with a significant presence in countries such as Kenya, Uganda, Tanzania, Rwanda, and South Sudan.\n",
    "With a diverse portfolio of brands such as Tusker Lager, Pilsner Lager, WhiteCap Lager,  Johnnie Walker, Smirnoff, Gilbey's Gin, Richot Brandy, Bond 7 Whiskey and Baileys Irish Cream.\n",
    "As part of its strategic approach, EABL is keen on leveraging social \n",
    "\n",
    "Executive Summary\n",
    "\n",
    "In the rapidly evolving landscape of social media, businesses are increasingly recognizing the significance of understanding public sentiment towards their brand, products, or industry. Sentiment analysis, particularly using Twitter data, offers a valuable tool for companies to gain actionable insights, enhance customer experience, and make informed business decisions.\n",
    "\n",
    "##  Problem Statement\n",
    "EABL recognizes the need to closely monitor and understand the sentiments expressed on social media platforms regarding its brands, products, and marketing initiatives. The company aims to address the following challenges:\n",
    "\n",
    "#### 1. Brand Perception and Engagement: \n",
    "\n",
    "The current state of public sentiment towards EABL on social media is not well-understood, and the company lacks insights to proactively manage and improve its brand perception.\n",
    "\n",
    "#### 2. Marketing Campaign Effectiveness: \n",
    "\n",
    "EABL needs to evaluate the impact of its marketing campaigns and promotions on social media to optimize strategies and refine future campaigns.\n",
    "\n",
    "#### 3. Customer Feedback Analysis: \n",
    "\n",
    "There is a lack of systematic analysis of customer feedback related to product quality, packaging, pricing, and overall satisfaction. EABL aims to utilize this feedback for continuous product improvement and innovation.\n",
    "\n",
    "## Objectives\n",
    "\n",
    "### Main Objectives\n",
    "\n",
    "#### Enhance Brand Perception and Customer Engagement:\n",
    "\n",
    "The main objective of our project is to monitor and analyze social media conversations to understand public sentiment towards EABL brands.\n",
    "Identifying areas for improvement and take proactive measures to enhance overall brand perception.\n",
    "\n",
    "### Specific Objectives\n",
    "\n",
    "#### Brand Sentiment Analysis:\n",
    "\n",
    "Analyze sentiments expressed by consumers regarding EABL products, marketing campaigns, and brand image.\n",
    "\n",
    "Categorize sentiments as positive, negative, or neutral to derive actionable insights.\n",
    "\n",
    "#### Campaign Effectiveness:\n",
    "\n",
    "Evaluate the effectiveness of marketing campaigns and promotions through public reactions on social media.\n",
    "\n",
    "Measure key performance indicators (KPIs) such as engagement rates, reach, and sentiment shift during and after campaigns.\n",
    "\n",
    "#### Customer Feedback Analysis:\n",
    "\n",
    "Capture and analyze customer feedback on specific EABL products.\n",
    "\n",
    "Extract insights on taste, packaging, pricing, and overall satisfaction to guide product development and enhancement.\n",
    "\n",
    "######  Success Criteria\n",
    "\n",
    "The success of this project will be measured by:\n",
    "\n",
    "1. A notable improvement in overall brand sentiment scores over a defined period.\n",
    "\n",
    "2. Positive shifts in sentiment during and after key marketing campaigns.\n",
    "\n",
    "3. Tangible product improvements based on customer feedback.\n",
    "\n",
    "4. Enhanced online visibility and engagement compared to competitors.\n",
    "\n",
    "Stakeholders\n",
    "Marketing Team:\n",
    "\n",
    "Benefit from insights to optimize marketing strategies and refine campaigns.\n",
    "Product Development Team:\n",
    "\n",
    "Utilize feedback for continuous product improvement and innovation.\n",
    "Executive Leadership:\n",
    "\n",
    "Receive regular reports on brand health and public perception for strategic decision-making. Objectives\n",
    "\n",
    "\n",
    "## Stakeholders\n",
    "\n",
    "#### 1. Marketing Team:\n",
    "\n",
    "Benefit from insights to optimize marketing strategies and refine campaigns.\n",
    "\n",
    "#### 2. Product Development Team:\n",
    "\n",
    "Utilize feedback for continuous product improvement and innovation.\n",
    "\n",
    "#### 3. Executive Leadership:\n",
    "\n",
    "Receive regular reports on brand health and public perception for strategic decision-making. "
   ]
  },
  {
   "cell_type": "markdown",
   "metadata": {},
   "source": [
    "## Data Understanding\n",
    "\n",
    "#### 1. Brand Mentions:\n",
    "\n",
    "Social media posts, comments, and mentions related to EABL and its brands.\n",
    "\n",
    "Data sources: Twitter, Facebook, Instagram (Likes, shares, comments, EABL relevant hashtags.)\n",
    "\n",
    "\n",
    "#### Product Feedback:\n",
    "\n",
    "Comments and discussions regarding specific EABL products.\n",
    "\n",
    "#### Data sources: \n",
    "\n",
    "Social media platforms, review sites, online forums.\n",
    "\n",
    "Data on taste, packaging, pricing, and overall satisfaction.\n",
    "\n",
    "#### Campaign Reactions:\n",
    "\n",
    "Public reactions to EABL's marketing campaigns and promotions.\n",
    "\n",
    "Data sources: Social media platforms.\n",
    "\n",
    "#### Event Participation:\n",
    "\n",
    "Social media mentions related to EABL-sponsored events and promotions.\n",
    "\n",
    "#### Customer Service Interactions:\n",
    "\n",
    "Social media interactions with EABL's official customer service handles."
   ]
  },
  {
   "cell_type": "code",
   "execution_count": 5,
   "metadata": {},
   "outputs": [
    {
     "name": "stdout",
     "output_type": "stream",
     "text": [
      "Requirement already satisfied: pillow in c:\\users\\admin\\anaconda3\\envs\\learn-env\\lib\\site-packages (8.0.0)\n",
      "Requirement already satisfied: squarify in c:\\users\\admin\\anaconda3\\envs\\learn-env\\lib\\site-packages (0.4.3)\n",
      "Collecting neattext\n",
      "  Downloading neattext-0.1.3-py3-none-any.whl (114 kB)\n",
      "     ------------------------------------ 114.7/114.7 kB 167.2 kB/s eta 0:00:00\n",
      "Installing collected packages: neattext\n",
      "Successfully installed neattext-0.1.3\n"
     ]
    }
   ],
   "source": [
    "!pip install pillow\n",
    "!pip install squarify\n",
    "!pip install neattext\n"
   ]
  },
  {
   "cell_type": "markdown",
   "metadata": {},
   "source": [
    "## Importing Libraries "
   ]
  },
  {
   "cell_type": "code",
   "execution_count": 7,
   "metadata": {},
   "outputs": [],
   "source": [
    "import re\n",
    "import string\n",
    "import numpy as np\n",
    "import random\n",
    "import pandas as pd\n",
    "import matplotlib.pyplot as plt\n",
    "import seaborn as sns  #plotting statistical graphs\n",
    "%matplotlib inline\n",
    "from plotly import graph_objs as go\n",
    "import plotly.express as px\n",
    "import plotly.figure_factory as ff\n",
    "import squarify\n",
    "from collections import Counter\n",
    "\n",
    "# Load the Text Cleaning Package\n",
    "import neattext.functions as nfx\n",
    "\n",
    "from PIL import Image\n",
    "from wordcloud import WordCloud, STOPWORDS, ImageColorGenerator ##is a data visualization technique used\n",
    "#for representing text data in which the size of each word indicates its frequency\n",
    "\n",
    "from sklearn.linear_model import LogisticRegression\n",
    "from sklearn import metrics\n",
    "from sklearn.metrics import confusion_matrix,roc_auc_score,classification_report\n",
    "from sklearn.compose import ColumnTransformer\n",
    "\n",
    "from sklearn.linear_model import LogisticRegression\n",
    "from sklearn.neighbors import KNeighborsClassifier\n",
    "from sklearn.tree import DecisionTreeClassifier\n",
    "from sklearn.ensemble import RandomForestClassifier,AdaBoostClassifier,GradientBoostingClassifier,ExtraTreesClassifier\n",
    "from sklearn.linear_model import RidgeClassifier,SGDClassifier\n",
    "from sklearn.svm import SVC\n",
    "from sklearn.naive_bayes import MultinomialNB\n",
    "\n",
    "\n",
    "import nltk\n",
    "from nltk.corpus import stopwords\n",
    "\n",
    "from tqdm import tqdm ##new progress bars repeatedly\n",
    "import os\n",
    "import nltk ##building Python programs to work with human language data\n",
    "#import spacy #for training the NER model tokenize words\n",
    "#import random\n",
    "#from spacy.util import compounding\n",
    "#from spacy.util import minibatch\n",
    "\n",
    "\n",
    "pd.set_option('max_colwidth', 400)\n",
    "pd.set_option('use_mathjax', False)\n",
    "\n",
    "\n",
    "import warnings\n",
    "warnings.filterwarnings(\"ignore\")"
   ]
  },
  {
   "cell_type": "markdown",
   "metadata": {},
   "source": [
    "## Importing Datasets"
   ]
  },
  {
   "cell_type": "code",
   "execution_count": 8,
   "metadata": {},
   "outputs": [],
   "source": [
    "# reading the datasets\n",
    "Eabl_mentions = pd.read_csv(\"FinalMentions.CSV\")\n",
    "Eabl_hashtags = pd.read_csv(\"FinalHashtags.CSV\")\n",
    "Eabl_brands = pd.read_csv(\"eablProducts.csv\")\n",
    "Google_news = pd.read_csv('FinalGoogleNews.csv')\n",
    "Chrome_Gin = pd.read_csv(\"ChromeGin.CSV\")"
   ]
  },
  {
   "cell_type": "markdown",
   "metadata": {},
   "source": [
    "##### MERGING DATAFRAMES"
   ]
  },
  {
   "cell_type": "code",
   "execution_count": 9,
   "metadata": {
    "scrolled": true
   },
   "outputs": [
    {
     "data": {
      "text/html": [
       "<div>\n",
       "<style scoped>\n",
       "    .dataframe tbody tr th:only-of-type {\n",
       "        vertical-align: middle;\n",
       "    }\n",
       "\n",
       "    .dataframe tbody tr th {\n",
       "        vertical-align: top;\n",
       "    }\n",
       "\n",
       "    .dataframe thead th {\n",
       "        text-align: right;\n",
       "    }\n",
       "</style>\n",
       "<table border=\"1\" class=\"dataframe tex2jax_ignore\">\n",
       "  <thead>\n",
       "    <tr style=\"text-align: right;\">\n",
       "      <th></th>\n",
       "      <th>Unnamed: 0</th>\n",
       "      <th>cleaned_text</th>\n",
       "      <th>sentiment</th>\n",
       "      <th>stats</th>\n",
       "      <th>comments</th>\n",
       "      <th>retweets</th>\n",
       "      <th>quotes</th>\n",
       "      <th>likes</th>\n",
       "    </tr>\n",
       "  </thead>\n",
       "  <tbody>\n",
       "    <tr>\n",
       "      <th>0</th>\n",
       "      <td>0</td>\n",
       "      <td>guys do you remember shaffie weru dj joe mfalmeneville musya was fired from home boys radio coz they warned ladies about what happened to starlet wahu pastor kanyari sizeabl got mad coz of the same if ladies listened likes of john matara couldnt be there</td>\n",
       "      <td>Negative</td>\n",
       "      <td>Jan 7, 2024 · 4:59 AM UTC</td>\n",
       "      <td>14</td>\n",
       "      <td>40</td>\n",
       "      <td>1</td>\n",
       "      <td>157</td>\n",
       "    </tr>\n",
       "    <tr>\n",
       "      <th>1</th>\n",
       "      <td>1</td>\n",
       "      <td>drilling water at kenneth matiba hospital makenji kandara  gatanga near kenol  kabati towns a free donation by eabl after the muranga county eabl partnership on sorghum thanks eabl</td>\n",
       "      <td>Positive</td>\n",
       "      <td>Jan 9, 2024 · 5:13 PM UTC</td>\n",
       "      <td>18</td>\n",
       "      <td>29</td>\n",
       "      <td>1</td>\n",
       "      <td>194</td>\n",
       "    </tr>\n",
       "    <tr>\n",
       "      <th>2</th>\n",
       "      <td>2</td>\n",
       "      <td>kenyans wakitambua hii beer it is over for eabl</td>\n",
       "      <td>Neutral</td>\n",
       "      <td>Jan 9, 2024 · 1:45 PM UTC</td>\n",
       "      <td>33</td>\n",
       "      <td>122</td>\n",
       "      <td>2</td>\n",
       "      <td>537</td>\n",
       "    </tr>\n",
       "    <tr>\n",
       "      <th>3</th>\n",
       "      <td>3</td>\n",
       "      <td>i thought eabl products are unwanted around the mountain</td>\n",
       "      <td>Neutral</td>\n",
       "      <td>Jan 10, 2024 · 2:43 PM UTC</td>\n",
       "      <td>0</td>\n",
       "      <td>0</td>\n",
       "      <td>0</td>\n",
       "      <td>0</td>\n",
       "    </tr>\n",
       "    <tr>\n",
       "      <th>4</th>\n",
       "      <td>4</td>\n",
       "      <td>NaN</td>\n",
       "      <td>Neutral</td>\n",
       "      <td>Jan 10, 2024 · 2:39 PM UTC</td>\n",
       "      <td>0</td>\n",
       "      <td>0</td>\n",
       "      <td>0</td>\n",
       "      <td>1</td>\n",
       "    </tr>\n",
       "  </tbody>\n",
       "</table>\n",
       "</div>"
      ],
      "text/plain": [
       "   Unnamed: 0  \\\n",
       "0           0   \n",
       "1           1   \n",
       "2           2   \n",
       "3           3   \n",
       "4           4   \n",
       "\n",
       "                                                                                                                                                                                                                                                     cleaned_text  \\\n",
       "0  guys do you remember shaffie weru dj joe mfalmeneville musya was fired from home boys radio coz they warned ladies about what happened to starlet wahu pastor kanyari sizeabl got mad coz of the same if ladies listened likes of john matara couldnt be there   \n",
       "1                                                                            drilling water at kenneth matiba hospital makenji kandara  gatanga near kenol  kabati towns a free donation by eabl after the muranga county eabl partnership on sorghum thanks eabl   \n",
       "2                                                                                                                                                                                                                 kenyans wakitambua hii beer it is over for eabl   \n",
       "3                                                                                                                                                                                                        i thought eabl products are unwanted around the mountain   \n",
       "4                                                                                                                                                                                                                                                             NaN   \n",
       "\n",
       "  sentiment                       stats  comments  retweets  quotes  likes  \n",
       "0  Negative   Jan 7, 2024 · 4:59 AM UTC        14        40       1    157  \n",
       "1  Positive   Jan 9, 2024 · 5:13 PM UTC        18        29       1    194  \n",
       "2   Neutral   Jan 9, 2024 · 1:45 PM UTC        33       122       2    537  \n",
       "3   Neutral  Jan 10, 2024 · 2:43 PM UTC         0         0       0      0  \n",
       "4   Neutral  Jan 10, 2024 · 2:39 PM UTC         0         0       0      1  "
      ]
     },
     "execution_count": 9,
     "metadata": {},
     "output_type": "execute_result"
    }
   ],
   "source": [
    "# Combining  the DataFrames vertically to form one df\n",
    "combined_df = pd.concat([Eabl_mentions, Eabl_hashtags, Eabl_brands, Chrome_Gin], ignore_index=True)\n",
    "combined_df.head()"
   ]
  },
  {
   "cell_type": "code",
   "execution_count": 10,
   "metadata": {},
   "outputs": [],
   "source": [
    "combined_df.to_csv(\"CombinedFinal.csv\")"
   ]
  },
  {
   "cell_type": "markdown",
   "metadata": {},
   "source": [
    "## 1. DATA CLEANING"
   ]
  },
  {
   "cell_type": "code",
   "execution_count": 11,
   "metadata": {},
   "outputs": [
    {
     "name": "stdout",
     "output_type": "stream",
     "text": [
      "Our Final Combined data has 125218 rows & 8 columns.\n"
     ]
    }
   ],
   "source": [
    "print(f\"Our Final Combined data has {combined_df.shape[0]} rows & {combined_df.shape[1]} columns.\")"
   ]
  },
  {
   "cell_type": "code",
   "execution_count": 12,
   "metadata": {},
   "outputs": [
    {
     "data": {
      "text/html": [
       "<div>\n",
       "<style scoped>\n",
       "    .dataframe tbody tr th:only-of-type {\n",
       "        vertical-align: middle;\n",
       "    }\n",
       "\n",
       "    .dataframe tbody tr th {\n",
       "        vertical-align: top;\n",
       "    }\n",
       "\n",
       "    .dataframe thead th {\n",
       "        text-align: right;\n",
       "    }\n",
       "</style>\n",
       "<table border=\"1\" class=\"dataframe tex2jax_ignore\">\n",
       "  <thead>\n",
       "    <tr style=\"text-align: right;\">\n",
       "      <th></th>\n",
       "      <th>cleaned_text</th>\n",
       "      <th>sentiment</th>\n",
       "      <th>stats</th>\n",
       "      <th>comments</th>\n",
       "      <th>retweets</th>\n",
       "      <th>quotes</th>\n",
       "      <th>likes</th>\n",
       "    </tr>\n",
       "  </thead>\n",
       "  <tbody>\n",
       "    <tr>\n",
       "      <th>0</th>\n",
       "      <td>guys do you remember shaffie weru dj joe mfalmeneville musya was fired from home boys radio coz they warned ladies about what happened to starlet wahu pastor kanyari sizeabl got mad coz of the same if ladies listened likes of john matara couldnt be there</td>\n",
       "      <td>Negative</td>\n",
       "      <td>Jan 7, 2024 · 4:59 AM UTC</td>\n",
       "      <td>14</td>\n",
       "      <td>40</td>\n",
       "      <td>1</td>\n",
       "      <td>157</td>\n",
       "    </tr>\n",
       "    <tr>\n",
       "      <th>1</th>\n",
       "      <td>drilling water at kenneth matiba hospital makenji kandara  gatanga near kenol  kabati towns a free donation by eabl after the muranga county eabl partnership on sorghum thanks eabl</td>\n",
       "      <td>Positive</td>\n",
       "      <td>Jan 9, 2024 · 5:13 PM UTC</td>\n",
       "      <td>18</td>\n",
       "      <td>29</td>\n",
       "      <td>1</td>\n",
       "      <td>194</td>\n",
       "    </tr>\n",
       "    <tr>\n",
       "      <th>2</th>\n",
       "      <td>kenyans wakitambua hii beer it is over for eabl</td>\n",
       "      <td>Neutral</td>\n",
       "      <td>Jan 9, 2024 · 1:45 PM UTC</td>\n",
       "      <td>33</td>\n",
       "      <td>122</td>\n",
       "      <td>2</td>\n",
       "      <td>537</td>\n",
       "    </tr>\n",
       "    <tr>\n",
       "      <th>3</th>\n",
       "      <td>i thought eabl products are unwanted around the mountain</td>\n",
       "      <td>Neutral</td>\n",
       "      <td>Jan 10, 2024 · 2:43 PM UTC</td>\n",
       "      <td>0</td>\n",
       "      <td>0</td>\n",
       "      <td>0</td>\n",
       "      <td>0</td>\n",
       "    </tr>\n",
       "    <tr>\n",
       "      <th>4</th>\n",
       "      <td>NaN</td>\n",
       "      <td>Neutral</td>\n",
       "      <td>Jan 10, 2024 · 2:39 PM UTC</td>\n",
       "      <td>0</td>\n",
       "      <td>0</td>\n",
       "      <td>0</td>\n",
       "      <td>1</td>\n",
       "    </tr>\n",
       "  </tbody>\n",
       "</table>\n",
       "</div>"
      ],
      "text/plain": [
       "                                                                                                                                                                                                                                                     cleaned_text  \\\n",
       "0  guys do you remember shaffie weru dj joe mfalmeneville musya was fired from home boys radio coz they warned ladies about what happened to starlet wahu pastor kanyari sizeabl got mad coz of the same if ladies listened likes of john matara couldnt be there   \n",
       "1                                                                            drilling water at kenneth matiba hospital makenji kandara  gatanga near kenol  kabati towns a free donation by eabl after the muranga county eabl partnership on sorghum thanks eabl   \n",
       "2                                                                                                                                                                                                                 kenyans wakitambua hii beer it is over for eabl   \n",
       "3                                                                                                                                                                                                        i thought eabl products are unwanted around the mountain   \n",
       "4                                                                                                                                                                                                                                                             NaN   \n",
       "\n",
       "  sentiment                       stats  comments  retweets  quotes  likes  \n",
       "0  Negative   Jan 7, 2024 · 4:59 AM UTC        14        40       1    157  \n",
       "1  Positive   Jan 9, 2024 · 5:13 PM UTC        18        29       1    194  \n",
       "2   Neutral   Jan 9, 2024 · 1:45 PM UTC        33       122       2    537  \n",
       "3   Neutral  Jan 10, 2024 · 2:43 PM UTC         0         0       0      0  \n",
       "4   Neutral  Jan 10, 2024 · 2:39 PM UTC         0         0       0      1  "
      ]
     },
     "execution_count": 12,
     "metadata": {},
     "output_type": "execute_result"
    }
   ],
   "source": [
    "#dropping the Unnamed: 0 column\n",
    "combined_df = combined_df.drop('Unnamed: 0',axis=1)\n",
    "combined_df.head(5)"
   ]
  },
  {
   "cell_type": "code",
   "execution_count": 13,
   "metadata": {},
   "outputs": [
    {
     "data": {
      "text/plain": [
       "Index(['cleaned_text', 'sentiment', 'stats', 'comments', 'retweets', 'quotes',\n",
       "       'likes'],\n",
       "      dtype='object')"
      ]
     },
     "execution_count": 13,
     "metadata": {},
     "output_type": "execute_result"
    }
   ],
   "source": [
    "combined_df.columns"
   ]
  },
  {
   "cell_type": "markdown",
   "metadata": {},
   "source": [
    "##### 1. Missing values"
   ]
  },
  {
   "cell_type": "code",
   "execution_count": 14,
   "metadata": {},
   "outputs": [
    {
     "name": "stdout",
     "output_type": "stream",
     "text": [
      "The cleaned_text column has 4724 missing values\n",
      "The sentiment column has 4 missing values\n",
      "The stats column has 2 missing values\n"
     ]
    }
   ],
   "source": [
    "# Checking for missing values in each column\n",
    "missing_values = combined_df.isna().sum()\n",
    "\n",
    "for column, count in missing_values.items():\n",
    "    if count > 0:\n",
    "        print(f\"The {column} column has {count} missing values\")"
   ]
  },
  {
   "cell_type": "code",
   "execution_count": 15,
   "metadata": {},
   "outputs": [
    {
     "name": "stdout",
     "output_type": "stream",
     "text": [
      "Percentage of Missing Values\n"
     ]
    },
    {
     "data": {
      "text/html": [
       "<div>\n",
       "<style scoped>\n",
       "    .dataframe tbody tr th:only-of-type {\n",
       "        vertical-align: middle;\n",
       "    }\n",
       "\n",
       "    .dataframe tbody tr th {\n",
       "        vertical-align: top;\n",
       "    }\n",
       "\n",
       "    .dataframe thead th {\n",
       "        text-align: right;\n",
       "    }\n",
       "</style>\n",
       "<table border=\"1\" class=\"dataframe tex2jax_ignore\">\n",
       "  <thead>\n",
       "    <tr style=\"text-align: right;\">\n",
       "      <th></th>\n",
       "      <th>Columns</th>\n",
       "      <th>% of Missing Values</th>\n",
       "    </tr>\n",
       "  </thead>\n",
       "  <tbody>\n",
       "    <tr>\n",
       "      <th>0</th>\n",
       "      <td>cleaned_text</td>\n",
       "      <td>3.772621</td>\n",
       "    </tr>\n",
       "    <tr>\n",
       "      <th>1</th>\n",
       "      <td>sentiment</td>\n",
       "      <td>0.003194</td>\n",
       "    </tr>\n",
       "    <tr>\n",
       "      <th>2</th>\n",
       "      <td>stats</td>\n",
       "      <td>0.001597</td>\n",
       "    </tr>\n",
       "  </tbody>\n",
       "</table>\n",
       "</div>"
      ],
      "text/plain": [
       "        Columns  % of Missing Values\n",
       "0  cleaned_text             3.772621\n",
       "1     sentiment             0.003194\n",
       "2         stats             0.001597"
      ]
     },
     "execution_count": 15,
     "metadata": {},
     "output_type": "execute_result"
    }
   ],
   "source": [
    "# Calculating percentage of missing values in each column\n",
    "missing_percentage = combined_df.isna().mean() * 100\n",
    "\n",
    "missing_percentage = missing_percentage[missing_percentage > 0]\n",
    "\n",
    "# A DataFrame with columns and percentage of missing values\n",
    "missing_table = pd.DataFrame({\n",
    "    'Columns': missing_percentage.index,\n",
    "    '% of Missing Values': missing_percentage.values\n",
    "})\n",
    "print(\"Percentage of Missing Values\")\n",
    "missing_table"
   ]
  },
  {
   "cell_type": "code",
   "execution_count": 16,
   "metadata": {},
   "outputs": [
    {
     "data": {
      "text/plain": [
       "(120490, 7)"
      ]
     },
     "execution_count": 16,
     "metadata": {},
     "output_type": "execute_result"
    }
   ],
   "source": [
    "# Drop rows with NaN values in the 'cleaned_text', 'sentiment','stats columns\n",
    "combined_df = combined_df.dropna(subset=['cleaned_text','sentiment','stats'])\n",
    "combined_df.shape"
   ]
  },
  {
   "cell_type": "markdown",
   "metadata": {},
   "source": [
    "#####  2. Duplicates"
   ]
  },
  {
   "cell_type": "code",
   "execution_count": 17,
   "metadata": {},
   "outputs": [
    {
     "name": "stdout",
     "output_type": "stream",
     "text": [
      "The DataFrame has 54707 duplicated rows.\n"
     ]
    }
   ],
   "source": [
    "# checking for dupliacated rows in the df\n",
    "duplicated_rows = combined_df.duplicated().sum()\n",
    "print(f'The DataFrame has {duplicated_rows} duplicated rows.')"
   ]
  },
  {
   "cell_type": "code",
   "execution_count": 18,
   "metadata": {},
   "outputs": [
    {
     "name": "stdout",
     "output_type": "stream",
     "text": [
      "Percentage of missing values in each column:\n",
      "cleaned_text    0.0\n",
      "sentiment       0.0\n",
      "stats           0.0\n",
      "comments        0.0\n",
      "retweets        0.0\n",
      "quotes          0.0\n",
      "likes           0.0\n",
      "dtype: float64\n"
     ]
    }
   ],
   "source": [
    "# Calculate the percentage of missing values for each column\n",
    "missing_percentages1 = (combined_df.isnull().sum() / len(combined_df)) * 100\n",
    "\n",
    "# Print the result\n",
    "print(\"Percentage of missing values in each column:\")\n",
    "print(missing_percentages1)"
   ]
  },
  {
   "cell_type": "code",
   "execution_count": 19,
   "metadata": {},
   "outputs": [],
   "source": [
    "#dropping all the duplicates\n",
    "combined_df = combined_df.drop_duplicates()"
   ]
  },
  {
   "cell_type": "code",
   "execution_count": 20,
   "metadata": {},
   "outputs": [
    {
     "name": "stdout",
     "output_type": "stream",
     "text": [
      "The DataFrame has 0 duplicated rows.\n"
     ]
    }
   ],
   "source": [
    "duplicated_rows = combined_df.duplicated().sum()\n",
    "print(f'The DataFrame has {duplicated_rows} duplicated rows.')"
   ]
  },
  {
   "cell_type": "markdown",
   "metadata": {},
   "source": [
    "#####  3. Correcting Data Types"
   ]
  },
  {
   "cell_type": "code",
   "execution_count": 21,
   "metadata": {},
   "outputs": [
    {
     "name": "stdout",
     "output_type": "stream",
     "text": [
      "<class 'pandas.core.frame.DataFrame'>\n",
      "Index: 65783 entries, 0 to 125217\n",
      "Data columns (total 7 columns):\n",
      " #   Column        Non-Null Count  Dtype \n",
      "---  ------        --------------  ----- \n",
      " 0   cleaned_text  65783 non-null  object\n",
      " 1   sentiment     65783 non-null  object\n",
      " 2   stats         65783 non-null  object\n",
      " 3   comments      65783 non-null  int64 \n",
      " 4   retweets      65783 non-null  int64 \n",
      " 5   quotes        65783 non-null  int64 \n",
      " 6   likes         65783 non-null  int64 \n",
      "dtypes: int64(4), object(3)\n",
      "memory usage: 4.0+ MB\n"
     ]
    }
   ],
   "source": [
    "combined_df.info()"
   ]
  },
  {
   "cell_type": "markdown",
   "metadata": {},
   "source": [
    "#####  4. Outliers"
   ]
  },
  {
   "cell_type": "code",
   "execution_count": 22,
   "metadata": {
    "scrolled": false
   },
   "outputs": [
    {
     "data": {
      "image/png": "[encoded data removed]",
      "text/plain": [
       "<Figure size 864x720 with 4 Axes>"
      ]
     },
     "metadata": {},
     "output_type": "display_data"
    }
   ],
   "source": [
    "# style for seaborn\n",
    "sns.set(style=\"whitegrid\")\n",
    "\n",
    "# columns to check for outliers\n",
    "columns_to_check = ['comments', 'retweets', 'quotes', 'likes']\n",
    "\n",
    "# subplots\n",
    "fig, axes = plt.subplots(nrows=2, ncols=2, figsize=(12, 10))\n",
    "\n",
    "# Flatten the axes for easy iteration\n",
    "axes = axes.flatten()\n",
    "\n",
    "# Plot box plots for each column\n",
    "for i, column in enumerate(columns_to_check):\n",
    "    sns.boxplot(x=combined_df[column], ax=axes[i])\n",
    "    axes[i].set_title(f'Box Plot - {column}')\n",
    "\n",
    "# Adjust layout\n",
    "plt.tight_layout()\n",
    "plt.show()"
   ]
  },
  {
   "cell_type": "markdown",
   "metadata": {},
   "source": [
    "##### 5. Removing Uncessary Text"
   ]
  },
  {
   "cell_type": "code",
   "execution_count": 23,
   "metadata": {},
   "outputs": [],
   "source": [
    "def clean_text(text):\n",
    "    # Removing any unnecessary characters, symbols, or special characters\n",
    "    cleaned_text = ' '.join(e for e in str(text).split() if (e.isalnum() or e.isspace()))\n",
    "    # Converting all the text to lowercase\n",
    "    cleaned_text = cleaned_text.lower()\n",
    "    # Removing extra whitespaces\n",
    "    cleaned_text = ' '.join(cleaned_text.split())\n",
    "    return cleaned_text\n",
    "\n",
    "# Applying the cleaning function to the 'cleaned_text' column\n",
    "combined_df['cleaned_text'] = combined_df['cleaned_text'].apply(clean_text)"
   ]
  },
  {
   "cell_type": "markdown",
   "metadata": {},
   "source": [
    "## 2. FEATURE ENGINEERING"
   ]
  },
  {
   "cell_type": "code",
   "execution_count": 24,
   "metadata": {
    "scrolled": true
   },
   "outputs": [
    {
     "data": {
      "text/html": [
       "<div>\n",
       "<style scoped>\n",
       "    .dataframe tbody tr th:only-of-type {\n",
       "        vertical-align: middle;\n",
       "    }\n",
       "\n",
       "    .dataframe tbody tr th {\n",
       "        vertical-align: top;\n",
       "    }\n",
       "\n",
       "    .dataframe thead th {\n",
       "        text-align: right;\n",
       "    }\n",
       "</style>\n",
       "<table border=\"1\" class=\"dataframe tex2jax_ignore\">\n",
       "  <thead>\n",
       "    <tr style=\"text-align: right;\">\n",
       "      <th></th>\n",
       "      <th>cleaned_text</th>\n",
       "      <th>sentiment</th>\n",
       "      <th>stats</th>\n",
       "      <th>comments</th>\n",
       "      <th>retweets</th>\n",
       "      <th>quotes</th>\n",
       "      <th>likes</th>\n",
       "    </tr>\n",
       "  </thead>\n",
       "  <tbody>\n",
       "    <tr>\n",
       "      <th>0</th>\n",
       "      <td>guys do you remember shaffie weru dj joe mfalmeneville musya was fired from home boys radio coz they warned ladies about what happened to starlet wahu pastor kanyari sizeabl got mad coz of the same if ladies listened likes of john matara couldnt be there</td>\n",
       "      <td>Negative</td>\n",
       "      <td>Jan 7, 2024 · 4:59 AM UTC</td>\n",
       "      <td>14</td>\n",
       "      <td>40</td>\n",
       "      <td>1</td>\n",
       "      <td>157</td>\n",
       "    </tr>\n",
       "    <tr>\n",
       "      <th>1</th>\n",
       "      <td>drilling water at kenneth matiba hospital makenji kandara gatanga near kenol kabati towns a free donation by eabl after the muranga county eabl partnership on sorghum thanks eabl</td>\n",
       "      <td>Positive</td>\n",
       "      <td>Jan 9, 2024 · 5:13 PM UTC</td>\n",
       "      <td>18</td>\n",
       "      <td>29</td>\n",
       "      <td>1</td>\n",
       "      <td>194</td>\n",
       "    </tr>\n",
       "    <tr>\n",
       "      <th>2</th>\n",
       "      <td>kenyans wakitambua hii beer it is over for eabl</td>\n",
       "      <td>Neutral</td>\n",
       "      <td>Jan 9, 2024 · 1:45 PM UTC</td>\n",
       "      <td>33</td>\n",
       "      <td>122</td>\n",
       "      <td>2</td>\n",
       "      <td>537</td>\n",
       "    </tr>\n",
       "    <tr>\n",
       "      <th>3</th>\n",
       "      <td>i thought eabl products are unwanted around the mountain</td>\n",
       "      <td>Neutral</td>\n",
       "      <td>Jan 10, 2024 · 2:43 PM UTC</td>\n",
       "      <td>0</td>\n",
       "      <td>0</td>\n",
       "      <td>0</td>\n",
       "      <td>0</td>\n",
       "    </tr>\n",
       "    <tr>\n",
       "      <th>6</th>\n",
       "      <td>unajua sai amafanya eabl anaweza tupea a years supply ya balozi na singleton kama yobra wewe unapepeta tutablockiwa bana</td>\n",
       "      <td>Neutral</td>\n",
       "      <td>Jan 10, 2024 · 10:12 AM UTC</td>\n",
       "      <td>1</td>\n",
       "      <td>0</td>\n",
       "      <td>0</td>\n",
       "      <td>0</td>\n",
       "    </tr>\n",
       "  </tbody>\n",
       "</table>\n",
       "</div>"
      ],
      "text/plain": [
       "                                                                                                                                                                                                                                                     cleaned_text  \\\n",
       "0  guys do you remember shaffie weru dj joe mfalmeneville musya was fired from home boys radio coz they warned ladies about what happened to starlet wahu pastor kanyari sizeabl got mad coz of the same if ladies listened likes of john matara couldnt be there   \n",
       "1                                                                              drilling water at kenneth matiba hospital makenji kandara gatanga near kenol kabati towns a free donation by eabl after the muranga county eabl partnership on sorghum thanks eabl   \n",
       "2                                                                                                                                                                                                                 kenyans wakitambua hii beer it is over for eabl   \n",
       "3                                                                                                                                                                                                        i thought eabl products are unwanted around the mountain   \n",
       "6                                                                                                                                        unajua sai amafanya eabl anaweza tupea a years supply ya balozi na singleton kama yobra wewe unapepeta tutablockiwa bana   \n",
       "\n",
       "  sentiment                        stats  comments  retweets  quotes  likes  \n",
       "0  Negative    Jan 7, 2024 · 4:59 AM UTC        14        40       1    157  \n",
       "1  Positive    Jan 9, 2024 · 5:13 PM UTC        18        29       1    194  \n",
       "2   Neutral    Jan 9, 2024 · 1:45 PM UTC        33       122       2    537  \n",
       "3   Neutral   Jan 10, 2024 · 2:43 PM UTC         0         0       0      0  \n",
       "6   Neutral  Jan 10, 2024 · 10:12 AM UTC         1         0       0      0  "
      ]
     },
     "execution_count": 24,
     "metadata": {},
     "output_type": "execute_result"
    }
   ],
   "source": [
    "combined_df.head(5)"
   ]
  },
  {
   "cell_type": "markdown",
   "metadata": {},
   "source": [
    "##### 1. Length of the text"
   ]
  },
  {
   "cell_type": "code",
   "execution_count": 25,
   "metadata": {
    "scrolled": true
   },
   "outputs": [
    {
     "data": {
      "text/html": [
       "<div>\n",
       "<style scoped>\n",
       "    .dataframe tbody tr th:only-of-type {\n",
       "        vertical-align: middle;\n",
       "    }\n",
       "\n",
       "    .dataframe tbody tr th {\n",
       "        vertical-align: top;\n",
       "    }\n",
       "\n",
       "    .dataframe thead th {\n",
       "        text-align: right;\n",
       "    }\n",
       "</style>\n",
       "<table border=\"1\" class=\"dataframe tex2jax_ignore\">\n",
       "  <thead>\n",
       "    <tr style=\"text-align: right;\">\n",
       "      <th></th>\n",
       "      <th>cleaned_text</th>\n",
       "      <th>text_length_words</th>\n",
       "    </tr>\n",
       "  </thead>\n",
       "  <tbody>\n",
       "    <tr>\n",
       "      <th>0</th>\n",
       "      <td>guys do you remember shaffie weru dj joe mfalmeneville musya was fired from home boys radio coz they warned ladies about what happened to starlet wahu pastor kanyari sizeabl got mad coz of the same if ladies listened likes of john matara couldnt be there</td>\n",
       "      <td>45</td>\n",
       "    </tr>\n",
       "    <tr>\n",
       "      <th>1</th>\n",
       "      <td>drilling water at kenneth matiba hospital makenji kandara gatanga near kenol kabati towns a free donation by eabl after the muranga county eabl partnership on sorghum thanks eabl</td>\n",
       "      <td>28</td>\n",
       "    </tr>\n",
       "    <tr>\n",
       "      <th>2</th>\n",
       "      <td>kenyans wakitambua hii beer it is over for eabl</td>\n",
       "      <td>9</td>\n",
       "    </tr>\n",
       "    <tr>\n",
       "      <th>3</th>\n",
       "      <td>i thought eabl products are unwanted around the mountain</td>\n",
       "      <td>9</td>\n",
       "    </tr>\n",
       "    <tr>\n",
       "      <th>6</th>\n",
       "      <td>unajua sai amafanya eabl anaweza tupea a years supply ya balozi na singleton kama yobra wewe unapepeta tutablockiwa bana</td>\n",
       "      <td>19</td>\n",
       "    </tr>\n",
       "  </tbody>\n",
       "</table>\n",
       "</div>"
      ],
      "text/plain": [
       "                                                                                                                                                                                                                                                     cleaned_text  \\\n",
       "0  guys do you remember shaffie weru dj joe mfalmeneville musya was fired from home boys radio coz they warned ladies about what happened to starlet wahu pastor kanyari sizeabl got mad coz of the same if ladies listened likes of john matara couldnt be there   \n",
       "1                                                                              drilling water at kenneth matiba hospital makenji kandara gatanga near kenol kabati towns a free donation by eabl after the muranga county eabl partnership on sorghum thanks eabl   \n",
       "2                                                                                                                                                                                                                 kenyans wakitambua hii beer it is over for eabl   \n",
       "3                                                                                                                                                                                                        i thought eabl products are unwanted around the mountain   \n",
       "6                                                                                                                                        unajua sai amafanya eabl anaweza tupea a years supply ya balozi na singleton kama yobra wewe unapepeta tutablockiwa bana   \n",
       "\n",
       "   text_length_words  \n",
       "0                 45  \n",
       "1                 28  \n",
       "2                  9  \n",
       "3                  9  \n",
       "6                 19  "
      ]
     },
     "execution_count": 25,
     "metadata": {},
     "output_type": "execute_result"
    }
   ],
   "source": [
    "# Calculating  the number of words in the 'cleaned_text' column\n",
    "combined_df['text_length_words'] = combined_df['cleaned_text'].apply(lambda x: len(str(x).split()))\n",
    "\n",
    "combined_df[['cleaned_text', 'text_length_words']].head()"
   ]
  },
  {
   "cell_type": "code",
   "execution_count": 26,
   "metadata": {},
   "outputs": [
    {
     "name": "stdout",
     "output_type": "stream",
     "text": [
      "The Maximum number of words is 879 & The Minimum number of words is 0\n"
     ]
    }
   ],
   "source": [
    "print(f\"The Maximum number of words is {combined_df['text_length_words'].max()} & The Minimum number of words is {combined_df['text_length_words'].min()}\")"
   ]
  },
  {
   "cell_type": "markdown",
   "metadata": {},
   "source": [
    "##### 2. Datetime Features"
   ]
  },
  {
   "cell_type": "code",
   "execution_count": 27,
   "metadata": {},
   "outputs": [
    {
     "data": {
      "text/html": [
       "<div>\n",
       "<style scoped>\n",
       "    .dataframe tbody tr th:only-of-type {\n",
       "        vertical-align: middle;\n",
       "    }\n",
       "\n",
       "    .dataframe tbody tr th {\n",
       "        vertical-align: top;\n",
       "    }\n",
       "\n",
       "    .dataframe thead th {\n",
       "        text-align: right;\n",
       "    }\n",
       "</style>\n",
       "<table border=\"1\" class=\"dataframe tex2jax_ignore\">\n",
       "  <thead>\n",
       "    <tr style=\"text-align: right;\">\n",
       "      <th></th>\n",
       "      <th>stats</th>\n",
       "      <th>day</th>\n",
       "      <th>month</th>\n",
       "      <th>year</th>\n",
       "      <th>hour</th>\n",
       "      <th>day_of_week</th>\n",
       "    </tr>\n",
       "  </thead>\n",
       "  <tbody>\n",
       "    <tr>\n",
       "      <th>0</th>\n",
       "      <td>2024-01-07 04:59:00</td>\n",
       "      <td>7.0</td>\n",
       "      <td>1.0</td>\n",
       "      <td>2024.0</td>\n",
       "      <td>4.0</td>\n",
       "      <td>6.0</td>\n",
       "    </tr>\n",
       "    <tr>\n",
       "      <th>1</th>\n",
       "      <td>2024-01-09 17:13:00</td>\n",
       "      <td>9.0</td>\n",
       "      <td>1.0</td>\n",
       "      <td>2024.0</td>\n",
       "      <td>17.0</td>\n",
       "      <td>1.0</td>\n",
       "    </tr>\n",
       "    <tr>\n",
       "      <th>2</th>\n",
       "      <td>2024-01-09 13:45:00</td>\n",
       "      <td>9.0</td>\n",
       "      <td>1.0</td>\n",
       "      <td>2024.0</td>\n",
       "      <td>13.0</td>\n",
       "      <td>1.0</td>\n",
       "    </tr>\n",
       "    <tr>\n",
       "      <th>3</th>\n",
       "      <td>2024-01-10 14:43:00</td>\n",
       "      <td>10.0</td>\n",
       "      <td>1.0</td>\n",
       "      <td>2024.0</td>\n",
       "      <td>14.0</td>\n",
       "      <td>2.0</td>\n",
       "    </tr>\n",
       "    <tr>\n",
       "      <th>6</th>\n",
       "      <td>2024-01-10 10:12:00</td>\n",
       "      <td>10.0</td>\n",
       "      <td>1.0</td>\n",
       "      <td>2024.0</td>\n",
       "      <td>10.0</td>\n",
       "      <td>2.0</td>\n",
       "    </tr>\n",
       "  </tbody>\n",
       "</table>\n",
       "</div>"
      ],
      "text/plain": [
       "                stats   day  month    year  hour  day_of_week\n",
       "0 2024-01-07 04:59:00   7.0    1.0  2024.0   4.0          6.0\n",
       "1 2024-01-09 17:13:00   9.0    1.0  2024.0  17.0          1.0\n",
       "2 2024-01-09 13:45:00   9.0    1.0  2024.0  13.0          1.0\n",
       "3 2024-01-10 14:43:00  10.0    1.0  2024.0  14.0          2.0\n",
       "6 2024-01-10 10:12:00  10.0    1.0  2024.0  10.0          2.0"
      ]
     },
     "execution_count": 27,
     "metadata": {},
     "output_type": "execute_result"
    }
   ],
   "source": [
    "# Converting 'stats' column to datetime format\n",
    "combined_df['stats'] = pd.to_datetime(combined_df['stats'], format='%b %d, %Y · %I:%M %p UTC', errors='coerce')\n",
    "\n",
    "# Extracting datetime features\n",
    "combined_df['day'] = combined_df['stats'].dt.day\n",
    "combined_df['month'] = combined_df['stats'].dt.month\n",
    "combined_df['year'] = combined_df['stats'].dt.year\n",
    "combined_df['hour'] = combined_df['stats'].dt.hour\n",
    "combined_df['day_of_week'] = combined_df['stats'].dt.dayofweek\n",
    "\n",
    "combined_df[['stats', 'day', 'month', 'year', 'hour','day_of_week']].head()\n"
   ]
  },
  {
   "cell_type": "code",
   "execution_count": 28,
   "metadata": {},
   "outputs": [
    {
     "data": {
      "text/html": [
       "<div>\n",
       "<style scoped>\n",
       "    .dataframe tbody tr th:only-of-type {\n",
       "        vertical-align: middle;\n",
       "    }\n",
       "\n",
       "    .dataframe tbody tr th {\n",
       "        vertical-align: top;\n",
       "    }\n",
       "\n",
       "    .dataframe thead th {\n",
       "        text-align: right;\n",
       "    }\n",
       "</style>\n",
       "<table border=\"1\" class=\"dataframe tex2jax_ignore\">\n",
       "  <thead>\n",
       "    <tr style=\"text-align: right;\">\n",
       "      <th></th>\n",
       "      <th>stats</th>\n",
       "      <th>day</th>\n",
       "      <th>month</th>\n",
       "      <th>year</th>\n",
       "      <th>hour</th>\n",
       "      <th>day_of_week_text</th>\n",
       "      <th>month_text</th>\n",
       "    </tr>\n",
       "  </thead>\n",
       "  <tbody>\n",
       "    <tr>\n",
       "      <th>0</th>\n",
       "      <td>2024-01-07 04:59:00</td>\n",
       "      <td>7.0</td>\n",
       "      <td>1.0</td>\n",
       "      <td>2024.0</td>\n",
       "      <td>4.0</td>\n",
       "      <td>Sunday</td>\n",
       "      <td>January</td>\n",
       "    </tr>\n",
       "    <tr>\n",
       "      <th>1</th>\n",
       "      <td>2024-01-09 17:13:00</td>\n",
       "      <td>9.0</td>\n",
       "      <td>1.0</td>\n",
       "      <td>2024.0</td>\n",
       "      <td>17.0</td>\n",
       "      <td>Tuesday</td>\n",
       "      <td>January</td>\n",
       "    </tr>\n",
       "    <tr>\n",
       "      <th>2</th>\n",
       "      <td>2024-01-09 13:45:00</td>\n",
       "      <td>9.0</td>\n",
       "      <td>1.0</td>\n",
       "      <td>2024.0</td>\n",
       "      <td>13.0</td>\n",
       "      <td>Tuesday</td>\n",
       "      <td>January</td>\n",
       "    </tr>\n",
       "    <tr>\n",
       "      <th>3</th>\n",
       "      <td>2024-01-10 14:43:00</td>\n",
       "      <td>10.0</td>\n",
       "      <td>1.0</td>\n",
       "      <td>2024.0</td>\n",
       "      <td>14.0</td>\n",
       "      <td>Wednesday</td>\n",
       "      <td>January</td>\n",
       "    </tr>\n",
       "    <tr>\n",
       "      <th>6</th>\n",
       "      <td>2024-01-10 10:12:00</td>\n",
       "      <td>10.0</td>\n",
       "      <td>1.0</td>\n",
       "      <td>2024.0</td>\n",
       "      <td>10.0</td>\n",
       "      <td>Wednesday</td>\n",
       "      <td>January</td>\n",
       "    </tr>\n",
       "  </tbody>\n",
       "</table>\n",
       "</div>"
      ],
      "text/plain": [
       "                stats   day  month    year  hour day_of_week_text month_text\n",
       "0 2024-01-07 04:59:00   7.0    1.0  2024.0   4.0           Sunday    January\n",
       "1 2024-01-09 17:13:00   9.0    1.0  2024.0  17.0          Tuesday    January\n",
       "2 2024-01-09 13:45:00   9.0    1.0  2024.0  13.0          Tuesday    January\n",
       "3 2024-01-10 14:43:00  10.0    1.0  2024.0  14.0        Wednesday    January\n",
       "6 2024-01-10 10:12:00  10.0    1.0  2024.0  10.0        Wednesday    January"
      ]
     },
     "execution_count": 28,
     "metadata": {},
     "output_type": "execute_result"
    }
   ],
   "source": [
    "# Converting 'day_of_week' to text\n",
    "day_of_week_mapping = {0: 'Monday', 1: 'Tuesday', 2: 'Wednesday', 3: 'Thursday', 4: 'Friday', 5: 'Saturday', 6: 'Sunday'}\n",
    "combined_df['day_of_week_text'] = combined_df['day_of_week'].map(day_of_week_mapping)\n",
    "\n",
    "# Converting 'month' to text\n",
    "month_mapping = {1: 'January', 2: 'February', 3: 'March', 4: 'April', 5: 'May', 6: 'June', 7: 'July', 8: 'August', 9: 'September', 10: 'October', 11: 'November', 12: 'December'}\n",
    "combined_df['month_text'] = combined_df['month'].map(month_mapping)\n",
    "\n",
    "combined_df[['stats', 'day', 'month', 'year', 'hour','day_of_week_text', 'month_text']].head()"
   ]
  },
  {
   "cell_type": "markdown",
   "metadata": {},
   "source": [
    "##### 3. Total Engagement"
   ]
  },
  {
   "cell_type": "code",
   "execution_count": 29,
   "metadata": {},
   "outputs": [],
   "source": [
    "# calculating the total number of engagement in each post\n",
    "combined_df['total_engagement'] = combined_df['comments'] + combined_df['retweets'] + combined_df['quotes'] + combined_df['likes']"
   ]
  },
  {
   "cell_type": "code",
   "execution_count": 30,
   "metadata": {},
   "outputs": [],
   "source": [
    "# # Define the keywords\n",
    "#keywords = ['Chrome', 'Oktoberfest', 'Gilbeys', 'Tusker',]\n",
    "\n",
    "# # Create columns for each keyword\n",
    "#for keyword in keywords:\n",
    "    #combined_df[f'mentions_{keyword.lower()}'] = combined_df['cleaned_text'].str.contains(keyword, case=False)\n",
    "\n",
    "# # Convert the boolean values to 1 for True and 0 for False\n",
    "#for keyword in keywords:\n",
    "    #combined_df[f'mentions_{keyword.lower()}'] = combined_df[f'mentions_{keyword.lower()}'].astype(int)"
   ]
  },
  {
   "cell_type": "markdown",
   "metadata": {},
   "source": [
    "##### 4. Total Engagement"
   ]
  },
  {
   "cell_type": "code",
   "execution_count": 31,
   "metadata": {},
   "outputs": [],
   "source": [
    "# A function to classify weekdays and weekends\n",
    "def classify_weekday_weekend(day_of_week):\n",
    "    if day_of_week < 5:  # Monday to Friday (0 to 4)\n",
    "        return 'Weekday'\n",
    "    else:  # Saturday and Sunday (5 and 6)\n",
    "        return 'Weekend'\n",
    "\n",
    "# Apply the function to create a new 'weekday_or_weekend' column\n",
    "combined_df['weekday_or_weekend'] = combined_df['day_of_week'].apply(classify_weekday_weekend)"
   ]
  },
  {
   "cell_type": "code",
   "execution_count": 32,
   "metadata": {
    "scrolled": true
   },
   "outputs": [
    {
     "data": {
      "text/plain": [
       "Index(['cleaned_text', 'sentiment', 'stats', 'comments', 'retweets', 'quotes',\n",
       "       'likes', 'text_length_words', 'day', 'month', 'year', 'hour',\n",
       "       'day_of_week', 'day_of_week_text', 'month_text', 'total_engagement',\n",
       "       'weekday_or_weekend'],\n",
       "      dtype='object')"
      ]
     },
     "execution_count": 32,
     "metadata": {},
     "output_type": "execute_result"
    }
   ],
   "source": [
    "combined_df.columns"
   ]
  },
  {
   "cell_type": "code",
   "execution_count": 33,
   "metadata": {},
   "outputs": [],
   "source": [
    "#dropping irrelevant columns\n",
    "combined_df = combined_df.drop(['stats','day_of_week','month'],axis=1)"
   ]
  },
  {
   "cell_type": "code",
   "execution_count": 34,
   "metadata": {},
   "outputs": [
    {
     "data": {
      "text/html": [
       "<div>\n",
       "<style scoped>\n",
       "    .dataframe tbody tr th:only-of-type {\n",
       "        vertical-align: middle;\n",
       "    }\n",
       "\n",
       "    .dataframe tbody tr th {\n",
       "        vertical-align: top;\n",
       "    }\n",
       "\n",
       "    .dataframe thead th {\n",
       "        text-align: right;\n",
       "    }\n",
       "</style>\n",
       "<table border=\"1\" class=\"dataframe tex2jax_ignore\">\n",
       "  <thead>\n",
       "    <tr style=\"text-align: right;\">\n",
       "      <th></th>\n",
       "      <th>text</th>\n",
       "      <th>sentiment</th>\n",
       "      <th>comments</th>\n",
       "      <th>retweets</th>\n",
       "      <th>quotes</th>\n",
       "      <th>likes</th>\n",
       "      <th>length</th>\n",
       "      <th>day(month)</th>\n",
       "      <th>year</th>\n",
       "      <th>hour</th>\n",
       "      <th>day(week)</th>\n",
       "      <th>month</th>\n",
       "      <th>total_engagement</th>\n",
       "      <th>weekday/end</th>\n",
       "    </tr>\n",
       "  </thead>\n",
       "  <tbody>\n",
       "    <tr>\n",
       "      <th>0</th>\n",
       "      <td>guys do you remember shaffie weru dj joe mfalmeneville musya was fired from home boys radio coz they warned ladies about what happened to starlet wahu pastor kanyari sizeabl got mad coz of the same if ladies listened likes of john matara couldnt be there</td>\n",
       "      <td>Negative</td>\n",
       "      <td>14</td>\n",
       "      <td>40</td>\n",
       "      <td>1</td>\n",
       "      <td>157</td>\n",
       "      <td>45</td>\n",
       "      <td>7.0</td>\n",
       "      <td>2024.0</td>\n",
       "      <td>4.0</td>\n",
       "      <td>Sunday</td>\n",
       "      <td>January</td>\n",
       "      <td>212</td>\n",
       "      <td>Weekend</td>\n",
       "    </tr>\n",
       "    <tr>\n",
       "      <th>1</th>\n",
       "      <td>drilling water at kenneth matiba hospital makenji kandara gatanga near kenol kabati towns a free donation by eabl after the muranga county eabl partnership on sorghum thanks eabl</td>\n",
       "      <td>Positive</td>\n",
       "      <td>18</td>\n",
       "      <td>29</td>\n",
       "      <td>1</td>\n",
       "      <td>194</td>\n",
       "      <td>28</td>\n",
       "      <td>9.0</td>\n",
       "      <td>2024.0</td>\n",
       "      <td>17.0</td>\n",
       "      <td>Tuesday</td>\n",
       "      <td>January</td>\n",
       "      <td>242</td>\n",
       "      <td>Weekday</td>\n",
       "    </tr>\n",
       "    <tr>\n",
       "      <th>2</th>\n",
       "      <td>kenyans wakitambua hii beer it is over for eabl</td>\n",
       "      <td>Neutral</td>\n",
       "      <td>33</td>\n",
       "      <td>122</td>\n",
       "      <td>2</td>\n",
       "      <td>537</td>\n",
       "      <td>9</td>\n",
       "      <td>9.0</td>\n",
       "      <td>2024.0</td>\n",
       "      <td>13.0</td>\n",
       "      <td>Tuesday</td>\n",
       "      <td>January</td>\n",
       "      <td>694</td>\n",
       "      <td>Weekday</td>\n",
       "    </tr>\n",
       "    <tr>\n",
       "      <th>3</th>\n",
       "      <td>i thought eabl products are unwanted around the mountain</td>\n",
       "      <td>Neutral</td>\n",
       "      <td>0</td>\n",
       "      <td>0</td>\n",
       "      <td>0</td>\n",
       "      <td>0</td>\n",
       "      <td>9</td>\n",
       "      <td>10.0</td>\n",
       "      <td>2024.0</td>\n",
       "      <td>14.0</td>\n",
       "      <td>Wednesday</td>\n",
       "      <td>January</td>\n",
       "      <td>0</td>\n",
       "      <td>Weekday</td>\n",
       "    </tr>\n",
       "    <tr>\n",
       "      <th>6</th>\n",
       "      <td>unajua sai amafanya eabl anaweza tupea a years supply ya balozi na singleton kama yobra wewe unapepeta tutablockiwa bana</td>\n",
       "      <td>Neutral</td>\n",
       "      <td>1</td>\n",
       "      <td>0</td>\n",
       "      <td>0</td>\n",
       "      <td>0</td>\n",
       "      <td>19</td>\n",
       "      <td>10.0</td>\n",
       "      <td>2024.0</td>\n",
       "      <td>10.0</td>\n",
       "      <td>Wednesday</td>\n",
       "      <td>January</td>\n",
       "      <td>1</td>\n",
       "      <td>Weekday</td>\n",
       "    </tr>\n",
       "  </tbody>\n",
       "</table>\n",
       "</div>"
      ],
      "text/plain": [
       "                                                                                                                                                                                                                                                             text  \\\n",
       "0  guys do you remember shaffie weru dj joe mfalmeneville musya was fired from home boys radio coz they warned ladies about what happened to starlet wahu pastor kanyari sizeabl got mad coz of the same if ladies listened likes of john matara couldnt be there   \n",
       "1                                                                              drilling water at kenneth matiba hospital makenji kandara gatanga near kenol kabati towns a free donation by eabl after the muranga county eabl partnership on sorghum thanks eabl   \n",
       "2                                                                                                                                                                                                                 kenyans wakitambua hii beer it is over for eabl   \n",
       "3                                                                                                                                                                                                        i thought eabl products are unwanted around the mountain   \n",
       "6                                                                                                                                        unajua sai amafanya eabl anaweza tupea a years supply ya balozi na singleton kama yobra wewe unapepeta tutablockiwa bana   \n",
       "\n",
       "  sentiment  comments  retweets  quotes  likes  length  day(month)    year  \\\n",
       "0  Negative        14        40       1    157      45         7.0  2024.0   \n",
       "1  Positive        18        29       1    194      28         9.0  2024.0   \n",
       "2   Neutral        33       122       2    537       9         9.0  2024.0   \n",
       "3   Neutral         0         0       0      0       9        10.0  2024.0   \n",
       "6   Neutral         1         0       0      0      19        10.0  2024.0   \n",
       "\n",
       "   hour  day(week)    month  total_engagement weekday/end  \n",
       "0   4.0     Sunday  January               212     Weekend  \n",
       "1  17.0    Tuesday  January               242     Weekday  \n",
       "2  13.0    Tuesday  January               694     Weekday  \n",
       "3  14.0  Wednesday  January                 0     Weekday  \n",
       "6  10.0  Wednesday  January                 1     Weekday  "
      ]
     },
     "execution_count": 34,
     "metadata": {},
     "output_type": "execute_result"
    }
   ],
   "source": [
    "# Renaming the columns\n",
    "combined_df = combined_df.rename(columns={\n",
    "    'cleaned_text': 'text',\n",
    "    'text_length_words': 'length',\n",
    "    'day': 'day(month)',\n",
    "    'day_of_week_text': 'day(week)',\n",
    "    'month_text': 'month',\n",
    "    'weekday_or_weekend': 'weekday/end'\n",
    "})\n",
    "\n",
    "# Display the DataFrame with the renamed columns\n",
    "combined_df.head()"
   ]
  },
  {
   "cell_type": "code",
   "execution_count": 35,
   "metadata": {},
   "outputs": [
    {
     "name": "stdout",
     "output_type": "stream",
     "text": [
      "Requirement already satisfied: squarify in c:\\users\\admin\\anaconda3\\envs\\learn-env\\lib\\site-packages (0.4.3)\n",
      "Requirement already satisfied: neattext in c:\\users\\admin\\anaconda3\\envs\\learn-env\\lib\\site-packages (0.1.3)\n",
      "Requirement already satisfied: wordcloud in c:\\users\\admin\\anaconda3\\envs\\learn-env\\lib\\site-packages (1.9.3)\n",
      "Requirement already satisfied: numpy>=1.6.1 in c:\\users\\admin\\anaconda3\\envs\\learn-env\\lib\\site-packages (from wordcloud) (1.24.4)\n",
      "Requirement already satisfied: pillow in c:\\users\\admin\\anaconda3\\envs\\learn-env\\lib\\site-packages (from wordcloud) (8.0.0)\n",
      "Requirement already satisfied: matplotlib in c:\\users\\admin\\anaconda3\\envs\\learn-env\\lib\\site-packages (from wordcloud) (3.7.4)\n",
      "Requirement already satisfied: contourpy>=1.0.1 in c:\\users\\admin\\anaconda3\\envs\\learn-env\\lib\\site-packages (from matplotlib->wordcloud) (1.1.1)\n",
      "Requirement already satisfied: cycler>=0.10 in c:\\users\\admin\\anaconda3\\envs\\learn-env\\lib\\site-packages (from matplotlib->wordcloud) (0.10.0)\n",
      "Requirement already satisfied: fonttools>=4.22.0 in c:\\users\\admin\\anaconda3\\envs\\learn-env\\lib\\site-packages (from matplotlib->wordcloud) (4.47.2)\n",
      "Requirement already satisfied: kiwisolver>=1.0.1 in c:\\users\\admin\\anaconda3\\envs\\learn-env\\lib\\site-packages (from matplotlib->wordcloud) (1.2.0)\n",
      "Requirement already satisfied: packaging>=20.0 in c:\\users\\admin\\anaconda3\\envs\\learn-env\\lib\\site-packages (from matplotlib->wordcloud) (23.2)\n",
      "Requirement already satisfied: pyparsing>=2.3.1 in c:\\users\\admin\\anaconda3\\envs\\learn-env\\lib\\site-packages (from matplotlib->wordcloud) (2.4.7)\n",
      "Requirement already satisfied: python-dateutil>=2.7 in c:\\users\\admin\\anaconda3\\envs\\learn-env\\lib\\site-packages (from matplotlib->wordcloud) (2.8.2)\n",
      "Requirement already satisfied: importlib-resources>=3.2.0 in c:\\users\\admin\\anaconda3\\envs\\learn-env\\lib\\site-packages (from matplotlib->wordcloud) (6.1.1)\n",
      "Requirement already satisfied: six in c:\\users\\admin\\anaconda3\\envs\\learn-env\\lib\\site-packages (from cycler>=0.10->matplotlib->wordcloud) (1.15.0)\n",
      "Requirement already satisfied: zipp>=3.1.0 in c:\\users\\admin\\anaconda3\\envs\\learn-env\\lib\\site-packages (from importlib-resources>=3.2.0->matplotlib->wordcloud) (3.3.0)\n"
     ]
    }
   ],
   "source": [
    "!pip install squarify\n",
    "!pip install neattext\n",
    "!pip install wordcloud"
   ]
  },
  {
   "cell_type": "markdown",
   "metadata": {},
   "source": [
    "# Data preprocessing"
   ]
  },
  {
   "cell_type": "markdown",
   "metadata": {},
   "source": [
    "Before conducting sentiment analysis, it is imperative to follow these essential steps: eliminating stop words, removing tags, URL links, and other extraneous words, tokenizing the text, and lemmatizing words."
   ]
  },
  {
   "cell_type": "code",
   "execution_count": 36,
   "metadata": {},
   "outputs": [
    {
     "data": {
      "text/plain": [
       "0                guys do you remember shaffie weru dj joe mfalmeneville musya was fired from home boys radio coz they warned ladies about what happened to starlet wahu pastor kanyari sizeabl got mad coz of the same if ladies listened likes of john matara couldnt be there\n",
       "1                                                                                            drilling water at kenneth matiba hospital makenji kandara gatanga near kenol kabati towns a free donation by eabl after the muranga county eabl partnership on sorghum thanks eabl\n",
       "2                                                                                                                                                                                                                               kenyans wakitambua hii beer it is over for eabl\n",
       "3                                                                                                                                                                                                                      i thought eabl products are unwanted around the mountain\n",
       "6                                                                                                                                                      unajua sai amafanya eabl anaweza tupea a years supply ya balozi na singleton kama yobra wewe unapepeta tutablockiwa bana\n",
       "8                                                                                                                                                                                       eabl have done the thingexpect changes to prices of white cap guinness and tusker cider\n",
       "10                                                                                                                                                                       talk to eabl mchukuwe tusker fc change the name to tusker meru fc and have them play at kinoru stadium\n",
       "12                                                                                                                                                                                                             and is selling its beer business hustlers turning into dynasties\n",
       "13                                 just thank for the good work benefits to eabl juu hawatakosa sorghum when needed muranga county projects should not have partnerships toeni hio reli iko kwa barabara and we can have to congratulate something that had been there for ages\n",
       "14                                                                                                                                                                                                                    eabl as usual watatumia shady business tactics to compete\n",
       "15                                                                      market share is a thing it would will years before they can be at par with theres also the small matter of the range of products people have different palletes catering to all of them is a tall order\n",
       "16                                                                                                                                                                                                                         na ati cs wa maji alikuwa wa huko na mnategemea eabl\n",
       "17                                                                                                                                                                                            eabl will do what they do best in such scenario remember what they did to tabitha\n",
       "18                                                                                                                                                                                                                                               thanks so much for the mention\n",
       "19                                                                                                                                                                                               296fb im followin u im full blue dem resister please me resisters listd here 2\n",
       "20                                                                                                                                                               what would you say to the claim the fox folks thought hiring blondes was more important than hiring excellence\n",
       "21                                                                                                                                                                                                                                         huwa mnafikiria eabl ni kibanda lmao\n",
       "22                                                                             a beautiful sable island stallion this fall when i visited sable island was curious but unafraid as we walked by me with his family those long tangled windswept manes are so amazing wildhorses\n",
       "23                                              eight days into the new year and flights carrying horses to japan for slaughter have already begun more are planned please send the letter at horseshitca to your mp asking them to support bill c355 koreanair edmontonairport\n",
       "24    this foal mentioned in previous post was put down on jan 6th for a dislocated right front knee the injury was recorded as acute by the blm meaning it was sustained during the roundup as of yesterday 866 wild horses have been captured and the death toll stands at 11\n",
       "Name: text, dtype: object"
      ]
     },
     "execution_count": 36,
     "metadata": {},
     "output_type": "execute_result"
    }
   ],
   "source": [
    "#clean tweets\n",
    "#Glance at data\n",
    "combined_df['text'][:20]"
   ]
  },
  {
   "cell_type": "markdown",
   "metadata": {},
   "source": [
    "# Checking for tweet Length Consistency"
   ]
  },
  {
   "cell_type": "code",
   "execution_count": 37,
   "metadata": {},
   "outputs": [
    {
     "data": {
      "text/plain": [
       "text\n",
       "7       920\n",
       "14      713\n",
       "15      671\n",
       "10      669\n",
       "26      617\n",
       "       ... \n",
       "485       1\n",
       "680       1\n",
       "1384      1\n",
       "818       1\n",
       "1214      1\n",
       "Name: count, Length: 654, dtype: int64"
      ]
     },
     "execution_count": 37,
     "metadata": {},
     "output_type": "execute_result"
    }
   ],
   "source": [
    "combined_df['text'].apply(len).value_counts()"
   ]
  },
  {
   "cell_type": "markdown",
   "metadata": {},
   "source": [
    "This gives an overview of the number of words per tweet. We also notice that some consist of less than five words therefore won't be instrumental in constructing our predictive model."
   ]
  },
  {
   "cell_type": "code",
   "execution_count": 38,
   "metadata": {},
   "outputs": [
    {
     "data": {
      "text/plain": [
       "(64260, 1523)"
      ]
     },
     "execution_count": 38,
     "metadata": {},
     "output_type": "execute_result"
    }
   ],
   "source": [
    "sum(combined_df['text'].apply(len) > 5) , sum(combined_df['text'].apply(len) <= 5)"
   ]
  },
  {
   "cell_type": "markdown",
   "metadata": {},
   "source": [
    "We note tht there are 64260 tweets with characters greater than 5 and  1523 tweets with characters less than 5 characters."
   ]
  },
  {
   "cell_type": "code",
   "execution_count": 39,
   "metadata": {},
   "outputs": [
    {
     "name": "stdout",
     "output_type": "stream",
     "text": [
      "Shape of the dataset before filtering:\n",
      "(65783, 14)\n",
      "****************************************\n",
      "Shape of the dataset after filtering:\n",
      "(64260, 14)\n"
     ]
    }
   ],
   "source": [
    "print(\"Shape of the dataset before filtering:\")\n",
    "print(combined_df.shape)\n",
    "print(\"*\"*40)\n",
    "combined_df = combined_df[combined_df['text'].apply(len) > 5]\n",
    "print(\"Shape of the dataset after filtering:\")\n",
    "print(combined_df.shape)"
   ]
  },
  {
   "cell_type": "markdown",
   "metadata": {},
   "source": [
    "# Checking for Duplicates in the dataset"
   ]
  },
  {
   "cell_type": "code",
   "execution_count": 40,
   "metadata": {},
   "outputs": [
    {
     "name": "stdout",
     "output_type": "stream",
     "text": [
      "775\n"
     ]
    }
   ],
   "source": [
    "print(combined_df.duplicated().sum())\n"
   ]
  },
  {
   "cell_type": "markdown",
   "metadata": {},
   "source": [
    "We want to investigate if indeed these are duplicate values."
   ]
  },
  {
   "cell_type": "code",
   "execution_count": 41,
   "metadata": {},
   "outputs": [
    {
     "data": {
      "text/html": [
       "<div>\n",
       "<style scoped>\n",
       "    .dataframe tbody tr th:only-of-type {\n",
       "        vertical-align: middle;\n",
       "    }\n",
       "\n",
       "    .dataframe tbody tr th {\n",
       "        vertical-align: top;\n",
       "    }\n",
       "\n",
       "    .dataframe thead th {\n",
       "        text-align: right;\n",
       "    }\n",
       "</style>\n",
       "<table border=\"1\" class=\"dataframe tex2jax_ignore\">\n",
       "  <thead>\n",
       "    <tr style=\"text-align: right;\">\n",
       "      <th></th>\n",
       "      <th>text</th>\n",
       "      <th>sentiment</th>\n",
       "      <th>comments</th>\n",
       "      <th>retweets</th>\n",
       "      <th>quotes</th>\n",
       "      <th>likes</th>\n",
       "      <th>length</th>\n",
       "      <th>day(month)</th>\n",
       "      <th>year</th>\n",
       "      <th>hour</th>\n",
       "      <th>day(week)</th>\n",
       "      <th>month</th>\n",
       "      <th>total_engagement</th>\n",
       "      <th>weekday/end</th>\n",
       "    </tr>\n",
       "  </thead>\n",
       "  <tbody>\n",
       "    <tr>\n",
       "      <th>48136</th>\n",
       "      <td>gilbeys</td>\n",
       "      <td>neutral</td>\n",
       "      <td>0</td>\n",
       "      <td>0</td>\n",
       "      <td>0</td>\n",
       "      <td>2</td>\n",
       "      <td>1</td>\n",
       "      <td>20.0</td>\n",
       "      <td>2022.0</td>\n",
       "      <td>19.0</td>\n",
       "      <td>Saturday</td>\n",
       "      <td>August</td>\n",
       "      <td>2</td>\n",
       "      <td>Weekend</td>\n",
       "    </tr>\n",
       "    <tr>\n",
       "      <th>16125</th>\n",
       "      <td>linus for belllagerceo</td>\n",
       "      <td>neutral</td>\n",
       "      <td>0</td>\n",
       "      <td>0</td>\n",
       "      <td>0</td>\n",
       "      <td>1</td>\n",
       "      <td>3</td>\n",
       "      <td>21.0</td>\n",
       "      <td>2023.0</td>\n",
       "      <td>6.0</td>\n",
       "      <td>Wednesday</td>\n",
       "      <td>June</td>\n",
       "      <td>1</td>\n",
       "      <td>Weekday</td>\n",
       "    </tr>\n",
       "    <tr>\n",
       "      <th>27098</th>\n",
       "      <td>congratulations</td>\n",
       "      <td>positive</td>\n",
       "      <td>0</td>\n",
       "      <td>0</td>\n",
       "      <td>0</td>\n",
       "      <td>4</td>\n",
       "      <td>1</td>\n",
       "      <td>4.0</td>\n",
       "      <td>2021.0</td>\n",
       "      <td>17.0</td>\n",
       "      <td>Thursday</td>\n",
       "      <td>November</td>\n",
       "      <td>4</td>\n",
       "      <td>Weekday</td>\n",
       "    </tr>\n",
       "    <tr>\n",
       "      <th>8093</th>\n",
       "      <td>ad buy 1 350ml gilbeys mixed berries on and get 1 ticket buy 1 750ml gilbeys mixed berries on the barkecom and get 2 tickets buy 2 750ml gilbeys mixed berries on the barkecomand get squad tickets 5 pax mixedandmatched opengoodtimes</td>\n",
       "      <td>Neutral</td>\n",
       "      <td>1</td>\n",
       "      <td>0</td>\n",
       "      <td>0</td>\n",
       "      <td>2</td>\n",
       "      <td>41</td>\n",
       "      <td>27.0</td>\n",
       "      <td>2023.0</td>\n",
       "      <td>12.0</td>\n",
       "      <td>Friday</td>\n",
       "      <td>January</td>\n",
       "      <td>3</td>\n",
       "      <td>Weekday</td>\n",
       "    </tr>\n",
       "    <tr>\n",
       "      <th>56010</th>\n",
       "      <td>bet you cant do this not sure you would even want to shes canadian and hit 441 decibels setting a new guinness world record</td>\n",
       "      <td>positive</td>\n",
       "      <td>0</td>\n",
       "      <td>0</td>\n",
       "      <td>0</td>\n",
       "      <td>0</td>\n",
       "      <td>24</td>\n",
       "      <td>11.0</td>\n",
       "      <td>2024.0</td>\n",
       "      <td>18.0</td>\n",
       "      <td>Thursday</td>\n",
       "      <td>January</td>\n",
       "      <td>0</td>\n",
       "      <td>Weekday</td>\n",
       "    </tr>\n",
       "    <tr>\n",
       "      <th>43440</th>\n",
       "      <td>ad buy 1 350ml gilbeys mixed berries on kethebarcom and get 1 ticket to the pinknic at the absa grounds on the 28th of january 2023 3pm till late buy 2 750ml gilbey and get 5pax squad tickets mixedandmatched opengoodtimes dj piera makena more will be</td>\n",
       "      <td>neutral</td>\n",
       "      <td>0</td>\n",
       "      <td>0</td>\n",
       "      <td>0</td>\n",
       "      <td>0</td>\n",
       "      <td>46</td>\n",
       "      <td>24.0</td>\n",
       "      <td>2023.0</td>\n",
       "      <td>13.0</td>\n",
       "      <td>Tuesday</td>\n",
       "      <td>January</td>\n",
       "      <td>0</td>\n",
       "      <td>Weekday</td>\n",
       "    </tr>\n",
       "    <tr>\n",
       "      <th>41449</th>\n",
       "      <td>gilbeys mzinga</td>\n",
       "      <td>neutral</td>\n",
       "      <td>1</td>\n",
       "      <td>0</td>\n",
       "      <td>0</td>\n",
       "      <td>0</td>\n",
       "      <td>2</td>\n",
       "      <td>14.0</td>\n",
       "      <td>2023.0</td>\n",
       "      <td>13.0</td>\n",
       "      <td>Friday</td>\n",
       "      <td>April</td>\n",
       "      <td>1</td>\n",
       "      <td>Weekday</td>\n",
       "    </tr>\n",
       "    <tr>\n",
       "      <th>13793</th>\n",
       "      <td>son of farida</td>\n",
       "      <td>neutral</td>\n",
       "      <td>0</td>\n",
       "      <td>0</td>\n",
       "      <td>0</td>\n",
       "      <td>1</td>\n",
       "      <td>3</td>\n",
       "      <td>18.0</td>\n",
       "      <td>2023.0</td>\n",
       "      <td>15.0</td>\n",
       "      <td>Friday</td>\n",
       "      <td>August</td>\n",
       "      <td>1</td>\n",
       "      <td>Weekday</td>\n",
       "    </tr>\n",
       "    <tr>\n",
       "      <th>46041</th>\n",
       "      <td>gilbeys ni wewe</td>\n",
       "      <td>neutral</td>\n",
       "      <td>3</td>\n",
       "      <td>5</td>\n",
       "      <td>0</td>\n",
       "      <td>11</td>\n",
       "      <td>3</td>\n",
       "      <td>28.0</td>\n",
       "      <td>2022.0</td>\n",
       "      <td>15.0</td>\n",
       "      <td>Friday</td>\n",
       "      <td>October</td>\n",
       "      <td>19</td>\n",
       "      <td>Weekday</td>\n",
       "    </tr>\n",
       "    <tr>\n",
       "      <th>8503</th>\n",
       "      <td>ad on 28th jan 2023 kutawaka morefire with gilbeys mixed perry pinknic at the absa grounds grab ur tickets via kethebarcom buy 1 750ml gilbeys mixed berries and get 2 tickets or 2 750ml get squad tickets 5 people mixedandmatched opengoodtimes</td>\n",
       "      <td>Neutral</td>\n",
       "      <td>0</td>\n",
       "      <td>2</td>\n",
       "      <td>0</td>\n",
       "      <td>3</td>\n",
       "      <td>41</td>\n",
       "      <td>24.0</td>\n",
       "      <td>2023.0</td>\n",
       "      <td>13.0</td>\n",
       "      <td>Tuesday</td>\n",
       "      <td>January</td>\n",
       "      <td>5</td>\n",
       "      <td>Weekday</td>\n",
       "    </tr>\n",
       "  </tbody>\n",
       "</table>\n",
       "</div>"
      ],
      "text/plain": [
       "                                                                                                                                                                                                                                                             text  \\\n",
       "48136                                                                                                                                                                                                                                                     gilbeys   \n",
       "16125                                                                                                                                                                                                                                      linus for belllagerceo   \n",
       "27098                                                                                                                                                                                                                                             congratulations   \n",
       "8093                      ad buy 1 350ml gilbeys mixed berries on and get 1 ticket buy 1 750ml gilbeys mixed berries on the barkecom and get 2 tickets buy 2 750ml gilbeys mixed berries on the barkecomand get squad tickets 5 pax mixedandmatched opengoodtimes   \n",
       "56010                                                                                                                                 bet you cant do this not sure you would even want to shes canadian and hit 441 decibels setting a new guinness world record   \n",
       "43440  ad buy 1 350ml gilbeys mixed berries on kethebarcom and get 1 ticket to the pinknic at the absa grounds on the 28th of january 2023 3pm till late buy 2 750ml gilbey and get 5pax squad tickets mixedandmatched opengoodtimes dj piera makena more will be   \n",
       "41449                                                                                                                                                                                                                                              gilbeys mzinga   \n",
       "13793                                                                                                                                                                                                                                               son of farida   \n",
       "46041                                                                                                                                                                                                                                             gilbeys ni wewe   \n",
       "8503           ad on 28th jan 2023 kutawaka morefire with gilbeys mixed perry pinknic at the absa grounds grab ur tickets via kethebarcom buy 1 750ml gilbeys mixed berries and get 2 tickets or 2 750ml get squad tickets 5 people mixedandmatched opengoodtimes   \n",
       "\n",
       "      sentiment  comments  retweets  quotes  likes  length  day(month)  \\\n",
       "48136   neutral         0         0       0      2       1        20.0   \n",
       "16125   neutral         0         0       0      1       3        21.0   \n",
       "27098  positive         0         0       0      4       1         4.0   \n",
       "8093    Neutral         1         0       0      2      41        27.0   \n",
       "56010  positive         0         0       0      0      24        11.0   \n",
       "43440   neutral         0         0       0      0      46        24.0   \n",
       "41449   neutral         1         0       0      0       2        14.0   \n",
       "13793   neutral         0         0       0      1       3        18.0   \n",
       "46041   neutral         3         5       0     11       3        28.0   \n",
       "8503    Neutral         0         2       0      3      41        24.0   \n",
       "\n",
       "         year  hour  day(week)     month  total_engagement weekday/end  \n",
       "48136  2022.0  19.0   Saturday    August                 2     Weekend  \n",
       "16125  2023.0   6.0  Wednesday      June                 1     Weekday  \n",
       "27098  2021.0  17.0   Thursday  November                 4     Weekday  \n",
       "8093   2023.0  12.0     Friday   January                 3     Weekday  \n",
       "56010  2024.0  18.0   Thursday   January                 0     Weekday  \n",
       "43440  2023.0  13.0    Tuesday   January                 0     Weekday  \n",
       "41449  2023.0  13.0     Friday     April                 1     Weekday  \n",
       "13793  2023.0  15.0     Friday    August                 1     Weekday  \n",
       "46041  2022.0  15.0     Friday   October                19     Weekday  \n",
       "8503   2023.0  13.0    Tuesday   January                 5     Weekday  "
      ]
     },
     "execution_count": 41,
     "metadata": {},
     "output_type": "execute_result"
    }
   ],
   "source": [
    "# checking if the duolicate values are indeed duplicates\n",
    "combined_df[combined_df.duplicated(subset=['text'],keep=False)].sort_values(by='text').sample(10)"
   ]
  },
  {
   "cell_type": "markdown",
   "metadata": {},
   "source": [
    "From the output displyed, it is not evident if there are duplicated tweets. We chose to retain the duplicates. "
   ]
  },
  {
   "cell_type": "markdown",
   "metadata": {},
   "source": [
    "We will now got to preprocessing procedures which include tokenizing(spliting),stemming and lemmatization which are dependent on the model you choose to use."
   ]
  },
  {
   "cell_type": "markdown",
   "metadata": {},
   "source": [
    "For cleaning our text we are gling to use the NeatText Library. NeatText is a simple NLP package for cleaning textual data and text preprocessing. It offers a variety of features for cleaning unstructured text data, reducing noise (such as special characters and stopwords), and extracting specific information from the text. It can be used via an object-oriented approach or a functional/method-oriented approach, providing flexibility in its usage. The package includes classes such as TextCleaner, TextExtractor, and TextMetrics for different text processing tasks."
   ]
  },
  {
   "cell_type": "code",
   "execution_count": 42,
   "metadata": {},
   "outputs": [
    {
     "data": {
      "text/plain": [
       "['AUTOMATED_READ_INDEX',\n",
       " 'BTC_ADDRESS_REGEX',\n",
       " 'CONTRACTIONS_DICT',\n",
       " 'CURRENCY_REGEX',\n",
       " 'CURRENCY_SYMB_REGEX',\n",
       " 'Callable',\n",
       " 'Counter',\n",
       " 'CreditCard_REGEX',\n",
       " 'DATE_REGEX',\n",
       " 'EMAIL_REGEX',\n",
       " 'EMOJI_REGEX',\n",
       " 'FUNCTORS_WORDLIST',\n",
       " 'HASTAG_REGEX',\n",
       " 'HTML_TAGS_REGEX',\n",
       " 'List',\n",
       " 'MASTERCard_REGEX',\n",
       " 'MD5_SHA_REGEX',\n",
       " 'MOST_COMMON_PUNCT_REGEX',\n",
       " 'NUMBERS_REGEX',\n",
       " 'PHONE_REGEX',\n",
       " 'PUNCT_REGEX',\n",
       " 'PoBOX_REGEX',\n",
       " 'SPECIAL_CHARACTERS_REGEX',\n",
       " 'STOPWORDS',\n",
       " 'STOPWORDS_de',\n",
       " 'STOPWORDS_en',\n",
       " 'STOPWORDS_es',\n",
       " 'STOPWORDS_fr',\n",
       " 'STOPWORDS_ru',\n",
       " 'STOPWORDS_yo',\n",
       " 'STREET_ADDRESS_REGEX',\n",
       " 'TextCleaner',\n",
       " 'TextExtractor',\n",
       " 'TextFrame',\n",
       " 'TextMetrics',\n",
       " 'TextPipeline',\n",
       " 'Tuple',\n",
       " 'URL_PATTERN',\n",
       " 'USER_HANDLES_REGEX',\n",
       " 'VISACard_REGEX',\n",
       " 'ZIP_REGEX',\n",
       " '__builtins__',\n",
       " '__cached__',\n",
       " '__doc__',\n",
       " '__file__',\n",
       " '__loader__',\n",
       " '__name__',\n",
       " '__package__',\n",
       " '__path__',\n",
       " '__spec__',\n",
       " '__version__',\n",
       " 'clean_text',\n",
       " 'defaultdict',\n",
       " 'digit2words',\n",
       " 'emoji_explainer',\n",
       " 'emojify',\n",
       " 'explainer',\n",
       " 'extract_btc_address',\n",
       " 'extract_currencies',\n",
       " 'extract_currency_symbols',\n",
       " 'extract_dates',\n",
       " 'extract_emails',\n",
       " 'extract_emojis',\n",
       " 'extract_hashtags',\n",
       " 'extract_html_tags',\n",
       " 'extract_mastercard_addr',\n",
       " 'extract_md5sha',\n",
       " 'extract_numbers',\n",
       " 'extract_pattern',\n",
       " 'extract_phone_numbers',\n",
       " 'extract_postoffice_box',\n",
       " 'extract_shortwords',\n",
       " 'extract_special_characters',\n",
       " 'extract_stopwords',\n",
       " 'extract_street_address',\n",
       " 'extract_terms_in_bracket',\n",
       " 'extract_urls',\n",
       " 'extract_userhandles',\n",
       " 'extract_visacard_addr',\n",
       " 'fix_contractions',\n",
       " 'functions',\n",
       " 'generate_sentence',\n",
       " 'hamming_distance',\n",
       " 'inverse_df',\n",
       " 'lexical_richness',\n",
       " 'markov_chain',\n",
       " 'math',\n",
       " 'neattext',\n",
       " 'nlargest',\n",
       " 'normalize',\n",
       " 'num2words',\n",
       " 'pattern_data',\n",
       " 'pipeline',\n",
       " 'random',\n",
       " 're',\n",
       " 'read_txt',\n",
       " 'remove_accents',\n",
       " 'remove_bad_quotes',\n",
       " 'remove_btc_address',\n",
       " 'remove_currencies',\n",
       " 'remove_currency_symbols',\n",
       " 'remove_custom_pattern',\n",
       " 'remove_custom_words',\n",
       " 'remove_dates',\n",
       " 'remove_emails',\n",
       " 'remove_emojis',\n",
       " 'remove_hashtags',\n",
       " 'remove_html_tags',\n",
       " 'remove_mastercard_addr',\n",
       " 'remove_md5sha',\n",
       " 'remove_multiple_spaces',\n",
       " 'remove_non_ascii',\n",
       " 'remove_numbers',\n",
       " 'remove_phone_numbers',\n",
       " 'remove_postoffice_box',\n",
       " 'remove_puncts',\n",
       " 'remove_punctuations',\n",
       " 'remove_shortwords',\n",
       " 'remove_special_characters',\n",
       " 'remove_stopwords',\n",
       " 'remove_street_address',\n",
       " 'remove_terms_in_bracket',\n",
       " 'remove_urls',\n",
       " 'remove_userhandles',\n",
       " 'remove_visacard_addr',\n",
       " 'replace_bad_quotes',\n",
       " 'replace_currencies',\n",
       " 'replace_currency_symbols',\n",
       " 'replace_dates',\n",
       " 'replace_emails',\n",
       " 'replace_emojis',\n",
       " 'replace_numbers',\n",
       " 'replace_phone_numbers',\n",
       " 'replace_special_characters',\n",
       " 'replace_term',\n",
       " 'replace_urls',\n",
       " 'string',\n",
       " 'term_freq',\n",
       " 'to_txt',\n",
       " 'unicode_2_emoji',\n",
       " 'unicodedata',\n",
       " 'word_freq',\n",
       " 'word_length_freq']"
      ]
     },
     "execution_count": 42,
     "metadata": {},
     "output_type": "execute_result"
    }
   ],
   "source": [
    "# load the text cleaning packages\n",
    "\n",
    "import neattext as nt\n",
    "import neattext.functions as nfx\n",
    "\n",
    "# Methods and Attributes of the function\n",
    "dir(nt)"
   ]
  },
  {
   "cell_type": "code",
   "execution_count": 43,
   "metadata": {},
   "outputs": [
    {
     "data": {
      "text/plain": [
       "0          5.905512\n",
       "1          3.370787\n",
       "2          8.510638\n",
       "3          7.142857\n",
       "6          0.833333\n",
       "            ...    \n",
       "125213    10.606061\n",
       "125214    11.718750\n",
       "125215    11.111111\n",
       "125216     0.000000\n",
       "125217     0.000000\n",
       "Name: text, Length: 64260, dtype: float64"
      ]
     },
     "execution_count": 43,
     "metadata": {},
     "output_type": "execute_result"
    }
   ],
   "source": [
    "# Scaning the Noise\n",
    "combined_df['text'].apply(lambda x: nt.TextFrame(x).noise_scan()['text_noise'])"
   ]
  },
  {
   "cell_type": "code",
   "execution_count": 44,
   "metadata": {},
   "outputs": [],
   "source": [
    "# Ensure all entries in 'tweet' column are strings\n",
    "combined_df['text'] = combined_df['text'].astype(str)\n",
    "\n",
    "# Now apply the clean_text function\n",
    "combined_df['clean_text'] = combined_df['text'].apply(lambda x: nfx.clean_text(x, puncts=False, stopwords=False))"
   ]
  },
  {
   "cell_type": "code",
   "execution_count": 45,
   "metadata": {},
   "outputs": [
    {
     "data": {
      "text/html": [
       "<div>\n",
       "<style scoped>\n",
       "    .dataframe tbody tr th:only-of-type {\n",
       "        vertical-align: middle;\n",
       "    }\n",
       "\n",
       "    .dataframe tbody tr th {\n",
       "        vertical-align: top;\n",
       "    }\n",
       "\n",
       "    .dataframe thead th {\n",
       "        text-align: right;\n",
       "    }\n",
       "</style>\n",
       "<table border=\"1\" class=\"dataframe tex2jax_ignore\">\n",
       "  <thead>\n",
       "    <tr style=\"text-align: right;\">\n",
       "      <th></th>\n",
       "      <th>text</th>\n",
       "      <th>clean_text</th>\n",
       "    </tr>\n",
       "  </thead>\n",
       "  <tbody>\n",
       "    <tr>\n",
       "      <th>0</th>\n",
       "      <td>guys do you remember shaffie weru dj joe mfalmeneville musya was fired from home boys radio coz they warned ladies about what happened to starlet wahu pastor kanyari sizeabl got mad coz of the same if ladies listened likes of john matara couldnt be there</td>\n",
       "      <td>guys do you remember shaffie weru dj joe mfalmeneville musya was fired from home boys radio coz they warned ladies about what happened to starlet wahu pastor kanyari sizeabl got mad coz of the same if ladies listened likes of john matara couldnt be there</td>\n",
       "    </tr>\n",
       "    <tr>\n",
       "      <th>1</th>\n",
       "      <td>drilling water at kenneth matiba hospital makenji kandara gatanga near kenol kabati towns a free donation by eabl after the muranga county eabl partnership on sorghum thanks eabl</td>\n",
       "      <td>drilling water at kenneth matiba hospital makenji kandara gatanga near kenol kabati towns a free donation by eabl after the muranga county eabl partnership on sorghum thanks eabl</td>\n",
       "    </tr>\n",
       "    <tr>\n",
       "      <th>2</th>\n",
       "      <td>kenyans wakitambua hii beer it is over for eabl</td>\n",
       "      <td>kenyans wakitambua hii beer it is over for eabl</td>\n",
       "    </tr>\n",
       "    <tr>\n",
       "      <th>3</th>\n",
       "      <td>i thought eabl products are unwanted around the mountain</td>\n",
       "      <td>i thought eabl products are unwanted around the mountain</td>\n",
       "    </tr>\n",
       "    <tr>\n",
       "      <th>6</th>\n",
       "      <td>unajua sai amafanya eabl anaweza tupea a years supply ya balozi na singleton kama yobra wewe unapepeta tutablockiwa bana</td>\n",
       "      <td>unajua sai amafanya eabl anaweza tupea a years supply ya balozi na singleton kama yobra wewe unapepeta tutablockiwa bana</td>\n",
       "    </tr>\n",
       "  </tbody>\n",
       "</table>\n",
       "</div>"
      ],
      "text/plain": [
       "                                                                                                                                                                                                                                                             text  \\\n",
       "0  guys do you remember shaffie weru dj joe mfalmeneville musya was fired from home boys radio coz they warned ladies about what happened to starlet wahu pastor kanyari sizeabl got mad coz of the same if ladies listened likes of john matara couldnt be there   \n",
       "1                                                                              drilling water at kenneth matiba hospital makenji kandara gatanga near kenol kabati towns a free donation by eabl after the muranga county eabl partnership on sorghum thanks eabl   \n",
       "2                                                                                                                                                                                                                 kenyans wakitambua hii beer it is over for eabl   \n",
       "3                                                                                                                                                                                                        i thought eabl products are unwanted around the mountain   \n",
       "6                                                                                                                                        unajua sai amafanya eabl anaweza tupea a years supply ya balozi na singleton kama yobra wewe unapepeta tutablockiwa bana   \n",
       "\n",
       "                                                                                                                                                                                                                                                       clean_text  \n",
       "0  guys do you remember shaffie weru dj joe mfalmeneville musya was fired from home boys radio coz they warned ladies about what happened to starlet wahu pastor kanyari sizeabl got mad coz of the same if ladies listened likes of john matara couldnt be there  \n",
       "1                                                                              drilling water at kenneth matiba hospital makenji kandara gatanga near kenol kabati towns a free donation by eabl after the muranga county eabl partnership on sorghum thanks eabl  \n",
       "2                                                                                                                                                                                                                 kenyans wakitambua hii beer it is over for eabl  \n",
       "3                                                                                                                                                                                                        i thought eabl products are unwanted around the mountain  \n",
       "6                                                                                                                                        unajua sai amafanya eabl anaweza tupea a years supply ya balozi na singleton kama yobra wewe unapepeta tutablockiwa bana  "
      ]
     },
     "execution_count": 45,
     "metadata": {},
     "output_type": "execute_result"
    }
   ],
   "source": [
    "combined_df[['text', 'clean_text']].head()"
   ]
  },
  {
   "cell_type": "markdown",
   "metadata": {},
   "source": [
    "# Special Characters"
   ]
  },
  {
   "cell_type": "code",
   "execution_count": 46,
   "metadata": {},
   "outputs": [
    {
     "data": {
      "text/html": [
       "<div>\n",
       "<style scoped>\n",
       "    .dataframe tbody tr th:only-of-type {\n",
       "        vertical-align: middle;\n",
       "    }\n",
       "\n",
       "    .dataframe tbody tr th {\n",
       "        vertical-align: top;\n",
       "    }\n",
       "\n",
       "    .dataframe thead th {\n",
       "        text-align: right;\n",
       "    }\n",
       "</style>\n",
       "<table border=\"1\" class=\"dataframe tex2jax_ignore\">\n",
       "  <thead>\n",
       "    <tr style=\"text-align: right;\">\n",
       "      <th></th>\n",
       "      <th>text</th>\n",
       "      <th>clean_text</th>\n",
       "    </tr>\n",
       "  </thead>\n",
       "  <tbody>\n",
       "    <tr>\n",
       "      <th>25587</th>\n",
       "      <td>akaliba akkendo okalabila kumukondda</td>\n",
       "      <td>akaliba akkendo okalabila kumukondda</td>\n",
       "    </tr>\n",
       "    <tr>\n",
       "      <th>4784</th>\n",
       "      <td>matchday 33 eabl ruaraka grounds batotobamungu tunachapamtu</td>\n",
       "      <td>matchday 33 eabl ruaraka grounds batotobamungu tunachapamtu</td>\n",
       "    </tr>\n",
       "    <tr>\n",
       "      <th>58935</th>\n",
       "      <td>experience the maneuverability easy handling and sportiness of the bmw g 310 r and surpass yourself with it every single day makelifearide for more information call us 91 80 4343 7676 whats app91 7026767676 tuskerbmwmotorrad theworldofmotorcycling tusker bangalore</td>\n",
       "      <td>experience the maneuverability easy handling and sportiness of the bmw g 310 r and surpass yourself with it every single day makelifearide for more information call us 91 80 4343 7676 whats app91 7026767676 tuskerbmwmotorrad theworldofmotorcycling tusker bangalore</td>\n",
       "    </tr>\n",
       "    <tr>\n",
       "      <th>41560</th>\n",
       "      <td>gilbeys offer bado inaendelea hapa volume vip clubsonko wa masonko wote duniani ako area twendeniclubvolume</td>\n",
       "      <td>gilbeys offer bado inaendelea hapa volume vip clubsonko wa masonko wote duniani ako area twendeniclubvolume</td>\n",
       "    </tr>\n",
       "    <tr>\n",
       "      <th>2826</th>\n",
       "      <td>if you see an established company like eabl struggling in this economy you should be worried the business environment is punitive and most entities will close down or relocate the revenue streams will be affected finally wambui is weeping over taxes too</td>\n",
       "      <td>if you see an established company like eabl struggling in this economy you should be worried the business environment is punitive and most entities will close down or relocate the revenue streams will be affected finally wambui is weeping over taxes too</td>\n",
       "    </tr>\n",
       "  </tbody>\n",
       "</table>\n",
       "</div>"
      ],
      "text/plain": [
       "                                                                                                                                                                                                                                                                           text  \\\n",
       "25587                                                                                                                                                                                                                                      akaliba akkendo okalabila kumukondda   \n",
       "4784                                                                                                                                                                                                                matchday 33 eabl ruaraka grounds batotobamungu tunachapamtu   \n",
       "58935  experience the maneuverability easy handling and sportiness of the bmw g 310 r and surpass yourself with it every single day makelifearide for more information call us 91 80 4343 7676 whats app91 7026767676 tuskerbmwmotorrad theworldofmotorcycling tusker bangalore   \n",
       "41560                                                                                                                                                               gilbeys offer bado inaendelea hapa volume vip clubsonko wa masonko wote duniani ako area twendeniclubvolume   \n",
       "2826              if you see an established company like eabl struggling in this economy you should be worried the business environment is punitive and most entities will close down or relocate the revenue streams will be affected finally wambui is weeping over taxes too   \n",
       "\n",
       "                                                                                                                                                                                                                                                                     clean_text  \n",
       "25587                                                                                                                                                                                                                                      akaliba akkendo okalabila kumukondda  \n",
       "4784                                                                                                                                                                                                                matchday 33 eabl ruaraka grounds batotobamungu tunachapamtu  \n",
       "58935  experience the maneuverability easy handling and sportiness of the bmw g 310 r and surpass yourself with it every single day makelifearide for more information call us 91 80 4343 7676 whats app91 7026767676 tuskerbmwmotorrad theworldofmotorcycling tusker bangalore  \n",
       "41560                                                                                                                                                               gilbeys offer bado inaendelea hapa volume vip clubsonko wa masonko wote duniani ako area twendeniclubvolume  \n",
       "2826              if you see an established company like eabl struggling in this economy you should be worried the business environment is punitive and most entities will close down or relocate the revenue streams will be affected finally wambui is weeping over taxes too  "
      ]
     },
     "execution_count": 46,
     "metadata": {},
     "output_type": "execute_result"
    }
   ],
   "source": [
    "# Remove special characters\n",
    "\n",
    "combined_df['clean_text'] = combined_df['clean_text'].apply(nfx.remove_special_characters)\n",
    "\n",
    "combined_df[['text', 'clean_text']].sample(5)"
   ]
  },
  {
   "cell_type": "code",
   "execution_count": 47,
   "metadata": {},
   "outputs": [
    {
     "data": {
      "text/html": [
       "<div>\n",
       "<style scoped>\n",
       "    .dataframe tbody tr th:only-of-type {\n",
       "        vertical-align: middle;\n",
       "    }\n",
       "\n",
       "    .dataframe tbody tr th {\n",
       "        vertical-align: top;\n",
       "    }\n",
       "\n",
       "    .dataframe thead th {\n",
       "        text-align: right;\n",
       "    }\n",
       "</style>\n",
       "<table border=\"1\" class=\"dataframe tex2jax_ignore\">\n",
       "  <thead>\n",
       "    <tr style=\"text-align: right;\">\n",
       "      <th></th>\n",
       "      <th>text</th>\n",
       "      <th>clean_text</th>\n",
       "    </tr>\n",
       "  </thead>\n",
       "  <tbody>\n",
       "    <tr>\n",
       "      <th>0</th>\n",
       "      <td>guys do you remember shaffie weru dj joe mfalmeneville musya was fired from home boys radio coz they warned ladies about what happened to starlet wahu pastor kanyari sizeabl got mad coz of the same if ladies listened likes of john matara couldnt be there</td>\n",
       "      <td>guys do you remember shaffie weru dj joe mfalmeneville musya was fired from home boys radio coz they warned ladies about what happened to starlet wahu pastor kanyari sizeabl got mad coz of the same if ladies listened likes of john matara couldnt be there</td>\n",
       "    </tr>\n",
       "    <tr>\n",
       "      <th>1</th>\n",
       "      <td>drilling water at kenneth matiba hospital makenji kandara gatanga near kenol kabati towns a free donation by eabl after the muranga county eabl partnership on sorghum thanks eabl</td>\n",
       "      <td>drilling water at kenneth matiba hospital makenji kandara gatanga near kenol kabati towns a free donation by eabl after the muranga county eabl partnership on sorghum thanks eabl</td>\n",
       "    </tr>\n",
       "    <tr>\n",
       "      <th>2</th>\n",
       "      <td>kenyans wakitambua hii beer it is over for eabl</td>\n",
       "      <td>kenyans wakitambua hii beer it is over for eabl</td>\n",
       "    </tr>\n",
       "    <tr>\n",
       "      <th>3</th>\n",
       "      <td>i thought eabl products are unwanted around the mountain</td>\n",
       "      <td>i thought eabl products are unwanted around the mountain</td>\n",
       "    </tr>\n",
       "    <tr>\n",
       "      <th>6</th>\n",
       "      <td>unajua sai amafanya eabl anaweza tupea a years supply ya balozi na singleton kama yobra wewe unapepeta tutablockiwa bana</td>\n",
       "      <td>unajua sai amafanya eabl anaweza tupea a years supply ya balozi na singleton kama yobra wewe unapepeta tutablockiwa bana</td>\n",
       "    </tr>\n",
       "  </tbody>\n",
       "</table>\n",
       "</div>"
      ],
      "text/plain": [
       "                                                                                                                                                                                                                                                             text  \\\n",
       "0  guys do you remember shaffie weru dj joe mfalmeneville musya was fired from home boys radio coz they warned ladies about what happened to starlet wahu pastor kanyari sizeabl got mad coz of the same if ladies listened likes of john matara couldnt be there   \n",
       "1                                                                              drilling water at kenneth matiba hospital makenji kandara gatanga near kenol kabati towns a free donation by eabl after the muranga county eabl partnership on sorghum thanks eabl   \n",
       "2                                                                                                                                                                                                                 kenyans wakitambua hii beer it is over for eabl   \n",
       "3                                                                                                                                                                                                        i thought eabl products are unwanted around the mountain   \n",
       "6                                                                                                                                        unajua sai amafanya eabl anaweza tupea a years supply ya balozi na singleton kama yobra wewe unapepeta tutablockiwa bana   \n",
       "\n",
       "                                                                                                                                                                                                                                                       clean_text  \n",
       "0  guys do you remember shaffie weru dj joe mfalmeneville musya was fired from home boys radio coz they warned ladies about what happened to starlet wahu pastor kanyari sizeabl got mad coz of the same if ladies listened likes of john matara couldnt be there  \n",
       "1                                                                              drilling water at kenneth matiba hospital makenji kandara gatanga near kenol kabati towns a free donation by eabl after the muranga county eabl partnership on sorghum thanks eabl  \n",
       "2                                                                                                                                                                                                                 kenyans wakitambua hii beer it is over for eabl  \n",
       "3                                                                                                                                                                                                        i thought eabl products are unwanted around the mountain  \n",
       "6                                                                                                                                        unajua sai amafanya eabl anaweza tupea a years supply ya balozi na singleton kama yobra wewe unapepeta tutablockiwa bana  "
      ]
     },
     "execution_count": 47,
     "metadata": {},
     "output_type": "execute_result"
    }
   ],
   "source": [
    "# Remove whitespaces\n",
    "combined_df['clean_text'] = combined_df['clean_text'].apply(nfx.remove_multiple_spaces)\n",
    "\n",
    "combined_df[['text', 'clean_text']].head()"
   ]
  },
  {
   "cell_type": "code",
   "execution_count": 48,
   "metadata": {},
   "outputs": [
    {
     "data": {
      "text/html": [
       "<div>\n",
       "<style scoped>\n",
       "    .dataframe tbody tr th:only-of-type {\n",
       "        vertical-align: middle;\n",
       "    }\n",
       "\n",
       "    .dataframe tbody tr th {\n",
       "        vertical-align: top;\n",
       "    }\n",
       "\n",
       "    .dataframe thead th {\n",
       "        text-align: right;\n",
       "    }\n",
       "</style>\n",
       "<table border=\"1\" class=\"dataframe tex2jax_ignore\">\n",
       "  <thead>\n",
       "    <tr style=\"text-align: right;\">\n",
       "      <th></th>\n",
       "      <th>text</th>\n",
       "      <th>clean_text</th>\n",
       "    </tr>\n",
       "  </thead>\n",
       "  <tbody>\n",
       "    <tr>\n",
       "      <th>46329</th>\n",
       "      <td>walai men are focused hapa nje banaaa am in a club of single niggas but theyre so destined to get that bag and legacy asf ladies continue setting those standards na tuna chasiwa hapa kama gilbeys gin</td>\n",
       "      <td>walai men are focused hapa nje banaaa am in a club of single niggas but theyre so destined to get that bag and legacy asf ladies continue setting those standards na tuna chasiwa hapa kama gilbeys gin</td>\n",
       "    </tr>\n",
       "    <tr>\n",
       "      <th>48499</th>\n",
       "      <td>huyu dem amekuja shop kununua mafuta ya kujibaka inaitwa gilbeys</td>\n",
       "      <td>huyu dem amekuja shop kununua mafuta ya kujibaka inaitwa gilbeys</td>\n",
       "    </tr>\n",
       "    <tr>\n",
       "      <th>46163</th>\n",
       "      <td>kwani hujui gilbeys ww</td>\n",
       "      <td>kwani hujui gilbeys ww</td>\n",
       "    </tr>\n",
       "    <tr>\n",
       "      <th>7159</th>\n",
       "      <td>hawa wanakuletea hadi raw materials sasa mimi ni nani nisifurahie oktobafest welivefortaste ydxexperiences</td>\n",
       "      <td>hawa wanakuletea hadi raw materials sasa mimi ni nani nisifurahie oktobafest welivefortaste ydxexperiences</td>\n",
       "    </tr>\n",
       "    <tr>\n",
       "      <th>15701</th>\n",
       "      <td>mbu today you dont want to smile</td>\n",
       "      <td>mbu today you dont want to smile</td>\n",
       "    </tr>\n",
       "  </tbody>\n",
       "</table>\n",
       "</div>"
      ],
      "text/plain": [
       "                                                                                                                                                                                                          text  \\\n",
       "46329  walai men are focused hapa nje banaaa am in a club of single niggas but theyre so destined to get that bag and legacy asf ladies continue setting those standards na tuna chasiwa hapa kama gilbeys gin   \n",
       "48499                                                                                                                                         huyu dem amekuja shop kununua mafuta ya kujibaka inaitwa gilbeys   \n",
       "46163                                                                                                                                                                                   kwani hujui gilbeys ww   \n",
       "7159                                                                                                hawa wanakuletea hadi raw materials sasa mimi ni nani nisifurahie oktobafest welivefortaste ydxexperiences   \n",
       "15701                                                                                                                                                                         mbu today you dont want to smile   \n",
       "\n",
       "                                                                                                                                                                                                    clean_text  \n",
       "46329  walai men are focused hapa nje banaaa am in a club of single niggas but theyre so destined to get that bag and legacy asf ladies continue setting those standards na tuna chasiwa hapa kama gilbeys gin  \n",
       "48499                                                                                                                                         huyu dem amekuja shop kununua mafuta ya kujibaka inaitwa gilbeys  \n",
       "46163                                                                                                                                                                                   kwani hujui gilbeys ww  \n",
       "7159                                                                                                hawa wanakuletea hadi raw materials sasa mimi ni nani nisifurahie oktobafest welivefortaste ydxexperiences  \n",
       "15701                                                                                                                                                                         mbu today you dont want to smile  "
      ]
     },
     "execution_count": 48,
     "metadata": {},
     "output_type": "execute_result"
    }
   ],
   "source": [
    "# Remove emojis\n",
    "combined_df['clean_text'] = combined_df['clean_text'].apply(nfx.remove_emojis)\n",
    "\n",
    "combined_df[['text', 'clean_text']].sample(5)"
   ]
  },
  {
   "cell_type": "markdown",
   "metadata": {},
   "source": [
    "# Contractions\n",
    "\n",
    "Contractions in a tweet refer to shortened forms of words or phrases that are created by combining two words and replacing one or more letters with an apostrophe. Contractions are commonly used in informal writing, including tweets, to save space and make the text more conversational."
   ]
  },
  {
   "cell_type": "code",
   "execution_count": 50,
   "metadata": {},
   "outputs": [
    {
     "name": "stdout",
     "output_type": "stream",
     "text": [
      "Requirement already satisfied: contractions in c:\\users\\admin\\anaconda3\\envs\\learn-env\\lib\\site-packages (0.1.73)\n",
      "Requirement already satisfied: textsearch>=0.0.21 in c:\\users\\admin\\anaconda3\\envs\\learn-env\\lib\\site-packages (from contractions) (0.0.24)\n",
      "Requirement already satisfied: anyascii in c:\\users\\admin\\anaconda3\\envs\\learn-env\\lib\\site-packages (from textsearch>=0.0.21->contractions) (0.3.2)\n",
      "Requirement already satisfied: pyahocorasick in c:\\users\\admin\\anaconda3\\envs\\learn-env\\lib\\site-packages (from textsearch>=0.0.21->contractions) (2.0.0)\n"
     ]
    }
   ],
   "source": [
    "!pip install contractions"
   ]
  },
  {
   "cell_type": "code",
   "execution_count": 55,
   "metadata": {},
   "outputs": [
    {
     "data": {
      "text/html": [
       "<div>\n",
       "<style scoped>\n",
       "    .dataframe tbody tr th:only-of-type {\n",
       "        vertical-align: middle;\n",
       "    }\n",
       "\n",
       "    .dataframe tbody tr th {\n",
       "        vertical-align: top;\n",
       "    }\n",
       "\n",
       "    .dataframe thead th {\n",
       "        text-align: right;\n",
       "    }\n",
       "</style>\n",
       "<table border=\"1\" class=\"dataframe tex2jax_ignore\">\n",
       "  <thead>\n",
       "    <tr style=\"text-align: right;\">\n",
       "      <th></th>\n",
       "      <th>text</th>\n",
       "      <th>clean_text</th>\n",
       "    </tr>\n",
       "  </thead>\n",
       "  <tbody>\n",
       "    <tr>\n",
       "      <th>0</th>\n",
       "      <td>guys do you remember shaffie weru dj joe mfalmeneville musya was fired from home boys radio coz they warned ladies about what happened to starlet wahu pastor kanyari sizeabl got mad coz of the same if ladies listened likes of john matara couldnt be there</td>\n",
       "      <td>guys remember shaffie weru dj joe mfalmeneville musya fired home boys radio coz warned ladies happened starlet wahu pastor kanyari sizeabl got mad coz ladies listened likes john matara</td>\n",
       "    </tr>\n",
       "    <tr>\n",
       "      <th>1</th>\n",
       "      <td>drilling water at kenneth matiba hospital makenji kandara gatanga near kenol kabati towns a free donation by eabl after the muranga county eabl partnership on sorghum thanks eabl</td>\n",
       "      <td>drilling water kenneth matiba hospital makenji kandara gatanga near kenol kabati towns free donation eabl muranga county eabl partnership sorghum thanks eabl</td>\n",
       "    </tr>\n",
       "    <tr>\n",
       "      <th>2</th>\n",
       "      <td>kenyans wakitambua hii beer it is over for eabl</td>\n",
       "      <td>kenyans wakitambua hii beer eabl</td>\n",
       "    </tr>\n",
       "    <tr>\n",
       "      <th>3</th>\n",
       "      <td>i thought eabl products are unwanted around the mountain</td>\n",
       "      <td>thought eabl products unwanted mountain</td>\n",
       "    </tr>\n",
       "    <tr>\n",
       "      <th>6</th>\n",
       "      <td>unajua sai amafanya eabl anaweza tupea a years supply ya balozi na singleton kama yobra wewe unapepeta tutablockiwa bana</td>\n",
       "      <td>unajua sai amafanya eabl anaweza tupea years supply ya balozi na singleton kama yobra wewe unapepeta tutablockiwa bana</td>\n",
       "    </tr>\n",
       "  </tbody>\n",
       "</table>\n",
       "</div>"
      ],
      "text/plain": [
       "                                                                                                                                                                                                                                                             text  \\\n",
       "0  guys do you remember shaffie weru dj joe mfalmeneville musya was fired from home boys radio coz they warned ladies about what happened to starlet wahu pastor kanyari sizeabl got mad coz of the same if ladies listened likes of john matara couldnt be there   \n",
       "1                                                                              drilling water at kenneth matiba hospital makenji kandara gatanga near kenol kabati towns a free donation by eabl after the muranga county eabl partnership on sorghum thanks eabl   \n",
       "2                                                                                                                                                                                                                 kenyans wakitambua hii beer it is over for eabl   \n",
       "3                                                                                                                                                                                                        i thought eabl products are unwanted around the mountain   \n",
       "6                                                                                                                                        unajua sai amafanya eabl anaweza tupea a years supply ya balozi na singleton kama yobra wewe unapepeta tutablockiwa bana   \n",
       "\n",
       "                                                                                                                                                                                 clean_text  \n",
       "0  guys remember shaffie weru dj joe mfalmeneville musya fired home boys radio coz warned ladies happened starlet wahu pastor kanyari sizeabl got mad coz ladies listened likes john matara  \n",
       "1                             drilling water kenneth matiba hospital makenji kandara gatanga near kenol kabati towns free donation eabl muranga county eabl partnership sorghum thanks eabl  \n",
       "2                                                                                                                                                          kenyans wakitambua hii beer eabl  \n",
       "3                                                                                                                                                   thought eabl products unwanted mountain  \n",
       "6                                                                    unajua sai amafanya eabl anaweza tupea years supply ya balozi na singleton kama yobra wewe unapepeta tutablockiwa bana  "
      ]
     },
     "execution_count": 55,
     "metadata": {},
     "output_type": "execute_result"
    }
   ],
   "source": [
    "import contractions\n",
    "\n",
    "# Apply the contractions.fix function to the clean_tweet column\n",
    "combined_df['clean_text'] = combined_df['clean_text'].apply(contractions.fix)\n",
    "\n",
    "combined_df[['text', 'clean_text']].head()"
   ]
  },
  {
   "cell_type": "code",
   "execution_count": 56,
   "metadata": {},
   "outputs": [
    {
     "data": {
      "text/plain": [
       "0         []\n",
       "1         []\n",
       "2         []\n",
       "3         []\n",
       "6         []\n",
       "          ..\n",
       "125213    []\n",
       "125214    []\n",
       "125215    []\n",
       "125216    []\n",
       "125217    []\n",
       "Name: clean_text, Length: 64260, dtype: object"
      ]
     },
     "execution_count": 56,
     "metadata": {},
     "output_type": "execute_result"
    }
   ],
   "source": [
    "# Extract stopwords\n",
    "combined_df['clean_text'].apply(lambda x: nt.TextExtractor(x).extract_stopwords())"
   ]
  },
  {
   "cell_type": "code",
   "execution_count": 57,
   "metadata": {},
   "outputs": [
    {
     "data": {
      "text/html": [
       "<div>\n",
       "<style scoped>\n",
       "    .dataframe tbody tr th:only-of-type {\n",
       "        vertical-align: middle;\n",
       "    }\n",
       "\n",
       "    .dataframe tbody tr th {\n",
       "        vertical-align: top;\n",
       "    }\n",
       "\n",
       "    .dataframe thead th {\n",
       "        text-align: right;\n",
       "    }\n",
       "</style>\n",
       "<table border=\"1\" class=\"dataframe tex2jax_ignore\">\n",
       "  <thead>\n",
       "    <tr style=\"text-align: right;\">\n",
       "      <th></th>\n",
       "      <th>text</th>\n",
       "      <th>clean_text</th>\n",
       "    </tr>\n",
       "  </thead>\n",
       "  <tbody>\n",
       "    <tr>\n",
       "      <th>0</th>\n",
       "      <td>guys do you remember shaffie weru dj joe mfalmeneville musya was fired from home boys radio coz they warned ladies about what happened to starlet wahu pastor kanyari sizeabl got mad coz of the same if ladies listened likes of john matara couldnt be there</td>\n",
       "      <td>guys remember shaffie weru dj joe mfalmeneville musya fired home boys radio coz warned ladies happened starlet wahu pastor kanyari sizeabl got mad coz ladies listened likes john matara</td>\n",
       "    </tr>\n",
       "    <tr>\n",
       "      <th>1</th>\n",
       "      <td>drilling water at kenneth matiba hospital makenji kandara gatanga near kenol kabati towns a free donation by eabl after the muranga county eabl partnership on sorghum thanks eabl</td>\n",
       "      <td>drilling water kenneth matiba hospital makenji kandara gatanga near kenol kabati towns free donation eabl muranga county eabl partnership sorghum thanks eabl</td>\n",
       "    </tr>\n",
       "    <tr>\n",
       "      <th>2</th>\n",
       "      <td>kenyans wakitambua hii beer it is over for eabl</td>\n",
       "      <td>kenyans wakitambua hii beer eabl</td>\n",
       "    </tr>\n",
       "    <tr>\n",
       "      <th>3</th>\n",
       "      <td>i thought eabl products are unwanted around the mountain</td>\n",
       "      <td>thought eabl products unwanted mountain</td>\n",
       "    </tr>\n",
       "    <tr>\n",
       "      <th>6</th>\n",
       "      <td>unajua sai amafanya eabl anaweza tupea a years supply ya balozi na singleton kama yobra wewe unapepeta tutablockiwa bana</td>\n",
       "      <td>unajua sai amafanya eabl anaweza tupea years supply ya balozi na singleton kama yobra wewe unapepeta tutablockiwa bana</td>\n",
       "    </tr>\n",
       "  </tbody>\n",
       "</table>\n",
       "</div>"
      ],
      "text/plain": [
       "                                                                                                                                                                                                                                                             text  \\\n",
       "0  guys do you remember shaffie weru dj joe mfalmeneville musya was fired from home boys radio coz they warned ladies about what happened to starlet wahu pastor kanyari sizeabl got mad coz of the same if ladies listened likes of john matara couldnt be there   \n",
       "1                                                                              drilling water at kenneth matiba hospital makenji kandara gatanga near kenol kabati towns a free donation by eabl after the muranga county eabl partnership on sorghum thanks eabl   \n",
       "2                                                                                                                                                                                                                 kenyans wakitambua hii beer it is over for eabl   \n",
       "3                                                                                                                                                                                                        i thought eabl products are unwanted around the mountain   \n",
       "6                                                                                                                                        unajua sai amafanya eabl anaweza tupea a years supply ya balozi na singleton kama yobra wewe unapepeta tutablockiwa bana   \n",
       "\n",
       "                                                                                                                                                                                 clean_text  \n",
       "0  guys remember shaffie weru dj joe mfalmeneville musya fired home boys radio coz warned ladies happened starlet wahu pastor kanyari sizeabl got mad coz ladies listened likes john matara  \n",
       "1                             drilling water kenneth matiba hospital makenji kandara gatanga near kenol kabati towns free donation eabl muranga county eabl partnership sorghum thanks eabl  \n",
       "2                                                                                                                                                          kenyans wakitambua hii beer eabl  \n",
       "3                                                                                                                                                   thought eabl products unwanted mountain  \n",
       "6                                                                    unajua sai amafanya eabl anaweza tupea years supply ya balozi na singleton kama yobra wewe unapepeta tutablockiwa bana  "
      ]
     },
     "execution_count": 57,
     "metadata": {},
     "output_type": "execute_result"
    }
   ],
   "source": [
    "# Removing the stop words\n",
    "\n",
    "combined_df['clean_text'] = combined_df['clean_text'].apply(nfx.remove_stopwords)\n",
    "\n",
    "combined_df[['text', 'clean_text']].head()"
   ]
  },
  {
   "cell_type": "code",
   "execution_count": 58,
   "metadata": {},
   "outputs": [
    {
     "data": {
      "text/plain": [
       "0         0\n",
       "1         0\n",
       "2         0\n",
       "3         0\n",
       "6         0\n",
       "         ..\n",
       "125213    0\n",
       "125214    0\n",
       "125215    0\n",
       "125216    0\n",
       "125217    0\n",
       "Name: clean_text, Length: 64260, dtype: int64"
      ]
     },
     "execution_count": 58,
     "metadata": {},
     "output_type": "execute_result"
    }
   ],
   "source": [
    "# Noise Scan after text cleaning\n",
    "combined_df['clean_text'].apply(lambda x: nt.TextFrame(x).noise_scan()['text_noise'])"
   ]
  },
  {
   "cell_type": "markdown",
   "metadata": {},
   "source": [
    "# Language Processing (Clean Text)"
   ]
  },
  {
   "cell_type": "markdown",
   "metadata": {},
   "source": [
    "This involves Tokenization, Stemming / Lemmatization, Parts of Speech Tagging and Calculating Sentiment Based on Polarity & Subjectivity."
   ]
  },
  {
   "cell_type": "code",
   "execution_count": 59,
   "metadata": {},
   "outputs": [
    {
     "data": {
      "text/plain": [
       "'eabl paid courtesy council governors discuss sector trade counties concerns hinder overall safety revenue performance continue engage aim adding value objectives'"
      ]
     },
     "execution_count": 59,
     "metadata": {},
     "output_type": "execute_result"
    }
   ],
   "source": [
    "test_sample = combined_df['clean_text'].loc[500]\n",
    "\n",
    "test_sample"
   ]
  },
  {
   "cell_type": "code",
   "execution_count": 60,
   "metadata": {},
   "outputs": [
    {
     "data": {
      "text/plain": [
       "['eabl',\n",
       " 'paid',\n",
       " 'courtesy',\n",
       " 'council',\n",
       " 'governors',\n",
       " 'discuss',\n",
       " 'sector',\n",
       " 'trade',\n",
       " 'counties',\n",
       " 'concerns',\n",
       " 'hinder',\n",
       " 'overall',\n",
       " 'safety',\n",
       " 'revenue',\n",
       " 'performance',\n",
       " 'continue',\n",
       " 'engage',\n",
       " 'aim',\n",
       " 'adding',\n",
       " 'value',\n",
       " 'objectives']"
      ]
     },
     "execution_count": 60,
     "metadata": {},
     "output_type": "execute_result"
    }
   ],
   "source": [
    "from nltk.tokenize import RegexpTokenizer\n",
    "\n",
    "basic_token_pattern = r\"(?u)\\b\\w\\w+\\b\"\n",
    "\n",
    "tokenizer = RegexpTokenizer(basic_token_pattern)\n",
    "\n",
    "tokenizer.tokenize(test_sample)"
   ]
  },
  {
   "cell_type": "code",
   "execution_count": 61,
   "metadata": {},
   "outputs": [],
   "source": [
    "# Tokenise the clean_tweet column\n",
    "combined_df['preprocessed_text'] = combined_df['clean_text'].apply(lambda x: tokenizer.tokenize(x))"
   ]
  },
  {
   "cell_type": "code",
   "execution_count": 62,
   "metadata": {},
   "outputs": [
    {
     "data": {
      "text/plain": [
       "['soon',\n",
       " 'start',\n",
       " 'selling',\n",
       " 'water',\n",
       " 'instead',\n",
       " 'bear',\n",
       " 'new',\n",
       " 'lager',\n",
       " 'flat',\n",
       " 'hell',\n",
       " 'unakunywa',\n",
       " 'na',\n",
       " 'haishiki',\n",
       " 'hata']"
      ]
     },
     "execution_count": 62,
     "metadata": {},
     "output_type": "execute_result"
    }
   ],
   "source": [
    "combined_df.iloc[100][\"preprocessed_text\"][:20]"
   ]
  },
  {
   "cell_type": "code",
   "execution_count": 63,
   "metadata": {},
   "outputs": [
    {
     "data": {
      "text/plain": [
       "clean_text                          soon start selling water instead bear new lager flat hell unakunywa na haishiki hata\n",
       "preprocessed_text    [soon, start, selling, water, instead, bear, new, lager, flat, hell, unakunywa, na, haishiki, hata]\n",
       "Name: 111, dtype: object"
      ]
     },
     "execution_count": 63,
     "metadata": {},
     "output_type": "execute_result"
    }
   ],
   "source": [
    "combined_df[['clean_text', 'preprocessed_text']].iloc[100]"
   ]
  },
  {
   "cell_type": "markdown",
   "metadata": {},
   "source": [
    "# Lemmatization\n",
    "Lemmatization is a linguistic processing technique that involves reducing words to their base or root form, known as the lemma.The purpose of lemmatization is to standardize and simplify words, considering different inflections or variations of a word as a single base form. This aids in tasks such as text analysis, natural language processing, and information retrieval by treating related forms of a word as identical"
   ]
  },
  {
   "cell_type": "code",
   "execution_count": 64,
   "metadata": {},
   "outputs": [
    {
     "name": "stderr",
     "output_type": "stream",
     "text": [
      "[nltk_data] Downloading package wordnet to\n",
      "[nltk_data]     C:\\Users\\ADMIN\\AppData\\Roaming\\nltk_data...\n",
      "[nltk_data]   Package wordnet is already up-to-date!\n"
     ]
    },
    {
     "data": {
      "text/plain": [
       "True"
      ]
     },
     "execution_count": 64,
     "metadata": {},
     "output_type": "execute_result"
    }
   ],
   "source": [
    "import nltk\n",
    "nltk.download('wordnet')"
   ]
  },
  {
   "cell_type": "code",
   "execution_count": 65,
   "metadata": {},
   "outputs": [],
   "source": [
    "# Define a function to lemmatise the tokens\n",
    "def lemmatise_tokens(tokens):\n",
    "    lemmatizer = nltk.stem.WordNetLemmatizer()\n",
    "    lemmatized_tokens = [lemmatizer.lemmatize(token) for token in tokens]\n",
    "    return lemmatized_tokens"
   ]
  },
  {
   "cell_type": "code",
   "execution_count": 66,
   "metadata": {},
   "outputs": [
    {
     "data": {
      "text/plain": [
       "clean_text                                   tyrece lacey daniel nwauzu return eabl players week regular stars turned big way teams game week eabl campaign week nines players week\n",
       "lemma_preprocessed_text    [tyrece, lacey, daniel, nwauzu, return, eabl, player, week, regular, star, turned, big, way, team, game, week, eabl, campaign, week, nine, player, week]\n",
       "Name: 450, dtype: object"
      ]
     },
     "execution_count": 66,
     "metadata": {},
     "output_type": "execute_result"
    }
   ],
   "source": [
    "# Lemmatise the tokens\n",
    "combined_df['lemma_preprocessed_text'] = combined_df['preprocessed_text'].apply(lambda x: lemmatise_tokens(x))\n",
    "combined_df[['clean_text', 'lemma_preprocessed_text']].iloc[400]"
   ]
  },
  {
   "cell_type": "code",
   "execution_count": 67,
   "metadata": {},
   "outputs": [
    {
     "data": {
      "text/plain": [
       "clean_text                                  walai sijapitia site yao hujua wao ni senator keg solo eabl ndio nimepitia products zao utaona drink fraction\n",
       "stemma_preprocessed_text    [walai, sijapitia, site, yao, hujua, wao, ni, senat, keg, solo, eabl, ndio, nimepitia, product, zao, utaona, drink, fraction]\n",
       "Name: 864, dtype: object"
      ]
     },
     "execution_count": 67,
     "metadata": {},
     "output_type": "execute_result"
    }
   ],
   "source": [
    "# Defining a function to stem the tokens\n",
    "def stem_tokens(tokens):\n",
    "    stemmer = nltk.stem.PorterStemmer()\n",
    "    stemmed_tokens = [stemmer.stem(token) for token in tokens]\n",
    "    return stemmed_tokens\n",
    "# Stemming the tokens\n",
    "combined_df['stemma_preprocessed_text'] = combined_df['preprocessed_text'].apply(lambda x: stem_tokens(x))\n",
    "\n",
    "combined_df[['clean_text', 'stemma_preprocessed_text']].iloc[800]"
   ]
  },
  {
   "cell_type": "markdown",
   "metadata": {},
   "source": [
    "# Calculatition of Sentiments Based on Polarity & Subjectivity\n",
    "TextBlob is a Python library used for processing textual data, including sentiment analysis. It uses natural language processing (NLP) and the Natural Language Toolkit (NLTK) to achieve this task. When a sentence is passed into TextBlob, it returns two outputs: polarity and subjectivity. The polarity score is a float within the range [-1, 1], where -1 indicates a negative sentiment and 1 indicates a positive sentiment. The subjectivity score is a float within the range, where 0 is very objective and 1 is very subjective."
   ]
  },
  {
   "cell_type": "code",
   "execution_count": 69,
   "metadata": {},
   "outputs": [
    {
     "name": "stdout",
     "output_type": "stream",
     "text": [
      "Collecting textblob\n",
      "  Downloading textblob-0.17.1-py2.py3-none-any.whl (636 kB)\n",
      "     ------------------------------------ 636.8/636.8 kB 527.4 kB/s eta 0:00:00\n",
      "Requirement already satisfied: nltk>=3.1 in c:\\users\\admin\\anaconda3\\envs\\learn-env\\lib\\site-packages (from textblob) (3.5)\n",
      "Requirement already satisfied: click in c:\\users\\admin\\anaconda3\\envs\\learn-env\\lib\\site-packages (from nltk>=3.1->textblob) (7.1.2)\n",
      "Requirement already satisfied: joblib in c:\\users\\admin\\anaconda3\\envs\\learn-env\\lib\\site-packages (from nltk>=3.1->textblob) (1.3.2)\n",
      "Requirement already satisfied: regex in c:\\users\\admin\\anaconda3\\envs\\learn-env\\lib\\site-packages (from nltk>=3.1->textblob) (2020.10.15)\n",
      "Requirement already satisfied: tqdm in c:\\users\\admin\\anaconda3\\envs\\learn-env\\lib\\site-packages (from nltk>=3.1->textblob) (4.50.2)\n",
      "Installing collected packages: textblob\n",
      "Successfully installed textblob-0.17.1\n"
     ]
    }
   ],
   "source": [
    "!pip install textblob"
   ]
  },
  {
   "cell_type": "code",
   "execution_count": 70,
   "metadata": {},
   "outputs": [
    {
     "data": {
      "text/html": [
       "<div>\n",
       "<style scoped>\n",
       "    .dataframe tbody tr th:only-of-type {\n",
       "        vertical-align: middle;\n",
       "    }\n",
       "\n",
       "    .dataframe tbody tr th {\n",
       "        vertical-align: top;\n",
       "    }\n",
       "\n",
       "    .dataframe thead th {\n",
       "        text-align: right;\n",
       "    }\n",
       "</style>\n",
       "<table border=\"1\" class=\"dataframe tex2jax_ignore\">\n",
       "  <thead>\n",
       "    <tr style=\"text-align: right;\">\n",
       "      <th></th>\n",
       "      <th>clean_text</th>\n",
       "      <th>Subjectivity</th>\n",
       "      <th>Polarity</th>\n",
       "    </tr>\n",
       "  </thead>\n",
       "  <tbody>\n",
       "    <tr>\n",
       "      <th>0</th>\n",
       "      <td>guys remember shaffie weru dj joe mfalmeneville musya fired home boys radio coz warned ladies happened starlet wahu pastor kanyari sizeabl got mad coz ladies listened likes john matara</td>\n",
       "      <td>1.000000</td>\n",
       "      <td>-0.625000</td>\n",
       "    </tr>\n",
       "    <tr>\n",
       "      <th>1</th>\n",
       "      <td>drilling water kenneth matiba hospital makenji kandara gatanga near kenol kabati towns free donation eabl muranga county eabl partnership sorghum thanks eabl</td>\n",
       "      <td>0.466667</td>\n",
       "      <td>0.233333</td>\n",
       "    </tr>\n",
       "    <tr>\n",
       "      <th>2</th>\n",
       "      <td>kenyans wakitambua hii beer eabl</td>\n",
       "      <td>0.000000</td>\n",
       "      <td>0.000000</td>\n",
       "    </tr>\n",
       "    <tr>\n",
       "      <th>3</th>\n",
       "      <td>thought eabl products unwanted mountain</td>\n",
       "      <td>0.000000</td>\n",
       "      <td>0.000000</td>\n",
       "    </tr>\n",
       "    <tr>\n",
       "      <th>6</th>\n",
       "      <td>unajua sai amafanya eabl anaweza tupea years supply ya balozi na singleton kama yobra wewe unapepeta tutablockiwa bana</td>\n",
       "      <td>0.000000</td>\n",
       "      <td>0.000000</td>\n",
       "    </tr>\n",
       "  </tbody>\n",
       "</table>\n",
       "</div>"
      ],
      "text/plain": [
       "                                                                                                                                                                                 clean_text  \\\n",
       "0  guys remember shaffie weru dj joe mfalmeneville musya fired home boys radio coz warned ladies happened starlet wahu pastor kanyari sizeabl got mad coz ladies listened likes john matara   \n",
       "1                             drilling water kenneth matiba hospital makenji kandara gatanga near kenol kabati towns free donation eabl muranga county eabl partnership sorghum thanks eabl   \n",
       "2                                                                                                                                                          kenyans wakitambua hii beer eabl   \n",
       "3                                                                                                                                                   thought eabl products unwanted mountain   \n",
       "6                                                                    unajua sai amafanya eabl anaweza tupea years supply ya balozi na singleton kama yobra wewe unapepeta tutablockiwa bana   \n",
       "\n",
       "   Subjectivity  Polarity  \n",
       "0      1.000000 -0.625000  \n",
       "1      0.466667  0.233333  \n",
       "2      0.000000  0.000000  \n",
       "3      0.000000  0.000000  \n",
       "6      0.000000  0.000000  "
      ]
     },
     "execution_count": 70,
     "metadata": {},
     "output_type": "execute_result"
    }
   ],
   "source": [
    "from textblob import TextBlob\n",
    "\n",
    "# Create a function to get the subjectivity\n",
    "def getSubjectivity(text):\n",
    "  return TextBlob(text).sentiment.subjectivity\n",
    "\n",
    "# Create a function to get the polarity\n",
    "def getPolarity(text):\n",
    "  return TextBlob(text).sentiment.polarity\n",
    "\n",
    "# Create two new columns 'Subjectivity' & 'Polarity'\n",
    "combined_df['Subjectivity'] = combined_df['clean_text'].apply(getSubjectivity)\n",
    "combined_df['Polarity'] = combined_df['clean_text'].apply(getPolarity)\n",
    "\n",
    "# Show the new dataframe with columns 'Subjectivity' & 'Polarity'\n",
    "combined_df[['clean_text','Subjectivity','Polarity']].head()"
   ]
  },
  {
   "cell_type": "code",
   "execution_count": 71,
   "metadata": {},
   "outputs": [
    {
     "data": {
      "text/html": [
       "<div>\n",
       "<style scoped>\n",
       "    .dataframe tbody tr th:only-of-type {\n",
       "        vertical-align: middle;\n",
       "    }\n",
       "\n",
       "    .dataframe tbody tr th {\n",
       "        vertical-align: top;\n",
       "    }\n",
       "\n",
       "    .dataframe thead th {\n",
       "        text-align: right;\n",
       "    }\n",
       "</style>\n",
       "<table border=\"1\" class=\"dataframe tex2jax_ignore\">\n",
       "  <thead>\n",
       "    <tr style=\"text-align: right;\">\n",
       "      <th></th>\n",
       "      <th>clean_text</th>\n",
       "      <th>Subjectivity</th>\n",
       "      <th>Polarity</th>\n",
       "      <th>sentiment</th>\n",
       "    </tr>\n",
       "  </thead>\n",
       "  <tbody>\n",
       "    <tr>\n",
       "      <th>0</th>\n",
       "      <td>guys remember shaffie weru dj joe mfalmeneville musya fired home boys radio coz warned ladies happened starlet wahu pastor kanyari sizeabl got mad coz ladies listened likes john matara</td>\n",
       "      <td>1.000000</td>\n",
       "      <td>-0.625000</td>\n",
       "      <td>Negative</td>\n",
       "    </tr>\n",
       "    <tr>\n",
       "      <th>1</th>\n",
       "      <td>drilling water kenneth matiba hospital makenji kandara gatanga near kenol kabati towns free donation eabl muranga county eabl partnership sorghum thanks eabl</td>\n",
       "      <td>0.466667</td>\n",
       "      <td>0.233333</td>\n",
       "      <td>Positive</td>\n",
       "    </tr>\n",
       "    <tr>\n",
       "      <th>2</th>\n",
       "      <td>kenyans wakitambua hii beer eabl</td>\n",
       "      <td>0.000000</td>\n",
       "      <td>0.000000</td>\n",
       "      <td>Neutral</td>\n",
       "    </tr>\n",
       "    <tr>\n",
       "      <th>3</th>\n",
       "      <td>thought eabl products unwanted mountain</td>\n",
       "      <td>0.000000</td>\n",
       "      <td>0.000000</td>\n",
       "      <td>Neutral</td>\n",
       "    </tr>\n",
       "    <tr>\n",
       "      <th>6</th>\n",
       "      <td>unajua sai amafanya eabl anaweza tupea years supply ya balozi na singleton kama yobra wewe unapepeta tutablockiwa bana</td>\n",
       "      <td>0.000000</td>\n",
       "      <td>0.000000</td>\n",
       "      <td>Neutral</td>\n",
       "    </tr>\n",
       "  </tbody>\n",
       "</table>\n",
       "</div>"
      ],
      "text/plain": [
       "                                                                                                                                                                                 clean_text  \\\n",
       "0  guys remember shaffie weru dj joe mfalmeneville musya fired home boys radio coz warned ladies happened starlet wahu pastor kanyari sizeabl got mad coz ladies listened likes john matara   \n",
       "1                             drilling water kenneth matiba hospital makenji kandara gatanga near kenol kabati towns free donation eabl muranga county eabl partnership sorghum thanks eabl   \n",
       "2                                                                                                                                                          kenyans wakitambua hii beer eabl   \n",
       "3                                                                                                                                                   thought eabl products unwanted mountain   \n",
       "6                                                                    unajua sai amafanya eabl anaweza tupea years supply ya balozi na singleton kama yobra wewe unapepeta tutablockiwa bana   \n",
       "\n",
       "   Subjectivity  Polarity sentiment  \n",
       "0      1.000000 -0.625000  Negative  \n",
       "1      0.466667  0.233333  Positive  \n",
       "2      0.000000  0.000000   Neutral  \n",
       "3      0.000000  0.000000   Neutral  \n",
       "6      0.000000  0.000000   Neutral  "
      ]
     },
     "execution_count": 71,
     "metadata": {},
     "output_type": "execute_result"
    }
   ],
   "source": [
    "# Creating a function to compute the negative, positive and nuetral analysis\n",
    "def getAnalysis(score):\n",
    "  if score < 0:\n",
    "    return 'Negative'\n",
    "  elif score == 0:\n",
    "    return 'Neutral'\n",
    "  else:\n",
    "    return 'Positive'\n",
    "  \n",
    "combined_df['sentiment'] = combined_df['Polarity'].apply(getAnalysis)\n",
    "\n",
    "# Showing the dataframe\n",
    "combined_df[['clean_text','Subjectivity','Polarity','sentiment']].head()"
   ]
  },
  {
   "cell_type": "code",
   "execution_count": 72,
   "metadata": {},
   "outputs": [
    {
     "data": {
      "text/plain": [
       "sentiment\n",
       "Neutral     37427\n",
       "Positive    20020\n",
       "Negative     6813\n",
       "Name: count, dtype: int64"
      ]
     },
     "execution_count": 72,
     "metadata": {},
     "output_type": "execute_result"
    }
   ],
   "source": [
    "combined_df['sentiment'].value_counts()"
   ]
  },
  {
   "cell_type": "code",
   "execution_count": 73,
   "metadata": {},
   "outputs": [
    {
     "data": {
      "text/plain": [
       "0         [guys, remember, shaffie, weru, dj, joe, mfalmeneville, musya, fired, home, boys, radio, coz, warned, ladies, happened, starlet, wahu, pastor, kanyari, sizeabl, got, mad, coz, ladies, listened, likes, john, matara]\n",
       "1                                           [drilling, water, kenneth, matiba, hospital, makenji, kandara, gatanga, near, kenol, kabati, towns, free, donation, eabl, muranga, county, eabl, partnership, sorghum, thanks, eabl]\n",
       "2                                                                                                                                                                                         [kenyans, wakitambua, hii, beer, eabl]\n",
       "3                                                                                                                                                                                  [thought, eabl, products, unwanted, mountain]\n",
       "6                                                                                      [unajua, sai, amafanya, eabl, anaweza, tupea, years, supply, ya, balozi, na, singleton, kama, yobra, wewe, unapepeta, tutablockiwa, bana]\n",
       "                                                                                                                   ...                                                                                                          \n",
       "125213                                                                                                                                                                               [alcohol, sold, people, age, 18, chromegin]\n",
       "125214                                                                                                                                             [drinks, deserve, seat, rest, crew, fit, na, kwa, boot, got, safe, chromegin]\n",
       "125215                                                                                                                                                                                                [750ml, ksh600, chromegin]\n",
       "125216                                                                                                                                                                                                    [enjoyment, chromegin]\n",
       "125217                                                                                                                                     [zinapiga, boomerang, tu, hapa, zikingoja, maji, ichemke, tuanze, sherehe, chromegin]\n",
       "Name: preprocessed_text, Length: 64260, dtype: object"
      ]
     },
     "execution_count": 73,
     "metadata": {},
     "output_type": "execute_result"
    }
   ],
   "source": [
    "#previewing our processed text\n",
    "combined_df['preprocessed_text']"
   ]
  },
  {
   "cell_type": "code",
   "execution_count": 74,
   "metadata": {},
   "outputs": [
    {
     "data": {
      "text/plain": [
       "0         guys remember shaffie weru dj joe mfalmeneville musya fired home boys radio coz warned ladies happened starlet wahu pastor kanyari sizeabl got mad coz ladies listened likes john matara\n",
       "1                                    drilling water kenneth matiba hospital makenji kandara gatanga near kenol kabati towns free donation eabl muranga county eabl partnership sorghum thanks eabl\n",
       "2                                                                                                                                                                 kenyans wakitambua hii beer eabl\n",
       "3                                                                                                                                                          thought eabl products unwanted mountain\n",
       "6                                                                           unajua sai amafanya eabl anaweza tupea years supply ya balozi na singleton kama yobra wewe unapepeta tutablockiwa bana\n",
       "                                                                                                    ...                                                                                           \n",
       "125213                                                                                                                                                        alcohol sold people age 18 chromegin\n",
       "125214                                                                                                                            drinks deserve seat rest crew fit na kwa boot got safe chromegin\n",
       "125215                                                                                                                                                                      750ml ksh600 chromegin\n",
       "125216                                                                                                                                                                         enjoyment chromegin\n",
       "125217                                                                                                                  zinapiga boomerang tu hapa zikingoja maji ichemke tuanze sherehe chromegin\n",
       "Name: preprocessed_text, Length: 64260, dtype: object"
      ]
     },
     "execution_count": 74,
     "metadata": {},
     "output_type": "execute_result"
    }
   ],
   "source": [
    "#previewing the processed data\n",
    "combined_df['lemma_preprocessed_text'] = combined_df['lemma_preprocessed_text'].apply(lambda x: ' '.join(x))\n",
    "\n",
    "combined_df['stemma_preprocessed_text'] = combined_df['stemma_preprocessed_text'].apply(lambda x: ' '.join(x))\n",
    "\n",
    "combined_df['preprocessed_text'] = combined_df['preprocessed_text'].apply(lambda x: ' '.join(x))\n",
    "\n",
    "combined_df['preprocessed_text']\n"
   ]
  },
  {
   "cell_type": "code",
   "execution_count": 75,
   "metadata": {},
   "outputs": [
    {
     "name": "stdout",
     "output_type": "stream",
     "text": [
      "<class 'pandas.core.frame.DataFrame'>\n",
      "Index: 64260 entries, 0 to 125217\n",
      "Data columns (total 20 columns):\n",
      " #   Column                    Non-Null Count  Dtype  \n",
      "---  ------                    --------------  -----  \n",
      " 0   text                      64260 non-null  object \n",
      " 1   sentiment                 64260 non-null  object \n",
      " 2   comments                  64260 non-null  int64  \n",
      " 3   retweets                  64260 non-null  int64  \n",
      " 4   quotes                    64260 non-null  int64  \n",
      " 5   likes                     64260 non-null  int64  \n",
      " 6   length                    64260 non-null  int64  \n",
      " 7   day(month)                63991 non-null  float64\n",
      " 8   year                      63991 non-null  float64\n",
      " 9   hour                      63991 non-null  float64\n",
      " 10  day(week)                 63991 non-null  object \n",
      " 11  month                     63991 non-null  object \n",
      " 12  total_engagement          64260 non-null  int64  \n",
      " 13  weekday/end               64260 non-null  object \n",
      " 14  clean_text                64260 non-null  object \n",
      " 15  preprocessed_text         64260 non-null  object \n",
      " 16  lemma_preprocessed_text   64260 non-null  object \n",
      " 17  stemma_preprocessed_text  64260 non-null  object \n",
      " 18  Subjectivity              64260 non-null  float64\n",
      " 19  Polarity                  64260 non-null  float64\n",
      "dtypes: float64(5), int64(6), object(9)\n",
      "memory usage: 12.3+ MB\n"
     ]
    }
   ],
   "source": [
    "#checking more information of the processed dataset\n",
    "combined_df.info()"
   ]
  },
  {
   "cell_type": "code",
   "execution_count": 76,
   "metadata": {},
   "outputs": [],
   "source": [
    "# save the dataframe to csv using the name 'interim_data.csv' fo the data folder\n",
    "combined_df.to_csv('Processed_data.csv', index=False)"
   ]
  },
  {
   "cell_type": "markdown",
   "metadata": {},
   "source": [
    "# Exploratory Data Analysis\n",
    "Exploratory Data Analysis involves conducting preliminary examinations of data to unveil hidden patterns, validate hypotheses, and pinpoint anomalies. This method empowers us to extract insights from the data that extend beyond the confines of formal modeling or hypothesis testing, providing a comprehensive understanding of the information at hand."
   ]
  },
  {
   "cell_type": "code",
   "execution_count": 77,
   "metadata": {},
   "outputs": [
    {
     "data": {
      "text/html": [
       "<div>\n",
       "<style scoped>\n",
       "    .dataframe tbody tr th:only-of-type {\n",
       "        vertical-align: middle;\n",
       "    }\n",
       "\n",
       "    .dataframe tbody tr th {\n",
       "        vertical-align: top;\n",
       "    }\n",
       "\n",
       "    .dataframe thead th {\n",
       "        text-align: right;\n",
       "    }\n",
       "</style>\n",
       "<table border=\"1\" class=\"dataframe tex2jax_ignore\">\n",
       "  <thead>\n",
       "    <tr style=\"text-align: right;\">\n",
       "      <th></th>\n",
       "      <th>text</th>\n",
       "      <th>sentiment</th>\n",
       "      <th>comments</th>\n",
       "      <th>retweets</th>\n",
       "      <th>quotes</th>\n",
       "      <th>likes</th>\n",
       "      <th>length</th>\n",
       "      <th>day(month)</th>\n",
       "      <th>year</th>\n",
       "      <th>hour</th>\n",
       "      <th>day(week)</th>\n",
       "      <th>month</th>\n",
       "      <th>total_engagement</th>\n",
       "      <th>weekday/end</th>\n",
       "      <th>clean_text</th>\n",
       "      <th>preprocessed_text</th>\n",
       "      <th>lemma_preprocessed_text</th>\n",
       "      <th>stemma_preprocessed_text</th>\n",
       "      <th>Subjectivity</th>\n",
       "      <th>Polarity</th>\n",
       "    </tr>\n",
       "  </thead>\n",
       "  <tbody>\n",
       "    <tr>\n",
       "      <th>40250</th>\n",
       "      <td>ad is organising mixed berry pinknic at absa grounds on 28012023 from 3pm till late dress code is mixedforvibes opengoodtimes all tickets from the barcom are redeemable as follows buy 1 350ml gilbeys mixed berries on kethebarcom</td>\n",
       "      <td>Negative</td>\n",
       "      <td>3</td>\n",
       "      <td>8</td>\n",
       "      <td>2</td>\n",
       "      <td>7</td>\n",
       "      <td>37</td>\n",
       "      <td>24.0</td>\n",
       "      <td>2023.0</td>\n",
       "      <td>11.0</td>\n",
       "      <td>Tuesday</td>\n",
       "      <td>January</td>\n",
       "      <td>20</td>\n",
       "      <td>Weekday</td>\n",
       "      <td>ad organising mixed berry pinknic absa grounds 28012023 3pm till late dress code mixedforvibes opengoodtimes tickets barcom redeemable follows buy 1 350ml gilbeys mixed berries kethebarcom</td>\n",
       "      <td>ad organising mixed berry pinknic absa grounds 28012023 3pm till late dress code mixedforvibes opengoodtimes tickets barcom redeemable follows buy 350ml gilbeys mixed berries kethebarcom</td>\n",
       "      <td>ad organising mixed berry pinknic absa ground 28012023 3pm till late dress code mixedforvibes opengoodtimes ticket barcom redeemable follows buy 350ml gilbeys mixed berry kethebarcom</td>\n",
       "      <td>ad organis mix berri pinknic absa ground 28012023 3pm till late dress code mixedforvib opengoodtim ticket barcom redeem follow buy 350ml gilbey mix berri kethebarcom</td>\n",
       "      <td>0.366667</td>\n",
       "      <td>-0.1</td>\n",
       "    </tr>\n",
       "  </tbody>\n",
       "</table>\n",
       "</div>"
      ],
      "text/plain": [
       "                                                                                                                                                                                                                                       text  \\\n",
       "40250  ad is organising mixed berry pinknic at absa grounds on 28012023 from 3pm till late dress code is mixedforvibes opengoodtimes all tickets from the barcom are redeemable as follows buy 1 350ml gilbeys mixed berries on kethebarcom   \n",
       "\n",
       "      sentiment  comments  retweets  quotes  likes  length  day(month)  \\\n",
       "40250  Negative         3         8       2      7      37        24.0   \n",
       "\n",
       "         year  hour day(week)    month  total_engagement weekday/end  \\\n",
       "40250  2023.0  11.0   Tuesday  January                20     Weekday   \n",
       "\n",
       "                                                                                                                                                                                         clean_text  \\\n",
       "40250  ad organising mixed berry pinknic absa grounds 28012023 3pm till late dress code mixedforvibes opengoodtimes tickets barcom redeemable follows buy 1 350ml gilbeys mixed berries kethebarcom   \n",
       "\n",
       "                                                                                                                                                                                preprocessed_text  \\\n",
       "40250  ad organising mixed berry pinknic absa grounds 28012023 3pm till late dress code mixedforvibes opengoodtimes tickets barcom redeemable follows buy 350ml gilbeys mixed berries kethebarcom   \n",
       "\n",
       "                                                                                                                                                                      lemma_preprocessed_text  \\\n",
       "40250  ad organising mixed berry pinknic absa ground 28012023 3pm till late dress code mixedforvibes opengoodtimes ticket barcom redeemable follows buy 350ml gilbeys mixed berry kethebarcom   \n",
       "\n",
       "                                                                                                                                                    stemma_preprocessed_text  \\\n",
       "40250  ad organis mix berri pinknic absa ground 28012023 3pm till late dress code mixedforvib opengoodtim ticket barcom redeem follow buy 350ml gilbey mix berri kethebarcom   \n",
       "\n",
       "       Subjectivity  Polarity  \n",
       "40250      0.366667      -0.1  "
      ]
     },
     "execution_count": 77,
     "metadata": {},
     "output_type": "execute_result"
    }
   ],
   "source": [
    "Processed_df = pd.read_csv('Processed_data.csv')\n",
    "\n",
    "Processed_df.sample()"
   ]
  },
  {
   "cell_type": "code",
   "execution_count": 78,
   "metadata": {},
   "outputs": [
    {
     "data": {
      "text/plain": [
       "(64260, 20)"
      ]
     },
     "execution_count": 78,
     "metadata": {},
     "output_type": "execute_result"
    }
   ],
   "source": [
    "#checking for shape\n",
    "Processed_df.shape"
   ]
  },
  {
   "cell_type": "code",
   "execution_count": 79,
   "metadata": {},
   "outputs": [
    {
     "data": {
      "text/plain": [
       "text                          0\n",
       "sentiment                     0\n",
       "comments                      0\n",
       "retweets                      0\n",
       "quotes                        0\n",
       "likes                         0\n",
       "length                        0\n",
       "day(month)                  269\n",
       "year                        269\n",
       "hour                        269\n",
       "day(week)                   269\n",
       "month                       269\n",
       "total_engagement              0\n",
       "weekday/end                   0\n",
       "clean_text                  224\n",
       "preprocessed_text           230\n",
       "lemma_preprocessed_text     230\n",
       "stemma_preprocessed_text    230\n",
       "Subjectivity                  0\n",
       "Polarity                      0\n",
       "dtype: int64"
      ]
     },
     "execution_count": 79,
     "metadata": {},
     "output_type": "execute_result"
    }
   ],
   "source": [
    "#Checking for missing values\n",
    "Processed_df.isna().sum()"
   ]
  },
  {
   "cell_type": "markdown",
   "metadata": {},
   "source": [
    "We note that we have some missing values in our dataset. We chose to drop them since we won't be losing a good chunk of data."
   ]
  },
  {
   "cell_type": "code",
   "execution_count": 80,
   "metadata": {},
   "outputs": [
    {
     "data": {
      "text/plain": [
       "text                        0\n",
       "sentiment                   0\n",
       "comments                    0\n",
       "retweets                    0\n",
       "quotes                      0\n",
       "likes                       0\n",
       "length                      0\n",
       "day(month)                  0\n",
       "year                        0\n",
       "hour                        0\n",
       "day(week)                   0\n",
       "month                       0\n",
       "total_engagement            0\n",
       "weekday/end                 0\n",
       "clean_text                  0\n",
       "preprocessed_text           0\n",
       "lemma_preprocessed_text     0\n",
       "stemma_preprocessed_text    0\n",
       "Subjectivity                0\n",
       "Polarity                    0\n",
       "dtype: int64"
      ]
     },
     "execution_count": 80,
     "metadata": {},
     "output_type": "execute_result"
    }
   ],
   "source": [
    "# drop the null values\n",
    "Processed_df.dropna(inplace=True)\n",
    "Processed_df.isna().sum()"
   ]
  },
  {
   "cell_type": "code",
   "execution_count": 81,
   "metadata": {},
   "outputs": [
    {
     "data": {
      "text/plain": [
       "sentiment\n",
       "Neutral     37079\n",
       "Positive    19903\n",
       "Negative     6779\n",
       "Name: count, dtype: int64"
      ]
     },
     "execution_count": 81,
     "metadata": {},
     "output_type": "execute_result"
    }
   ],
   "source": [
    "Processed_df['sentiment'].value_counts()"
   ]
  },
  {
   "cell_type": "code",
   "execution_count": 82,
   "metadata": {},
   "outputs": [
    {
     "data": {
      "image/png": "[encoded data removed]",
      "text/plain": [
       "<Figure size 1440x576 with 1 Axes>"
      ]
     },
     "metadata": {},
     "output_type": "display_data"
    }
   ],
   "source": [
    "#Distribution of Sentiments\n",
    "plt.figure(figsize=(20,8))     #width and height\n",
    "sns.countplot(x='sentiment',data=combined_df, palette = 'inferno', linewidth=2, edgecolor='black')\n",
    "plt.title(\"Distibution of the Sentiment Analysis\")\n",
    "plt.xlabel('Sentiment')\n",
    "plt.ylabel('Frequency')\n",
    "\n",
    "# Add annotations to plot\n",
    "for p in plt.gca().patches:\n",
    "    plt.gca().annotate(p.get_height(), \n",
    "                       (p.get_x()+p.get_width()/2., \n",
    "                        p.get_height()), ha='center', \n",
    "                        va='center', xytext=(0, 10), \n",
    "                        textcoords='offset points', \n",
    "                        fontsize=12, color='black',\n",
    "                          weight='bold')"
   ]
  },
  {
   "cell_type": "code",
   "execution_count": 83,
   "metadata": {},
   "outputs": [
    {
     "data": {
      "image/png": "[encoded data removed]",
      "text/plain": [
       "<Figure size 864x576 with 4 Axes>"
      ]
     },
     "metadata": {},
     "output_type": "display_data"
    }
   ],
   "source": [
    "# Checking for Distribution of Engagement\n",
    "engagement_metrics = ['comments', 'retweets', 'quotes', 'likes']\n",
    "combined_df[engagement_metrics].hist(figsize=(12, 8), bins=2)\n",
    "plt.suptitle('Distribution of Engagement Metrics', y=1.02)\n",
    "plt.show()"
   ]
  },
  {
   "cell_type": "code",
   "execution_count": 84,
   "metadata": {},
   "outputs": [
    {
     "data": {
      "image/png": "[encoded data removed]",
      "text/plain": [
       "<Figure size 1080x720 with 12 Axes>"
      ]
     },
     "metadata": {},
     "output_type": "display_data"
    }
   ],
   "source": [
    "# Distribution of numerical columns\n",
    "combined_df.hist(bins=20, figsize=(15, 10))\n",
    "plt.suptitle('Histograms of Numerical Columns', y=0.92)\n",
    "plt.show()"
   ]
  },
  {
   "cell_type": "code",
   "execution_count": 85,
   "metadata": {},
   "outputs": [
    {
     "ename": "ValueError",
     "evalue": "could not convert string to float: 'Sunday'",
     "output_type": "error",
     "traceback": [
      "\u001b[1;31m---------------------------------------------------------------------------\u001b[0m",
      "\u001b[1;31mValueError\u001b[0m                                Traceback (most recent call last)",
      "\u001b[1;32m<ipython-input-85-7965f23a2c57>\u001b[0m in \u001b[0;36m<module>\u001b[1;34m\u001b[0m\n\u001b[0;32m      1\u001b[0m \u001b[1;31m# Correlation matrix\u001b[0m\u001b[1;33m\u001b[0m\u001b[1;33m\u001b[0m\u001b[1;33m\u001b[0m\u001b[0m\n\u001b[1;32m----> 2\u001b[1;33m \u001b[0mcorr_matrix\u001b[0m \u001b[1;33m=\u001b[0m \u001b[0mcombined_df\u001b[0m\u001b[1;33m.\u001b[0m\u001b[0mcorr\u001b[0m\u001b[1;33m(\u001b[0m\u001b[1;33m)\u001b[0m\u001b[1;33m\u001b[0m\u001b[1;33m\u001b[0m\u001b[0m\n\u001b[0m\u001b[0;32m      3\u001b[0m \u001b[0msns\u001b[0m\u001b[1;33m.\u001b[0m\u001b[0mheatmap\u001b[0m\u001b[1;33m(\u001b[0m\u001b[0mcorr_matrix\u001b[0m\u001b[1;33m,\u001b[0m \u001b[0mannot\u001b[0m\u001b[1;33m=\u001b[0m\u001b[1;32mTrue\u001b[0m\u001b[1;33m,\u001b[0m \u001b[0mcmap\u001b[0m\u001b[1;33m=\u001b[0m\u001b[1;34m'coolwarm'\u001b[0m\u001b[1;33m,\u001b[0m \u001b[0mfmt\u001b[0m\u001b[1;33m=\u001b[0m\u001b[1;34m'.2f'\u001b[0m\u001b[1;33m,\u001b[0m \u001b[0mlinewidths\u001b[0m\u001b[1;33m=\u001b[0m\u001b[1;36m0.5\u001b[0m\u001b[1;33m)\u001b[0m\u001b[1;33m\u001b[0m\u001b[1;33m\u001b[0m\u001b[0m\n\u001b[0;32m      4\u001b[0m \u001b[0mplt\u001b[0m\u001b[1;33m.\u001b[0m\u001b[0mtitle\u001b[0m\u001b[1;33m(\u001b[0m\u001b[1;34m'Correlation Matrix'\u001b[0m\u001b[1;33m)\u001b[0m\u001b[1;33m\u001b[0m\u001b[1;33m\u001b[0m\u001b[0m\n\u001b[0;32m      5\u001b[0m \u001b[0mplt\u001b[0m\u001b[1;33m.\u001b[0m\u001b[0mshow\u001b[0m\u001b[1;33m(\u001b[0m\u001b[1;33m)\u001b[0m\u001b[1;33m\u001b[0m\u001b[1;33m\u001b[0m\u001b[0m\n",
      "\u001b[1;32m~\\anaconda3\\envs\\learn-env\\lib\\site-packages\\pandas\\core\\frame.py\u001b[0m in \u001b[0;36mcorr\u001b[1;34m(self, method, min_periods, numeric_only)\u001b[0m\n\u001b[0;32m  10052\u001b[0m         \u001b[0mcols\u001b[0m \u001b[1;33m=\u001b[0m \u001b[0mdata\u001b[0m\u001b[1;33m.\u001b[0m\u001b[0mcolumns\u001b[0m\u001b[1;33m\u001b[0m\u001b[1;33m\u001b[0m\u001b[0m\n\u001b[0;32m  10053\u001b[0m         \u001b[0midx\u001b[0m \u001b[1;33m=\u001b[0m \u001b[0mcols\u001b[0m\u001b[1;33m.\u001b[0m\u001b[0mcopy\u001b[0m\u001b[1;33m(\u001b[0m\u001b[1;33m)\u001b[0m\u001b[1;33m\u001b[0m\u001b[1;33m\u001b[0m\u001b[0m\n\u001b[1;32m> 10054\u001b[1;33m         \u001b[0mmat\u001b[0m \u001b[1;33m=\u001b[0m \u001b[0mdata\u001b[0m\u001b[1;33m.\u001b[0m\u001b[0mto_numpy\u001b[0m\u001b[1;33m(\u001b[0m\u001b[0mdtype\u001b[0m\u001b[1;33m=\u001b[0m\u001b[0mfloat\u001b[0m\u001b[1;33m,\u001b[0m \u001b[0mna_value\u001b[0m\u001b[1;33m=\u001b[0m\u001b[0mnp\u001b[0m\u001b[1;33m.\u001b[0m\u001b[0mnan\u001b[0m\u001b[1;33m,\u001b[0m \u001b[0mcopy\u001b[0m\u001b[1;33m=\u001b[0m\u001b[1;32mFalse\u001b[0m\u001b[1;33m)\u001b[0m\u001b[1;33m\u001b[0m\u001b[1;33m\u001b[0m\u001b[0m\n\u001b[0m\u001b[0;32m  10055\u001b[0m \u001b[1;33m\u001b[0m\u001b[0m\n\u001b[0;32m  10056\u001b[0m         \u001b[1;32mif\u001b[0m \u001b[0mmethod\u001b[0m \u001b[1;33m==\u001b[0m \u001b[1;34m\"pearson\"\u001b[0m\u001b[1;33m:\u001b[0m\u001b[1;33m\u001b[0m\u001b[1;33m\u001b[0m\u001b[0m\n",
      "\u001b[1;32m~\\anaconda3\\envs\\learn-env\\lib\\site-packages\\pandas\\core\\frame.py\u001b[0m in \u001b[0;36mto_numpy\u001b[1;34m(self, dtype, copy, na_value)\u001b[0m\n\u001b[0;32m   1836\u001b[0m         \u001b[1;32mif\u001b[0m \u001b[0mdtype\u001b[0m \u001b[1;32mis\u001b[0m \u001b[1;32mnot\u001b[0m \u001b[1;32mNone\u001b[0m\u001b[1;33m:\u001b[0m\u001b[1;33m\u001b[0m\u001b[1;33m\u001b[0m\u001b[0m\n\u001b[0;32m   1837\u001b[0m             \u001b[0mdtype\u001b[0m \u001b[1;33m=\u001b[0m \u001b[0mnp\u001b[0m\u001b[1;33m.\u001b[0m\u001b[0mdtype\u001b[0m\u001b[1;33m(\u001b[0m\u001b[0mdtype\u001b[0m\u001b[1;33m)\u001b[0m\u001b[1;33m\u001b[0m\u001b[1;33m\u001b[0m\u001b[0m\n\u001b[1;32m-> 1838\u001b[1;33m         \u001b[0mresult\u001b[0m \u001b[1;33m=\u001b[0m \u001b[0mself\u001b[0m\u001b[1;33m.\u001b[0m\u001b[0m_mgr\u001b[0m\u001b[1;33m.\u001b[0m\u001b[0mas_array\u001b[0m\u001b[1;33m(\u001b[0m\u001b[0mdtype\u001b[0m\u001b[1;33m=\u001b[0m\u001b[0mdtype\u001b[0m\u001b[1;33m,\u001b[0m \u001b[0mcopy\u001b[0m\u001b[1;33m=\u001b[0m\u001b[0mcopy\u001b[0m\u001b[1;33m,\u001b[0m \u001b[0mna_value\u001b[0m\u001b[1;33m=\u001b[0m\u001b[0mna_value\u001b[0m\u001b[1;33m)\u001b[0m\u001b[1;33m\u001b[0m\u001b[1;33m\u001b[0m\u001b[0m\n\u001b[0m\u001b[0;32m   1839\u001b[0m         \u001b[1;32mif\u001b[0m \u001b[0mresult\u001b[0m\u001b[1;33m.\u001b[0m\u001b[0mdtype\u001b[0m \u001b[1;32mis\u001b[0m \u001b[1;32mnot\u001b[0m \u001b[0mdtype\u001b[0m\u001b[1;33m:\u001b[0m\u001b[1;33m\u001b[0m\u001b[1;33m\u001b[0m\u001b[0m\n\u001b[0;32m   1840\u001b[0m             \u001b[0mresult\u001b[0m \u001b[1;33m=\u001b[0m \u001b[0mnp\u001b[0m\u001b[1;33m.\u001b[0m\u001b[0marray\u001b[0m\u001b[1;33m(\u001b[0m\u001b[0mresult\u001b[0m\u001b[1;33m,\u001b[0m \u001b[0mdtype\u001b[0m\u001b[1;33m=\u001b[0m\u001b[0mdtype\u001b[0m\u001b[1;33m,\u001b[0m \u001b[0mcopy\u001b[0m\u001b[1;33m=\u001b[0m\u001b[1;32mFalse\u001b[0m\u001b[1;33m)\u001b[0m\u001b[1;33m\u001b[0m\u001b[1;33m\u001b[0m\u001b[0m\n",
      "\u001b[1;32m~\\anaconda3\\envs\\learn-env\\lib\\site-packages\\pandas\\core\\internals\\managers.py\u001b[0m in \u001b[0;36mas_array\u001b[1;34m(self, dtype, copy, na_value)\u001b[0m\n\u001b[0;32m   1730\u001b[0m                 \u001b[0marr\u001b[0m\u001b[1;33m.\u001b[0m\u001b[0mflags\u001b[0m\u001b[1;33m.\u001b[0m\u001b[0mwriteable\u001b[0m \u001b[1;33m=\u001b[0m \u001b[1;32mFalse\u001b[0m\u001b[1;33m\u001b[0m\u001b[1;33m\u001b[0m\u001b[0m\n\u001b[0;32m   1731\u001b[0m         \u001b[1;32melse\u001b[0m\u001b[1;33m:\u001b[0m\u001b[1;33m\u001b[0m\u001b[1;33m\u001b[0m\u001b[0m\n\u001b[1;32m-> 1732\u001b[1;33m             \u001b[0marr\u001b[0m \u001b[1;33m=\u001b[0m \u001b[0mself\u001b[0m\u001b[1;33m.\u001b[0m\u001b[0m_interleave\u001b[0m\u001b[1;33m(\u001b[0m\u001b[0mdtype\u001b[0m\u001b[1;33m=\u001b[0m\u001b[0mdtype\u001b[0m\u001b[1;33m,\u001b[0m \u001b[0mna_value\u001b[0m\u001b[1;33m=\u001b[0m\u001b[0mna_value\u001b[0m\u001b[1;33m)\u001b[0m\u001b[1;33m\u001b[0m\u001b[1;33m\u001b[0m\u001b[0m\n\u001b[0m\u001b[0;32m   1733\u001b[0m             \u001b[1;31m# The underlying data was copied within _interleave, so no need\u001b[0m\u001b[1;33m\u001b[0m\u001b[1;33m\u001b[0m\u001b[1;33m\u001b[0m\u001b[0m\n\u001b[0;32m   1734\u001b[0m             \u001b[1;31m# to further copy if copy=True or setting na_value\u001b[0m\u001b[1;33m\u001b[0m\u001b[1;33m\u001b[0m\u001b[1;33m\u001b[0m\u001b[0m\n",
      "\u001b[1;32m~\\anaconda3\\envs\\learn-env\\lib\\site-packages\\pandas\\core\\internals\\managers.py\u001b[0m in \u001b[0;36m_interleave\u001b[1;34m(self, dtype, na_value)\u001b[0m\n\u001b[0;32m   1792\u001b[0m             \u001b[1;32melse\u001b[0m\u001b[1;33m:\u001b[0m\u001b[1;33m\u001b[0m\u001b[1;33m\u001b[0m\u001b[0m\n\u001b[0;32m   1793\u001b[0m                 \u001b[0marr\u001b[0m \u001b[1;33m=\u001b[0m \u001b[0mblk\u001b[0m\u001b[1;33m.\u001b[0m\u001b[0mget_values\u001b[0m\u001b[1;33m(\u001b[0m\u001b[0mdtype\u001b[0m\u001b[1;33m)\u001b[0m\u001b[1;33m\u001b[0m\u001b[1;33m\u001b[0m\u001b[0m\n\u001b[1;32m-> 1794\u001b[1;33m             \u001b[0mresult\u001b[0m\u001b[1;33m[\u001b[0m\u001b[0mrl\u001b[0m\u001b[1;33m.\u001b[0m\u001b[0mindexer\u001b[0m\u001b[1;33m]\u001b[0m \u001b[1;33m=\u001b[0m \u001b[0marr\u001b[0m\u001b[1;33m\u001b[0m\u001b[1;33m\u001b[0m\u001b[0m\n\u001b[0m\u001b[0;32m   1795\u001b[0m             \u001b[0mitemmask\u001b[0m\u001b[1;33m[\u001b[0m\u001b[0mrl\u001b[0m\u001b[1;33m.\u001b[0m\u001b[0mindexer\u001b[0m\u001b[1;33m]\u001b[0m \u001b[1;33m=\u001b[0m \u001b[1;36m1\u001b[0m\u001b[1;33m\u001b[0m\u001b[1;33m\u001b[0m\u001b[0m\n\u001b[0;32m   1796\u001b[0m \u001b[1;33m\u001b[0m\u001b[0m\n",
      "\u001b[1;31mValueError\u001b[0m: could not convert string to float: 'Sunday'"
     ]
    }
   ],
   "source": [
    "# Correlation matrix\n",
    "corr_matrix = combined_df.corr()\n",
    "sns.heatmap(corr_matrix, annot=True, cmap='coolwarm', fmt='.2f', linewidths=0.5)\n",
    "plt.title('Correlation Matrix')\n",
    "plt.show()"
   ]
  },
  {
   "cell_type": "code",
   "execution_count": 102,
   "metadata": {},
   "outputs": [
    {
     "name": "stdout",
     "output_type": "stream",
     "text": [
      "Requirement already satisfied: jinja2 in c:\\users\\admin\\anaconda3\\envs\\learn-env\\lib\\site-packages (3.1.3)\n",
      "Requirement already satisfied: MarkupSafe>=2.0 in c:\\users\\admin\\anaconda3\\envs\\learn-env\\lib\\site-packages (from jinja2) (2.1.4)\n"
     ]
    }
   ],
   "source": [
    "!pip install jinja2 --upgrade"
   ]
  },
  {
   "cell_type": "code",
   "execution_count": 101,
   "metadata": {},
   "outputs": [
    {
     "ename": "ImportError",
     "evalue": "Pandas requires version '3.0.0' or newer of 'jinja2' (version '2.11.2' currently installed).",
     "output_type": "error",
     "traceback": [
      "\u001b[1;31m---------------------------------------------------------------------------\u001b[0m",
      "\u001b[1;31mImportError\u001b[0m                               Traceback (most recent call last)",
      "\u001b[1;32m<ipython-input-101-943cf55ccf78>\u001b[0m in \u001b[0;36m<module>\u001b[1;34m\u001b[0m\n\u001b[0;32m      3\u001b[0m \u001b[0mtemp\u001b[0m \u001b[1;33m=\u001b[0m \u001b[0mpd\u001b[0m\u001b[1;33m.\u001b[0m\u001b[0mDataFrame\u001b[0m\u001b[1;33m(\u001b[0m\u001b[0mtop\u001b[0m\u001b[1;33m.\u001b[0m\u001b[0mmost_common\u001b[0m\u001b[1;33m(\u001b[0m\u001b[1;36m10\u001b[0m\u001b[1;33m)\u001b[0m\u001b[1;33m)\u001b[0m\u001b[1;33m\u001b[0m\u001b[1;33m\u001b[0m\u001b[0m\n\u001b[0;32m      4\u001b[0m \u001b[0mtemp\u001b[0m\u001b[1;33m.\u001b[0m\u001b[0mcolumns\u001b[0m \u001b[1;33m=\u001b[0m \u001b[1;33m[\u001b[0m\u001b[1;34m'Common_words'\u001b[0m\u001b[1;33m,\u001b[0m\u001b[1;34m'count'\u001b[0m\u001b[1;33m]\u001b[0m\u001b[1;33m\u001b[0m\u001b[1;33m\u001b[0m\u001b[0m\n\u001b[1;32m----> 5\u001b[1;33m \u001b[0mtemp\u001b[0m\u001b[1;33m.\u001b[0m\u001b[0mstyle\u001b[0m\u001b[1;33m.\u001b[0m\u001b[0mbackground_gradient\u001b[0m\u001b[1;33m(\u001b[0m\u001b[0mcmap\u001b[0m\u001b[1;33m=\u001b[0m\u001b[1;34m'Blues'\u001b[0m\u001b[1;33m)\u001b[0m\u001b[1;33m\u001b[0m\u001b[1;33m\u001b[0m\u001b[0m\n\u001b[0m",
      "\u001b[1;32m~\\anaconda3\\envs\\learn-env\\lib\\site-packages\\pandas\\core\\frame.py\u001b[0m in \u001b[0;36mstyle\u001b[1;34m(self)\u001b[0m\n\u001b[0;32m   1289\u001b[0m             \u001b[0mdata\u001b[0m \u001b[1;32mwith\u001b[0m \u001b[0mHTML\u001b[0m \u001b[1;32mand\u001b[0m \u001b[0mCSS\u001b[0m\u001b[1;33m.\u001b[0m\u001b[1;33m\u001b[0m\u001b[1;33m\u001b[0m\u001b[0m\n\u001b[0;32m   1290\u001b[0m         \"\"\"\n\u001b[1;32m-> 1291\u001b[1;33m         \u001b[1;32mfrom\u001b[0m \u001b[0mpandas\u001b[0m\u001b[1;33m.\u001b[0m\u001b[0mio\u001b[0m\u001b[1;33m.\u001b[0m\u001b[0mformats\u001b[0m\u001b[1;33m.\u001b[0m\u001b[0mstyle\u001b[0m \u001b[1;32mimport\u001b[0m \u001b[0mStyler\u001b[0m\u001b[1;33m\u001b[0m\u001b[1;33m\u001b[0m\u001b[0m\n\u001b[0m\u001b[0;32m   1292\u001b[0m \u001b[1;33m\u001b[0m\u001b[0m\n\u001b[0;32m   1293\u001b[0m         \u001b[1;32mreturn\u001b[0m \u001b[0mStyler\u001b[0m\u001b[1;33m(\u001b[0m\u001b[0mself\u001b[0m\u001b[1;33m)\u001b[0m\u001b[1;33m\u001b[0m\u001b[1;33m\u001b[0m\u001b[0m\n",
      "\u001b[1;32m~\\anaconda3\\envs\\learn-env\\lib\\site-packages\\pandas\\io\\formats\\style.py\u001b[0m in \u001b[0;36m<module>\u001b[1;34m\u001b[0m\n\u001b[0;32m     54\u001b[0m \u001b[1;32mfrom\u001b[0m \u001b[0mpandas\u001b[0m\u001b[1;33m.\u001b[0m\u001b[0mio\u001b[0m\u001b[1;33m.\u001b[0m\u001b[0mformats\u001b[0m\u001b[1;33m.\u001b[0m\u001b[0mformat\u001b[0m \u001b[1;32mimport\u001b[0m \u001b[0msave_to_buffer\u001b[0m\u001b[1;33m\u001b[0m\u001b[1;33m\u001b[0m\u001b[0m\n\u001b[0;32m     55\u001b[0m \u001b[1;33m\u001b[0m\u001b[0m\n\u001b[1;32m---> 56\u001b[1;33m \u001b[0mjinja2\u001b[0m \u001b[1;33m=\u001b[0m \u001b[0mimport_optional_dependency\u001b[0m\u001b[1;33m(\u001b[0m\u001b[1;34m\"jinja2\"\u001b[0m\u001b[1;33m,\u001b[0m \u001b[0mextra\u001b[0m\u001b[1;33m=\u001b[0m\u001b[1;34m\"DataFrame.style requires jinja2.\"\u001b[0m\u001b[1;33m)\u001b[0m\u001b[1;33m\u001b[0m\u001b[1;33m\u001b[0m\u001b[0m\n\u001b[0m\u001b[0;32m     57\u001b[0m \u001b[1;33m\u001b[0m\u001b[0m\n\u001b[0;32m     58\u001b[0m from pandas.io.formats.style_render import (\n",
      "\u001b[1;32m~\\anaconda3\\envs\\learn-env\\lib\\site-packages\\pandas\\compat\\_optional.py\u001b[0m in \u001b[0;36mimport_optional_dependency\u001b[1;34m(name, extra, errors, min_version)\u001b[0m\n\u001b[0;32m    169\u001b[0m                 \u001b[1;32mreturn\u001b[0m \u001b[1;32mNone\u001b[0m\u001b[1;33m\u001b[0m\u001b[1;33m\u001b[0m\u001b[0m\n\u001b[0;32m    170\u001b[0m             \u001b[1;32melif\u001b[0m \u001b[0merrors\u001b[0m \u001b[1;33m==\u001b[0m \u001b[1;34m\"raise\"\u001b[0m\u001b[1;33m:\u001b[0m\u001b[1;33m\u001b[0m\u001b[1;33m\u001b[0m\u001b[0m\n\u001b[1;32m--> 171\u001b[1;33m                 \u001b[1;32mraise\u001b[0m \u001b[0mImportError\u001b[0m\u001b[1;33m(\u001b[0m\u001b[0mmsg\u001b[0m\u001b[1;33m)\u001b[0m\u001b[1;33m\u001b[0m\u001b[1;33m\u001b[0m\u001b[0m\n\u001b[0m\u001b[0;32m    172\u001b[0m \u001b[1;33m\u001b[0m\u001b[0m\n\u001b[0;32m    173\u001b[0m     \u001b[1;32mreturn\u001b[0m \u001b[0mmodule\u001b[0m\u001b[1;33m\u001b[0m\u001b[1;33m\u001b[0m\u001b[0m\n",
      "\u001b[1;31mImportError\u001b[0m: Pandas requires version '3.0.0' or newer of 'jinja2' (version '2.11.2' currently installed)."
     ]
    }
   ],
   "source": [
    "Processed_df['text_temp'] = Processed_df['preprocessed_text'].apply(lambda x:str(x).split())\n",
    "top = Counter([item for sublist in Processed_df['text_temp'] for item in sublist])\n",
    "temp = pd.DataFrame(top.most_common(10))\n",
    "temp.columns = ['Common_words','count']\n",
    "temp.style.background_gradient(cmap='Blues')"
   ]
  },
  {
   "cell_type": "code",
   "execution_count": 87,
   "metadata": {},
   "outputs": [
    {
     "data": {
      "image/png": "[encoded data removed]",
      "text/plain": [
       "<Figure size 1440x576 with 1 Axes>"
      ]
     },
     "metadata": {},
     "output_type": "display_data"
    }
   ],
   "source": [
    "# plotting top 10 most frequent words using seaborn.\n",
    "plt.figure(figsize=(20,8))\n",
    "sns.set_style(\"whitegrid\")\n",
    "ax = sns.barplot(x=\"count\",y=\"Common_words\", data=temp, palette=\"inferno\", linewidth=2,edgecolor='green')\n",
    "plt.title(\"Most Common Words in Tweet Text\")\n",
    "plt.xlabel(\"Number of Occurrences\")\n",
    "plt.ylabel(\"Common Words\")\n",
    "\n",
    "# Addd annotaions for the barplots.\n",
    "for i,j in enumerate(temp[\"count\"]):\n",
    "    ax.text(.7,i,j,weight=\"bold\",color=\"white\",fontsize=12)\n",
    "\n",
    "plt.show()"
   ]
  },
  {
   "cell_type": "code",
   "execution_count": 88,
   "metadata": {},
   "outputs": [],
   "source": [
    "#Character Counts by Tweet text\n",
    "def _get_charcounts(x):\n",
    "    r = x.split()\n",
    "    b= ''.join(s)\n",
    "    return len(x)"
   ]
  },
  {
   "cell_type": "code",
   "execution_count": 89,
   "metadata": {},
   "outputs": [
    {
     "data": {
      "text/plain": [
       "count    63761.000000\n",
       "mean       102.710481\n",
       "std        107.473079\n",
       "min          6.000000\n",
       "25%         34.000000\n",
       "50%         75.000000\n",
       "75%        153.000000\n",
       "max       4595.000000\n",
       "Name: text_len, dtype: float64"
      ]
     },
     "metadata": {},
     "output_type": "display_data"
    },
    {
     "data": {
      "image/png": "[encoded data removed]",
      "text/plain": [
       "<Figure size 720x432 with 1 Axes>"
      ]
     },
     "metadata": {},
     "output_type": "display_data"
    }
   ],
   "source": [
    "# getting the character length for each tweet\n",
    "Processed_df['text_len'] = Processed_df['text'].apply(lambda x:len(x))\n",
    "\n",
    "display(Processed_df['text_len'].describe())\n",
    "\n",
    "# plotting the distribution of the tweet length\n",
    "plt.figure(figsize=(10,6))\n",
    "sns.distplot(Processed_df['text_len'], color='teal',kde=False, hist_kws=dict(edgecolor=\"red\", linewidth=2), bins=50)\n",
    "plt.title('The Distribution of the Text Length')\n",
    "plt.xlabel('Text Length')\n",
    "plt.ylabel('Count')\n",
    "\n",
    "plt.show()"
   ]
  },
  {
   "cell_type": "code",
   "execution_count": 90,
   "metadata": {},
   "outputs": [
    {
     "data": {
      "text/html": [
       "<div>\n",
       "<style scoped>\n",
       "    .dataframe tbody tr th:only-of-type {\n",
       "        vertical-align: middle;\n",
       "    }\n",
       "\n",
       "    .dataframe tbody tr th {\n",
       "        vertical-align: top;\n",
       "    }\n",
       "\n",
       "    .dataframe thead th {\n",
       "        text-align: right;\n",
       "    }\n",
       "</style>\n",
       "<table border=\"1\" class=\"dataframe tex2jax_ignore\">\n",
       "  <thead>\n",
       "    <tr style=\"text-align: right;\">\n",
       "      <th></th>\n",
       "      <th>preprocessed_text</th>\n",
       "      <th>word_counts</th>\n",
       "    </tr>\n",
       "  </thead>\n",
       "  <tbody>\n",
       "    <tr>\n",
       "      <th>11661</th>\n",
       "      <td>backbin style going probably week jahazi pier munyonyo fewdaystogo thelineupisbig realvibes bethere</td>\n",
       "      <td>12</td>\n",
       "    </tr>\n",
       "    <tr>\n",
       "      <th>45187</th>\n",
       "      <td>kwani nyinyi mnapata wapi picha za week gilbeys faith cherotich cs matiangi miguna miguna igathe muranga sauti sol kurakwaruto kenyakwanzamegarally</td>\n",
       "      <td>20</td>\n",
       "    </tr>\n",
       "    <tr>\n",
       "      <th>45861</th>\n",
       "      <td>eireprintscom irish hurling causeway guinness</td>\n",
       "      <td>5</td>\n",
       "    </tr>\n",
       "    <tr>\n",
       "      <th>42202</th>\n",
       "      <td>py capability accomodate chupa ya gilbeys ndio fence juu thick line haitoshi</td>\n",
       "      <td>12</td>\n",
       "    </tr>\n",
       "    <tr>\n",
       "      <th>61047</th>\n",
       "      <td>traveller whiskey blend 40 nonage stated 90prf blended whiskey wno age statement imagine love child blantons caribouecrossing 90 proof bit younger appeal crown johnnie walker drinker bourbonworld</td>\n",
       "      <td>27</td>\n",
       "    </tr>\n",
       "  </tbody>\n",
       "</table>\n",
       "</div>"
      ],
      "text/plain": [
       "                                                                                                                                                                                         preprocessed_text  \\\n",
       "11661                                                                                                  backbin style going probably week jahazi pier munyonyo fewdaystogo thelineupisbig realvibes bethere   \n",
       "45187                                                  kwani nyinyi mnapata wapi picha za week gilbeys faith cherotich cs matiangi miguna miguna igathe muranga sauti sol kurakwaruto kenyakwanzamegarally   \n",
       "45861                                                                                                                                                        eireprintscom irish hurling causeway guinness   \n",
       "42202                                                                                                                         py capability accomodate chupa ya gilbeys ndio fence juu thick line haitoshi   \n",
       "61047  traveller whiskey blend 40 nonage stated 90prf blended whiskey wno age statement imagine love child blantons caribouecrossing 90 proof bit younger appeal crown johnnie walker drinker bourbonworld   \n",
       "\n",
       "       word_counts  \n",
       "11661           12  \n",
       "45187           20  \n",
       "45861            5  \n",
       "42202           12  \n",
       "61047           27  "
      ]
     },
     "metadata": {},
     "output_type": "display_data"
    },
    {
     "data": {
      "image/png": "[encoded data removed]",
      "text/plain": [
       "<Figure size 720x576 with 1 Axes>"
      ]
     },
     "metadata": {},
     "output_type": "display_data"
    }
   ],
   "source": [
    "#Word Count by Tweet\n",
    "def _get_wordcounts(x):\n",
    "    length = len(str(x).split())\n",
    "    return length\n",
    "\n",
    "Processed_df['word_counts'] = Processed_df['preprocessed_text'].apply(lambda x:_get_wordcounts(x))\n",
    "\n",
    "display(Processed_df[['preprocessed_text','word_counts']].sample(5))\n",
    "\n",
    "Processed_df['word_counts'].describe()\n",
    "\n",
    "# plot word_counts\n",
    "plt.figure(figsize=(10,8))\n",
    "sns.distplot(Processed_df['word_counts'], color='teal', kde=False, hist_kws=dict(edgecolor=\"black\", linewidth=2))\n",
    "plt.title('The Distribution of the Word Counts')\n",
    "plt.xlabel('Word Counts')\n",
    "plt.ylabel('Count')\n",
    "\n",
    "\n",
    "plt.show()"
   ]
  },
  {
   "cell_type": "markdown",
   "metadata": {},
   "source": [
    "The histogram shows that the most common word count is between 20 and 50. The distribution is skewed to the left, meaning that there are more tweets with lower word counts than higher word counts."
   ]
  },
  {
   "cell_type": "code",
   "execution_count": 91,
   "metadata": {},
   "outputs": [
    {
     "data": {
      "image/png": "[encoded data removed]",
      "text/plain": [
       "<Figure size 720x576 with 1 Axes>"
      ]
     },
     "metadata": {},
     "output_type": "display_data"
    }
   ],
   "source": [
    "# Character Count by Sentiment\n",
    "plt.figure(figsize=(10, 8))\n",
    "sns.kdeplot(Processed_df[Processed_df['sentiment'] == 'Positive']['text_len'], color='green', label='Positive', shade=False)\n",
    "sns.kdeplot(Processed_df[Processed_df['sentiment'] == 'Negative']['text_len'], color='red', label='Negative', shade=False)\n",
    "sns.kdeplot(Processed_df[Processed_df['sentiment'] == 'Neutral']['text_len'], color='blue', label='Neutral', shade=False)\n",
    "plt.title('The Distribution of the Text Length by Sentiment')\n",
    "plt.legend()\n",
    "\n",
    "plt.show()"
   ]
  },
  {
   "cell_type": "code",
   "execution_count": 92,
   "metadata": {},
   "outputs": [
    {
     "data": {
      "image/png": "[encoded data removed]",
      "text/plain": [
       "<Figure size 720x432 with 1 Axes>"
      ]
     },
     "metadata": {},
     "output_type": "display_data"
    }
   ],
   "source": [
    "# word_count by sentiment type\n",
    "plt.figure(figsize=(10, 6))\n",
    "sns.kdeplot(Processed_df[Processed_df['sentiment'] == 'Positive']['word_counts'], color='green', label='Positive', shade=False)\n",
    "sns.kdeplot(Processed_df[Processed_df['sentiment'] == 'Negative']['word_counts'], color='red', label='Negative', shade=False)\n",
    "sns.kdeplot(Processed_df[Processed_df['sentiment'] == 'Neutral']['word_counts'], color='blue', label='Neutral', shade=False)\n",
    "plt.title('The Distribution of the Word Counts by Sentiment')\n",
    "plt.legend()\n",
    "\n",
    "plt.show()"
   ]
  },
  {
   "cell_type": "markdown",
   "metadata": {},
   "source": [
    "# Sentiment Analysis\n",
    "Distribution of Sentiments"
   ]
  },
  {
   "cell_type": "code",
   "execution_count": 93,
   "metadata": {},
   "outputs": [
    {
     "data": {
      "text/plain": [
       "sentiment\n",
       "Neutral     37079\n",
       "Positive    19903\n",
       "Negative     6779\n",
       "Name: count, dtype: int64"
      ]
     },
     "execution_count": 93,
     "metadata": {},
     "output_type": "execute_result"
    }
   ],
   "source": [
    "Processed_df['sentiment'].value_counts()"
   ]
  },
  {
   "cell_type": "code",
   "execution_count": 94,
   "metadata": {},
   "outputs": [
    {
     "data": {
      "image/png": "[encoded data removed]",
      "text/plain": [
       "<Figure size 1440x576 with 1 Axes>"
      ]
     },
     "metadata": {},
     "output_type": "display_data"
    }
   ],
   "source": [
    "#bargraph plot for sentiment analysis\n",
    "plt.figure(figsize=(20,8)) #width and height    \n",
    "sns.countplot(x='sentiment',data=Processed_df, palette = 'inferno', linewidth=2, edgecolor='black')\n",
    "plt.title(\"Distibution of the Sentiment Analysis\")\n",
    "plt.xlabel('Sentiment')\n",
    "plt.ylabel('Frequency')\n",
    "\n",
    "# Add annotations to plot\n",
    "for n in plt.gca().patches:\n",
    "    plt.gca().annotate(p.get_height(), \n",
    "                       (p.get_x()+p.get_width()/2., \n",
    "                        p.get_height()), ha='center', \n",
    "                        va='center', xytext=(0, 10), \n",
    "                        textcoords='offset points', \n",
    "                        fontsize=12, color='black',\n",
    "                          weight='bold')\n",
    "\n",
    "\n",
    "plt.show()"
   ]
  },
  {
   "cell_type": "code",
   "execution_count": 95,
   "metadata": {},
   "outputs": [
    {
     "ename": "ImportError",
     "evalue": "Pandas requires version '3.0.0' or newer of 'jinja2' (version '2.11.2' currently installed).",
     "output_type": "error",
     "traceback": [
      "\u001b[1;31m---------------------------------------------------------------------------\u001b[0m",
      "\u001b[1;31mImportError\u001b[0m                               Traceback (most recent call last)",
      "\u001b[1;32m<ipython-input-95-f0f129e8eebc>\u001b[0m in \u001b[0;36m<module>\u001b[1;34m\u001b[0m\n\u001b[0;32m      5\u001b[0m \u001b[0mtemp_positive\u001b[0m \u001b[1;33m=\u001b[0m \u001b[0mpd\u001b[0m\u001b[1;33m.\u001b[0m\u001b[0mDataFrame\u001b[0m\u001b[1;33m(\u001b[0m\u001b[0mtop\u001b[0m\u001b[1;33m.\u001b[0m\u001b[0mmost_common\u001b[0m\u001b[1;33m(\u001b[0m\u001b[1;36m20\u001b[0m\u001b[1;33m)\u001b[0m\u001b[1;33m)\u001b[0m\u001b[1;33m\u001b[0m\u001b[1;33m\u001b[0m\u001b[0m\n\u001b[0;32m      6\u001b[0m \u001b[0mtemp_positive\u001b[0m\u001b[1;33m.\u001b[0m\u001b[0mcolumns\u001b[0m \u001b[1;33m=\u001b[0m \u001b[1;33m[\u001b[0m\u001b[1;34m'Common_words'\u001b[0m\u001b[1;33m,\u001b[0m\u001b[1;34m'count'\u001b[0m\u001b[1;33m]\u001b[0m\u001b[1;33m\u001b[0m\u001b[1;33m\u001b[0m\u001b[0m\n\u001b[1;32m----> 7\u001b[1;33m \u001b[0mtemp_positive\u001b[0m\u001b[1;33m.\u001b[0m\u001b[0mstyle\u001b[0m\u001b[1;33m.\u001b[0m\u001b[0mbackground_gradient\u001b[0m\u001b[1;33m(\u001b[0m\u001b[0mcmap\u001b[0m\u001b[1;33m=\u001b[0m\u001b[1;34m'Greens'\u001b[0m\u001b[1;33m)\u001b[0m\u001b[1;33m\u001b[0m\u001b[1;33m\u001b[0m\u001b[0m\n\u001b[0m",
      "\u001b[1;32m~\\anaconda3\\envs\\learn-env\\lib\\site-packages\\pandas\\core\\frame.py\u001b[0m in \u001b[0;36mstyle\u001b[1;34m(self)\u001b[0m\n\u001b[0;32m   1289\u001b[0m             \u001b[0mdata\u001b[0m \u001b[1;32mwith\u001b[0m \u001b[0mHTML\u001b[0m \u001b[1;32mand\u001b[0m \u001b[0mCSS\u001b[0m\u001b[1;33m.\u001b[0m\u001b[1;33m\u001b[0m\u001b[1;33m\u001b[0m\u001b[0m\n\u001b[0;32m   1290\u001b[0m         \"\"\"\n\u001b[1;32m-> 1291\u001b[1;33m         \u001b[1;32mfrom\u001b[0m \u001b[0mpandas\u001b[0m\u001b[1;33m.\u001b[0m\u001b[0mio\u001b[0m\u001b[1;33m.\u001b[0m\u001b[0mformats\u001b[0m\u001b[1;33m.\u001b[0m\u001b[0mstyle\u001b[0m \u001b[1;32mimport\u001b[0m \u001b[0mStyler\u001b[0m\u001b[1;33m\u001b[0m\u001b[1;33m\u001b[0m\u001b[0m\n\u001b[0m\u001b[0;32m   1292\u001b[0m \u001b[1;33m\u001b[0m\u001b[0m\n\u001b[0;32m   1293\u001b[0m         \u001b[1;32mreturn\u001b[0m \u001b[0mStyler\u001b[0m\u001b[1;33m(\u001b[0m\u001b[0mself\u001b[0m\u001b[1;33m)\u001b[0m\u001b[1;33m\u001b[0m\u001b[1;33m\u001b[0m\u001b[0m\n",
      "\u001b[1;32m~\\anaconda3\\envs\\learn-env\\lib\\site-packages\\pandas\\io\\formats\\style.py\u001b[0m in \u001b[0;36m<module>\u001b[1;34m\u001b[0m\n\u001b[0;32m     54\u001b[0m \u001b[1;32mfrom\u001b[0m \u001b[0mpandas\u001b[0m\u001b[1;33m.\u001b[0m\u001b[0mio\u001b[0m\u001b[1;33m.\u001b[0m\u001b[0mformats\u001b[0m\u001b[1;33m.\u001b[0m\u001b[0mformat\u001b[0m \u001b[1;32mimport\u001b[0m \u001b[0msave_to_buffer\u001b[0m\u001b[1;33m\u001b[0m\u001b[1;33m\u001b[0m\u001b[0m\n\u001b[0;32m     55\u001b[0m \u001b[1;33m\u001b[0m\u001b[0m\n\u001b[1;32m---> 56\u001b[1;33m \u001b[0mjinja2\u001b[0m \u001b[1;33m=\u001b[0m \u001b[0mimport_optional_dependency\u001b[0m\u001b[1;33m(\u001b[0m\u001b[1;34m\"jinja2\"\u001b[0m\u001b[1;33m,\u001b[0m \u001b[0mextra\u001b[0m\u001b[1;33m=\u001b[0m\u001b[1;34m\"DataFrame.style requires jinja2.\"\u001b[0m\u001b[1;33m)\u001b[0m\u001b[1;33m\u001b[0m\u001b[1;33m\u001b[0m\u001b[0m\n\u001b[0m\u001b[0;32m     57\u001b[0m \u001b[1;33m\u001b[0m\u001b[0m\n\u001b[0;32m     58\u001b[0m from pandas.io.formats.style_render import (\n",
      "\u001b[1;32m~\\anaconda3\\envs\\learn-env\\lib\\site-packages\\pandas\\compat\\_optional.py\u001b[0m in \u001b[0;36mimport_optional_dependency\u001b[1;34m(name, extra, errors, min_version)\u001b[0m\n\u001b[0;32m    169\u001b[0m                 \u001b[1;32mreturn\u001b[0m \u001b[1;32mNone\u001b[0m\u001b[1;33m\u001b[0m\u001b[1;33m\u001b[0m\u001b[0m\n\u001b[0;32m    170\u001b[0m             \u001b[1;32melif\u001b[0m \u001b[0merrors\u001b[0m \u001b[1;33m==\u001b[0m \u001b[1;34m\"raise\"\u001b[0m\u001b[1;33m:\u001b[0m\u001b[1;33m\u001b[0m\u001b[1;33m\u001b[0m\u001b[0m\n\u001b[1;32m--> 171\u001b[1;33m                 \u001b[1;32mraise\u001b[0m \u001b[0mImportError\u001b[0m\u001b[1;33m(\u001b[0m\u001b[0mmsg\u001b[0m\u001b[1;33m)\u001b[0m\u001b[1;33m\u001b[0m\u001b[1;33m\u001b[0m\u001b[0m\n\u001b[0m\u001b[0;32m    172\u001b[0m \u001b[1;33m\u001b[0m\u001b[0m\n\u001b[0;32m    173\u001b[0m     \u001b[1;32mreturn\u001b[0m \u001b[0mmodule\u001b[0m\u001b[1;33m\u001b[0m\u001b[1;33m\u001b[0m\u001b[0m\n",
      "\u001b[1;31mImportError\u001b[0m: Pandas requires version '3.0.0' or newer of 'jinja2' (version '2.11.2' currently installed)."
     ]
    }
   ],
   "source": [
    "#Positive sentiment analysis\n",
    "# Most common positive words\n",
    "Processed_df_pos = Processed_df[Processed_df['sentiment'] == 'Positive']\n",
    "top = Counter([item for sublist in Processed_df_pos['text_temp'] for item in sublist])\n",
    "temp_positive = pd.DataFrame(top.most_common(20))\n",
    "temp_positive.columns = ['Common_words','count']\n",
    "temp_positive.style.background_gradient(cmap='Greens')"
   ]
  },
  {
   "cell_type": "code",
   "execution_count": 96,
   "metadata": {},
   "outputs": [
    {
     "data": {
      "image/png": "[encoded data removed]",
      "text/plain": [
       "<Figure size 1440x576 with 1 Axes>"
      ]
     },
     "metadata": {},
     "output_type": "display_data"
    }
   ],
   "source": [
    "# plotting a tree map to show the positive sentiments\n",
    "plt.figure(figsize=(20,8))\n",
    "\n",
    "# Create labels with word counts\n",
    "label_pos= [f\"{word}\\n{count}\" for word, count in zip(temp_positive['Common_words'], temp_positive['count'])]\n",
    "\n",
    "# Use a valid colormap name, for example, 'viridis'\n",
    "squarify.plot(sizes=temp_positive['count'], label=label_pos, alpha=0.8, color=sns.color_palette(\"viridis\", 10), text_kwargs={'fontsize':10})\n",
    "\n",
    "plt.title('Tree Map of the Most Common Positive Words')\n",
    "plt.axis('off')\n",
    "plt.show()"
   ]
  },
  {
   "cell_type": "code",
   "execution_count": 97,
   "metadata": {},
   "outputs": [
    {
     "data": {
      "text/html": [
       "<div>\n",
       "<style scoped>\n",
       "    .dataframe tbody tr th:only-of-type {\n",
       "        vertical-align: middle;\n",
       "    }\n",
       "\n",
       "    .dataframe tbody tr th {\n",
       "        vertical-align: top;\n",
       "    }\n",
       "\n",
       "    .dataframe thead th {\n",
       "        text-align: right;\n",
       "    }\n",
       "</style>\n",
       "<table border=\"1\" class=\"dataframe tex2jax_ignore\">\n",
       "  <thead>\n",
       "    <tr style=\"text-align: right;\">\n",
       "      <th></th>\n",
       "      <th>Positive Tweets</th>\n",
       "    </tr>\n",
       "  </thead>\n",
       "  <tbody>\n",
       "    <tr>\n",
       "      <th>0</th>\n",
       "      <td>kalenjin women are the best as wives fr i am talking about vienyejis si hawa wa gilbeys</td>\n",
       "    </tr>\n",
       "    <tr>\n",
       "      <th>1</th>\n",
       "      <td>yooh tufike thorn treekibera tukamate gilbeys remember for any purchase of bucket of beer or spirit you shall be served with a delicious mbuzi beiyajioni courtesy of kumbuka drinkbetternotmore check out to see your</td>\n",
       "    </tr>\n",
       "    <tr>\n",
       "      <th>2</th>\n",
       "      <td>gilbeys ndio best quickmart supermarket quickmart offer quickmartcrazyoffers</td>\n",
       "    </tr>\n",
       "    <tr>\n",
       "      <th>3</th>\n",
       "      <td>the hennessy too went through the shaking ordeal muratina wine changaa busaa best pilsner jd jw gilbeysyote ni pombe imo</td>\n",
       "    </tr>\n",
       "    <tr>\n",
       "      <th>4</th>\n",
       "      <td>try the guinness challenge first sip must perfectly underline guinness cheers</td>\n",
       "    </tr>\n",
       "    <tr>\n",
       "      <th>...</th>\n",
       "      <td>...</td>\n",
       "    </tr>\n",
       "    <tr>\n",
       "      <th>19898</th>\n",
       "      <td>what do you prefer roasted chicken or goats meat anyway get ready to enjoy your fav bites at roastandrhyme this sunday grab a ticket via roastandrhymecom or dail 291 at just 100k cheerstotheholidays thisishowwedo cc</td>\n",
       "    </tr>\n",
       "    <tr>\n",
       "      <th>19899</th>\n",
       "      <td>ad enjoy opengoodtimes at the mixedandmatched pinknic with at absa grounds 28th jan 3pm late dress code mixmatch with a touch of pink tickets 1 350ml gilbeys mixed berries 1 1 750ml 2 2 750ml squad tickets 5 people</td>\n",
       "    </tr>\n",
       "    <tr>\n",
       "      <th>19900</th>\n",
       "      <td>ad enjoy opengoodtimes at the mixedandmatched pinknic with at absa grounds 28th jan 3pm late dress code mixmatch with a touch of pink tickets 1 350ml gilbeys mixed berries 1 1 750ml 2 2 750ml squad tickets 5 people</td>\n",
       "    </tr>\n",
       "    <tr>\n",
       "      <th>19901</th>\n",
       "      <td>this packaging is so cheap looks horrible eastafricanbreweries pls come up with better packaging or revert back to the old packaging this is not kenya cane class smirnoff eabl vodka</td>\n",
       "    </tr>\n",
       "    <tr>\n",
       "      <th>19902</th>\n",
       "      <td>the joy of finding secret places to watch elephants without disturbing them travelsrilanka srilanka travel srilankansafari canonsl nature safari wild wildlifephotography naturephotography canonasia elephant srilankanelephant asianelephant tusker</td>\n",
       "    </tr>\n",
       "  </tbody>\n",
       "</table>\n",
       "<p>19903 rows × 1 columns</p>\n",
       "</div>"
      ],
      "text/plain": [
       "                                                                                                                                                                                                                                             Positive Tweets\n",
       "0                                                                                                                                                                    kalenjin women are the best as wives fr i am talking about vienyejis si hawa wa gilbeys\n",
       "1                                     yooh tufike thorn treekibera tukamate gilbeys remember for any purchase of bucket of beer or spirit you shall be served with a delicious mbuzi beiyajioni courtesy of kumbuka drinkbetternotmore check out to see your\n",
       "2                                                                                                                                                                               gilbeys ndio best quickmart supermarket quickmart offer quickmartcrazyoffers\n",
       "3                                                                                                                                   the hennessy too went through the shaking ordeal muratina wine changaa busaa best pilsner jd jw gilbeysyote ni pombe imo\n",
       "4                                                                                                                                                                              try the guinness challenge first sip must perfectly underline guinness cheers\n",
       "...                                                                                                                                                                                                                                                      ...\n",
       "19898                                what do you prefer roasted chicken or goats meat anyway get ready to enjoy your fav bites at roastandrhyme this sunday grab a ticket via roastandrhymecom or dail 291 at just 100k cheerstotheholidays thisishowwedo cc\n",
       "19899                                 ad enjoy opengoodtimes at the mixedandmatched pinknic with at absa grounds 28th jan 3pm late dress code mixmatch with a touch of pink tickets 1 350ml gilbeys mixed berries 1 1 750ml 2 2 750ml squad tickets 5 people\n",
       "19900                                 ad enjoy opengoodtimes at the mixedandmatched pinknic with at absa grounds 28th jan 3pm late dress code mixmatch with a touch of pink tickets 1 350ml gilbeys mixed berries 1 1 750ml 2 2 750ml squad tickets 5 people\n",
       "19901                                                                  this packaging is so cheap looks horrible eastafricanbreweries pls come up with better packaging or revert back to the old packaging this is not kenya cane class smirnoff eabl vodka\n",
       "19902  the joy of finding secret places to watch elephants without disturbing them travelsrilanka srilanka travel srilankansafari canonsl nature safari wild wildlifephotography naturephotography canonasia elephant srilankanelephant asianelephant tusker\n",
       "\n",
       "[19903 rows x 1 columns]"
      ]
     },
     "execution_count": 97,
     "metadata": {},
     "output_type": "execute_result"
    }
   ],
   "source": [
    "# Getting the most positive tweets\n",
    "\n",
    "y = 1\n",
    "sortedDF = Processed_df.sort_values(by = ['Polarity'], ascending = False).reset_index(drop=True)\n",
    "positive_tweets = []  # list to store positive tweets\n",
    "for i in range(0, sortedDF.shape[0]):\n",
    "  if(sortedDF['sentiment'][i] == 'Positive'):\n",
    "    positive_tweets.append(sortedDF['text'][i])\n",
    "    y = y+1\n",
    "\n",
    "# Convert list to DataFrame\n",
    "positive_tweets_df = pd.DataFrame(positive_tweets, columns=['Positive Tweets'])\n",
    "\n",
    "positive_tweets_df"
   ]
  },
  {
   "cell_type": "markdown",
   "metadata": {},
   "source": [
    "# Negative Sentiment Analysis"
   ]
  },
  {
   "cell_type": "code",
   "execution_count": 98,
   "metadata": {},
   "outputs": [
    {
     "ename": "ImportError",
     "evalue": "Pandas requires version '3.0.0' or newer of 'jinja2' (version '2.11.2' currently installed).",
     "output_type": "error",
     "traceback": [
      "\u001b[1;31m---------------------------------------------------------------------------\u001b[0m",
      "\u001b[1;31mImportError\u001b[0m                               Traceback (most recent call last)",
      "\u001b[1;32m<ipython-input-98-ee9fb5c49a04>\u001b[0m in \u001b[0;36m<module>\u001b[1;34m\u001b[0m\n\u001b[0;32m      4\u001b[0m \u001b[0mtemp_negative\u001b[0m \u001b[1;33m=\u001b[0m \u001b[0mpd\u001b[0m\u001b[1;33m.\u001b[0m\u001b[0mDataFrame\u001b[0m\u001b[1;33m(\u001b[0m\u001b[0mtop\u001b[0m\u001b[1;33m.\u001b[0m\u001b[0mmost_common\u001b[0m\u001b[1;33m(\u001b[0m\u001b[1;36m20\u001b[0m\u001b[1;33m)\u001b[0m\u001b[1;33m)\u001b[0m\u001b[1;33m\u001b[0m\u001b[1;33m\u001b[0m\u001b[0m\n\u001b[0;32m      5\u001b[0m \u001b[0mtemp_negative\u001b[0m\u001b[1;33m.\u001b[0m\u001b[0mcolumns\u001b[0m \u001b[1;33m=\u001b[0m \u001b[1;33m[\u001b[0m\u001b[1;34m'Common_words'\u001b[0m\u001b[1;33m,\u001b[0m\u001b[1;34m'count'\u001b[0m\u001b[1;33m]\u001b[0m\u001b[1;33m\u001b[0m\u001b[1;33m\u001b[0m\u001b[0m\n\u001b[1;32m----> 6\u001b[1;33m \u001b[0mtemp_negative\u001b[0m\u001b[1;33m.\u001b[0m\u001b[0mstyle\u001b[0m\u001b[1;33m.\u001b[0m\u001b[0mbackground_gradient\u001b[0m\u001b[1;33m(\u001b[0m\u001b[0mcmap\u001b[0m\u001b[1;33m=\u001b[0m\u001b[1;34m'Reds'\u001b[0m\u001b[1;33m)\u001b[0m\u001b[1;33m\u001b[0m\u001b[1;33m\u001b[0m\u001b[0m\n\u001b[0m",
      "\u001b[1;32m~\\anaconda3\\envs\\learn-env\\lib\\site-packages\\pandas\\core\\frame.py\u001b[0m in \u001b[0;36mstyle\u001b[1;34m(self)\u001b[0m\n\u001b[0;32m   1289\u001b[0m             \u001b[0mdata\u001b[0m \u001b[1;32mwith\u001b[0m \u001b[0mHTML\u001b[0m \u001b[1;32mand\u001b[0m \u001b[0mCSS\u001b[0m\u001b[1;33m.\u001b[0m\u001b[1;33m\u001b[0m\u001b[1;33m\u001b[0m\u001b[0m\n\u001b[0;32m   1290\u001b[0m         \"\"\"\n\u001b[1;32m-> 1291\u001b[1;33m         \u001b[1;32mfrom\u001b[0m \u001b[0mpandas\u001b[0m\u001b[1;33m.\u001b[0m\u001b[0mio\u001b[0m\u001b[1;33m.\u001b[0m\u001b[0mformats\u001b[0m\u001b[1;33m.\u001b[0m\u001b[0mstyle\u001b[0m \u001b[1;32mimport\u001b[0m \u001b[0mStyler\u001b[0m\u001b[1;33m\u001b[0m\u001b[1;33m\u001b[0m\u001b[0m\n\u001b[0m\u001b[0;32m   1292\u001b[0m \u001b[1;33m\u001b[0m\u001b[0m\n\u001b[0;32m   1293\u001b[0m         \u001b[1;32mreturn\u001b[0m \u001b[0mStyler\u001b[0m\u001b[1;33m(\u001b[0m\u001b[0mself\u001b[0m\u001b[1;33m)\u001b[0m\u001b[1;33m\u001b[0m\u001b[1;33m\u001b[0m\u001b[0m\n",
      "\u001b[1;32m~\\anaconda3\\envs\\learn-env\\lib\\site-packages\\pandas\\io\\formats\\style.py\u001b[0m in \u001b[0;36m<module>\u001b[1;34m\u001b[0m\n\u001b[0;32m     54\u001b[0m \u001b[1;32mfrom\u001b[0m \u001b[0mpandas\u001b[0m\u001b[1;33m.\u001b[0m\u001b[0mio\u001b[0m\u001b[1;33m.\u001b[0m\u001b[0mformats\u001b[0m\u001b[1;33m.\u001b[0m\u001b[0mformat\u001b[0m \u001b[1;32mimport\u001b[0m \u001b[0msave_to_buffer\u001b[0m\u001b[1;33m\u001b[0m\u001b[1;33m\u001b[0m\u001b[0m\n\u001b[0;32m     55\u001b[0m \u001b[1;33m\u001b[0m\u001b[0m\n\u001b[1;32m---> 56\u001b[1;33m \u001b[0mjinja2\u001b[0m \u001b[1;33m=\u001b[0m \u001b[0mimport_optional_dependency\u001b[0m\u001b[1;33m(\u001b[0m\u001b[1;34m\"jinja2\"\u001b[0m\u001b[1;33m,\u001b[0m \u001b[0mextra\u001b[0m\u001b[1;33m=\u001b[0m\u001b[1;34m\"DataFrame.style requires jinja2.\"\u001b[0m\u001b[1;33m)\u001b[0m\u001b[1;33m\u001b[0m\u001b[1;33m\u001b[0m\u001b[0m\n\u001b[0m\u001b[0;32m     57\u001b[0m \u001b[1;33m\u001b[0m\u001b[0m\n\u001b[0;32m     58\u001b[0m from pandas.io.formats.style_render import (\n",
      "\u001b[1;32m~\\anaconda3\\envs\\learn-env\\lib\\site-packages\\pandas\\compat\\_optional.py\u001b[0m in \u001b[0;36mimport_optional_dependency\u001b[1;34m(name, extra, errors, min_version)\u001b[0m\n\u001b[0;32m    169\u001b[0m                 \u001b[1;32mreturn\u001b[0m \u001b[1;32mNone\u001b[0m\u001b[1;33m\u001b[0m\u001b[1;33m\u001b[0m\u001b[0m\n\u001b[0;32m    170\u001b[0m             \u001b[1;32melif\u001b[0m \u001b[0merrors\u001b[0m \u001b[1;33m==\u001b[0m \u001b[1;34m\"raise\"\u001b[0m\u001b[1;33m:\u001b[0m\u001b[1;33m\u001b[0m\u001b[1;33m\u001b[0m\u001b[0m\n\u001b[1;32m--> 171\u001b[1;33m                 \u001b[1;32mraise\u001b[0m \u001b[0mImportError\u001b[0m\u001b[1;33m(\u001b[0m\u001b[0mmsg\u001b[0m\u001b[1;33m)\u001b[0m\u001b[1;33m\u001b[0m\u001b[1;33m\u001b[0m\u001b[0m\n\u001b[0m\u001b[0;32m    172\u001b[0m \u001b[1;33m\u001b[0m\u001b[0m\n\u001b[0;32m    173\u001b[0m     \u001b[1;32mreturn\u001b[0m \u001b[0mmodule\u001b[0m\u001b[1;33m\u001b[0m\u001b[1;33m\u001b[0m\u001b[0m\n",
      "\u001b[1;31mImportError\u001b[0m: Pandas requires version '3.0.0' or newer of 'jinja2' (version '2.11.2' currently installed)."
     ]
    }
   ],
   "source": [
    "# Most Common Negative Words\n",
    "Processed_df_neg = Processed_df[Processed_df['sentiment'] == 'Negative']\n",
    "top = Counter([item for sublist in Processed_df_neg['text_temp'] for item in sublist])\n",
    "temp_negative = pd.DataFrame(top.most_common(20))\n",
    "temp_negative.columns = ['Common_words','count']\n",
    "temp_negative.style.background_gradient(cmap='Reds')"
   ]
  },
  {
   "cell_type": "code",
   "execution_count": null,
   "metadata": {},
   "outputs": [],
   "source": [
    "# plotting a tree map to show the negative sentiments\n",
    "plt.figure(figsize=(20,8))\n",
    "\n",
    "# Create labels with word counts\n",
    "labels_neg = [f\"{word}\\n{count}\" for word, count in zip(temp_negative['Common_words'], temp_negative['count'])]\n",
    "\n",
    "squarify.plot(sizes=temp_negative['count'], label=labels_neg, alpha=0.8, color=sns.color_palette(\"Reds\", 20), text_kwargs={'fontsize':20})\n",
    "\n",
    "plt.title('Tree Map of the Most Common Negative Words')\n",
    "plt.axis('off')\n",
    "\n",
    "plt.show()"
   ]
  },
  {
   "cell_type": "code",
   "execution_count": 103,
   "metadata": {},
   "outputs": [
    {
     "data": {
      "text/html": [
       "<div>\n",
       "<style scoped>\n",
       "    .dataframe tbody tr th:only-of-type {\n",
       "        vertical-align: middle;\n",
       "    }\n",
       "\n",
       "    .dataframe tbody tr th {\n",
       "        vertical-align: top;\n",
       "    }\n",
       "\n",
       "    .dataframe thead th {\n",
       "        text-align: right;\n",
       "    }\n",
       "</style>\n",
       "<table border=\"1\" class=\"dataframe tex2jax_ignore\">\n",
       "  <thead>\n",
       "    <tr style=\"text-align: right;\">\n",
       "      <th></th>\n",
       "      <th>Negative Tweets</th>\n",
       "    </tr>\n",
       "  </thead>\n",
       "  <tbody>\n",
       "    <tr>\n",
       "      <th>0</th>\n",
       "      <td>rare giant tusker elephant killed poachers 25 left wild giant tusker elephant killed poachers dlvritnyxkld</td>\n",
       "    </tr>\n",
       "    <tr>\n",
       "      <th>1</th>\n",
       "      <td>artistes remixes drag think saving lame screenshot reason use time wisely stream favs snoozefest album atleast jk 6 individual guinness world records cry harder</td>\n",
       "    </tr>\n",
       "    <tr>\n",
       "      <th>2</th>\n",
       "      <td>big things come huge packages tusker casually strolling mara puny landcruiser looks marben saturdaymotivation onerainbow safari safariweek masaimara holiday wild traveldiaries</td>\n",
       "    </tr>\n",
       "    <tr>\n",
       "      <th>3</th>\n",
       "      <td>day 1984 rts today tonight broadcast landmark programme aftermath tidey kidnapping programme presented brendan obrien set answer unanswered questions circumstances kidnapping murder recruit garda gary sheehan private patrick kelly derrada wood outside ballinamore kidnappers vastly outnumbered manage shoot way safety escaped socalled ring steel chosen leitrim support county revealed ring steel ...</td>\n",
       "    </tr>\n",
       "    <tr>\n",
       "      <th>4</th>\n",
       "      <td>lie meets honest relationship trust lies wrong yes mental issues accept lies living fantasy world</td>\n",
       "    </tr>\n",
       "    <tr>\n",
       "      <th>...</th>\n",
       "      <td>...</td>\n",
       "    </tr>\n",
       "    <tr>\n",
       "      <th>6774</th>\n",
       "      <td>buying gilbeys 750ml 4500 shillings insane</td>\n",
       "    </tr>\n",
       "    <tr>\n",
       "      <th>6775</th>\n",
       "      <td>insane gm tweet starts players accountable roster looks way</td>\n",
       "    </tr>\n",
       "    <tr>\n",
       "      <th>6776</th>\n",
       "      <td>gilbeys definitely worst drink waah heri bestchrome</td>\n",
       "    </tr>\n",
       "    <tr>\n",
       "      <th>6777</th>\n",
       "      <td>bholaashankar ki 5 ichinappdu shocking ani kakunda pachha manda antha essays raasaaru kada ra cut cheste okkati kuda nijam leni stories rastaru</td>\n",
       "    </tr>\n",
       "    <tr>\n",
       "      <th>6778</th>\n",
       "      <td>worst thay happen chase gilbeys baileys</td>\n",
       "    </tr>\n",
       "  </tbody>\n",
       "</table>\n",
       "<p>6779 rows × 1 columns</p>\n",
       "</div>"
      ],
      "text/plain": [
       "                                                                                                                                                                                                                                                                                                                                                                                                      Negative Tweets\n",
       "0                                                                                                                                                                                                                                                                                                          rare giant tusker elephant killed poachers 25 left wild giant tusker elephant killed poachers dlvritnyxkld\n",
       "1                                                                                                                                                                                                                                                    artistes remixes drag think saving lame screenshot reason use time wisely stream favs snoozefest album atleast jk 6 individual guinness world records cry harder\n",
       "2                                                                                                                                                                                                                                     big things come huge packages tusker casually strolling mara puny landcruiser looks marben saturdaymotivation onerainbow safari safariweek masaimara holiday wild traveldiaries\n",
       "3     day 1984 rts today tonight broadcast landmark programme aftermath tidey kidnapping programme presented brendan obrien set answer unanswered questions circumstances kidnapping murder recruit garda gary sheehan private patrick kelly derrada wood outside ballinamore kidnappers vastly outnumbered manage shoot way safety escaped socalled ring steel chosen leitrim support county revealed ring steel ...\n",
       "4                                                                                                                                                                                                                                                                                                                   lie meets honest relationship trust lies wrong yes mental issues accept lies living fantasy world\n",
       "...                                                                                                                                                                                                                                                                                                                                                                                                               ...\n",
       "6774                                                                                                                                                                                                                                                                                                                                                                       buying gilbeys 750ml 4500 shillings insane\n",
       "6775                                                                                                                                                                                                                                                                                                                                                      insane gm tweet starts players accountable roster looks way\n",
       "6776                                                                                                                                                                                                                                                                                                                                                              gilbeys definitely worst drink waah heri bestchrome\n",
       "6777                                                                                                                                                                                                                                                                  bholaashankar ki 5 ichinappdu shocking ani kakunda pachha manda antha essays raasaaru kada ra cut cheste okkati kuda nijam leni stories rastaru\n",
       "6778                                                                                                                                                                                                                                                                                                                                                                          worst thay happen chase gilbeys baileys\n",
       "\n",
       "[6779 rows x 1 columns]"
      ]
     },
     "execution_count": 103,
     "metadata": {},
     "output_type": "execute_result"
    }
   ],
   "source": [
    "# Getting the most negative tweets\n",
    "\n",
    "y = 1\n",
    "sortedDF = Processed_df.sort_values(by = ['Polarity'], ascending = False).reset_index(drop=True)\n",
    "Processed_negative_tweets = []  # list to store negative tweets\n",
    "for i in range(0, sortedDF.shape[0]):\n",
    "  if(sortedDF['sentiment'][i] == 'Negative'):\n",
    "    Processed_negative_tweets.append(sortedDF['clean_text'][i])\n",
    "    y = y+1\n",
    "\n",
    "# Convert list to DataFrame\n",
    "Processed_negative_tweets = pd.DataFrame(Processed_negative_tweets, columns=['Negative Tweets'])\n",
    "\n",
    "Processed_negative_tweets"
   ]
  },
  {
   "cell_type": "markdown",
   "metadata": {},
   "source": [
    "# Neutral Sentiment Analysis"
   ]
  },
  {
   "cell_type": "code",
   "execution_count": 104,
   "metadata": {},
   "outputs": [
    {
     "ename": "ImportError",
     "evalue": "Pandas requires version '3.0.0' or newer of 'jinja2' (version '2.11.2' currently installed).",
     "output_type": "error",
     "traceback": [
      "\u001b[1;31m---------------------------------------------------------------------------\u001b[0m",
      "\u001b[1;31mImportError\u001b[0m                               Traceback (most recent call last)",
      "\u001b[1;32m<ipython-input-104-62000ac72625>\u001b[0m in \u001b[0;36m<module>\u001b[1;34m\u001b[0m\n\u001b[0;32m      4\u001b[0m \u001b[0mtemp_neutral\u001b[0m \u001b[1;33m=\u001b[0m \u001b[0mpd\u001b[0m\u001b[1;33m.\u001b[0m\u001b[0mDataFrame\u001b[0m\u001b[1;33m(\u001b[0m\u001b[0mtop\u001b[0m\u001b[1;33m.\u001b[0m\u001b[0mmost_common\u001b[0m\u001b[1;33m(\u001b[0m\u001b[1;36m20\u001b[0m\u001b[1;33m)\u001b[0m\u001b[1;33m)\u001b[0m\u001b[1;33m\u001b[0m\u001b[1;33m\u001b[0m\u001b[0m\n\u001b[0;32m      5\u001b[0m \u001b[0mtemp_neutral\u001b[0m\u001b[1;33m.\u001b[0m\u001b[0mcolumns\u001b[0m \u001b[1;33m=\u001b[0m \u001b[1;33m[\u001b[0m\u001b[1;34m'Common_words'\u001b[0m\u001b[1;33m,\u001b[0m\u001b[1;34m'count'\u001b[0m\u001b[1;33m]\u001b[0m\u001b[1;33m\u001b[0m\u001b[1;33m\u001b[0m\u001b[0m\n\u001b[1;32m----> 6\u001b[1;33m \u001b[0mtemp_neutral\u001b[0m\u001b[1;33m.\u001b[0m\u001b[0mstyle\u001b[0m\u001b[1;33m.\u001b[0m\u001b[0mbackground_gradient\u001b[0m\u001b[1;33m(\u001b[0m\u001b[0mcmap\u001b[0m\u001b[1;33m=\u001b[0m\u001b[1;34m'Blues'\u001b[0m\u001b[1;33m)\u001b[0m\u001b[1;33m\u001b[0m\u001b[1;33m\u001b[0m\u001b[0m\n\u001b[0m",
      "\u001b[1;32m~\\anaconda3\\envs\\learn-env\\lib\\site-packages\\pandas\\core\\frame.py\u001b[0m in \u001b[0;36mstyle\u001b[1;34m(self)\u001b[0m\n\u001b[0;32m   1289\u001b[0m             \u001b[0mdata\u001b[0m \u001b[1;32mwith\u001b[0m \u001b[0mHTML\u001b[0m \u001b[1;32mand\u001b[0m \u001b[0mCSS\u001b[0m\u001b[1;33m.\u001b[0m\u001b[1;33m\u001b[0m\u001b[1;33m\u001b[0m\u001b[0m\n\u001b[0;32m   1290\u001b[0m         \"\"\"\n\u001b[1;32m-> 1291\u001b[1;33m         \u001b[1;32mfrom\u001b[0m \u001b[0mpandas\u001b[0m\u001b[1;33m.\u001b[0m\u001b[0mio\u001b[0m\u001b[1;33m.\u001b[0m\u001b[0mformats\u001b[0m\u001b[1;33m.\u001b[0m\u001b[0mstyle\u001b[0m \u001b[1;32mimport\u001b[0m \u001b[0mStyler\u001b[0m\u001b[1;33m\u001b[0m\u001b[1;33m\u001b[0m\u001b[0m\n\u001b[0m\u001b[0;32m   1292\u001b[0m \u001b[1;33m\u001b[0m\u001b[0m\n\u001b[0;32m   1293\u001b[0m         \u001b[1;32mreturn\u001b[0m \u001b[0mStyler\u001b[0m\u001b[1;33m(\u001b[0m\u001b[0mself\u001b[0m\u001b[1;33m)\u001b[0m\u001b[1;33m\u001b[0m\u001b[1;33m\u001b[0m\u001b[0m\n",
      "\u001b[1;32m~\\anaconda3\\envs\\learn-env\\lib\\site-packages\\pandas\\io\\formats\\style.py\u001b[0m in \u001b[0;36m<module>\u001b[1;34m\u001b[0m\n\u001b[0;32m     54\u001b[0m \u001b[1;32mfrom\u001b[0m \u001b[0mpandas\u001b[0m\u001b[1;33m.\u001b[0m\u001b[0mio\u001b[0m\u001b[1;33m.\u001b[0m\u001b[0mformats\u001b[0m\u001b[1;33m.\u001b[0m\u001b[0mformat\u001b[0m \u001b[1;32mimport\u001b[0m \u001b[0msave_to_buffer\u001b[0m\u001b[1;33m\u001b[0m\u001b[1;33m\u001b[0m\u001b[0m\n\u001b[0;32m     55\u001b[0m \u001b[1;33m\u001b[0m\u001b[0m\n\u001b[1;32m---> 56\u001b[1;33m \u001b[0mjinja2\u001b[0m \u001b[1;33m=\u001b[0m \u001b[0mimport_optional_dependency\u001b[0m\u001b[1;33m(\u001b[0m\u001b[1;34m\"jinja2\"\u001b[0m\u001b[1;33m,\u001b[0m \u001b[0mextra\u001b[0m\u001b[1;33m=\u001b[0m\u001b[1;34m\"DataFrame.style requires jinja2.\"\u001b[0m\u001b[1;33m)\u001b[0m\u001b[1;33m\u001b[0m\u001b[1;33m\u001b[0m\u001b[0m\n\u001b[0m\u001b[0;32m     57\u001b[0m \u001b[1;33m\u001b[0m\u001b[0m\n\u001b[0;32m     58\u001b[0m from pandas.io.formats.style_render import (\n",
      "\u001b[1;32m~\\anaconda3\\envs\\learn-env\\lib\\site-packages\\pandas\\compat\\_optional.py\u001b[0m in \u001b[0;36mimport_optional_dependency\u001b[1;34m(name, extra, errors, min_version)\u001b[0m\n\u001b[0;32m    169\u001b[0m                 \u001b[1;32mreturn\u001b[0m \u001b[1;32mNone\u001b[0m\u001b[1;33m\u001b[0m\u001b[1;33m\u001b[0m\u001b[0m\n\u001b[0;32m    170\u001b[0m             \u001b[1;32melif\u001b[0m \u001b[0merrors\u001b[0m \u001b[1;33m==\u001b[0m \u001b[1;34m\"raise\"\u001b[0m\u001b[1;33m:\u001b[0m\u001b[1;33m\u001b[0m\u001b[1;33m\u001b[0m\u001b[0m\n\u001b[1;32m--> 171\u001b[1;33m                 \u001b[1;32mraise\u001b[0m \u001b[0mImportError\u001b[0m\u001b[1;33m(\u001b[0m\u001b[0mmsg\u001b[0m\u001b[1;33m)\u001b[0m\u001b[1;33m\u001b[0m\u001b[1;33m\u001b[0m\u001b[0m\n\u001b[0m\u001b[0;32m    172\u001b[0m \u001b[1;33m\u001b[0m\u001b[0m\n\u001b[0;32m    173\u001b[0m     \u001b[1;32mreturn\u001b[0m \u001b[0mmodule\u001b[0m\u001b[1;33m\u001b[0m\u001b[1;33m\u001b[0m\u001b[0m\n",
      "\u001b[1;31mImportError\u001b[0m: Pandas requires version '3.0.0' or newer of 'jinja2' (version '2.11.2' currently installed)."
     ]
    }
   ],
   "source": [
    "# Most Common Neutral Words\n",
    "df_neu = Processed_df[Processed_df['sentiment'] == 'Neutral']\n",
    "top = Counter([item for sublist in df_neu['text_temp'] for item in sublist])\n",
    "temp_neutral = pd.DataFrame(top.most_common(20))\n",
    "temp_neutral.columns = ['Common_words','count']\n",
    "temp_neutral.style.background_gradient(cmap='Blues')"
   ]
  },
  {
   "cell_type": "code",
   "execution_count": 105,
   "metadata": {},
   "outputs": [
    {
     "data": {
      "image/png": "[encoded data removed]",
      "text/plain": [
       "<Figure size 1440x576 with 1 Axes>"
      ]
     },
     "metadata": {},
     "output_type": "display_data"
    }
   ],
   "source": [
    "plt.figure(figsize=(20,8))\n",
    "\n",
    "# Create labels with word counts\n",
    "word_neu = [f\"{word}\\n{count}\" for word, count in zip(temp_positive['Common_words'], temp_positive['count'])]\n",
    "\n",
    "squarify.plot(sizes=temp_neutral['count'], label=word_neu, alpha=0.8, color=sns.color_palette(\"Greens\", 10), text_kwargs={'fontsize':10})\n",
    "\n",
    "plt.title('Tree Map of the Most Common Neutral Words')\n",
    "plt.axis('off')\n",
    "\n",
    "plt.show()"
   ]
  },
  {
   "cell_type": "code",
   "execution_count": 106,
   "metadata": {},
   "outputs": [
    {
     "data": {
      "text/html": [
       "<div>\n",
       "<style scoped>\n",
       "    .dataframe tbody tr th:only-of-type {\n",
       "        vertical-align: middle;\n",
       "    }\n",
       "\n",
       "    .dataframe tbody tr th {\n",
       "        vertical-align: top;\n",
       "    }\n",
       "\n",
       "    .dataframe thead th {\n",
       "        text-align: right;\n",
       "    }\n",
       "</style>\n",
       "<table border=\"1\" class=\"dataframe tex2jax_ignore\">\n",
       "  <thead>\n",
       "    <tr style=\"text-align: right;\">\n",
       "      <th></th>\n",
       "      <th>Neutral Tweets</th>\n",
       "    </tr>\n",
       "  </thead>\n",
       "  <tbody>\n",
       "    <tr>\n",
       "      <th>0</th>\n",
       "      <td>gilbeys</td>\n",
       "    </tr>\n",
       "    <tr>\n",
       "      <th>1</th>\n",
       "      <td>los niu los nuevos para los que no sepan inglich</td>\n",
       "    </tr>\n",
       "    <tr>\n",
       "      <th>2</th>\n",
       "      <td>hurdles gunturkaaram sunc avvatlede</td>\n",
       "    </tr>\n",
       "    <tr>\n",
       "      <th>3</th>\n",
       "      <td>bu arada bilen bilir gordonsn olduu yerde gilbeys dezenfektan olarak kullanlr</td>\n",
       "    </tr>\n",
       "    <tr>\n",
       "      <th>4</th>\n",
       "      <td>asalu sandhya70 tickets okkataina konnarani kani ila evaro show teeskunnarani ekkadaina chusava least talked topic idi</td>\n",
       "    </tr>\n",
       "    <tr>\n",
       "      <th>...</th>\n",
       "      <td>...</td>\n",
       "    </tr>\n",
       "    <tr>\n",
       "      <th>37074</th>\n",
       "      <td>ray epps the man who directed people to go into the capitol and privately claimed credit for orchestrating the capitol breach gets one year probation nothing to see here</td>\n",
       "    </tr>\n",
       "    <tr>\n",
       "      <th>37075</th>\n",
       "      <td>lets be mutuals</td>\n",
       "    </tr>\n",
       "    <tr>\n",
       "      <th>37076</th>\n",
       "      <td>snow plowing is finished up time for a captain morgan and watch the fire burn</td>\n",
       "    </tr>\n",
       "    <tr>\n",
       "      <th>37077</th>\n",
       "      <td>2023 nfl fan of the year presented by captain morgan</td>\n",
       "    </tr>\n",
       "    <tr>\n",
       "      <th>37078</th>\n",
       "      <td>i thought levis was the answer</td>\n",
       "    </tr>\n",
       "  </tbody>\n",
       "</table>\n",
       "<p>37079 rows × 1 columns</p>\n",
       "</div>"
      ],
      "text/plain": [
       "                                                                                                                                                                  Neutral Tweets\n",
       "0                                                                                                                                                                        gilbeys\n",
       "1                                                                                                                               los niu los nuevos para los que no sepan inglich\n",
       "2                                                                                                                                            hurdles gunturkaaram sunc avvatlede\n",
       "3                                                                                                  bu arada bilen bilir gordonsn olduu yerde gilbeys dezenfektan olarak kullanlr\n",
       "4                                                         asalu sandhya70 tickets okkataina konnarani kani ila evaro show teeskunnarani ekkadaina chusava least talked topic idi\n",
       "...                                                                                                                                                                          ...\n",
       "37074  ray epps the man who directed people to go into the capitol and privately claimed credit for orchestrating the capitol breach gets one year probation nothing to see here\n",
       "37075                                                                                                                                                            lets be mutuals\n",
       "37076                                                                                              snow plowing is finished up time for a captain morgan and watch the fire burn\n",
       "37077                                                                                                                       2023 nfl fan of the year presented by captain morgan\n",
       "37078                                                                                                                                             i thought levis was the answer\n",
       "\n",
       "[37079 rows x 1 columns]"
      ]
     },
     "execution_count": 106,
     "metadata": {},
     "output_type": "execute_result"
    }
   ],
   "source": [
    "# Getting the most Neutral tweets\n",
    "\n",
    "y = 1\n",
    "sortedDF = Processed_df.sort_values(by = ['Polarity'], ascending = False).reset_index(drop=True)\n",
    "Neutral_tweets = []  # list to store Neutral tweets\n",
    "for i in range(0, sortedDF.shape[0]):\n",
    "  if(sortedDF['sentiment'][i] == 'Neutral'):\n",
    "    Neutral_tweets.append(sortedDF['text'][i])\n",
    "    y = y+1\n",
    "\n",
    "# Convert list to DataFrame\n",
    "Neutral_tweets_df = pd.DataFrame(Neutral_tweets, columns=['Neutral Tweets'])\n",
    "\n",
    "Neutral_tweets_df"
   ]
  },
  {
   "cell_type": "code",
   "execution_count": 107,
   "metadata": {},
   "outputs": [],
   "source": [
    "# save the dataframe to csv using the name 'processed_data.csv'\n",
    "\n",
    "Final_df = Processed_df[['clean_text', 'preprocessed_text', 'lemma_preprocessed_text', 'stemma_preprocessed_text', 'sentiment']]\n",
    "Final_df.to_csv('Final_data.csv', index=False)"
   ]
  },
  {
   "cell_type": "markdown",
   "metadata": {},
   "source": [
    "# Modelling"
   ]
  },
  {
   "cell_type": "markdown",
   "metadata": {},
   "source": [
    "In sentiment analysis, where the goal is to classify text into different sentiment categories (such as positive, negative, or neutral), several metrics can be used to evaluate the performance of a model. In our case, the metric of success to be used will be the F1 score, precision and recall. \n",
    "\n",
    "Precision and recall provide insights into the model's performance in correctly predicting positive instances and capturing all relevant positive instances, respectively. Precision is the ratio of true positives to the sum of true positives and false positives, while recall is the ratio of true positives to the sum of true positives and false negatives. \n",
    "\n",
    "Precision emphasizes the quality of positive predictions, while recall emphasizes the completeness of positive predictions\n",
    "\n",
    "The F1 score is the harmonic mean of precision and recall, providing a balance between the two metrics. It is particularly useful when there is an uneven distribution of classes in the dataset."
   ]
  },
  {
   "cell_type": "code",
   "execution_count": 108,
   "metadata": {},
   "outputs": [
    {
     "data": {
      "text/html": [
       "<div>\n",
       "<style scoped>\n",
       "    .dataframe tbody tr th:only-of-type {\n",
       "        vertical-align: middle;\n",
       "    }\n",
       "\n",
       "    .dataframe tbody tr th {\n",
       "        vertical-align: top;\n",
       "    }\n",
       "\n",
       "    .dataframe thead th {\n",
       "        text-align: right;\n",
       "    }\n",
       "</style>\n",
       "<table border=\"1\" class=\"dataframe tex2jax_ignore\">\n",
       "  <thead>\n",
       "    <tr style=\"text-align: right;\">\n",
       "      <th></th>\n",
       "      <th>clean_text</th>\n",
       "      <th>preprocessed_text</th>\n",
       "      <th>lemma_preprocessed_text</th>\n",
       "      <th>stemma_preprocessed_text</th>\n",
       "      <th>sentiment</th>\n",
       "    </tr>\n",
       "  </thead>\n",
       "  <tbody>\n",
       "    <tr>\n",
       "      <th>0</th>\n",
       "      <td>guys remember shaffie weru dj joe mfalmeneville musya fired home boys radio coz warned ladies happened starlet wahu pastor kanyari sizeabl got mad coz ladies listened likes john matara</td>\n",
       "      <td>guys remember shaffie weru dj joe mfalmeneville musya fired home boys radio coz warned ladies happened starlet wahu pastor kanyari sizeabl got mad coz ladies listened likes john matara</td>\n",
       "      <td>guy remember shaffie weru dj joe mfalmeneville musya fired home boy radio coz warned lady happened starlet wahu pastor kanyari sizeabl got mad coz lady listened like john matara</td>\n",
       "      <td>guy rememb shaffi weru dj joe mfalmenevil musya fire home boy radio coz warn ladi happen starlet wahu pastor kanyari sizeabl got mad coz ladi listen like john matara</td>\n",
       "      <td>Negative</td>\n",
       "    </tr>\n",
       "    <tr>\n",
       "      <th>1</th>\n",
       "      <td>drilling water kenneth matiba hospital makenji kandara gatanga near kenol kabati towns free donation eabl muranga county eabl partnership sorghum thanks eabl</td>\n",
       "      <td>drilling water kenneth matiba hospital makenji kandara gatanga near kenol kabati towns free donation eabl muranga county eabl partnership sorghum thanks eabl</td>\n",
       "      <td>drilling water kenneth matiba hospital makenji kandara gatanga near kenol kabati town free donation eabl muranga county eabl partnership sorghum thanks eabl</td>\n",
       "      <td>drill water kenneth matiba hospit makenji kandara gatanga near kenol kabati town free donat eabl muranga counti eabl partnership sorghum thank eabl</td>\n",
       "      <td>Positive</td>\n",
       "    </tr>\n",
       "    <tr>\n",
       "      <th>2</th>\n",
       "      <td>kenyans wakitambua hii beer eabl</td>\n",
       "      <td>kenyans wakitambua hii beer eabl</td>\n",
       "      <td>kenyan wakitambua hii beer eabl</td>\n",
       "      <td>kenyan wakitambua hii beer eabl</td>\n",
       "      <td>Neutral</td>\n",
       "    </tr>\n",
       "    <tr>\n",
       "      <th>3</th>\n",
       "      <td>thought eabl products unwanted mountain</td>\n",
       "      <td>thought eabl products unwanted mountain</td>\n",
       "      <td>thought eabl product unwanted mountain</td>\n",
       "      <td>thought eabl product unwant mountain</td>\n",
       "      <td>Neutral</td>\n",
       "    </tr>\n",
       "    <tr>\n",
       "      <th>4</th>\n",
       "      <td>unajua sai amafanya eabl anaweza tupea years supply ya balozi na singleton kama yobra wewe unapepeta tutablockiwa bana</td>\n",
       "      <td>unajua sai amafanya eabl anaweza tupea years supply ya balozi na singleton kama yobra wewe unapepeta tutablockiwa bana</td>\n",
       "      <td>unajua sai amafanya eabl anaweza tupea year supply ya balozi na singleton kama yobra wewe unapepeta tutablockiwa bana</td>\n",
       "      <td>unajua sai amafanya eabl anaweza tupea year suppli ya balozi na singleton kama yobra wew unapepeta tutablockiwa bana</td>\n",
       "      <td>Neutral</td>\n",
       "    </tr>\n",
       "  </tbody>\n",
       "</table>\n",
       "</div>"
      ],
      "text/plain": [
       "                                                                                                                                                                                 clean_text  \\\n",
       "0  guys remember shaffie weru dj joe mfalmeneville musya fired home boys radio coz warned ladies happened starlet wahu pastor kanyari sizeabl got mad coz ladies listened likes john matara   \n",
       "1                             drilling water kenneth matiba hospital makenji kandara gatanga near kenol kabati towns free donation eabl muranga county eabl partnership sorghum thanks eabl   \n",
       "2                                                                                                                                                          kenyans wakitambua hii beer eabl   \n",
       "3                                                                                                                                                   thought eabl products unwanted mountain   \n",
       "4                                                                    unajua sai amafanya eabl anaweza tupea years supply ya balozi na singleton kama yobra wewe unapepeta tutablockiwa bana   \n",
       "\n",
       "                                                                                                                                                                          preprocessed_text  \\\n",
       "0  guys remember shaffie weru dj joe mfalmeneville musya fired home boys radio coz warned ladies happened starlet wahu pastor kanyari sizeabl got mad coz ladies listened likes john matara   \n",
       "1                             drilling water kenneth matiba hospital makenji kandara gatanga near kenol kabati towns free donation eabl muranga county eabl partnership sorghum thanks eabl   \n",
       "2                                                                                                                                                          kenyans wakitambua hii beer eabl   \n",
       "3                                                                                                                                                   thought eabl products unwanted mountain   \n",
       "4                                                                    unajua sai amafanya eabl anaweza tupea years supply ya balozi na singleton kama yobra wewe unapepeta tutablockiwa bana   \n",
       "\n",
       "                                                                                                                                                             lemma_preprocessed_text  \\\n",
       "0  guy remember shaffie weru dj joe mfalmeneville musya fired home boy radio coz warned lady happened starlet wahu pastor kanyari sizeabl got mad coz lady listened like john matara   \n",
       "1                       drilling water kenneth matiba hospital makenji kandara gatanga near kenol kabati town free donation eabl muranga county eabl partnership sorghum thanks eabl   \n",
       "2                                                                                                                                                    kenyan wakitambua hii beer eabl   \n",
       "3                                                                                                                                             thought eabl product unwanted mountain   \n",
       "4                                                              unajua sai amafanya eabl anaweza tupea year supply ya balozi na singleton kama yobra wewe unapepeta tutablockiwa bana   \n",
       "\n",
       "                                                                                                                                                stemma_preprocessed_text  \\\n",
       "0  guy rememb shaffi weru dj joe mfalmenevil musya fire home boy radio coz warn ladi happen starlet wahu pastor kanyari sizeabl got mad coz ladi listen like john matara   \n",
       "1                    drill water kenneth matiba hospit makenji kandara gatanga near kenol kabati town free donat eabl muranga counti eabl partnership sorghum thank eabl   \n",
       "2                                                                                                                                        kenyan wakitambua hii beer eabl   \n",
       "3                                                                                                                                   thought eabl product unwant mountain   \n",
       "4                                                   unajua sai amafanya eabl anaweza tupea year suppli ya balozi na singleton kama yobra wew unapepeta tutablockiwa bana   \n",
       "\n",
       "  sentiment  \n",
       "0  Negative  \n",
       "1  Positive  \n",
       "2   Neutral  \n",
       "3   Neutral  \n",
       "4   Neutral  "
      ]
     },
     "execution_count": 108,
     "metadata": {},
     "output_type": "execute_result"
    }
   ],
   "source": [
    "final_df = pd.read_csv('Final_data.csv')\n",
    "\n",
    "final_df.head()"
   ]
  },
  {
   "cell_type": "code",
   "execution_count": 109,
   "metadata": {},
   "outputs": [
    {
     "data": {
      "text/html": [
       "<div>\n",
       "<style scoped>\n",
       "    .dataframe tbody tr th:only-of-type {\n",
       "        vertical-align: middle;\n",
       "    }\n",
       "\n",
       "    .dataframe tbody tr th {\n",
       "        vertical-align: top;\n",
       "    }\n",
       "\n",
       "    .dataframe thead th {\n",
       "        text-align: right;\n",
       "    }\n",
       "</style>\n",
       "<table border=\"1\" class=\"dataframe tex2jax_ignore\">\n",
       "  <thead>\n",
       "    <tr style=\"text-align: right;\">\n",
       "      <th></th>\n",
       "      <th>lemma_preprocessed_text</th>\n",
       "      <th>sentiment</th>\n",
       "    </tr>\n",
       "  </thead>\n",
       "  <tbody>\n",
       "    <tr>\n",
       "      <th>0</th>\n",
       "      <td>guy remember shaffie weru dj joe mfalmeneville musya fired home boy radio coz warned lady happened starlet wahu pastor kanyari sizeabl got mad coz lady listened like john matara</td>\n",
       "      <td>Negative</td>\n",
       "    </tr>\n",
       "    <tr>\n",
       "      <th>1</th>\n",
       "      <td>drilling water kenneth matiba hospital makenji kandara gatanga near kenol kabati town free donation eabl muranga county eabl partnership sorghum thanks eabl</td>\n",
       "      <td>Positive</td>\n",
       "    </tr>\n",
       "    <tr>\n",
       "      <th>2</th>\n",
       "      <td>kenyan wakitambua hii beer eabl</td>\n",
       "      <td>Neutral</td>\n",
       "    </tr>\n",
       "    <tr>\n",
       "      <th>3</th>\n",
       "      <td>thought eabl product unwanted mountain</td>\n",
       "      <td>Neutral</td>\n",
       "    </tr>\n",
       "    <tr>\n",
       "      <th>4</th>\n",
       "      <td>unajua sai amafanya eabl anaweza tupea year supply ya balozi na singleton kama yobra wewe unapepeta tutablockiwa bana</td>\n",
       "      <td>Neutral</td>\n",
       "    </tr>\n",
       "  </tbody>\n",
       "</table>\n",
       "</div>"
      ],
      "text/plain": [
       "                                                                                                                                                             lemma_preprocessed_text  \\\n",
       "0  guy remember shaffie weru dj joe mfalmeneville musya fired home boy radio coz warned lady happened starlet wahu pastor kanyari sizeabl got mad coz lady listened like john matara   \n",
       "1                       drilling water kenneth matiba hospital makenji kandara gatanga near kenol kabati town free donation eabl muranga county eabl partnership sorghum thanks eabl   \n",
       "2                                                                                                                                                    kenyan wakitambua hii beer eabl   \n",
       "3                                                                                                                                             thought eabl product unwanted mountain   \n",
       "4                                                              unajua sai amafanya eabl anaweza tupea year supply ya balozi na singleton kama yobra wewe unapepeta tutablockiwa bana   \n",
       "\n",
       "  sentiment  \n",
       "0  Negative  \n",
       "1  Positive  \n",
       "2   Neutral  \n",
       "3   Neutral  \n",
       "4   Neutral  "
      ]
     },
     "execution_count": 109,
     "metadata": {},
     "output_type": "execute_result"
    }
   ],
   "source": [
    "final_df=final_df[['lemma_preprocessed_text','sentiment']]\n",
    "final_df.head()"
   ]
  },
  {
   "cell_type": "code",
   "execution_count": 110,
   "metadata": {},
   "outputs": [
    {
     "name": "stdout",
     "output_type": "stream",
     "text": [
      "Index(['lemma_preprocessed_text', 'sentiment'], dtype='object')\n"
     ]
    }
   ],
   "source": [
    "#creating a function to get all columns of object type\n",
    "obj_list = final_df.select_dtypes(include = \"object\").columns\n",
    "print (obj_list)"
   ]
  },
  {
   "cell_type": "code",
   "execution_count": 111,
   "metadata": {},
   "outputs": [
    {
     "data": {
      "text/plain": [
       "((51008,), (12753,), (51008,), (12753,))"
      ]
     },
     "execution_count": 111,
     "metadata": {},
     "output_type": "execute_result"
    }
   ],
   "source": [
    "# import train test split and splitting the dataset\n",
    "from sklearn.model_selection import train_test_split\n",
    "\n",
    "\n",
    "X_train, X_test, y_train, y_test = train_test_split(final_df['lemma_preprocessed_text'],\n",
    "                                                    final_df['sentiment'],\n",
    "                                                    test_size=0.2,\n",
    "                                                    random_state = 0)\n",
    "\n",
    "X_train.shape, X_test.shape, y_train.shape, y_test.shape"
   ]
  },
  {
   "cell_type": "code",
   "execution_count": 112,
   "metadata": {},
   "outputs": [
    {
     "data": {
      "text/plain": [
       "array(['Negative', 'Neutral', 'Positive'], dtype=object)"
      ]
     },
     "execution_count": 112,
     "metadata": {},
     "output_type": "execute_result"
    }
   ],
   "source": [
    "#using label encode to encode the categorical columns\n",
    "from sklearn.preprocessing import LabelEncoder\n",
    "\n",
    "le = LabelEncoder()\n",
    "\n",
    "# transforming y_train and y_test\n",
    "y_train = le.fit_transform(y_train)\n",
    "y_test = le.transform(y_test)\n",
    "\n",
    "le.classes_"
   ]
  },
  {
   "cell_type": "code",
   "execution_count": 113,
   "metadata": {},
   "outputs": [
    {
     "name": "stdout",
     "output_type": "stream",
     "text": [
      "Requirement already satisfied: xgboost in c:\\users\\admin\\anaconda3\\envs\\learn-env\\lib\\site-packages (1.2.1)\n",
      "Requirement already satisfied: numpy in c:\\users\\admin\\anaconda3\\envs\\learn-env\\lib\\site-packages (from xgboost) (1.24.4)\n",
      "Requirement already satisfied: scipy in c:\\users\\admin\\anaconda3\\envs\\learn-env\\lib\\site-packages (from xgboost) (1.10.1)\n"
     ]
    }
   ],
   "source": [
    "!pip install xgboost"
   ]
  },
  {
   "cell_type": "code",
   "execution_count": 119,
   "metadata": {},
   "outputs": [
    {
     "name": "stdout",
     "output_type": "stream",
     "text": [
      "[[ 664  615   85]\n",
      " [  13 7366   23]\n",
      " [  96  905 2986]]\n",
      "--------------------------------------------------------------------------\n",
      "              precision    recall  f1-score   support\n",
      "\n",
      "           0       0.86      0.49      0.62      1364\n",
      "           1       0.83      1.00      0.90      7402\n",
      "           2       0.97      0.75      0.84      3987\n",
      "\n",
      "    accuracy                           0.86     12753\n",
      "   macro avg       0.88      0.74      0.79     12753\n",
      "weighted avg       0.87      0.86      0.86     12753\n",
      "\n"
     ]
    }
   ],
   "source": [
    "import xgboost as xgb\n",
    "from sklearn.feature_extraction.text import TfidfVectorizer\n",
    "\n",
    "# Instantiate the TF-IDF vectorizer\n",
    "tfidf_vectorizer = TfidfVectorizer()\n",
    "\n",
    "# Fit and transform the training data\n",
    "X_train_tfidf = tfidf_vectorizer.fit_transform(X_train)\n",
    "\n",
    "# Transform the test data\n",
    "X_test_tfidf = tfidf_vectorizer.transform(X_test)\n",
    "\n",
    "# Convert inputs to DMatrix format for XGBoost\n",
    "dtrain = xgb.DMatrix(X_train_tfidf, label=y_train)\n",
    "dtest = xgb.DMatrix(X_test_tfidf, label=y_test)\n",
    "\n",
    "\n",
    "# Define XGBoost model parameters\n",
    "params = {'objective': 'multi:softmax', 'num_class': 3, 'max_depth': 6,\n",
    "          'eta': 0.3, 'subsample': 0.6, 'colsample_bytree': 0.8}\n",
    "\n",
    "# Train the XGBoost model\n",
    "num_rounds = 50\n",
    "xgb_model = xgb.train(params, dtrain, num_rounds)\n",
    "\n",
    "# Use the XGBoost model to make predictions on the test set\n",
    "xgb_pred = xgb_model.predict(dtest)\n",
    "\n",
    "# Evaluate the performance\n",
    "from sklearn.metrics import classification_report,confusion_matrix\n",
    "\n",
    "confusion_matrix = confusion_matrix(y_test, xgb_pred)\n",
    "print(confusion_matrix)\n",
    "print('--------------------------------------------------------------------------')\n",
    "print(classification_report(y_test, xgb_pred))\n",
    "#print('Accuracy of our model is' + ' ' + str(accuracy_score(y_test, xgb_pred)))"
   ]
  },
  {
   "cell_type": "markdown",
   "metadata": {},
   "source": [
    "For class 0, the model has a precision of 0.87, meaning that when it predicts class 0, it is correct 87% of the time. The recall is 0.49, indicating that the model is capturing only 49% of the instances of class 0. The F1-score, which balances precision and recall, is 0.62.\n",
    "\n",
    "For class 1, the model has a high precision of 0.82, suggesting that when it predicts class 1, it is correct 82% of the time. The recall is very high at 0.99, indicating that the model is capturing almost all instances of class 1. The F1-score is also high at 0.90.\n",
    "\n",
    "For class 2, the model exhibits a high precision of 0.97, indicating that when it predicts class 2, it is correct 97% of the time. The recall is 0.74, suggesting that the model captures 74% of the instances of class 2. The F1-score is 0.84."
   ]
  },
  {
   "cell_type": "markdown",
   "metadata": {},
   "source": [
    "# Second model-Logistic regression"
   ]
  },
  {
   "cell_type": "code",
   "execution_count": 115,
   "metadata": {},
   "outputs": [],
   "source": [
    "from sklearn.metrics import classification_report, roc_curve, confusion_matrix\n",
    "from sklearn.metrics import ConfusionMatrixDisplay\n",
    "from sklearn.pipeline import Pipeline\n",
    "from sklearn.feature_extraction.text import TfidfVectorizer\n",
    "from sklearn.linear_model import LogisticRegression\n",
    "import numpy as np"
   ]
  },
  {
   "cell_type": "code",
   "execution_count": 116,
   "metadata": {},
   "outputs": [],
   "source": [
    "def multiclass_evaluation(y_true, y_pred, X_test, X_train, clf, n_class=3):\n",
    "    \n",
    "    #training and test scores\n",
    "    print(f\"Training Score: {round(clf.score(X_train, y_train),2)} \\\n",
    "            Test Score:{round(clf.score(X_test, y_true),2)}\")\n",
    "    \n",
    "    #Classification report\n",
    "    print(\"\\n\")\n",
    "    print(\"CLASSIFICATION REPORT\")\n",
    "    print(\"------------------------------------------\")\n",
    "    print(classification_report(y_true=y_true, y_pred=y_pred))\n",
    "    \n",
    "    #Creating a figure/axes for confusion matrix and ROC curve\n",
    "    fig, ax = plt.subplots(ncols=2, figsize=(20, 8))\n",
    "    \n",
    "    #Plotting the normalized confusion matrix\n",
    "    cm = confusion_matrix(y_true, y_pred)\n",
    "    cm = cm.astype('float') / cm.sum(axis=1)[:, np.newaxis]\n",
    "    disp = ConfusionMatrixDisplay(confusion_matrix=cm, \n",
    "                           display_labels=['Negative', 'Neutral', 'Positive'])\n",
    "    disp.plot(ax=ax[0], cmap='Greens')\n",
    "    ax[0].grid(False)  # Remove gridlines\n",
    "    \n",
    "    pred_prob = clf.predict_proba(X_test)\n",
    "    \n",
    "    #Plotting the ROC curve\n",
    "    fpr={}\n",
    "    tpr={}\n",
    "    thresh={}\n",
    "    \n",
    "    for i in range(n_class):    \n",
    "        fpr[i], tpr[i], thresh[i] = roc_curve(y_true, pred_prob[:,i], pos_label=i)\n",
    "    \n",
    "    ax[1].plot(fpr[0], tpr[0], linestyle='--',color='red', label='Negative vs Rest')\n",
    "    ax[1].plot(fpr[1], tpr[1], linestyle='--',color='blue', label='Neutral vs Rest')\n",
    "    ax[1].plot(fpr[2], tpr[2], linestyle='--',color='green', label='Positive vs Rest')\n",
    "    ax[1].set_title('Multiclass ROC curve')\n",
    "    ax[1].set_xlabel('False Positive Rate')\n",
    "    ax[1].set_ylabel('True Positive rate')\n",
    "    ax[1].legend(loc='best')\n",
    "    \n",
    "    #Plotting the 50-50 guessing plot for reference\n",
    "    ax[1].plot([0,1], [0,1], ls='--', color='orange')"
   ]
  },
  {
   "cell_type": "markdown",
   "metadata": {},
   "source": [
    "Baseline Logistic Regression Model"
   ]
  },
  {
   "cell_type": "code",
   "execution_count": 117,
   "metadata": {},
   "outputs": [
    {
     "name": "stdout",
     "output_type": "stream",
     "text": [
      "Training Score: 0.95             Test Score:0.91\n",
      "\n",
      "\n",
      "CLASSIFICATION REPORT\n",
      "------------------------------------------\n",
      "              precision    recall  f1-score   support\n",
      "\n",
      "           0       0.91      0.61      0.73      1364\n",
      "           1       0.90      0.99      0.94      7402\n",
      "           2       0.95      0.88      0.91      3987\n",
      "\n",
      "    accuracy                           0.91     12753\n",
      "   macro avg       0.92      0.83      0.86     12753\n",
      "weighted avg       0.92      0.91      0.91     12753\n",
      "\n"
     ]
    },
    {
     "data": {
      "image/png": "[encoded data removed]",
      "text/plain": [
       "<Figure size 1440x576 with 3 Axes>"
      ]
     },
     "metadata": {},
     "output_type": "display_data"
    }
   ],
   "source": [
    "log_base_clf = Pipeline([('vectorizer', TfidfVectorizer()),\n",
    "                                ('classifier', LogisticRegression())])\n",
    "\n",
    "log_base_clf.fit(X_train, y_train)\n",
    "\n",
    "# Making our predictions\n",
    "y_pred = log_base_clf.predict(X_test)\n",
    "\n",
    "\n",
    "multiclass_evaluation(y_test, y_pred, X_test, X_train, log_base_clf, n_class=3)"
   ]
  },
  {
   "cell_type": "markdown",
   "metadata": {},
   "source": [
    "For class zero, the precision of 0.90 indicates that when the model predicts class 0, it is correct 90% of the time. The recall of 0.61 suggests that the model captures only 61% of the actual instances of class 0. The F1-score, which balances precision and recall, is 0.73\n",
    "\n",
    "For class 1, the model shows high precision (90%), indicating a low false positive rate. The recall of 0.99 suggests that the model captures almost all instances of class 1. The F1-score is 0.94, indicating a robust balance between precision and recall.\n",
    "\n",
    "Class 2 has a high precision (95%), indicating a low false positive rate. The recall of 0.88 suggests that the model captures a significant portion of actual instances of class 2. The F1-score is 0.91, indicating a good overall performance.\n",
    "\n",
    "The overal accuracy of 91% indicates the proportion of correctly classified instances across all classes. It provides a general overview of the model's performance."
   ]
  },
  {
   "cell_type": "markdown",
   "metadata": {},
   "source": [
    "# Model 3: Random Forest"
   ]
  },
  {
   "cell_type": "code",
   "execution_count": 118,
   "metadata": {},
   "outputs": [
    {
     "name": "stdout",
     "output_type": "stream",
     "text": [
      "Training Score: 1.0             Test Score:0.93\n",
      "\n",
      "\n",
      "CLASSIFICATION REPORT\n",
      "------------------------------------------\n",
      "              precision    recall  f1-score   support\n",
      "\n",
      "           0       0.92      0.64      0.76      1364\n",
      "           1       0.93      0.99      0.96      7402\n",
      "           2       0.94      0.92      0.93      3987\n",
      "\n",
      "    accuracy                           0.93     12753\n",
      "   macro avg       0.93      0.85      0.88     12753\n",
      "weighted avg       0.93      0.93      0.93     12753\n",
      "\n"
     ]
    },
    {
     "data": {
      "image/png": "[encoded data removed]",
      "text/plain": [
       "<Figure size 1440x576 with 3 Axes>"
      ]
     },
     "metadata": {},
     "output_type": "display_data"
    }
   ],
   "source": [
    "base_rf_clf = Pipeline([('tfidf', TfidfVectorizer()),\n",
    "                        ('base_rf_clf', RandomForestClassifier(random_state=42))])\n",
    "\n",
    "base_rf_clf.fit(X_train, y_train)\n",
    "\n",
    "# Predicting the Test set results\n",
    "y_pred = base_rf_clf.predict(X_test)\n",
    "multiclass_evaluation(y_test, y_pred, X_test, X_train, base_rf_clf)"
   ]
  },
  {
   "cell_type": "markdown",
   "metadata": {},
   "source": [
    "For class 0, the precision of 0.92 indicates that when the model predicts class 0, it is correct 92% of the time. The recall of 0.63 suggests that the model captures only 63% of the actual instances of class 0. The F1-score, which balances precision and recall, is 0.75.\n",
    "\n",
    "For class 1, the model shows high precision (93%), indicating a low false positive rate. The recall of 0.99 suggests that the model captures almost all instances of class 1. The F1-score is 0.96, indicating a robust balance between precision and recall.\n",
    "\n",
    "Class 2 also has a high precision (93%), indicating a low false positive rate. The recall of 0.92 suggests that the model captures a significant portion of actual instances of class 2. The F1-score is 0.93, indicating a good overall performance.\n",
    "\n",
    "The average accuracy of 93% indicates the proportion of correctly classified instances across all classes. This indicates that the model has overally performed well."
   ]
  },
  {
   "cell_type": "markdown",
   "metadata": {},
   "source": [
    "# Model 4: Complement Naive Bayes"
   ]
  },
  {
   "cell_type": "markdown",
   "metadata": {},
   "source": [
    "Complement Naive Bayes (CNB) stands out as a modified version of the conventional Naive Bayes (NB) algorithm. Its design makes it particularly effective in handling imbalanced datasets, where there is a significant disparity in the distribution of classes, with one class being more prevalent than the others. CNB is tailored to address the challenges posed by skewed class distributions, making it a valuable choice in scenarios where traditional NB may encounter difficulties due to imbalances in the data."
   ]
  },
  {
   "cell_type": "code",
   "execution_count": 120,
   "metadata": {
    "scrolled": true
   },
   "outputs": [
    {
     "name": "stdout",
     "output_type": "stream",
     "text": [
      "Training Score: 0.88             Test Score:0.77\n",
      "\n",
      "\n",
      "CLASSIFICATION REPORT\n",
      "------------------------------------------\n",
      "              precision    recall  f1-score   support\n",
      "\n",
      "           0       0.61      0.49      0.54      1364\n",
      "           1       0.90      0.75      0.82      7402\n",
      "           2       0.67      0.91      0.77      3987\n",
      "\n",
      "    accuracy                           0.77     12753\n",
      "   macro avg       0.72      0.72      0.71     12753\n",
      "weighted avg       0.79      0.77      0.77     12753\n",
      "\n"
     ]
    },
    {
     "ename": "TypeError",
     "evalue": "'numpy.ndarray' object is not callable",
     "output_type": "error",
     "traceback": [
      "\u001b[1;31m---------------------------------------------------------------------------\u001b[0m",
      "\u001b[1;31mTypeError\u001b[0m                                 Traceback (most recent call last)",
      "\u001b[1;32m<ipython-input-120-57d378f5a3f2>\u001b[0m in \u001b[0;36m<module>\u001b[1;34m\u001b[0m\n\u001b[0;32m      8\u001b[0m \u001b[1;31m# Predicting the Test set results\u001b[0m\u001b[1;33m\u001b[0m\u001b[1;33m\u001b[0m\u001b[1;33m\u001b[0m\u001b[0m\n\u001b[0;32m      9\u001b[0m \u001b[0my_pred\u001b[0m \u001b[1;33m=\u001b[0m \u001b[0mbase_nb_clf\u001b[0m\u001b[1;33m.\u001b[0m\u001b[0mpredict\u001b[0m\u001b[1;33m(\u001b[0m\u001b[0mX_test\u001b[0m\u001b[1;33m)\u001b[0m\u001b[1;33m\u001b[0m\u001b[1;33m\u001b[0m\u001b[0m\n\u001b[1;32m---> 10\u001b[1;33m \u001b[0mmulticlass_evaluation\u001b[0m\u001b[1;33m(\u001b[0m\u001b[0my_test\u001b[0m\u001b[1;33m,\u001b[0m \u001b[0my_pred\u001b[0m\u001b[1;33m,\u001b[0m \u001b[0mX_test\u001b[0m\u001b[1;33m,\u001b[0m \u001b[0mX_train\u001b[0m\u001b[1;33m,\u001b[0m \u001b[0mbase_nb_clf\u001b[0m\u001b[1;33m)\u001b[0m\u001b[1;33m\u001b[0m\u001b[1;33m\u001b[0m\u001b[0m\n\u001b[0m",
      "\u001b[1;32m<ipython-input-116-96ecc53d6044>\u001b[0m in \u001b[0;36mmulticlass_evaluation\u001b[1;34m(y_true, y_pred, X_test, X_train, clf, n_class)\u001b[0m\n\u001b[0;32m     15\u001b[0m \u001b[1;33m\u001b[0m\u001b[0m\n\u001b[0;32m     16\u001b[0m     \u001b[1;31m#Plotting the normalized confusion matrix\u001b[0m\u001b[1;33m\u001b[0m\u001b[1;33m\u001b[0m\u001b[1;33m\u001b[0m\u001b[0m\n\u001b[1;32m---> 17\u001b[1;33m     \u001b[0mcm\u001b[0m \u001b[1;33m=\u001b[0m \u001b[0mconfusion_matrix\u001b[0m\u001b[1;33m(\u001b[0m\u001b[0my_true\u001b[0m\u001b[1;33m,\u001b[0m \u001b[0my_pred\u001b[0m\u001b[1;33m)\u001b[0m\u001b[1;33m\u001b[0m\u001b[1;33m\u001b[0m\u001b[0m\n\u001b[0m\u001b[0;32m     18\u001b[0m     \u001b[0mcm\u001b[0m \u001b[1;33m=\u001b[0m \u001b[0mcm\u001b[0m\u001b[1;33m.\u001b[0m\u001b[0mastype\u001b[0m\u001b[1;33m(\u001b[0m\u001b[1;34m'float'\u001b[0m\u001b[1;33m)\u001b[0m \u001b[1;33m/\u001b[0m \u001b[0mcm\u001b[0m\u001b[1;33m.\u001b[0m\u001b[0msum\u001b[0m\u001b[1;33m(\u001b[0m\u001b[0maxis\u001b[0m\u001b[1;33m=\u001b[0m\u001b[1;36m1\u001b[0m\u001b[1;33m)\u001b[0m\u001b[1;33m[\u001b[0m\u001b[1;33m:\u001b[0m\u001b[1;33m,\u001b[0m \u001b[0mnp\u001b[0m\u001b[1;33m.\u001b[0m\u001b[0mnewaxis\u001b[0m\u001b[1;33m]\u001b[0m\u001b[1;33m\u001b[0m\u001b[1;33m\u001b[0m\u001b[0m\n\u001b[0;32m     19\u001b[0m     disp = ConfusionMatrixDisplay(confusion_matrix=cm, \n",
      "\u001b[1;31mTypeError\u001b[0m: 'numpy.ndarray' object is not callable"
     ]
    },
    {
     "data": {
      "image/png": "[encoded data removed]",
      "text/plain": [
       "<Figure size 1440x576 with 2 Axes>"
      ]
     },
     "metadata": {},
     "output_type": "display_data"
    }
   ],
   "source": [
    "from sklearn.naive_bayes import ComplementNB\n",
    "\n",
    "base_nb_clf = Pipeline([('tfidf', TfidfVectorizer()),\n",
    "                        ('base_nb_clf', ComplementNB())])\n",
    "\n",
    "base_nb_clf.fit(X_train, y_train)\n",
    "\n",
    "# Predicting the Test set results\n",
    "y_pred = base_nb_clf.predict(X_test)\n",
    "multiclass_evaluation(y_test, y_pred, X_test, X_train, base_nb_clf)"
   ]
  },
  {
   "cell_type": "markdown",
   "metadata": {},
   "source": [
    "For class 0, a precision of 0.61 indicates that 61% of instances predicted as class 0 were correct, recall of 0.49 suggests that the model is less effective at capturing all instances of class 0 while an F1-score of 0.54 is a balance between precision and recall for class 0.\n",
    "\n",
    "For class 1, high precision of 0.90 indicates the model's proficiency in correctly identifying class 1 instances and a recall of 0.75 means the model captures a substantial proportion of class 1 instances.\n",
    "\n",
    "For class 2, a precision of 0.67 shows a moderate ability to accurately predict class 2 instances while a high recall of 0.91 implies the model is excellent at identifying class 2 instances.\n",
    "\n",
    "The model achieves an overall accuracy of 0.77, correctly predicting class labels for 77% of instances."
   ]
  },
  {
   "cell_type": "markdown",
   "metadata": {},
   "source": [
    "# Hyperparameter tuning of the models"
   ]
  },
  {
   "cell_type": "markdown",
   "metadata": {},
   "source": [
    "### Tuned xgboost Model"
   ]
  },
  {
   "cell_type": "code",
   "execution_count": 121,
   "metadata": {},
   "outputs": [],
   "source": [
    "import xgboost as xgb\n",
    "from sklearn.feature_extraction.text import TfidfVectorizer\n",
    "from sklearn.model_selection import GridSearchCV\n",
    "from sklearn.metrics import make_scorer, accuracy_score\n"
   ]
  },
  {
   "cell_type": "code",
   "execution_count": 122,
   "metadata": {},
   "outputs": [
    {
     "name": "stdout",
     "output_type": "stream",
     "text": [
      "Fitting 3 folds for each of 5 candidates, totalling 15 fits\n",
      "Best Parameters: {'subsample': 1.0, 'n_estimators': 50, 'max_depth': 6, 'learning_rate': 0.2, 'colsample_bytree': 0.8}\n",
      "--------------------------------------------------------------------------\n",
      "Classification Report:\n",
      "              precision    recall  f1-score   support\n",
      "\n",
      "           0       0.85      0.36      0.51      1364\n",
      "           1       0.79      1.00      0.88      7402\n",
      "           2       0.97      0.69      0.81      3987\n",
      "\n",
      "    accuracy                           0.83     12753\n",
      "   macro avg       0.87      0.68      0.73     12753\n",
      "weighted avg       0.85      0.83      0.82     12753\n",
      "\n"
     ]
    }
   ],
   "source": [
    "from sklearn.model_selection import RandomizedSearchCV\n",
    "# Instantiating the TF-IDF vectorizer\n",
    "tfidf_vectorizer = TfidfVectorizer()\n",
    "\n",
    "# Fitting and transform the training data\n",
    "X_train_tfidf = tfidf_vectorizer.fit_transform(X_train)\n",
    "X_test_tfidf = tfidf_vectorizer.transform(X_test)\n",
    "\n",
    "# Defining a smaller parameter grid to minimize runtime\n",
    "param_dist = {\n",
    "    'max_depth': [3, 6],\n",
    "    'learning_rate': [0.1, 0.2],\n",
    "    'subsample': [0.8, 1.0],\n",
    "    'colsample_bytree': [0.8, 1.0],\n",
    "    'n_estimators': [50, 100]\n",
    "}\n",
    "\n",
    "# Using RandomizedSearchCV\n",
    "random_search = RandomizedSearchCV(estimator=xgb.XGBClassifier(objective='multi:softmax', num_class=3),\n",
    "                                   param_distributions=param_dist,\n",
    "                                   scoring='accuracy',\n",
    "                                   cv=3,\n",
    "                                   n_iter=5,\n",
    "                                   verbose=2,\n",
    "                                   n_jobs=-1)\n",
    "random_search.fit(X_train_tfidf, y_train)\n",
    "\n",
    "# Get the best parameters and best model\n",
    "best_params = random_search.best_params_\n",
    "best_model = random_search.best_estimator_\n",
    "\n",
    "# Use the best model to make predictions on the test set\n",
    "random_search_pred = best_model.predict(X_test_tfidf)\n",
    "\n",
    "# Evaluate the performance of the best model\n",
    "print(\"Best Parameters:\", best_params)\n",
    "print('--------------------------------------------------------------------------')\n",
    "print(\"Classification Report:\")\n",
    "print(classification_report(y_test, random_search_pred))"
   ]
  },
  {
   "cell_type": "markdown",
   "metadata": {},
   "source": [
    "The tuned model has not shown any improvement in performance as compared to the baseline model. For class 0, the model has a precision of 0.84, meaning that when it predicts class 0, it is correct 84% of the time. The recall is 0.40, indicating that the model is capturing only 40% of the instances of class 0. The F1-score, which balances precision and recall, is 0.54.\n",
    "\n",
    "For class 1, the model's precision score has reduced to 0.80, suggesting that when it predicts class 1, it is correct 80% of the time. The recall is very high at 1.00, indicating that the model is capturing all instances of class 1. The F1-score is also high at 0.89.\n",
    "\n",
    "For class 2, the model exhibits a high precision of 0.96, indicating that when it predicts class 2, it is correct 96% of the time. The recall is 0.69, suggesting that the model captures 69% of the instances of class 2. The F1-score is 0.80. The model's average accuracy has reduced to 0.84(84%). This means the tuned XGboost model correctly predicted the class labels for 84% of the instances in the dataset."
   ]
  },
  {
   "cell_type": "markdown",
   "metadata": {},
   "source": [
    "### Tuned Logistic Regression model"
   ]
  },
  {
   "cell_type": "code",
   "execution_count": 123,
   "metadata": {},
   "outputs": [
    {
     "name": "stdout",
     "output_type": "stream",
     "text": [
      "Fitting 5 folds for each of 10 candidates, totalling 50 fits\n",
      "Training Score: 1.0             Test Score:0.97\n",
      "\n",
      "\n",
      "CLASSIFICATION REPORT\n",
      "------------------------------------------\n",
      "              precision    recall  f1-score   support\n",
      "\n",
      "           0       0.92      0.88      0.90      1364\n",
      "           1       0.97      0.99      0.98      7402\n",
      "           2       0.97      0.96      0.97      3987\n",
      "\n",
      "    accuracy                           0.97     12753\n",
      "   macro avg       0.96      0.94      0.95     12753\n",
      "weighted avg       0.97      0.97      0.97     12753\n",
      "\n"
     ]
    },
    {
     "ename": "TypeError",
     "evalue": "'numpy.ndarray' object is not callable",
     "output_type": "error",
     "traceback": [
      "\u001b[1;31m---------------------------------------------------------------------------\u001b[0m",
      "\u001b[1;31mTypeError\u001b[0m                                 Traceback (most recent call last)",
      "\u001b[1;32m<ipython-input-123-b724248b7a71>\u001b[0m in \u001b[0;36m<module>\u001b[1;34m\u001b[0m\n\u001b[0;32m     22\u001b[0m \u001b[1;33m\u001b[0m\u001b[0m\n\u001b[0;32m     23\u001b[0m \u001b[1;31m# Performing evaluation\u001b[0m\u001b[1;33m\u001b[0m\u001b[1;33m\u001b[0m\u001b[1;33m\u001b[0m\u001b[0m\n\u001b[1;32m---> 24\u001b[1;33m \u001b[0mmulticlass_evaluation\u001b[0m\u001b[1;33m(\u001b[0m\u001b[0my_test\u001b[0m\u001b[1;33m,\u001b[0m \u001b[0my_pred\u001b[0m\u001b[1;33m,\u001b[0m \u001b[0mX_test\u001b[0m\u001b[1;33m,\u001b[0m \u001b[0mX_train\u001b[0m\u001b[1;33m,\u001b[0m \u001b[0mtuned_log_clf_CV\u001b[0m\u001b[1;33m)\u001b[0m\u001b[1;33m\u001b[0m\u001b[1;33m\u001b[0m\u001b[0m\n\u001b[0m",
      "\u001b[1;32m<ipython-input-116-96ecc53d6044>\u001b[0m in \u001b[0;36mmulticlass_evaluation\u001b[1;34m(y_true, y_pred, X_test, X_train, clf, n_class)\u001b[0m\n\u001b[0;32m     15\u001b[0m \u001b[1;33m\u001b[0m\u001b[0m\n\u001b[0;32m     16\u001b[0m     \u001b[1;31m#Plotting the normalized confusion matrix\u001b[0m\u001b[1;33m\u001b[0m\u001b[1;33m\u001b[0m\u001b[1;33m\u001b[0m\u001b[0m\n\u001b[1;32m---> 17\u001b[1;33m     \u001b[0mcm\u001b[0m \u001b[1;33m=\u001b[0m \u001b[0mconfusion_matrix\u001b[0m\u001b[1;33m(\u001b[0m\u001b[0my_true\u001b[0m\u001b[1;33m,\u001b[0m \u001b[0my_pred\u001b[0m\u001b[1;33m)\u001b[0m\u001b[1;33m\u001b[0m\u001b[1;33m\u001b[0m\u001b[0m\n\u001b[0m\u001b[0;32m     18\u001b[0m     \u001b[0mcm\u001b[0m \u001b[1;33m=\u001b[0m \u001b[0mcm\u001b[0m\u001b[1;33m.\u001b[0m\u001b[0mastype\u001b[0m\u001b[1;33m(\u001b[0m\u001b[1;34m'float'\u001b[0m\u001b[1;33m)\u001b[0m \u001b[1;33m/\u001b[0m \u001b[0mcm\u001b[0m\u001b[1;33m.\u001b[0m\u001b[0msum\u001b[0m\u001b[1;33m(\u001b[0m\u001b[0maxis\u001b[0m\u001b[1;33m=\u001b[0m\u001b[1;36m1\u001b[0m\u001b[1;33m)\u001b[0m\u001b[1;33m[\u001b[0m\u001b[1;33m:\u001b[0m\u001b[1;33m,\u001b[0m \u001b[0mnp\u001b[0m\u001b[1;33m.\u001b[0m\u001b[0mnewaxis\u001b[0m\u001b[1;33m]\u001b[0m\u001b[1;33m\u001b[0m\u001b[1;33m\u001b[0m\u001b[0m\n\u001b[0;32m     19\u001b[0m     disp = ConfusionMatrixDisplay(confusion_matrix=cm, \n",
      "\u001b[1;31mTypeError\u001b[0m: 'numpy.ndarray' object is not callable"
     ]
    },
    {
     "data": {
      "image/png": "[encoded data removed]",
      "text/plain": [
       "<Figure size 1440x576 with 2 Axes>"
      ]
     },
     "metadata": {},
     "output_type": "display_data"
    }
   ],
   "source": [
    "# Defining the pipeline\n",
    "tuned_log_clf = Pipeline([\n",
    "    ('tfidf', TfidfVectorizer()),\n",
    "    ('tuned_log_clf', LogisticRegression())\n",
    "])\n",
    "\n",
    "# Defining the parameter grid for tuning\n",
    "param_grid = {\n",
    "    'tuned_log_clf__C': [0.01, 0.1, 1, 10, 100],\n",
    "    'tuned_log_clf__penalty': ['l1', 'l2'],\n",
    "    'tuned_log_clf__solver': ['liblinear']\n",
    "}\n",
    "\n",
    "# Creating the GridSearchCV object\n",
    "tuned_log_clf_CV = GridSearchCV(tuned_log_clf, param_grid, cv=5, verbose=1, n_jobs=-1)\n",
    "\n",
    "# Fitting the model\n",
    "tuned_log_clf_CV.fit(X_train, y_train)\n",
    "\n",
    "# Making predictions on the test set\n",
    "y_pred = tuned_log_clf_CV.predict(X_test)\n",
    "\n",
    "# Performing evaluation \n",
    "multiclass_evaluation(y_test, y_pred, X_test, X_train, tuned_log_clf_CV)"
   ]
  },
  {
   "cell_type": "markdown",
   "metadata": {},
   "source": [
    "The tuned model has significantly improved the performance of the model. For class zero, the precision of 0.92 indicates that when the model predicts class 0, it is correct 92% of the time. The recall of 0.88 suggests that the model captures 88% of the actual instances of class 0. The F1-score, which balances precision and recall, is 0.90\n",
    "\n",
    "For class 1, the model shows high precision (97%), indicating a low false positive rate. The recall of 0.99 suggests that the model captures almost all instances of class 1. The F1-score is 0.98, indicating a very robust balance between precision and recall.\n",
    "\n",
    "Class 2 has a high precision (97%), also indicating a low false positive rate. The recall of 0.96 suggests that the model captures a significant portion of actual instances of class 2. The F1-score is 0.97, indicating a good overall performance.\n",
    "\n",
    "The overal accuracy of 97% indicates the proportion of correctly classified instances across all classes. It provides a general overview of the model's performance."
   ]
  },
  {
   "cell_type": "markdown",
   "metadata": {},
   "source": [
    "### Tuned Random Forest model"
   ]
  },
  {
   "cell_type": "code",
   "execution_count": null,
   "metadata": {},
   "outputs": [],
   "source": [
    "# Define the pipeline with the RandomForestClassifier\n",
    "tuned_rf_clf = Pipeline([\n",
    "    ('tfidf', TfidfVectorizer()),\n",
    "    ('tuned_rf_clf', RandomForestClassifier(random_state=42))\n",
    "])\n",
    "\n",
    "# Define a smaller parameter grid for quicker search\n",
    "param_grid = {\n",
    "    'tuned_rf_clf__n_estimators': [50, 100],\n",
    "    'tuned_rf_clf__max_depth': [None, 10],\n",
    "    'tuned_rf_clf__min_samples_split': [2, 5],\n",
    "    'tuned_rf_clf__min_samples_leaf': [1, 2]\n",
    "}\n",
    "\n",
    "# Use a smaller number of cross-validation folds\n",
    "cv_folds = 3\n",
    "\n",
    "# Create the GridSearchCV object\n",
    "tuned_rf_clf_CV = GridSearchCV(tuned_rf_clf, param_grid, cv=cv_folds, verbose=1, n_jobs=-1, scoring='accuracy')\n",
    "\n",
    "# Fit the model\n",
    "tuned_rf_clf_CV.fit(X_train, y_train)\n",
    "\n",
    "# Print the best hyperparameters\n",
    "print(\"Best Hyperparameters:\", tuned_rf_clf_CV.best_params_)\n",
    "\n",
    "# Make predictions on the test set using the best model\n",
    "y_pred = tuned_rf_clf_CV.predict(X_test)\n",
    "\n",
    "# Perform evaluation \n",
    "multiclass_evaluation(y_test, y_pred, X_test, X_train, tuned_rf_clf_CV)"
   ]
  },
  {
   "cell_type": "markdown",
   "metadata": {},
   "source": [
    "The results shows that after tuning the model, its performance has improved for class zero(0) and remained the same for classes 1 and 2. For class 0, the precision of 0.93 indicates that when the model predicts class 0, it is correct 93% of the time. The recall of 0.64 suggests that the model captures only 64% of the actual instances of class 0. The F1-score, which balances precision and recall, is 0.75.\n",
    "\n",
    "For class 1, the model shows high precision (93%), indicating a low false positive rate. The recall of 0.99 suggests that the model captures almost all instances of class 1. The F1-score is 0.96, indicating a robust balance between precision and recall.\n",
    "\n",
    "Class 2 also has a high precision (93%), indicating a low false positive rate. The recall of 0.92 suggests that the model captures a significant portion of actual instances of class 2. The F1-score is 0.93, indicating a good overall performance.\n",
    "\n",
    "The average accuracy of 93% indicates the proportion of correctly classified instances across all classes. This indicates that the model has overally performed well."
   ]
  },
  {
   "cell_type": "markdown",
   "metadata": {},
   "source": [
    "### Tuned Complement Naive Bayes"
   ]
  },
  {
   "cell_type": "code",
   "execution_count": null,
   "metadata": {},
   "outputs": [],
   "source": [
    "# Defining the pipeline with the Complement Naive Bayes classifier\n",
    "tuned_nb_clf = Pipeline([\n",
    "    ('tfidf', TfidfVectorizer()),\n",
    "    ('tuned_nb_clf', ComplementNB())\n",
    "])\n",
    "\n",
    "# Defining the parameter grid for hyperparameter tuning\n",
    "param_grid = {\n",
    "    'tuned_nb_clf__alpha': [0.1, 0.5, 1.0, 1.5, 2.0],\n",
    "    'tuned_nb_clf__fit_prior': [True, False]\n",
    "}\n",
    "\n",
    "# Creating the GridSearchCV object\n",
    "tuned_nb_clf_CV = GridSearchCV(tuned_nb_clf, param_grid, cv=5, verbose=1, n_jobs=-1, scoring='accuracy')\n",
    "\n",
    "# Fitting the model\n",
    "tuned_nb_clf_CV.fit(X_train, y_train)\n",
    "\n",
    "# Print the best hyperparameters\n",
    "print(\"Best Hyperparameters:\", tuned_nb_clf_CV.best_params_)\n",
    "\n",
    "# Make predictions on the test set using the best model\n",
    "y_pred = tuned_# Save the model\n",
    "joblib.dumpnb_clf_CV.predict(X_test)\n",
    "\n",
    "# Perform evaluation \n",
    "multiclass_evaluation(y_test, y_pred, X_test, X_train, tuned_nb_clf_CV)"
   ]
  },
  {
   "cell_type": "markdown",
   "metadata": {},
   "source": [
    "After tuning the model, its perfornace has improved on some metrics and dropped on others. For class 0, a precision of 0.61 indicates that 61% of instances predicted as class 0 were correct, recall of 0.37 suggests that the model is less effective at capturing all instances of class 0 while an F1-score of 0.46 is a balance between precision and recall for class 0.\n",
    "\n",
    "For class 1, high precision of 0.88 indicates the model's proficiency in correctly identifying class 1 instances and a recall of 0.79 means the model captures a substantial proportion of class 1 instances.\n",
    "\n",
    "For class 2, a precision of 0.68 shows a moderate ability to accurately predict class 2 instances while a high recall of 0.90 implies the model is excellent at identifying class 2 instances.\n",
    "\n",
    "The model achieves an overall accuracy of 0.78, correctly predicting class labels for 78% of instances."
   ]
  },
  {
   "cell_type": "code",
   "execution_count": 127,
   "metadata": {},
   "outputs": [
    {
     "name": "stdout",
     "output_type": "stream",
     "text": [
      "Collecting streamlit\n",
      "  Downloading streamlit-1.30.0-py2.py3-none-any.whl.metadata (8.2 kB)\n",
      "Collecting altair<6,>=4.0 (from streamlit)\n",
      "  Downloading altair-5.2.0-py3-none-any.whl.metadata (8.7 kB)\n",
      "Collecting blinker<2,>=1.0.0 (from streamlit)\n",
      "  Downloading blinker-1.7.0-py3-none-any.whl.metadata (1.9 kB)\n",
      "Requirement already satisfied: cachetools<6,>=4.0 in c:\\users\\admin\\anaconda3\\envs\\learn-env\\lib\\site-packages (from streamlit) (4.1.1)\n",
      "Requirement already satisfied: click<9,>=7.0 in c:\\users\\admin\\anaconda3\\envs\\learn-env\\lib\\site-packages (from streamlit) (7.1.2)\n",
      "Requirement already satisfied: importlib-metadata<8,>=1.4 in c:\\users\\admin\\anaconda3\\envs\\learn-env\\lib\\site-packages (from streamlit) (7.0.1)\n",
      "Requirement already satisfied: numpy<2,>=1.19.3 in c:\\users\\admin\\anaconda3\\envs\\learn-env\\lib\\site-packages (from streamlit) (1.24.4)\n",
      "Requirement already satisfied: packaging<24,>=16.8 in c:\\users\\admin\\anaconda3\\envs\\learn-env\\lib\\site-packages (from streamlit) (23.2)\n",
      "Requirement already satisfied: pandas<3,>=1.3.0 in c:\\users\\admin\\anaconda3\\envs\\learn-env\\lib\\site-packages (from streamlit) (2.0.3)\n",
      "Requirement already satisfied: pillow<11,>=7.1.0 in c:\\users\\admin\\anaconda3\\envs\\learn-env\\lib\\site-packages (from streamlit) (8.0.0)\n",
      "Collecting protobuf<5,>=3.20 (from streamlit)\n",
      "  Downloading protobuf-4.25.2-cp38-cp38-win_amd64.whl.metadata (541 bytes)\n",
      "Collecting pyarrow>=6.0 (from streamlit)\n",
      "  Downloading pyarrow-15.0.0-cp38-cp38-win_amd64.whl.metadata (3.1 kB)\n",
      "Requirement already satisfied: python-dateutil<3,>=2.7.3 in c:\\users\\admin\\anaconda3\\envs\\learn-env\\lib\\site-packages (from streamlit) (2.8.2)\n",
      "Collecting requests<3,>=2.27 (from streamlit)\n",
      "  Downloading requests-2.31.0-py3-none-any.whl.metadata (4.6 kB)\n",
      "Collecting rich<14,>=10.14.0 (from streamlit)\n",
      "  Downloading rich-13.7.0-py3-none-any.whl.metadata (18 kB)\n",
      "Collecting tenacity<9,>=8.1.0 (from streamlit)\n",
      "  Downloading tenacity-8.2.3-py3-none-any.whl.metadata (1.0 kB)\n",
      "Collecting toml<2,>=0.10.1 (from streamlit)\n",
      "  Downloading toml-0.10.2-py2.py3-none-any.whl (16 kB)\n",
      "Requirement already satisfied: typing-extensions<5,>=4.3.0 in c:\\users\\admin\\anaconda3\\envs\\learn-env\\lib\\site-packages (from streamlit) (4.8.0)\n",
      "Collecting tzlocal<6,>=1.1 (from streamlit)\n",
      "  Downloading tzlocal-5.2-py3-none-any.whl.metadata (7.8 kB)\n",
      "Collecting validators<1,>=0.2 (from streamlit)\n",
      "  Downloading validators-0.22.0-py3-none-any.whl.metadata (4.7 kB)\n",
      "Collecting gitpython!=3.1.19,<4,>=3.0.7 (from streamlit)\n",
      "  Downloading GitPython-3.1.41-py3-none-any.whl.metadata (14 kB)\n",
      "Collecting pydeck<1,>=0.8.0b4 (from streamlit)\n",
      "  Downloading pydeck-0.8.1b0-py2.py3-none-any.whl (4.8 MB)\n",
      "     ---------------------------------------- 4.8/4.8 MB 1.0 MB/s eta 0:00:00\n",
      "Requirement already satisfied: tornado<7,>=6.0.3 in c:\\users\\admin\\anaconda3\\envs\\learn-env\\lib\\site-packages (from streamlit) (6.0.4)\n",
      "Collecting watchdog>=2.1.5 (from streamlit)\n",
      "  Downloading watchdog-3.0.0-py3-none-win_amd64.whl (82 kB)\n",
      "     ---------------------------------------- 82.0/82.0 kB 1.1 MB/s eta 0:00:00\n",
      "Requirement already satisfied: jinja2 in c:\\users\\admin\\anaconda3\\envs\\learn-env\\lib\\site-packages (from altair<6,>=4.0->streamlit) (3.1.3)\n",
      "Requirement already satisfied: jsonschema>=3.0 in c:\\users\\admin\\anaconda3\\envs\\learn-env\\lib\\site-packages (from altair<6,>=4.0->streamlit) (3.2.0)\n",
      "Collecting toolz (from altair<6,>=4.0->streamlit)\n",
      "  Downloading toolz-0.12.1-py3-none-any.whl.metadata (5.1 kB)\n",
      "Collecting gitdb<5,>=4.0.1 (from gitpython!=3.1.19,<4,>=3.0.7->streamlit)\n",
      "  Downloading gitdb-4.0.11-py3-none-any.whl.metadata (1.2 kB)\n",
      "Requirement already satisfied: zipp>=0.5 in c:\\users\\admin\\anaconda3\\envs\\learn-env\\lib\\site-packages (from importlib-metadata<8,>=1.4->streamlit) (3.3.0)\n",
      "Requirement already satisfied: pytz>=2020.1 in c:\\users\\admin\\anaconda3\\envs\\learn-env\\lib\\site-packages (from pandas<3,>=1.3.0->streamlit) (2020.1)\n",
      "Requirement already satisfied: tzdata>=2022.1 in c:\\users\\admin\\anaconda3\\envs\\learn-env\\lib\\site-packages (from pandas<3,>=1.3.0->streamlit) (2023.4)\n",
      "Requirement already satisfied: six>=1.5 in c:\\users\\admin\\anaconda3\\envs\\learn-env\\lib\\site-packages (from python-dateutil<3,>=2.7.3->streamlit) (1.15.0)\n",
      "Collecting charset-normalizer<4,>=2 (from requests<3,>=2.27->streamlit)\n",
      "  Downloading charset_normalizer-3.3.2-cp38-cp38-win_amd64.whl.metadata (34 kB)\n",
      "Requirement already satisfied: idna<4,>=2.5 in c:\\users\\admin\\anaconda3\\envs\\learn-env\\lib\\site-packages (from requests<3,>=2.27->streamlit) (2.10)\n",
      "Requirement already satisfied: urllib3<3,>=1.21.1 in c:\\users\\admin\\anaconda3\\envs\\learn-env\\lib\\site-packages (from requests<3,>=2.27->streamlit) (1.25.10)\n",
      "Requirement already satisfied: certifi>=2017.4.17 in c:\\users\\admin\\anaconda3\\envs\\learn-env\\lib\\site-packages (from requests<3,>=2.27->streamlit) (2023.11.17)\n",
      "Collecting markdown-it-py>=2.2.0 (from rich<14,>=10.14.0->streamlit)\n",
      "  Downloading markdown_it_py-3.0.0-py3-none-any.whl.metadata (6.9 kB)\n",
      "Collecting pygments<3.0.0,>=2.13.0 (from rich<14,>=10.14.0->streamlit)\n",
      "  Downloading pygments-2.17.2-py3-none-any.whl.metadata (2.6 kB)\n",
      "Collecting backports.zoneinfo (from tzlocal<6,>=1.1->streamlit)\n",
      "  Downloading backports.zoneinfo-0.2.1-cp38-cp38-win_amd64.whl (38 kB)\n",
      "Collecting smmap<6,>=3.0.1 (from gitdb<5,>=4.0.1->gitpython!=3.1.19,<4,>=3.0.7->streamlit)\n",
      "  Downloading smmap-5.0.1-py3-none-any.whl.metadata (4.3 kB)\n",
      "Requirement already satisfied: MarkupSafe>=2.0 in c:\\users\\admin\\anaconda3\\envs\\learn-env\\lib\\site-packages (from jinja2->altair<6,>=4.0->streamlit) (2.1.4)\n",
      "Requirement already satisfied: attrs>=17.4.0 in c:\\users\\admin\\anaconda3\\envs\\learn-env\\lib\\site-packages (from jsonschema>=3.0->altair<6,>=4.0->streamlit) (20.2.0)\n",
      "Requirement already satisfied: pyrsistent>=0.14.0 in c:\\users\\admin\\anaconda3\\envs\\learn-env\\lib\\site-packages (from jsonschema>=3.0->altair<6,>=4.0->streamlit) (0.17.3)\n",
      "Requirement already satisfied: setuptools in c:\\users\\admin\\anaconda3\\envs\\learn-env\\lib\\site-packages (from jsonschema>=3.0->altair<6,>=4.0->streamlit) (50.3.0.post20201103)\n",
      "Collecting mdurl~=0.1 (from markdown-it-py>=2.2.0->rich<14,>=10.14.0->streamlit)\n",
      "  Downloading mdurl-0.1.2-py3-none-any.whl (10.0 kB)\n",
      "Downloading streamlit-1.30.0-py2.py3-none-any.whl (8.4 MB)\n",
      "   ---------------------------------------- 8.4/8.4 MB 974.0 kB/s eta 0:00:00\n",
      "Downloading altair-5.2.0-py3-none-any.whl (996 kB)\n",
      "   ---------------------------------------- 996.9/996.9 kB 1.5 MB/s eta 0:00:00\n",
      "Downloading blinker-1.7.0-py3-none-any.whl (13 kB)\n",
      "Downloading GitPython-3.1.41-py3-none-any.whl (196 kB)\n",
      "   ---------------------------------------- 196.4/196.4 kB 2.4 MB/s eta 0:00:00\n",
      "Downloading protobuf-4.25.2-cp38-cp38-win_amd64.whl (413 kB)\n",
      "   ---------------------------------------- 413.4/413.4 kB 1.7 MB/s eta 0:00:00\n",
      "Downloading pyarrow-15.0.0-cp38-cp38-win_amd64.whl (24.9 MB)\n",
      "   ---------------------------------------- 24.9/24.9 MB 1.3 MB/s eta 0:00:00\n",
      "Downloading requests-2.31.0-py3-none-any.whl (62 kB)\n",
      "   ---------------------------------------- 62.6/62.6 kB 1.7 MB/s eta 0:00:00\n",
      "Downloading rich-13.7.0-py3-none-any.whl (240 kB)\n",
      "   ---------------------------------------- 240.6/240.6 kB 1.5 MB/s eta 0:00:00\n",
      "Downloading tenacity-8.2.3-py3-none-any.whl (24 kB)\n",
      "Downloading tzlocal-5.2-py3-none-any.whl (17 kB)\n",
      "Downloading validators-0.22.0-py3-none-any.whl (26 kB)\n",
      "Downloading charset_normalizer-3.3.2-cp38-cp38-win_amd64.whl (99 kB)\n",
      "   ---------------------------------------- 99.6/99.6 kB 1.9 MB/s eta 0:00:00\n",
      "Downloading gitdb-4.0.11-py3-none-any.whl (62 kB)\n",
      "   ---------------------------------------- 62.7/62.7 kB 3.3 MB/s eta 0:00:00\n",
      "Downloading markdown_it_py-3.0.0-py3-none-any.whl (87 kB)\n",
      "   ---------------------------------------- 87.5/87.5 kB 2.5 MB/s eta 0:00:00\n",
      "Downloading pygments-2.17.2-py3-none-any.whl (1.2 MB)\n",
      "   ---------------------------------------- 1.2/1.2 MB 1.8 MB/s eta 0:00:00\n",
      "Downloading toolz-0.12.1-py3-none-any.whl (56 kB)\n",
      "   ---------------------------------------- 56.1/56.1 kB 1.5 MB/s eta 0:00:00\n",
      "Downloading smmap-5.0.1-py3-none-any.whl (24 kB)\n",
      "Installing collected packages: watchdog, validators, toolz, toml, tenacity, smmap, pygments, pyarrow, protobuf, mdurl, charset-normalizer, blinker, backports.zoneinfo, tzlocal, requests, pydeck, markdown-it-py, gitdb, rich, gitpython, altair, streamlit\n",
      "  Attempting uninstall: pygments\n",
      "    Found existing installation: Pygments 2.7.1\n",
      "    Uninstalling Pygments-2.7.1:\n",
      "      Successfully uninstalled Pygments-2.7.1\n",
      "  Attempting uninstall: pyarrow\n",
      "    Found existing installation: pyarrow 0.15.1\n",
      "    Uninstalling pyarrow-0.15.1:\n",
      "      Successfully uninstalled pyarrow-0.15.1\n",
      "  Attempting uninstall: protobuf\n",
      "    Found existing installation: protobuf 3.11.2\n",
      "    Uninstalling protobuf-3.11.2:\n",
      "      Successfully uninstalled protobuf-3.11.2\n",
      "  Attempting uninstall: requests\n",
      "    Found existing installation: requests 2.24.0\n",
      "    Uninstalling requests-2.24.0:\n",
      "      Successfully uninstalled requests-2.24.0\n",
      "Successfully installed altair-5.2.0 backports.zoneinfo-0.2.1 blinker-1.7.0 charset-normalizer-3.3.2 gitdb-4.0.11 gitpython-3.1.41 markdown-it-py-3.0.0 mdurl-0.1.2 protobuf-4.25.2 pyarrow-15.0.0 pydeck-0.8.1b0 pygments-2.17.2 requests-2.31.0 rich-13.7.0 smmap-5.0.1 streamlit-1.30.0 tenacity-8.2.3 toml-0.10.2 toolz-0.12.1 tzlocal-5.2 validators-0.22.0 watchdog-3.0.0\n"
     ]
    },
    {
     "name": "stderr",
     "output_type": "stream",
     "text": [
      "ERROR: pip's dependency resolver does not currently take into account all the packages that are installed. This behaviour is the source of the following dependency conflicts.\n",
      "tensorflow 2.3.1 requires numpy<1.19.0,>=1.16.0, but you have numpy 1.24.4 which is incompatible.\n"
     ]
    }
   ],
   "source": [
    "!pip install streamlit"
   ]
  },
  {
   "cell_type": "code",
   "execution_count": 126,
   "metadata": {},
   "outputs": [
    {
     "data": {
      "text/plain": [
       "['best_model.pkl']"
      ]
     },
     "execution_count": 126,
     "metadata": {},
     "output_type": "execute_result"
    }
   ],
   "source": [
    "import joblib\n",
    "\n",
    "# Save the model\n",
    "joblib.dump(xgb_model,'best_model.pkl')"
   ]
  },
  {
   "cell_type": "code",
   "execution_count": 130,
   "metadata": {},
   "outputs": [
    {
     "name": "stdout",
     "output_type": "stream",
     "text": [
      "4.11.0\n"
     ]
    }
   ],
   "source": [
    "import plotly\n",
    "print(plotly.__version__)\n",
    "\n",
    "# import pickle\n",
    "# pickle_in = open(\"best_model.pkl\", \"wb\")\n",
    "# pickle.dump(xgb_model,pickle_in)\n",
    "# pickle_in.close"
   ]
  },
  {
   "cell_type": "code",
   "execution_count": null,
   "metadata": {},
   "outputs": [],
   "source": []
  }
 ],
 "metadata": {
  "kernelspec": {
   "display_name": "Python (learn-env)",
   "language": "python",
   "name": "learn-env"
  },
  "language_info": {
   "codemirror_mode": {
    "name": "ipython",
    "version": 3
   },
   "file_extension": ".py",
   "mimetype": "text/x-python",
   "name": "python",
   "nbconvert_exporter": "python",
   "pygments_lexer": "ipython3",
   "version": "3.8.5"
  }
 },
 "nbformat": 4,
 "nbformat_minor": 4
}
