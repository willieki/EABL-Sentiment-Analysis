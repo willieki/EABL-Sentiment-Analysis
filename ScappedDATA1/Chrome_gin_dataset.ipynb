{
 "cells": [
  {
   "cell_type": "code",
   "execution_count": 1,
   "metadata": {
    "colab": {
     "base_uri": "https://localhost:8080/"
    },
    "id": "Nq_vEtUO4vDr",
    "outputId": "97fa90a7-25eb-467d-b2fd-dc226742bc9c"
   },
   "outputs": [
    {
     "name": "stderr",
     "output_type": "stream",
     "text": [
      "[nltk_data] Downloading package stopwords to\n",
      "[nltk_data]     C:\\Users\\Administrator\\AppData\\Roaming\\nltk_data...\n",
      "[nltk_data]   Package stopwords is already up-to-date!\n",
      "[nltk_data] Downloading package punkt to\n",
      "[nltk_data]     C:\\Users\\Administrator\\AppData\\Roaming\\nltk_data...\n",
      "[nltk_data]   Package punkt is already up-to-date!\n",
      "[nltk_data] Downloading package wordnet to\n",
      "[nltk_data]     C:\\Users\\Administrator\\AppData\\Roaming\\nltk_data...\n",
      "[nltk_data]   Package wordnet is already up-to-date!\n"
     ]
    },
    {
     "data": {
      "text/plain": [
       "True"
      ]
     },
     "execution_count": 1,
     "metadata": {},
     "output_type": "execute_result"
    }
   ],
   "source": [
    "import nltk\n",
    "import pandas as pd\n",
    "import numpy as np\n",
    "import seaborn as sns\n",
    "import matplotlib.pyplot as plt\n",
    "\n",
    "from sklearn. feature_extraction. text import CountVectorizer\n",
    "from sklearn.feature_extraction.text import TfidfVectorizer\n",
    "from sklearn. feature_extraction. text import TfidfTransformer\n",
    "\n",
    "from nltk.probability import FreqDist\n",
    "from nltk.corpus import stopwords\n",
    "from nltk.stem import PorterStemmer\n",
    "from sklearn.metrics import confusion_matrix\n",
    "\n",
    "from sklearn. naive_bayes import MultinomialNB\n",
    "from sklearn import metrics\n",
    "from sklearn.model_selection import train_test_split\n",
    "from matplotlib import cm\n",
    "\n",
    "from sklearn.ensemble import RandomForestClassifier\n",
    "from sklearn. metrics import classification_report\n",
    "# from sklearn.metrics import plot_confusion_matrix\n",
    "\n",
    "\n",
    "nltk.download('stopwords')\n",
    "nltk.download ('punkt')\n",
    "nltk.download('wordnet')"
   ]
  },
  {
   "cell_type": "code",
   "execution_count": 2,
   "metadata": {
    "colab": {
     "base_uri": "https://localhost:8080/"
    },
    "id": "CrGQpo1x44AI",
    "outputId": "1ac9f747-69db-4ee3-895d-f4d847098298"
   },
   "outputs": [
    {
     "name": "stderr",
     "output_type": "stream",
     "text": [
      "Testing instances: 100%|███████████████████████| 30/30 [01:32<00:00,  3.07s/it]\n"
     ]
    }
   ],
   "source": [
    "from ntscraper import Nitter\n",
    "scraper=Nitter()"
   ]
  },
  {
   "cell_type": "code",
   "execution_count": 3,
   "metadata": {
    "colab": {
     "base_uri": "https://localhost:8080/"
    },
    "id": "_b69i-Kc5Lfi",
    "outputId": "b0d881b9-1048-434a-aefb-78ec3098caba"
   },
   "outputs": [
    {
     "name": "stderr",
     "output_type": "stream",
     "text": [
      "[nltk_data] Downloading package vader_lexicon to\n",
      "[nltk_data]     C:\\Users\\Administrator\\AppData\\Roaming\\nltk_data...\n",
      "[nltk_data]   Package vader_lexicon is already up-to-date!\n",
      "Testing instances: 100%|███████████████████████| 30/30 [01:14<00:00,  2.50s/it]\n"
     ]
    }
   ],
   "source": [
    "from ntscraper import Nitter\n",
    "from nltk.sentiment.vader import SentimentIntensityAnalyzer\n",
    "import nltk\n",
    "nltk.download('vader_lexicon')\n",
    "\n",
    "# Set up sentiment analyzer\n",
    "sid = SentimentIntensityAnalyzer()\n",
    "\n",
    "# Create Nitter scraper instance\n",
    "scraper = Nitter()\n",
    "\n",
    "def get_tweets_with_sentiment(name, mode, no):\n",
    "    # Fetch tweets using Nitter scraper\n",
    "    tweets = scraper.get_tweets(name, mode=mode, number=no)\n",
    "\n",
    "    # Initialize an empty list to store final tweet data\n",
    "    final_tweets = []\n",
    "\n",
    "    # Iterate through the fetched tweets\n",
    "    for tweet in tweets['tweets']:\n",
    "        data = tweet['link'], tweet['text'], tweet['date'], tweet['stats']\n",
    "        final_tweets.append(data)\n",
    "\n",
    "           # Create a DataFrame from the collected tweet data\n",
    "    result_data = pd.DataFrame(final_tweets, columns=['link', 'tweet', 'date', 'texts'])\n",
    "\n",
    "    # Analyze sentiment and add a new column\n",
    "    result_data['sentiment'] = result_data['tweet'].apply(lambda x: analyze_sentiment(x))\n",
    "\n",
    "    return result_data\n",
    "\n",
    "def analyze_sentiment(tweet):\n",
    "    # Get sentiment scores\n",
    "    sentiment_scores = sid.polarity_scores(tweet)\n",
    "\n",
    "    # Determine sentiment category based on compound score\n",
    "    if sentiment_scores['compound'] >= 0.05:\n",
    "        return 'Positive'\n",
    "    elif sentiment_scores['compound'] <= -0.05:\n",
    "        return 'Negative'\n",
    "    else:\n",
    "        return 'Neutral'"
   ]
  },
  {
   "cell_type": "code",
   "execution_count": 4,
   "metadata": {
    "colab": {
     "base_uri": "https://localhost:8080/"
    },
    "id": "TXQeWnG55iaa",
    "outputId": "216c97f0-e2d0-4578-fc00-cda773491281",
    "scrolled": true
   },
   "outputs": [
    {
     "name": "stdout",
     "output_type": "stream",
     "text": [
      "15-Jan-24 20:32:48 - No instance specified, using random instance https://nitter.woodland.cafe\n",
      "15-Jan-24 20:32:55 - Current stats for ChromeGin: 20 tweets, 0 threads...\n",
      "15-Jan-24 20:33:00 - Current stats for ChromeGin: 37 tweets, 0 threads...\n",
      "15-Jan-24 20:33:04 - Current stats for ChromeGin: 57 tweets, 0 threads...\n",
      "15-Jan-24 20:33:09 - Current stats for ChromeGin: 76 tweets, 0 threads...\n",
      "15-Jan-24 20:33:14 - Current stats for ChromeGin: 96 tweets, 0 threads...\n",
      "15-Jan-24 20:33:19 - Current stats for ChromeGin: 116 tweets, 0 threads...\n",
      "15-Jan-24 20:33:23 - Current stats for ChromeGin: 135 tweets, 0 threads...\n",
      "15-Jan-24 20:33:28 - Current stats for ChromeGin: 155 tweets, 0 threads...\n",
      "15-Jan-24 20:33:32 - Current stats for ChromeGin: 175 tweets, 0 threads...\n",
      "15-Jan-24 20:33:37 - Current stats for ChromeGin: 195 tweets, 0 threads...\n",
      "15-Jan-24 20:33:42 - Current stats for ChromeGin: 212 tweets, 0 threads...\n",
      "15-Jan-24 20:33:47 - Current stats for ChromeGin: 230 tweets, 0 threads...\n",
      "15-Jan-24 20:33:51 - Current stats for ChromeGin: 243 tweets, 0 threads...\n",
      "15-Jan-24 20:33:56 - Current stats for ChromeGin: 257 tweets, 0 threads...\n",
      "15-Jan-24 20:34:02 - Current stats for ChromeGin: 272 tweets, 0 threads...\n",
      "15-Jan-24 20:34:07 - Current stats for ChromeGin: 287 tweets, 0 threads...\n",
      "15-Jan-24 20:34:12 - Current stats for ChromeGin: 300 tweets, 0 threads...\n",
      "15-Jan-24 20:34:16 - Current stats for ChromeGin: 319 tweets, 0 threads...\n",
      "15-Jan-24 20:34:21 - Current stats for ChromeGin: 333 tweets, 0 threads...\n",
      "15-Jan-24 20:34:26 - Current stats for ChromeGin: 352 tweets, 0 threads...\n",
      "15-Jan-24 20:34:31 - Current stats for ChromeGin: 370 tweets, 0 threads...\n",
      "15-Jan-24 20:34:36 - Current stats for ChromeGin: 380 tweets, 0 threads...\n",
      "15-Jan-24 20:34:41 - Current stats for ChromeGin: 396 tweets, 0 threads...\n",
      "15-Jan-24 20:34:46 - Current stats for ChromeGin: 409 tweets, 0 threads...\n",
      "15-Jan-24 20:34:51 - Current stats for ChromeGin: 423 tweets, 0 threads...\n",
      "15-Jan-24 20:34:56 - Current stats for ChromeGin: 440 tweets, 0 threads...\n",
      "15-Jan-24 20:35:02 - Current stats for ChromeGin: 456 tweets, 0 threads...\n",
      "15-Jan-24 20:35:06 - Current stats for ChromeGin: 470 tweets, 0 threads...\n",
      "15-Jan-24 20:35:12 - Current stats for ChromeGin: 488 tweets, 0 threads...\n",
      "15-Jan-24 20:35:17 - Current stats for ChromeGin: 503 tweets, 0 threads...\n",
      "15-Jan-24 20:35:22 - Current stats for ChromeGin: 519 tweets, 0 threads...\n",
      "15-Jan-24 20:35:27 - Current stats for ChromeGin: 535 tweets, 0 threads...\n",
      "15-Jan-24 20:35:32 - Current stats for ChromeGin: 551 tweets, 0 threads...\n",
      "15-Jan-24 20:35:37 - Current stats for ChromeGin: 570 tweets, 0 threads...\n",
      "15-Jan-24 20:35:42 - Current stats for ChromeGin: 588 tweets, 0 threads...\n",
      "15-Jan-24 20:35:47 - Current stats for ChromeGin: 606 tweets, 0 threads...\n",
      "15-Jan-24 20:35:52 - Current stats for ChromeGin: 616 tweets, 0 threads...\n",
      "15-Jan-24 20:35:57 - Current stats for ChromeGin: 632 tweets, 0 threads...\n",
      "15-Jan-24 20:36:01 - Current stats for ChromeGin: 649 tweets, 0 threads...\n",
      "15-Jan-24 20:36:05 - Current stats for ChromeGin: 662 tweets, 0 threads...\n",
      "15-Jan-24 20:36:10 - Current stats for ChromeGin: 675 tweets, 0 threads...\n",
      "15-Jan-24 20:36:15 - Current stats for ChromeGin: 695 tweets, 0 threads...\n",
      "15-Jan-24 20:36:19 - Current stats for ChromeGin: 709 tweets, 0 threads...\n",
      "15-Jan-24 20:36:24 - Current stats for ChromeGin: 717 tweets, 0 threads...\n",
      "15-Jan-24 20:36:28 - Current stats for ChromeGin: 725 tweets, 0 threads...\n",
      "15-Jan-24 20:36:33 - Current stats for ChromeGin: 730 tweets, 0 threads...\n",
      "15-Jan-24 20:36:37 - Current stats for ChromeGin: 737 tweets, 0 threads...\n",
      "15-Jan-24 20:36:42 - Current stats for ChromeGin: 752 tweets, 0 threads...\n",
      "15-Jan-24 20:36:46 - Current stats for ChromeGin: 761 tweets, 0 threads...\n",
      "15-Jan-24 20:36:51 - Current stats for ChromeGin: 770 tweets, 0 threads...\n",
      "15-Jan-24 20:36:55 - Current stats for ChromeGin: 778 tweets, 0 threads...\n",
      "15-Jan-24 20:37:00 - Current stats for ChromeGin: 785 tweets, 0 threads...\n",
      "15-Jan-24 20:37:04 - Current stats for ChromeGin: 792 tweets, 0 threads...\n",
      "15-Jan-24 20:37:09 - Current stats for ChromeGin: 796 tweets, 0 threads...\n",
      "15-Jan-24 20:37:14 - Current stats for ChromeGin: 801 tweets, 0 threads...\n",
      "15-Jan-24 20:37:19 - Current stats for ChromeGin: 813 tweets, 0 threads...\n",
      "15-Jan-24 20:37:24 - Current stats for ChromeGin: 824 tweets, 0 threads...\n",
      "15-Jan-24 20:37:28 - Current stats for ChromeGin: 830 tweets, 0 threads...\n",
      "15-Jan-24 20:37:32 - Current stats for ChromeGin: 837 tweets, 0 threads...\n",
      "15-Jan-24 20:37:36 - Current stats for ChromeGin: 849 tweets, 0 threads...\n",
      "15-Jan-24 20:37:40 - Current stats for ChromeGin: 857 tweets, 0 threads...\n",
      "15-Jan-24 20:37:45 - Current stats for ChromeGin: 863 tweets, 0 threads...\n",
      "15-Jan-24 20:37:49 - Current stats for ChromeGin: 874 tweets, 0 threads...\n",
      "15-Jan-24 20:37:53 - Current stats for ChromeGin: 887 tweets, 0 threads...\n",
      "15-Jan-24 20:37:58 - Current stats for ChromeGin: 897 tweets, 0 threads...\n",
      "15-Jan-24 20:38:02 - Current stats for ChromeGin: 910 tweets, 0 threads...\n",
      "15-Jan-24 20:38:07 - Current stats for ChromeGin: 916 tweets, 0 threads...\n",
      "15-Jan-24 20:38:12 - Current stats for ChromeGin: 925 tweets, 0 threads...\n",
      "15-Jan-24 20:38:17 - Current stats for ChromeGin: 941 tweets, 0 threads...\n",
      "15-Jan-24 20:38:21 - Current stats for ChromeGin: 949 tweets, 0 threads...\n",
      "15-Jan-24 20:38:26 - Current stats for ChromeGin: 955 tweets, 0 threads...\n",
      "15-Jan-24 20:38:31 - Current stats for ChromeGin: 961 tweets, 0 threads...\n",
      "15-Jan-24 20:38:35 - Current stats for ChromeGin: 962 tweets, 0 threads...\n",
      "15-Jan-24 20:38:39 - Current stats for ChromeGin: 969 tweets, 0 threads...\n",
      "15-Jan-24 20:38:43 - Current stats for ChromeGin: 976 tweets, 0 threads...\n",
      "15-Jan-24 20:38:48 - Current stats for ChromeGin: 988 tweets, 0 threads...\n",
      "15-Jan-24 20:38:52 - Current stats for ChromeGin: 998 tweets, 0 threads...\n",
      "15-Jan-24 20:38:56 - Current stats for ChromeGin: 1004 tweets, 0 threads...\n",
      "15-Jan-24 20:39:01 - Current stats for ChromeGin: 1008 tweets, 0 threads...\n",
      "15-Jan-24 20:39:06 - Current stats for ChromeGin: 1022 tweets, 0 threads...\n",
      "15-Jan-24 20:39:11 - Current stats for ChromeGin: 1029 tweets, 0 threads...\n",
      "15-Jan-24 20:39:15 - Current stats for ChromeGin: 1041 tweets, 0 threads...\n",
      "15-Jan-24 20:39:19 - Current stats for ChromeGin: 1054 tweets, 0 threads...\n",
      "15-Jan-24 20:39:24 - Current stats for ChromeGin: 1064 tweets, 0 threads...\n",
      "15-Jan-24 20:39:28 - Current stats for ChromeGin: 1072 tweets, 0 threads...\n",
      "15-Jan-24 20:39:33 - Current stats for ChromeGin: 1080 tweets, 0 threads...\n",
      "15-Jan-24 20:39:37 - Current stats for ChromeGin: 1082 tweets, 0 threads...\n",
      "15-Jan-24 20:39:42 - Current stats for ChromeGin: 1094 tweets, 0 threads...\n",
      "15-Jan-24 20:39:47 - Current stats for ChromeGin: 1101 tweets, 0 threads...\n",
      "15-Jan-24 20:39:52 - Current stats for ChromeGin: 1111 tweets, 0 threads...\n",
      "15-Jan-24 20:39:56 - Current stats for ChromeGin: 1121 tweets, 0 threads...\n",
      "15-Jan-24 20:40:01 - Current stats for ChromeGin: 1133 tweets, 0 threads...\n",
      "15-Jan-24 20:40:05 - Current stats for ChromeGin: 1142 tweets, 0 threads...\n",
      "15-Jan-24 20:40:10 - Current stats for ChromeGin: 1149 tweets, 0 threads...\n",
      "15-Jan-24 20:40:14 - Current stats for ChromeGin: 1157 tweets, 0 threads...\n",
      "15-Jan-24 20:40:20 - Current stats for ChromeGin: 1168 tweets, 0 threads...\n",
      "15-Jan-24 20:40:25 - Current stats for ChromeGin: 1174 tweets, 0 threads...\n",
      "15-Jan-24 20:40:30 - Current stats for ChromeGin: 1185 tweets, 0 threads...\n",
      "15-Jan-24 20:40:35 - Current stats for ChromeGin: 1196 tweets, 0 threads...\n",
      "15-Jan-24 20:40:40 - Current stats for ChromeGin: 1210 tweets, 0 threads...\n",
      "15-Jan-24 20:40:45 - Current stats for ChromeGin: 1223 tweets, 0 threads...\n",
      "15-Jan-24 20:40:49 - Current stats for ChromeGin: 1228 tweets, 0 threads...\n",
      "15-Jan-24 20:40:54 - Current stats for ChromeGin: 1238 tweets, 0 threads...\n",
      "15-Jan-24 20:40:59 - Current stats for ChromeGin: 1251 tweets, 0 threads...\n",
      "15-Jan-24 20:41:04 - Current stats for ChromeGin: 1256 tweets, 0 threads...\n",
      "15-Jan-24 20:41:08 - Current stats for ChromeGin: 1261 tweets, 0 threads...\n",
      "15-Jan-24 20:41:12 - Current stats for ChromeGin: 1265 tweets, 0 threads...\n",
      "15-Jan-24 20:41:17 - Current stats for ChromeGin: 1276 tweets, 0 threads...\n"
     ]
    },
    {
     "name": "stdout",
     "output_type": "stream",
     "text": [
      "15-Jan-24 20:41:22 - Current stats for ChromeGin: 1290 tweets, 0 threads...\n",
      "15-Jan-24 20:41:27 - Current stats for ChromeGin: 1304 tweets, 0 threads...\n",
      "15-Jan-24 20:41:31 - Current stats for ChromeGin: 1314 tweets, 0 threads...\n",
      "15-Jan-24 20:41:36 - Current stats for ChromeGin: 1323 tweets, 0 threads...\n",
      "15-Jan-24 20:41:40 - Current stats for ChromeGin: 1333 tweets, 0 threads...\n",
      "15-Jan-24 20:41:45 - Current stats for ChromeGin: 1340 tweets, 0 threads...\n",
      "15-Jan-24 20:41:50 - Current stats for ChromeGin: 1353 tweets, 0 threads...\n",
      "15-Jan-24 20:42:00 - Current stats for ChromeGin: 1369 tweets, 0 threads...\n",
      "15-Jan-24 20:42:06 - Current stats for ChromeGin: 1388 tweets, 0 threads...\n",
      "15-Jan-24 20:42:12 - Current stats for ChromeGin: 1405 tweets, 0 threads...\n",
      "15-Jan-24 20:42:17 - Current stats for ChromeGin: 1421 tweets, 0 threads...\n",
      "15-Jan-24 20:42:21 - Current stats for ChromeGin: 1429 tweets, 0 threads...\n",
      "15-Jan-24 20:42:25 - Current stats for ChromeGin: 1442 tweets, 0 threads...\n",
      "15-Jan-24 20:42:31 - Current stats for ChromeGin: 1455 tweets, 0 threads...\n",
      "15-Jan-24 20:42:35 - Current stats for ChromeGin: 1465 tweets, 0 threads...\n",
      "15-Jan-24 20:42:40 - Current stats for ChromeGin: 1474 tweets, 0 threads...\n",
      "15-Jan-24 20:42:44 - Current stats for ChromeGin: 1485 tweets, 0 threads...\n",
      "15-Jan-24 20:42:49 - Current stats for ChromeGin: 1493 tweets, 0 threads...\n",
      "15-Jan-24 20:42:54 - Current stats for ChromeGin: 1501 tweets, 0 threads...\n",
      "15-Jan-24 20:42:58 - Current stats for ChromeGin: 1505 tweets, 0 threads...\n",
      "15-Jan-24 20:43:03 - Current stats for ChromeGin: 1513 tweets, 0 threads...\n",
      "15-Jan-24 20:43:08 - Current stats for ChromeGin: 1523 tweets, 0 threads...\n",
      "15-Jan-24 20:43:13 - Current stats for ChromeGin: 1534 tweets, 0 threads...\n",
      "15-Jan-24 20:43:17 - Current stats for ChromeGin: 1541 tweets, 0 threads...\n",
      "15-Jan-24 20:43:23 - Current stats for ChromeGin: 1550 tweets, 0 threads...\n",
      "15-Jan-24 20:43:27 - Current stats for ChromeGin: 1557 tweets, 0 threads...\n",
      "15-Jan-24 20:43:31 - Current stats for ChromeGin: 1562 tweets, 0 threads...\n",
      "15-Jan-24 20:43:36 - Current stats for ChromeGin: 1569 tweets, 0 threads...\n",
      "15-Jan-24 20:43:40 - Current stats for ChromeGin: 1582 tweets, 0 threads...\n",
      "15-Jan-24 20:43:45 - Current stats for ChromeGin: 1589 tweets, 0 threads...\n",
      "15-Jan-24 20:43:50 - Current stats for ChromeGin: 1595 tweets, 0 threads...\n",
      "15-Jan-24 20:43:54 - Current stats for ChromeGin: 1601 tweets, 0 threads...\n",
      "15-Jan-24 20:43:59 - Current stats for ChromeGin: 1605 tweets, 0 threads...\n",
      "15-Jan-24 20:44:03 - Current stats for ChromeGin: 1610 tweets, 0 threads...\n",
      "15-Jan-24 20:44:08 - Current stats for ChromeGin: 1616 tweets, 0 threads...\n",
      "15-Jan-24 20:44:13 - Current stats for ChromeGin: 1622 tweets, 0 threads...\n",
      "15-Jan-24 20:44:17 - Current stats for ChromeGin: 1624 tweets, 0 threads...\n",
      "15-Jan-24 20:44:21 - Current stats for ChromeGin: 1627 tweets, 0 threads...\n",
      "15-Jan-24 20:44:26 - Current stats for ChromeGin: 1635 tweets, 0 threads...\n",
      "15-Jan-24 20:44:31 - Current stats for ChromeGin: 1646 tweets, 0 threads...\n",
      "15-Jan-24 20:44:36 - Current stats for ChromeGin: 1662 tweets, 0 threads...\n",
      "15-Jan-24 20:44:41 - Current stats for ChromeGin: 1681 tweets, 0 threads...\n",
      "15-Jan-24 20:44:45 - Current stats for ChromeGin: 1692 tweets, 0 threads...\n",
      "15-Jan-24 20:44:50 - Current stats for ChromeGin: 1699 tweets, 0 threads...\n",
      "15-Jan-24 20:44:55 - Current stats for ChromeGin: 1706 tweets, 0 threads...\n",
      "15-Jan-24 20:44:59 - Current stats for ChromeGin: 1708 tweets, 0 threads...\n",
      "15-Jan-24 20:45:04 - Current stats for ChromeGin: 1715 tweets, 0 threads...\n",
      "15-Jan-24 20:45:10 - Current stats for ChromeGin: 1730 tweets, 0 threads...\n",
      "15-Jan-24 20:45:15 - Current stats for ChromeGin: 1740 tweets, 0 threads...\n",
      "15-Jan-24 20:45:19 - Current stats for ChromeGin: 1745 tweets, 0 threads...\n",
      "15-Jan-24 20:45:24 - Current stats for ChromeGin: 1757 tweets, 0 threads...\n",
      "15-Jan-24 20:45:29 - Current stats for ChromeGin: 1768 tweets, 0 threads...\n",
      "15-Jan-24 20:45:33 - Current stats for ChromeGin: 1775 tweets, 0 threads...\n",
      "15-Jan-24 20:45:38 - Current stats for ChromeGin: 1783 tweets, 0 threads...\n",
      "15-Jan-24 20:45:42 - Current stats for ChromeGin: 1787 tweets, 0 threads...\n",
      "15-Jan-24 20:45:47 - Current stats for ChromeGin: 1796 tweets, 0 threads...\n",
      "15-Jan-24 20:45:52 - Current stats for ChromeGin: 1808 tweets, 0 threads...\n",
      "15-Jan-24 20:45:56 - Current stats for ChromeGin: 1815 tweets, 0 threads...\n",
      "15-Jan-24 20:46:00 - Current stats for ChromeGin: 1823 tweets, 0 threads...\n",
      "15-Jan-24 20:46:04 - Current stats for ChromeGin: 1835 tweets, 0 threads...\n",
      "15-Jan-24 20:46:08 - Current stats for ChromeGin: 1845 tweets, 0 threads...\n",
      "15-Jan-24 20:46:13 - Current stats for ChromeGin: 1848 tweets, 0 threads...\n",
      "15-Jan-24 20:46:17 - Current stats for ChromeGin: 1854 tweets, 0 threads...\n",
      "15-Jan-24 20:46:22 - Current stats for ChromeGin: 1859 tweets, 0 threads...\n",
      "15-Jan-24 20:46:27 - Current stats for ChromeGin: 1873 tweets, 0 threads...\n",
      "15-Jan-24 20:46:31 - Current stats for ChromeGin: 1881 tweets, 0 threads...\n",
      "15-Jan-24 20:46:36 - Current stats for ChromeGin: 1891 tweets, 0 threads...\n",
      "15-Jan-24 20:46:41 - Current stats for ChromeGin: 1896 tweets, 0 threads...\n",
      "15-Jan-24 20:46:46 - Current stats for ChromeGin: 1907 tweets, 0 threads...\n",
      "15-Jan-24 20:46:51 - Current stats for ChromeGin: 1920 tweets, 0 threads...\n",
      "15-Jan-24 20:46:55 - Current stats for ChromeGin: 1933 tweets, 0 threads...\n",
      "15-Jan-24 20:47:00 - Current stats for ChromeGin: 1947 tweets, 0 threads...\n",
      "15-Jan-24 20:47:05 - Current stats for ChromeGin: 1962 tweets, 0 threads...\n",
      "15-Jan-24 20:47:10 - Current stats for ChromeGin: 1973 tweets, 0 threads...\n",
      "15-Jan-24 20:47:15 - Current stats for ChromeGin: 1984 tweets, 0 threads...\n",
      "15-Jan-24 20:47:20 - Current stats for ChromeGin: 1998 tweets, 0 threads...\n",
      "15-Jan-24 20:47:25 - Current stats for ChromeGin: 2009 tweets, 0 threads...\n",
      "15-Jan-24 20:47:30 - Current stats for ChromeGin: 2021 tweets, 0 threads...\n",
      "15-Jan-24 20:47:34 - Current stats for ChromeGin: 2026 tweets, 0 threads...\n",
      "15-Jan-24 20:47:39 - Current stats for ChromeGin: 2037 tweets, 0 threads...\n",
      "15-Jan-24 20:47:44 - Current stats for ChromeGin: 2046 tweets, 0 threads...\n",
      "15-Jan-24 20:47:49 - Current stats for ChromeGin: 2055 tweets, 0 threads...\n",
      "15-Jan-24 20:47:53 - Current stats for ChromeGin: 2061 tweets, 0 threads...\n",
      "15-Jan-24 20:47:58 - Current stats for ChromeGin: 2066 tweets, 0 threads...\n",
      "15-Jan-24 20:48:03 - Current stats for ChromeGin: 2080 tweets, 0 threads...\n",
      "15-Jan-24 20:48:08 - Current stats for ChromeGin: 2093 tweets, 0 threads...\n",
      "15-Jan-24 20:48:13 - Current stats for ChromeGin: 2110 tweets, 0 threads...\n",
      "15-Jan-24 20:48:18 - Current stats for ChromeGin: 2128 tweets, 0 threads...\n",
      "15-Jan-24 20:48:23 - Current stats for ChromeGin: 2142 tweets, 0 threads...\n",
      "15-Jan-24 20:48:28 - Current stats for ChromeGin: 2149 tweets, 0 threads...\n",
      "15-Jan-24 20:48:32 - Current stats for ChromeGin: 2168 tweets, 0 threads...\n",
      "15-Jan-24 20:48:37 - Current stats for ChromeGin: 2182 tweets, 0 threads...\n",
      "15-Jan-24 20:48:42 - Current stats for ChromeGin: 2201 tweets, 0 threads...\n",
      "15-Jan-24 20:48:48 - Current stats for ChromeGin: 2216 tweets, 0 threads...\n",
      "15-Jan-24 20:48:53 - Current stats for ChromeGin: 2234 tweets, 0 threads...\n",
      "15-Jan-24 20:48:58 - Current stats for ChromeGin: 2252 tweets, 0 threads...\n",
      "15-Jan-24 20:49:03 - Current stats for ChromeGin: 2268 tweets, 0 threads...\n",
      "15-Jan-24 20:49:09 - Current stats for ChromeGin: 2285 tweets, 0 threads...\n",
      "15-Jan-24 20:49:13 - Current stats for ChromeGin: 2294 tweets, 0 threads...\n",
      "15-Jan-24 20:49:18 - Current stats for ChromeGin: 2312 tweets, 0 threads...\n",
      "15-Jan-24 20:49:23 - Current stats for ChromeGin: 2326 tweets, 0 threads...\n",
      "15-Jan-24 20:49:28 - Current stats for ChromeGin: 2345 tweets, 0 threads...\n",
      "15-Jan-24 20:49:33 - Current stats for ChromeGin: 2363 tweets, 0 threads...\n",
      "15-Jan-24 20:49:38 - Current stats for ChromeGin: 2379 tweets, 0 threads...\n",
      "15-Jan-24 20:49:43 - Current stats for ChromeGin: 2396 tweets, 0 threads...\n",
      "15-Jan-24 20:49:48 - Current stats for ChromeGin: 2414 tweets, 0 threads...\n",
      "15-Jan-24 20:49:53 - Current stats for ChromeGin: 2421 tweets, 0 threads...\n",
      "15-Jan-24 20:49:58 - Current stats for ChromeGin: 2429 tweets, 0 threads...\n"
     ]
    },
    {
     "name": "stdout",
     "output_type": "stream",
     "text": [
      "15-Jan-24 20:50:02 - Current stats for ChromeGin: 2439 tweets, 0 threads...\n",
      "15-Jan-24 20:50:06 - Current stats for ChromeGin: 2450 tweets, 0 threads...\n",
      "15-Jan-24 20:50:11 - Current stats for ChromeGin: 2464 tweets, 0 threads...\n",
      "15-Jan-24 20:50:16 - Current stats for ChromeGin: 2480 tweets, 0 threads...\n",
      "15-Jan-24 20:50:21 - Current stats for ChromeGin: 2488 tweets, 0 threads...\n",
      "15-Jan-24 20:50:25 - Current stats for ChromeGin: 2502 tweets, 0 threads...\n",
      "15-Jan-24 20:50:30 - Current stats for ChromeGin: 2520 tweets, 0 threads...\n",
      "15-Jan-24 20:50:35 - Current stats for ChromeGin: 2536 tweets, 0 threads...\n",
      "15-Jan-24 20:50:40 - Current stats for ChromeGin: 2542 tweets, 0 threads...\n",
      "15-Jan-24 20:50:44 - Current stats for ChromeGin: 2544 tweets, 0 threads...\n",
      "15-Jan-24 20:50:48 - Current stats for ChromeGin: 2545 tweets, 0 threads...\n",
      "15-Jan-24 20:50:53 - Current stats for ChromeGin: 2550 tweets, 0 threads...\n",
      "15-Jan-24 20:50:57 - Current stats for ChromeGin: 2560 tweets, 0 threads...\n",
      "15-Jan-24 20:51:02 - Current stats for ChromeGin: 2564 tweets, 0 threads...\n",
      "15-Jan-24 20:51:06 - Current stats for ChromeGin: 2571 tweets, 0 threads...\n",
      "15-Jan-24 20:51:11 - Current stats for ChromeGin: 2577 tweets, 0 threads...\n",
      "15-Jan-24 20:51:15 - Current stats for ChromeGin: 2589 tweets, 0 threads...\n",
      "15-Jan-24 20:51:21 - Current stats for ChromeGin: 2599 tweets, 0 threads...\n",
      "15-Jan-24 20:51:25 - Current stats for ChromeGin: 2604 tweets, 0 threads...\n",
      "15-Jan-24 20:51:30 - Current stats for ChromeGin: 2608 tweets, 0 threads...\n",
      "15-Jan-24 20:51:34 - Current stats for ChromeGin: 2610 tweets, 0 threads...\n",
      "15-Jan-24 20:51:39 - Current stats for ChromeGin: 2618 tweets, 0 threads...\n",
      "15-Jan-24 20:51:43 - Current stats for ChromeGin: 2628 tweets, 0 threads...\n",
      "15-Jan-24 20:51:48 - Current stats for ChromeGin: 2635 tweets, 0 threads...\n",
      "15-Jan-24 20:51:52 - Current stats for ChromeGin: 2642 tweets, 0 threads...\n",
      "15-Jan-24 20:51:56 - Current stats for ChromeGin: 2646 tweets, 0 threads...\n",
      "15-Jan-24 20:52:00 - Current stats for ChromeGin: 2647 tweets, 0 threads...\n",
      "15-Jan-24 20:52:05 - Current stats for ChromeGin: 2651 tweets, 0 threads...\n",
      "15-Jan-24 20:52:09 - Current stats for ChromeGin: 2653 tweets, 0 threads...\n",
      "15-Jan-24 20:52:14 - Current stats for ChromeGin: 2656 tweets, 0 threads...\n",
      "15-Jan-24 20:52:18 - Current stats for ChromeGin: 2658 tweets, 0 threads...\n",
      "15-Jan-24 20:52:23 - Current stats for ChromeGin: 2662 tweets, 0 threads...\n",
      "15-Jan-24 20:52:27 - Current stats for ChromeGin: 2666 tweets, 0 threads...\n",
      "15-Jan-24 20:52:32 - Current stats for ChromeGin: 2672 tweets, 0 threads...\n",
      "15-Jan-24 20:52:36 - Current stats for ChromeGin: 2677 tweets, 0 threads...\n",
      "15-Jan-24 20:52:40 - Current stats for ChromeGin: 2683 tweets, 0 threads...\n",
      "15-Jan-24 20:52:45 - Current stats for ChromeGin: 2697 tweets, 0 threads...\n",
      "15-Jan-24 20:52:50 - Current stats for ChromeGin: 2708 tweets, 0 threads...\n",
      "15-Jan-24 20:52:54 - Current stats for ChromeGin: 2720 tweets, 0 threads...\n",
      "15-Jan-24 20:52:59 - Current stats for ChromeGin: 2738 tweets, 0 threads...\n",
      "15-Jan-24 20:53:04 - Current stats for ChromeGin: 2753 tweets, 0 threads...\n",
      "15-Jan-24 20:53:08 - Current stats for ChromeGin: 2765 tweets, 0 threads...\n",
      "15-Jan-24 20:53:13 - Current stats for ChromeGin: 2785 tweets, 0 threads...\n",
      "15-Jan-24 20:53:19 - Current stats for ChromeGin: 2805 tweets, 0 threads...\n",
      "15-Jan-24 20:53:24 - Current stats for ChromeGin: 2824 tweets, 0 threads...\n",
      "15-Jan-24 20:53:29 - Current stats for ChromeGin: 2840 tweets, 0 threads...\n",
      "15-Jan-24 20:53:35 - Current stats for ChromeGin: 2857 tweets, 0 threads...\n",
      "15-Jan-24 20:53:40 - Current stats for ChromeGin: 2874 tweets, 0 threads...\n",
      "15-Jan-24 20:53:45 - Current stats for ChromeGin: 2891 tweets, 0 threads...\n",
      "15-Jan-24 20:53:49 - Current stats for ChromeGin: 2909 tweets, 0 threads...\n",
      "15-Jan-24 20:53:55 - Current stats for ChromeGin: 2928 tweets, 0 threads...\n",
      "15-Jan-24 20:53:59 - Current stats for ChromeGin: 2943 tweets, 0 threads...\n",
      "15-Jan-24 20:54:05 - Current stats for ChromeGin: 2960 tweets, 0 threads...\n",
      "15-Jan-24 20:54:10 - Current stats for ChromeGin: 2977 tweets, 0 threads...\n",
      "15-Jan-24 20:54:15 - Current stats for ChromeGin: 2995 tweets, 0 threads...\n",
      "15-Jan-24 20:54:20 - Current stats for ChromeGin: 3011 tweets, 0 threads...\n",
      "15-Jan-24 20:54:25 - Current stats for ChromeGin: 3029 tweets, 0 threads...\n",
      "15-Jan-24 20:54:30 - Current stats for ChromeGin: 3046 tweets, 0 threads...\n",
      "15-Jan-24 20:54:35 - Current stats for ChromeGin: 3058 tweets, 0 threads...\n",
      "15-Jan-24 20:54:40 - Current stats for ChromeGin: 3071 tweets, 0 threads...\n",
      "15-Jan-24 20:54:46 - Current stats for ChromeGin: 3087 tweets, 0 threads...\n",
      "15-Jan-24 20:54:50 - Current stats for ChromeGin: 3098 tweets, 0 threads...\n",
      "15-Jan-24 20:54:54 - Current stats for ChromeGin: 3110 tweets, 0 threads...\n",
      "15-Jan-24 20:54:59 - Current stats for ChromeGin: 3125 tweets, 0 threads...\n",
      "15-Jan-24 20:55:04 - Current stats for ChromeGin: 3137 tweets, 0 threads...\n",
      "15-Jan-24 20:55:08 - Current stats for ChromeGin: 3155 tweets, 0 threads...\n",
      "15-Jan-24 20:55:13 - Current stats for ChromeGin: 3169 tweets, 0 threads...\n",
      "15-Jan-24 20:55:18 - Current stats for ChromeGin: 3180 tweets, 0 threads...\n",
      "15-Jan-24 20:55:23 - Current stats for ChromeGin: 3197 tweets, 0 threads...\n",
      "15-Jan-24 20:55:27 - Current stats for ChromeGin: 3210 tweets, 0 threads...\n",
      "15-Jan-24 20:55:33 - Current stats for ChromeGin: 3224 tweets, 0 threads...\n",
      "15-Jan-24 20:55:38 - Current stats for ChromeGin: 3238 tweets, 0 threads...\n",
      "15-Jan-24 20:55:42 - Current stats for ChromeGin: 3250 tweets, 0 threads...\n",
      "15-Jan-24 20:55:47 - Current stats for ChromeGin: 3262 tweets, 0 threads...\n",
      "15-Jan-24 20:55:51 - Current stats for ChromeGin: 3272 tweets, 0 threads...\n",
      "15-Jan-24 20:55:56 - Current stats for ChromeGin: 3277 tweets, 0 threads...\n",
      "15-Jan-24 20:56:01 - Current stats for ChromeGin: 3280 tweets, 0 threads...\n",
      "15-Jan-24 20:56:05 - Current stats for ChromeGin: 3283 tweets, 0 threads...\n",
      "15-Jan-24 20:56:09 - Current stats for ChromeGin: 3289 tweets, 0 threads...\n",
      "15-Jan-24 20:56:14 - Current stats for ChromeGin: 3294 tweets, 0 threads...\n",
      "15-Jan-24 20:56:18 - Current stats for ChromeGin: 3298 tweets, 0 threads...\n",
      "15-Jan-24 20:56:23 - Current stats for ChromeGin: 3302 tweets, 0 threads...\n"
     ]
    }
   ],
   "source": [
    "# scrapimg Chrome  Hashtags\n",
    "result_data = get_tweets_with_sentiment('ChromeGin', 'term', 5000)\n",
    "\n"
   ]
  },
  {
   "cell_type": "code",
   "execution_count": 7,
   "metadata": {},
   "outputs": [],
   "source": [
    "# saving the scaped data into CSV\n",
    "result_data.to_csv('ChromGin-tweeter-terms.csv')"
   ]
  },
  {
   "cell_type": "code",
   "execution_count": 6,
   "metadata": {
    "colab": {
     "base_uri": "https://localhost:8080/",
     "height": 397
    },
    "id": "0rR1kxAQ_C9_",
    "outputId": "02c05d16-8533-4012-bf24-f606b60c984d"
   },
   "outputs": [
    {
     "name": "stdout",
     "output_type": "stream",
     "text": [
      "(3302, 5)\n"
     ]
    },
    {
     "data": {
      "text/html": [
       "<div>\n",
       "<style scoped>\n",
       "    .dataframe tbody tr th:only-of-type {\n",
       "        vertical-align: middle;\n",
       "    }\n",
       "\n",
       "    .dataframe tbody tr th {\n",
       "        vertical-align: top;\n",
       "    }\n",
       "\n",
       "    .dataframe thead th {\n",
       "        text-align: right;\n",
       "    }\n",
       "</style>\n",
       "<table border=\"1\" class=\"dataframe\">\n",
       "  <thead>\n",
       "    <tr style=\"text-align: right;\">\n",
       "      <th></th>\n",
       "      <th>link</th>\n",
       "      <th>tweet</th>\n",
       "      <th>date</th>\n",
       "      <th>texts</th>\n",
       "      <th>sentiment</th>\n",
       "    </tr>\n",
       "  </thead>\n",
       "  <tbody>\n",
       "    <tr>\n",
       "      <th>0</th>\n",
       "      <td>https://twitter.com/magniawoof/status/17469436...</td>\n",
       "      <td>'cause I can't make you love me if you don't y...</td>\n",
       "      <td>Jan 15, 2024 · 5:13 PM UTC</td>\n",
       "      <td>{'comments': 0, 'retweets': 4, 'quotes': 0, 'l...</td>\n",
       "      <td>Negative</td>\n",
       "    </tr>\n",
       "    <tr>\n",
       "      <th>1</th>\n",
       "      <td>https://twitter.com/dmchnmeowkizzen/status/174...</td>\n",
       "      <td>та ні-ні, можете робити (⁠◕⁠ᴗ⁠◕⁠✿⁠)</td>\n",
       "      <td>Jan 15, 2024 · 5:20 PM UTC</td>\n",
       "      <td>{'comments': 0, 'retweets': 0, 'quotes': 0, 'l...</td>\n",
       "      <td>Neutral</td>\n",
       "    </tr>\n",
       "    <tr>\n",
       "      <th>2</th>\n",
       "      <td>https://twitter.com/dmchnmeowkizzen/status/174...</td>\n",
       "      <td>розумієте, я іноді малюю маленькі незначні ске...</td>\n",
       "      <td>Jan 15, 2024 · 3:34 PM UTC</td>\n",
       "      <td>{'comments': 1, 'retweets': 0, 'quotes': 0, 'l...</td>\n",
       "      <td>Neutral</td>\n",
       "    </tr>\n",
       "    <tr>\n",
       "      <th>3</th>\n",
       "      <td>https://twitter.com/dmchnmeowkizzen/status/174...</td>\n",
       "      <td>у мене є ак для малювання @dmchn_art ііі я там...</td>\n",
       "      <td>Jan 15, 2024 · 2:57 PM UTC</td>\n",
       "      <td>{'comments': 2, 'retweets': 0, 'quotes': 0, 'l...</td>\n",
       "      <td>Neutral</td>\n",
       "    </tr>\n",
       "    <tr>\n",
       "      <th>4</th>\n",
       "      <td>https://twitter.com/dmchnmeowkizzen/status/174...</td>\n",
       "      <td>oh no my spotify proposed me to listen to lana...</td>\n",
       "      <td>Jan 15, 2024 · 2:55 PM UTC</td>\n",
       "      <td>{'comments': 0, 'retweets': 0, 'quotes': 0, 'l...</td>\n",
       "      <td>Negative</td>\n",
       "    </tr>\n",
       "  </tbody>\n",
       "</table>\n",
       "</div>"
      ],
      "text/plain": [
       "                                                link  \\\n",
       "0  https://twitter.com/magniawoof/status/17469436...   \n",
       "1  https://twitter.com/dmchnmeowkizzen/status/174...   \n",
       "2  https://twitter.com/dmchnmeowkizzen/status/174...   \n",
       "3  https://twitter.com/dmchnmeowkizzen/status/174...   \n",
       "4  https://twitter.com/dmchnmeowkizzen/status/174...   \n",
       "\n",
       "                                               tweet  \\\n",
       "0  'cause I can't make you love me if you don't y...   \n",
       "1                та ні-ні, можете робити (⁠◕⁠ᴗ⁠◕⁠✿⁠)   \n",
       "2  розумієте, я іноді малюю маленькі незначні ске...   \n",
       "3  у мене є ак для малювання @dmchn_art ііі я там...   \n",
       "4  oh no my spotify proposed me to listen to lana...   \n",
       "\n",
       "                         date  \\\n",
       "0  Jan 15, 2024 · 5:13 PM UTC   \n",
       "1  Jan 15, 2024 · 5:20 PM UTC   \n",
       "2  Jan 15, 2024 · 3:34 PM UTC   \n",
       "3  Jan 15, 2024 · 2:57 PM UTC   \n",
       "4  Jan 15, 2024 · 2:55 PM UTC   \n",
       "\n",
       "                                               texts sentiment  \n",
       "0  {'comments': 0, 'retweets': 4, 'quotes': 0, 'l...  Negative  \n",
       "1  {'comments': 0, 'retweets': 0, 'quotes': 0, 'l...   Neutral  \n",
       "2  {'comments': 1, 'retweets': 0, 'quotes': 0, 'l...   Neutral  \n",
       "3  {'comments': 2, 'retweets': 0, 'quotes': 0, 'l...   Neutral  \n",
       "4  {'comments': 0, 'retweets': 0, 'quotes': 0, 'l...  Negative  "
      ]
     },
     "execution_count": 6,
     "metadata": {},
     "output_type": "execute_result"
    }
   ],
   "source": [
    "df_chrome= pd.read_csv('ChromGin-tweeter-terms',index_col=0)\n",
    "print (df_chrome.shape)\n",
    "df_chrome.head()"
   ]
  },
  {
   "cell_type": "code",
   "execution_count": null,
   "metadata": {
    "colab": {
     "base_uri": "https://localhost:8080/"
    },
    "id": "NYsHecE1AR13",
    "outputId": "edd5a9b6-5848-4328-ddb8-e097fc115a1c"
   },
   "outputs": [
    {
     "data": {
      "text/plain": [
       "Index(['link', 'tweet', 'date', 'texts', 'sentiment'], dtype='object')"
      ]
     },
     "execution_count": 11,
     "metadata": {},
     "output_type": "execute_result"
    }
   ],
   "source": [
    "#checking for column titles\n",
    "df_chrome.columns"
   ]
  },
  {
   "cell_type": "code",
   "execution_count": null,
   "metadata": {
    "id": "_u7dB6E_AV7I"
   },
   "outputs": [],
   "source": [
    "#Drop unneccessary columns\n",
    "#We choose to drop the column Unnamed, ID, URL, Username, Source, location\n",
    "#and remain with columns that will be relevant for our analysis\n",
    "df_chrome.drop(['link', 'texts'], axis=1, inplace=True)"
   ]
  },
  {
   "cell_type": "code",
   "execution_count": null,
   "metadata": {
    "colab": {
     "base_uri": "https://localhost:8080/",
     "height": 206
    },
    "id": "i0P-qv_eAamg",
    "outputId": "bb135e5a-cce6-4039-afa2-dc4d32b8986d"
   },
   "outputs": [
    {
     "data": {
      "text/html": [
       "\n",
       "  <div id=\"df-c61efa3c-ac7d-417b-8de7-b227ea6f6247\" class=\"colab-df-container\">\n",
       "    <div>\n",
       "<style scoped>\n",
       "    .dataframe tbody tr th:only-of-type {\n",
       "        vertical-align: middle;\n",
       "    }\n",
       "\n",
       "    .dataframe tbody tr th {\n",
       "        vertical-align: top;\n",
       "    }\n",
       "\n",
       "    .dataframe thead th {\n",
       "        text-align: right;\n",
       "    }\n",
       "</style>\n",
       "<table border=\"1\" class=\"dataframe\">\n",
       "  <thead>\n",
       "    <tr style=\"text-align: right;\">\n",
       "      <th></th>\n",
       "      <th>tweet</th>\n",
       "      <th>date</th>\n",
       "      <th>sentiment</th>\n",
       "    </tr>\n",
       "  </thead>\n",
       "  <tbody>\n",
       "    <tr>\n",
       "      <th>0</th>\n",
       "      <td>good night</td>\n",
       "      <td>Jan 14, 2024 · 11:12 PM UTC</td>\n",
       "      <td>Positive</td>\n",
       "    </tr>\n",
       "    <tr>\n",
       "      <th>1</th>\n",
       "      <td>congratulations you got tuberculosis</td>\n",
       "      <td>Jan 14, 2024 · 7:52 PM UTC</td>\n",
       "      <td>Positive</td>\n",
       "    </tr>\n",
       "    <tr>\n",
       "      <th>2</th>\n",
       "      <td>When I get flustered over an edit/fic/art I st...</td>\n",
       "      <td>Jan 14, 2024 · 12:00 AM UTC</td>\n",
       "      <td>Negative</td>\n",
       "    </tr>\n",
       "    <tr>\n",
       "      <th>3</th>\n",
       "      <td>that's hilarious</td>\n",
       "      <td>Jan 14, 2024 · 6:56 PM UTC</td>\n",
       "      <td>Positive</td>\n",
       "    </tr>\n",
       "    <tr>\n",
       "      <th>4</th>\n",
       "      <td>я мамі казав, що в мене чутливість до голосних...</td>\n",
       "      <td>Jan 14, 2024 · 6:19 PM UTC</td>\n",
       "      <td>Neutral</td>\n",
       "    </tr>\n",
       "  </tbody>\n",
       "</table>\n",
       "</div>\n",
       "    <div class=\"colab-df-buttons\">\n",
       "\n",
       "  <div class=\"colab-df-container\">\n",
       "    <button class=\"colab-df-convert\" onclick=\"convertToInteractive('df-c61efa3c-ac7d-417b-8de7-b227ea6f6247')\"\n",
       "            title=\"Convert this dataframe to an interactive table.\"\n",
       "            style=\"display:none;\">\n",
       "\n",
       "  <svg xmlns=\"http://www.w3.org/2000/svg\" height=\"24px\" viewBox=\"0 -960 960 960\">\n",
       "    <path d=\"M120-120v-720h720v720H120Zm60-500h600v-160H180v160Zm220 220h160v-160H400v160Zm0 220h160v-160H400v160ZM180-400h160v-160H180v160Zm440 0h160v-160H620v160ZM180-180h160v-160H180v160Zm440 0h160v-160H620v160Z\"/>\n",
       "  </svg>\n",
       "    </button>\n",
       "\n",
       "  <style>\n",
       "    .colab-df-container {\n",
       "      display:flex;\n",
       "      gap: 12px;\n",
       "    }\n",
       "\n",
       "    .colab-df-convert {\n",
       "      background-color: #E8F0FE;\n",
       "      border: none;\n",
       "      border-radius: 50%;\n",
       "      cursor: pointer;\n",
       "      display: none;\n",
       "      fill: #1967D2;\n",
       "      height: 32px;\n",
       "      padding: 0 0 0 0;\n",
       "      width: 32px;\n",
       "    }\n",
       "\n",
       "    .colab-df-convert:hover {\n",
       "      background-color: #E2EBFA;\n",
       "      box-shadow: 0px 1px 2px rgba(60, 64, 67, 0.3), 0px 1px 3px 1px rgba(60, 64, 67, 0.15);\n",
       "      fill: #174EA6;\n",
       "    }\n",
       "\n",
       "    .colab-df-buttons div {\n",
       "      margin-bottom: 4px;\n",
       "    }\n",
       "\n",
       "    [theme=dark] .colab-df-convert {\n",
       "      background-color: #3B4455;\n",
       "      fill: #D2E3FC;\n",
       "    }\n",
       "\n",
       "    [theme=dark] .colab-df-convert:hover {\n",
       "      background-color: #434B5C;\n",
       "      box-shadow: 0px 1px 3px 1px rgba(0, 0, 0, 0.15);\n",
       "      filter: drop-shadow(0px 1px 2px rgba(0, 0, 0, 0.3));\n",
       "      fill: #FFFFFF;\n",
       "    }\n",
       "  </style>\n",
       "\n",
       "    <script>\n",
       "      const buttonEl =\n",
       "        document.querySelector('#df-c61efa3c-ac7d-417b-8de7-b227ea6f6247 button.colab-df-convert');\n",
       "      buttonEl.style.display =\n",
       "        google.colab.kernel.accessAllowed ? 'block' : 'none';\n",
       "\n",
       "      async function convertToInteractive(key) {\n",
       "        const element = document.querySelector('#df-c61efa3c-ac7d-417b-8de7-b227ea6f6247');\n",
       "        const dataTable =\n",
       "          await google.colab.kernel.invokeFunction('convertToInteractive',\n",
       "                                                    [key], {});\n",
       "        if (!dataTable) return;\n",
       "\n",
       "        const docLinkHtml = 'Like what you see? Visit the ' +\n",
       "          '<a target=\"_blank\" href=https://colab.research.google.com/notebooks/data_table.ipynb>data table notebook</a>'\n",
       "          + ' to learn more about interactive tables.';\n",
       "        element.innerHTML = '';\n",
       "        dataTable['output_type'] = 'display_data';\n",
       "        await google.colab.output.renderOutput(dataTable, element);\n",
       "        const docLink = document.createElement('div');\n",
       "        docLink.innerHTML = docLinkHtml;\n",
       "        element.appendChild(docLink);\n",
       "      }\n",
       "    </script>\n",
       "  </div>\n",
       "\n",
       "\n",
       "<div id=\"df-3887ed75-b1ad-4acd-b772-06f11590fa40\">\n",
       "  <button class=\"colab-df-quickchart\" onclick=\"quickchart('df-3887ed75-b1ad-4acd-b772-06f11590fa40')\"\n",
       "            title=\"Suggest charts\"\n",
       "            style=\"display:none;\">\n",
       "\n",
       "<svg xmlns=\"http://www.w3.org/2000/svg\" height=\"24px\"viewBox=\"0 0 24 24\"\n",
       "     width=\"24px\">\n",
       "    <g>\n",
       "        <path d=\"M19 3H5c-1.1 0-2 .9-2 2v14c0 1.1.9 2 2 2h14c1.1 0 2-.9 2-2V5c0-1.1-.9-2-2-2zM9 17H7v-7h2v7zm4 0h-2V7h2v10zm4 0h-2v-4h2v4z\"/>\n",
       "    </g>\n",
       "</svg>\n",
       "  </button>\n",
       "\n",
       "<style>\n",
       "  .colab-df-quickchart {\n",
       "      --bg-color: #E8F0FE;\n",
       "      --fill-color: #1967D2;\n",
       "      --hover-bg-color: #E2EBFA;\n",
       "      --hover-fill-color: #174EA6;\n",
       "      --disabled-fill-color: #AAA;\n",
       "      --disabled-bg-color: #DDD;\n",
       "  }\n",
       "\n",
       "  [theme=dark] .colab-df-quickchart {\n",
       "      --bg-color: #3B4455;\n",
       "      --fill-color: #D2E3FC;\n",
       "      --hover-bg-color: #434B5C;\n",
       "      --hover-fill-color: #FFFFFF;\n",
       "      --disabled-bg-color: #3B4455;\n",
       "      --disabled-fill-color: #666;\n",
       "  }\n",
       "\n",
       "  .colab-df-quickchart {\n",
       "    background-color: var(--bg-color);\n",
       "    border: none;\n",
       "    border-radius: 50%;\n",
       "    cursor: pointer;\n",
       "    display: none;\n",
       "    fill: var(--fill-color);\n",
       "    height: 32px;\n",
       "    padding: 0;\n",
       "    width: 32px;\n",
       "  }\n",
       "\n",
       "  .colab-df-quickchart:hover {\n",
       "    background-color: var(--hover-bg-color);\n",
       "    box-shadow: 0 1px 2px rgba(60, 64, 67, 0.3), 0 1px 3px 1px rgba(60, 64, 67, 0.15);\n",
       "    fill: var(--button-hover-fill-color);\n",
       "  }\n",
       "\n",
       "  .colab-df-quickchart-complete:disabled,\n",
       "  .colab-df-quickchart-complete:disabled:hover {\n",
       "    background-color: var(--disabled-bg-color);\n",
       "    fill: var(--disabled-fill-color);\n",
       "    box-shadow: none;\n",
       "  }\n",
       "\n",
       "  .colab-df-spinner {\n",
       "    border: 2px solid var(--fill-color);\n",
       "    border-color: transparent;\n",
       "    border-bottom-color: var(--fill-color);\n",
       "    animation:\n",
       "      spin 1s steps(1) infinite;\n",
       "  }\n",
       "\n",
       "  @keyframes spin {\n",
       "    0% {\n",
       "      border-color: transparent;\n",
       "      border-bottom-color: var(--fill-color);\n",
       "      border-left-color: var(--fill-color);\n",
       "    }\n",
       "    20% {\n",
       "      border-color: transparent;\n",
       "      border-left-color: var(--fill-color);\n",
       "      border-top-color: var(--fill-color);\n",
       "    }\n",
       "    30% {\n",
       "      border-color: transparent;\n",
       "      border-left-color: var(--fill-color);\n",
       "      border-top-color: var(--fill-color);\n",
       "      border-right-color: var(--fill-color);\n",
       "    }\n",
       "    40% {\n",
       "      border-color: transparent;\n",
       "      border-right-color: var(--fill-color);\n",
       "      border-top-color: var(--fill-color);\n",
       "    }\n",
       "    60% {\n",
       "      border-color: transparent;\n",
       "      border-right-color: var(--fill-color);\n",
       "    }\n",
       "    80% {\n",
       "      border-color: transparent;\n",
       "      border-right-color: var(--fill-color);\n",
       "      border-bottom-color: var(--fill-color);\n",
       "    }\n",
       "    90% {\n",
       "      border-color: transparent;\n",
       "      border-bottom-color: var(--fill-color);\n",
       "    }\n",
       "  }\n",
       "</style>\n",
       "\n",
       "  <script>\n",
       "    async function quickchart(key) {\n",
       "      const quickchartButtonEl =\n",
       "        document.querySelector('#' + key + ' button');\n",
       "      quickchartButtonEl.disabled = true;  // To prevent multiple clicks.\n",
       "      quickchartButtonEl.classList.add('colab-df-spinner');\n",
       "      try {\n",
       "        const charts = await google.colab.kernel.invokeFunction(\n",
       "            'suggestCharts', [key], {});\n",
       "      } catch (error) {\n",
       "        console.error('Error during call to suggestCharts:', error);\n",
       "      }\n",
       "      quickchartButtonEl.classList.remove('colab-df-spinner');\n",
       "      quickchartButtonEl.classList.add('colab-df-quickchart-complete');\n",
       "    }\n",
       "    (() => {\n",
       "      let quickchartButtonEl =\n",
       "        document.querySelector('#df-3887ed75-b1ad-4acd-b772-06f11590fa40 button');\n",
       "      quickchartButtonEl.style.display =\n",
       "        google.colab.kernel.accessAllowed ? 'block' : 'none';\n",
       "    })();\n",
       "  </script>\n",
       "</div>\n",
       "    </div>\n",
       "  </div>\n"
      ],
      "text/plain": [
       "                                               tweet  \\\n",
       "0                                         good night   \n",
       "1               congratulations you got tuberculosis   \n",
       "2  When I get flustered over an edit/fic/art I st...   \n",
       "3                                   that's hilarious   \n",
       "4  я мамі казав, що в мене чутливість до голосних...   \n",
       "\n",
       "                          date sentiment  \n",
       "0  Jan 14, 2024 · 11:12 PM UTC  Positive  \n",
       "1   Jan 14, 2024 · 7:52 PM UTC  Positive  \n",
       "2  Jan 14, 2024 · 12:00 AM UTC  Negative  \n",
       "3   Jan 14, 2024 · 6:56 PM UTC  Positive  \n",
       "4   Jan 14, 2024 · 6:19 PM UTC   Neutral  "
      ]
     },
     "execution_count": 13,
     "metadata": {},
     "output_type": "execute_result"
    }
   ],
   "source": [
    "df_chrome.head()"
   ]
  },
  {
   "cell_type": "code",
   "execution_count": null,
   "metadata": {
    "colab": {
     "base_uri": "https://localhost:8080/"
    },
    "id": "v8nZA2S6AfZ9",
    "outputId": "c397819b-b0c7-4b6d-b309-453bd7127144"
   },
   "outputs": [
    {
     "data": {
      "text/plain": [
       "tweet        17\n",
       "date          0\n",
       "sentiment     0\n",
       "dtype: int64"
      ]
     },
     "execution_count": 14,
     "metadata": {},
     "output_type": "execute_result"
    }
   ],
   "source": [
    "#Checking for missing values\n",
    "df_chrome.isnull().sum()"
   ]
  },
  {
   "cell_type": "markdown",
   "metadata": {
    "id": "Kq4ckvINAj1d"
   },
   "source": [
    "We have noted that we have few missing values on tweet. We choose to drop them as we won't be loosing a large chunk of information."
   ]
  },
  {
   "cell_type": "code",
   "execution_count": null,
   "metadata": {
    "colab": {
     "base_uri": "https://localhost:8080/"
    },
    "id": "jRPzVEukAkqZ",
    "outputId": "f4bf2102-ab06-4513-eef7-3841acce16ba"
   },
   "outputs": [
    {
     "data": {
      "text/plain": [
       "tweet        0\n",
       "date         0\n",
       "sentiment    0\n",
       "dtype: int64"
      ]
     },
     "execution_count": 15,
     "metadata": {},
     "output_type": "execute_result"
    }
   ],
   "source": [
    "#Dropping missing values\n",
    "df_chrome = df_chrome.dropna()\n",
    "\n",
    "\n",
    "#confirming that we have dropped the missing values\n",
    "df_chrome.isnull().sum()"
   ]
  },
  {
   "cell_type": "code",
   "execution_count": null,
   "metadata": {
    "colab": {
     "base_uri": "https://localhost:8080/"
    },
    "id": "VA_I7NzmAqUT",
    "outputId": "15117090-52af-44fd-b901-f2643ad7a20c"
   },
   "outputs": [
    {
     "data": {
      "text/plain": [
       "16"
      ]
     },
     "execution_count": 16,
     "metadata": {},
     "output_type": "execute_result"
    }
   ],
   "source": [
    "#Checking for duplicates\n",
    "df_chrome.duplicated().sum()"
   ]
  },
  {
   "cell_type": "markdown",
   "metadata": {
    "id": "Pew_7WyvAtey"
   },
   "source": [
    "We note that we have eleven duplicated records. We choose to drop them"
   ]
  },
  {
   "cell_type": "code",
   "execution_count": null,
   "metadata": {
    "colab": {
     "base_uri": "https://localhost:8080/"
    },
    "id": "72NKVL-IAuJO",
    "outputId": "0f7a0e79-a29c-46ce-88e5-2f13c507922d"
   },
   "outputs": [
    {
     "data": {
      "text/plain": [
       "0"
      ]
     },
     "execution_count": 17,
     "metadata": {},
     "output_type": "execute_result"
    }
   ],
   "source": [
    "#Dropping the duplicated record\n",
    "df_chrome=df_chrome.drop_duplicates()\n",
    "\n",
    "#Checking if the duplicates have been dropped\n",
    "df_chrome.duplicated().sum()"
   ]
  },
  {
   "cell_type": "markdown",
   "metadata": {
    "id": "3yysT-C7BCJk"
   },
   "source": [
    "**Data preprocessing**"
   ]
  },
  {
   "cell_type": "markdown",
   "metadata": {
    "id": "ZCW2SiQ9BFS_"
   },
   "source": [
    "This involves this neccessay steps before carrying out the sentiment analysis To remove the stop words Removing tags, url links and other unnecessary words Tokenizing the words Lemmitizing words"
   ]
  },
  {
   "cell_type": "code",
   "execution_count": null,
   "metadata": {
    "colab": {
     "base_uri": "https://localhost:8080/"
    },
    "id": "NK2uEudsBGI0",
    "outputId": "bb9d7abb-4d5e-421f-e787-03d482976f8a"
   },
   "outputs": [
    {
     "data": {
      "text/plain": [
       "0                                            good night\n",
       "1                  congratulations you got tuberculosis\n",
       "2     When I get flustered over an edit/fic/art I st...\n",
       "3                                      that's hilarious\n",
       "4     я мамі казав, що в мене чутливість до голосних...\n",
       "5     sonder used to give me hope and i smiled while...\n",
       "6                              my class in zoom be like\n",
       "7     finding a cool artist and then seeing them pos...\n",
       "8                                          that's fine!\n",
       "9               YOU ARE MY 202ND FOLLOWER THANK YOU ILY\n",
       "10                                                   😟😟\n",
       "11    may i stand unshaken amidst amidst the crash o...\n",
       "12    hold on just a little while longer everything ...\n",
       "13                                 guys guys guess what\n",
       "14          when she refuses to play gwent with you💔💔💔💔\n",
       "15    yeah she got used to insults i guess she'll be...\n",
       "16                                       gin you mean??\n",
       "17                      ew simp we don't need women /hj\n",
       "18    I did not even think about interacting with th...\n",
       "19                                   you are simp, kimi\n",
       "20    YOU ARE SO REALLLLLLL OMG imagine him asking k...\n",
       "21            blud smells like a goddamn fish confirmed\n",
       "22                        are french ppl ur worst enemy\n",
       "23                       i have a brush made of my hair\n",
       "25    i'm in love with every work of yours dwww i wi...\n",
       "26                                            waitinggg\n",
       "27                  GOOD MORNING ryusui hater kimipoo🫶🫶\n",
       "28    woke up hour ago but it's still morning hehe😛 ...\n",
       "29                       тепер хочу себе намалювати °^°\n",
       "30                                         good morning\n",
       "Name: tweet, dtype: object"
      ]
     },
     "execution_count": 19,
     "metadata": {},
     "output_type": "execute_result"
    }
   ],
   "source": [
    "#clean tweets\n",
    "#Glance at data\n",
    "df_chrome['tweet'][:30]"
   ]
  },
  {
   "cell_type": "markdown",
   "metadata": {
    "id": "YbBb-OW2BX4D"
   },
   "source": [
    "Defining the cleaning function to remove specified elements from the tweet message"
   ]
  }
 ],
 "metadata": {
  "colab": {
   "provenance": []
  },
  "kernelspec": {
   "display_name": "Python 3",
   "language": "python",
   "name": "python3"
  },
  "language_info": {
   "codemirror_mode": {
    "name": "ipython",
    "version": 3
   },
   "file_extension": ".py",
   "mimetype": "text/x-python",
   "name": "python",
   "nbconvert_exporter": "python",
   "pygments_lexer": "ipython3",
   "version": "3.8.5"
  }
 },
 "nbformat": 4,
 "nbformat_minor": 1
}
