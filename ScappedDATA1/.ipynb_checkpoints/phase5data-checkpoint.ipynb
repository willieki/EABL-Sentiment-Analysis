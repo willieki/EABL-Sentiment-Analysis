{
 "cells": [
  {
   "cell_type": "markdown",
   "metadata": {},
   "source": [
    "##### SCRAPPING X DATA ON EABL MENTIONS & HASHTAGS"
   ]
  },
  {
   "cell_type": "code",
   "execution_count": null,
   "metadata": {},
   "outputs": [],
   "source": [
    "from ntscraper import Nitter\n",
    "scraper=Nitter()"
   ]
  },
  {
   "cell_type": "code",
   "execution_count": 2,
   "metadata": {},
   "outputs": [],
   "source": [
    "# #eabl hashtags\n",
    "# hashtags_group1 = ['#EABL', '#BoycottEABL', '#pombe']\n",
    "# hashtags_group2 = ['#TupataneBlankets', '#WeLiveForTaste', '#OpenGoodTimes', '#DrinkBetterNotMore']\n",
    "# hashtags_group3 = ['#GondwanaKE', '#KeepitLite', '#StreetFilosofia', '#GilbeysByChoice', #paidpartnershipwitheabl  \n",
    "#shikishaformnasenator ]\n",
    "#ChooseFlavourWithEdge\n",
    "#OpenGoodTimes"
   ]
  },
  {
   "cell_type": "code",
   "execution_count": 12,
   "metadata": {},
   "outputs": [
    {
     "name": "stderr",
     "output_type": "stream",
     "text": [
      "[nltk_data] Downloading package vader_lexicon to\n",
      "[nltk_data]     C:\\Users\\Administrator\\AppData\\Roaming\\nltk_data...\n",
      "[nltk_data]   Package vader_lexicon is already up-to-date!\n",
      "Testing instances: 100%|███████████████████████| 30/30 [01:06<00:00,  2.23s/it]\n"
     ]
    }
   ],
   "source": [
    "from ntscraper import Nitter\n",
    "from nltk.sentiment.vader import SentimentIntensityAnalyzer\n",
    "import nltk\n",
    "nltk.download('vader_lexicon')\n",
    "\n",
    "# Set up sentiment analyzer\n",
    "sid = SentimentIntensityAnalyzer()\n",
    "\n",
    "# Create Nitter scraper instance\n",
    "scraper = Nitter()\n",
    "\n",
    "def get_tweets_with_sentiment(name, mode, no):\n",
    "    # Fetch tweets using Nitter scraper\n",
    "    tweets = scraper.get_tweets(name, mode=mode, number=no)\n",
    "    \n",
    "    # Initialize an empty list to store final tweet data\n",
    "    final_tweets = []\n",
    "\n",
    "    # Iterate through the fetched tweets\n",
    "    for tweet in tweets['tweets']:\n",
    "        data = tweet['link'], tweet['text'], tweet['date'], tweet['stats']\n",
    "        final_tweets.append(data)\n",
    "\n",
    "    # Create a DataFrame from the collected tweet data\n",
    "    result_data = pd.DataFrame(final_tweets, columns=['data', 'text', 'stats', 'links'])\n",
    "    \n",
    "    # Analyze sentiment and add a new column\n",
    "    result_data['sentiment'] = result_data['text'].apply(lambda x: analyze_sentiment(x))\n",
    "\n",
    "    return result_data\n",
    "\n",
    "def analyze_sentiment(text):\n",
    "    # Get sentiment scores\n",
    "    sentiment_scores = sid.polarity_scores(text)\n",
    "    \n",
    "    # Determine sentiment category based on compound score\n",
    "    if sentiment_scores['compound'] >= 0.05:\n",
    "        return 'Positive'\n",
    "    elif sentiment_scores['compound'] <= -0.05:\n",
    "        return 'Negative'\n",
    "    else:\n",
    "        return 'Neutral'\n"
   ]
  },
  {
   "cell_type": "code",
   "execution_count": 9,
   "metadata": {
    "scrolled": true
   },
   "outputs": [
    {
     "name": "stdout",
     "output_type": "stream",
     "text": [
      "11-Jan-24 06:53:47 - No instance specified, using random instance https://nitter.mint.lgbt\n",
      "11-Jan-24 06:53:54 - Current stats for WeLiveForTaste: 17 tweets, 0 threads...\n",
      "11-Jan-24 06:53:58 - Current stats for WeLiveForTaste: 34 tweets, 0 threads...\n",
      "11-Jan-24 06:54:03 - Current stats for WeLiveForTaste: 49 tweets, 0 threads...\n",
      "11-Jan-24 06:54:08 - Current stats for WeLiveForTaste: 64 tweets, 0 threads...\n",
      "11-Jan-24 06:54:12 - Current stats for WeLiveForTaste: 79 tweets, 0 threads...\n",
      "11-Jan-24 06:54:17 - Current stats for WeLiveForTaste: 97 tweets, 0 threads...\n",
      "11-Jan-24 06:54:21 - Current stats for WeLiveForTaste: 114 tweets, 0 threads...\n",
      "11-Jan-24 06:54:26 - Current stats for WeLiveForTaste: 131 tweets, 0 threads...\n",
      "11-Jan-24 06:54:31 - Current stats for WeLiveForTaste: 147 tweets, 0 threads...\n",
      "11-Jan-24 06:54:37 - Current stats for WeLiveForTaste: 166 tweets, 0 threads...\n",
      "11-Jan-24 06:54:42 - Current stats for WeLiveForTaste: 183 tweets, 0 threads...\n",
      "11-Jan-24 06:54:47 - Current stats for WeLiveForTaste: 199 tweets, 0 threads...\n",
      "11-Jan-24 06:54:51 - Current stats for WeLiveForTaste: 218 tweets, 0 threads...\n",
      "11-Jan-24 06:54:56 - Current stats for WeLiveForTaste: 236 tweets, 0 threads...\n",
      "11-Jan-24 06:55:01 - Current stats for WeLiveForTaste: 250 tweets, 0 threads...\n",
      "11-Jan-24 06:55:07 - Current stats for WeLiveForTaste: 268 tweets, 0 threads...\n",
      "11-Jan-24 06:55:12 - Current stats for WeLiveForTaste: 286 tweets, 0 threads...\n",
      "11-Jan-24 06:55:17 - Current stats for WeLiveForTaste: 302 tweets, 0 threads...\n",
      "11-Jan-24 06:55:22 - Current stats for WeLiveForTaste: 321 tweets, 0 threads...\n",
      "11-Jan-24 06:55:26 - Current stats for WeLiveForTaste: 340 tweets, 0 threads...\n",
      "11-Jan-24 06:55:31 - Current stats for WeLiveForTaste: 357 tweets, 0 threads...\n",
      "11-Jan-24 06:55:36 - Current stats for WeLiveForTaste: 374 tweets, 0 threads...\n",
      "11-Jan-24 06:55:41 - Current stats for WeLiveForTaste: 390 tweets, 0 threads...\n",
      "11-Jan-24 06:55:46 - Current stats for WeLiveForTaste: 406 tweets, 0 threads...\n",
      "11-Jan-24 06:55:51 - Current stats for WeLiveForTaste: 424 tweets, 0 threads...\n",
      "11-Jan-24 06:55:55 - Current stats for WeLiveForTaste: 440 tweets, 0 threads...\n",
      "11-Jan-24 06:56:00 - Current stats for WeLiveForTaste: 455 tweets, 0 threads...\n",
      "11-Jan-24 06:56:06 - Current stats for WeLiveForTaste: 474 tweets, 0 threads...\n",
      "11-Jan-24 06:56:10 - Current stats for WeLiveForTaste: 491 tweets, 0 threads...\n",
      "11-Jan-24 06:56:14 - Current stats for WeLiveForTaste: 508 tweets, 0 threads...\n",
      "11-Jan-24 06:56:19 - Current stats for WeLiveForTaste: 526 tweets, 0 threads...\n",
      "11-Jan-24 06:56:23 - Current stats for WeLiveForTaste: 542 tweets, 0 threads...\n",
      "11-Jan-24 06:56:28 - Current stats for WeLiveForTaste: 560 tweets, 0 threads...\n",
      "11-Jan-24 06:56:33 - Current stats for WeLiveForTaste: 575 tweets, 0 threads...\n",
      "11-Jan-24 06:56:37 - Current stats for WeLiveForTaste: 590 tweets, 0 threads...\n",
      "11-Jan-24 06:56:42 - Current stats for WeLiveForTaste: 606 tweets, 0 threads...\n",
      "11-Jan-24 06:56:47 - Current stats for WeLiveForTaste: 626 tweets, 0 threads...\n",
      "11-Jan-24 06:56:52 - Current stats for WeLiveForTaste: 645 tweets, 0 threads...\n",
      "11-Jan-24 06:56:56 - Current stats for WeLiveForTaste: 664 tweets, 0 threads...\n",
      "11-Jan-24 06:57:01 - Current stats for WeLiveForTaste: 683 tweets, 0 threads...\n",
      "11-Jan-24 06:57:06 - Current stats for WeLiveForTaste: 697 tweets, 0 threads...\n",
      "11-Jan-24 06:57:10 - Current stats for WeLiveForTaste: 713 tweets, 0 threads...\n",
      "11-Jan-24 06:57:14 - Current stats for WeLiveForTaste: 714 tweets, 0 threads...\n",
      "11-Jan-24 06:57:19 - Current stats for WeLiveForTaste: 733 tweets, 0 threads...\n",
      "11-Jan-24 06:57:24 - Current stats for WeLiveForTaste: 750 tweets, 0 threads...\n",
      "11-Jan-24 06:57:28 - Current stats for WeLiveForTaste: 769 tweets, 0 threads...\n",
      "11-Jan-24 06:57:33 - Current stats for WeLiveForTaste: 783 tweets, 0 threads...\n",
      "11-Jan-24 06:57:38 - Current stats for WeLiveForTaste: 797 tweets, 0 threads...\n",
      "11-Jan-24 06:57:42 - Current stats for WeLiveForTaste: 810 tweets, 0 threads...\n",
      "11-Jan-24 06:57:47 - Current stats for WeLiveForTaste: 825 tweets, 0 threads...\n",
      "11-Jan-24 06:57:52 - Current stats for WeLiveForTaste: 841 tweets, 0 threads...\n",
      "11-Jan-24 06:57:56 - Current stats for WeLiveForTaste: 858 tweets, 0 threads...\n",
      "11-Jan-24 06:58:01 - Current stats for WeLiveForTaste: 875 tweets, 0 threads...\n",
      "11-Jan-24 06:58:06 - Current stats for WeLiveForTaste: 893 tweets, 0 threads...\n",
      "11-Jan-24 06:58:11 - Current stats for WeLiveForTaste: 910 tweets, 0 threads...\n",
      "11-Jan-24 06:58:15 - Current stats for WeLiveForTaste: 926 tweets, 0 threads...\n",
      "11-Jan-24 06:58:20 - Current stats for WeLiveForTaste: 943 tweets, 0 threads...\n",
      "11-Jan-24 06:58:24 - Current stats for WeLiveForTaste: 961 tweets, 0 threads...\n",
      "11-Jan-24 06:58:29 - Current stats for WeLiveForTaste: 978 tweets, 0 threads...\n",
      "11-Jan-24 06:58:34 - Current stats for WeLiveForTaste: 988 tweets, 0 threads...\n",
      "11-Jan-24 06:58:37 - Current stats for WeLiveForTaste: 996 tweets, 0 threads...\n",
      "11-Jan-24 06:58:43 - Current stats for WeLiveForTaste: 1008 tweets, 0 threads...\n",
      "11-Jan-24 06:58:48 - Current stats for WeLiveForTaste: 1021 tweets, 0 threads...\n",
      "11-Jan-24 06:58:52 - Current stats for WeLiveForTaste: 1026 tweets, 0 threads...\n",
      "11-Jan-24 06:58:57 - Current stats for WeLiveForTaste: 1039 tweets, 0 threads...\n",
      "11-Jan-24 06:59:01 - Current stats for WeLiveForTaste: 1053 tweets, 0 threads...\n",
      "11-Jan-24 06:59:06 - Current stats for WeLiveForTaste: 1071 tweets, 0 threads...\n",
      "11-Jan-24 06:59:11 - Current stats for WeLiveForTaste: 1091 tweets, 0 threads...\n",
      "11-Jan-24 06:59:16 - Current stats for WeLiveForTaste: 1106 tweets, 0 threads...\n",
      "11-Jan-24 06:59:20 - Current stats for WeLiveForTaste: 1122 tweets, 0 threads...\n",
      "11-Jan-24 06:59:24 - Current stats for WeLiveForTaste: 1137 tweets, 0 threads...\n",
      "11-Jan-24 06:59:29 - Current stats for WeLiveForTaste: 1154 tweets, 0 threads...\n",
      "11-Jan-24 06:59:33 - Current stats for WeLiveForTaste: 1167 tweets, 0 threads...\n",
      "11-Jan-24 06:59:38 - Current stats for WeLiveForTaste: 1179 tweets, 0 threads...\n",
      "11-Jan-24 06:59:43 - Current stats for WeLiveForTaste: 1196 tweets, 0 threads...\n",
      "11-Jan-24 06:59:48 - Current stats for WeLiveForTaste: 1214 tweets, 0 threads...\n",
      "11-Jan-24 06:59:53 - Current stats for WeLiveForTaste: 1230 tweets, 0 threads...\n",
      "11-Jan-24 06:59:57 - Current stats for WeLiveForTaste: 1247 tweets, 0 threads...\n",
      "11-Jan-24 07:00:02 - Current stats for WeLiveForTaste: 1261 tweets, 0 threads...\n",
      "11-Jan-24 07:00:07 - Current stats for WeLiveForTaste: 1278 tweets, 0 threads...\n",
      "11-Jan-24 07:00:12 - Current stats for WeLiveForTaste: 1295 tweets, 0 threads...\n",
      "11-Jan-24 07:00:16 - Current stats for WeLiveForTaste: 1312 tweets, 0 threads...\n",
      "11-Jan-24 07:00:22 - Current stats for WeLiveForTaste: 1326 tweets, 0 threads...\n",
      "11-Jan-24 07:00:27 - Current stats for WeLiveForTaste: 1343 tweets, 0 threads...\n",
      "11-Jan-24 07:00:32 - Current stats for WeLiveForTaste: 1360 tweets, 0 threads...\n",
      "11-Jan-24 07:00:36 - Current stats for WeLiveForTaste: 1378 tweets, 0 threads...\n",
      "11-Jan-24 07:00:41 - Current stats for WeLiveForTaste: 1394 tweets, 0 threads...\n",
      "11-Jan-24 07:00:44 - Current stats for WeLiveForTaste: 1397 tweets, 0 threads...\n"
     ]
    },
    {
     "ename": "NameError",
     "evalue": "name 'result_data' is not defined",
     "output_type": "error",
     "traceback": [
      "\u001b[1;31m---------------------------------------------------------------------------\u001b[0m",
      "\u001b[1;31mNameError\u001b[0m                                 Traceback (most recent call last)",
      "\u001b[1;32m<ipython-input-9-5e187588fd86>\u001b[0m in \u001b[0;36m<module>\u001b[1;34m\u001b[0m\n\u001b[0;32m      2\u001b[0m \u001b[0mhashtag1\u001b[0m \u001b[1;33m=\u001b[0m \u001b[0mget_tweets_with_sentiment\u001b[0m\u001b[1;33m(\u001b[0m\u001b[1;34m'WeLiveForTaste'\u001b[0m\u001b[1;33m,\u001b[0m \u001b[1;34m'hashtag'\u001b[0m\u001b[1;33m,\u001b[0m \u001b[1;36m1500\u001b[0m\u001b[1;33m)\u001b[0m\u001b[1;33m\u001b[0m\u001b[1;33m\u001b[0m\u001b[0m\n\u001b[0;32m      3\u001b[0m \u001b[1;32mimport\u001b[0m \u001b[0mpandas\u001b[0m \u001b[1;32mas\u001b[0m \u001b[0mpd\u001b[0m\u001b[1;33m\u001b[0m\u001b[1;33m\u001b[0m\u001b[0m\n\u001b[1;32m----> 4\u001b[1;33m \u001b[0mresult_data\u001b[0m\u001b[1;33m.\u001b[0m\u001b[0mto_csv\u001b[0m\u001b[1;33m(\u001b[0m\u001b[1;34m'hashtag1'\u001b[0m\u001b[1;33m)\u001b[0m\u001b[1;33m\u001b[0m\u001b[1;33m\u001b[0m\u001b[0m\n\u001b[0m",
      "\u001b[1;31mNameError\u001b[0m: name 'result_data' is not defined"
     ]
    }
   ],
   "source": [
    "# EABL Hashtag data\n",
    "hashtag1 = get_tweets_with_sentiment('WeLiveForTaste', 'hashtag', 1500) "
   ]
  },
  {
   "cell_type": "code",
   "execution_count": 10,
   "metadata": {},
   "outputs": [],
   "source": [
    "hashtag1.to_csv('hashtag1')"
   ]
  },
  {
   "cell_type": "code",
   "execution_count": 11,
   "metadata": {
    "scrolled": true
   },
   "outputs": [
    {
     "name": "stdout",
     "output_type": "stream",
     "text": [
      "11-Jan-24 07:04:46 - No instance specified, using random instance https://nitter.tux.pizza\n",
      "11-Jan-24 07:04:54 - Current stats for OpenGoodTimes: 19 tweets, 0 threads...\n",
      "11-Jan-24 07:04:59 - Current stats for OpenGoodTimes: 32 tweets, 0 threads...\n",
      "11-Jan-24 07:05:03 - Current stats for OpenGoodTimes: 45 tweets, 0 threads...\n",
      "11-Jan-24 07:05:08 - Current stats for OpenGoodTimes: 54 tweets, 0 threads...\n",
      "11-Jan-24 07:05:14 - Current stats for OpenGoodTimes: 71 tweets, 0 threads...\n",
      "11-Jan-24 07:05:19 - Current stats for OpenGoodTimes: 84 tweets, 0 threads...\n",
      "11-Jan-24 07:05:23 - Current stats for OpenGoodTimes: 102 tweets, 0 threads...\n",
      "11-Jan-24 07:05:28 - Current stats for OpenGoodTimes: 113 tweets, 0 threads...\n",
      "11-Jan-24 07:05:34 - Current stats for OpenGoodTimes: 130 tweets, 0 threads...\n",
      "11-Jan-24 07:05:39 - Current stats for OpenGoodTimes: 145 tweets, 0 threads...\n",
      "11-Jan-24 07:05:44 - Current stats for OpenGoodTimes: 162 tweets, 0 threads...\n",
      "11-Jan-24 07:05:49 - Current stats for OpenGoodTimes: 177 tweets, 0 threads...\n",
      "11-Jan-24 07:05:54 - Current stats for OpenGoodTimes: 194 tweets, 0 threads...\n",
      "11-Jan-24 07:05:59 - Current stats for OpenGoodTimes: 213 tweets, 0 threads...\n",
      "11-Jan-24 07:06:04 - Current stats for OpenGoodTimes: 230 tweets, 0 threads...\n",
      "11-Jan-24 07:06:10 - Current stats for OpenGoodTimes: 246 tweets, 0 threads...\n",
      "11-Jan-24 07:06:15 - Current stats for OpenGoodTimes: 262 tweets, 0 threads...\n",
      "11-Jan-24 07:06:20 - Current stats for OpenGoodTimes: 278 tweets, 0 threads...\n",
      "11-Jan-24 07:06:25 - Current stats for OpenGoodTimes: 296 tweets, 0 threads...\n",
      "11-Jan-24 07:06:31 - Current stats for OpenGoodTimes: 313 tweets, 0 threads...\n",
      "11-Jan-24 07:06:36 - Current stats for OpenGoodTimes: 331 tweets, 0 threads...\n",
      "11-Jan-24 07:06:41 - Current stats for OpenGoodTimes: 347 tweets, 0 threads...\n",
      "11-Jan-24 07:06:46 - Current stats for OpenGoodTimes: 364 tweets, 0 threads...\n",
      "11-Jan-24 07:06:51 - Current stats for OpenGoodTimes: 380 tweets, 0 threads...\n",
      "11-Jan-24 07:06:57 - Current stats for OpenGoodTimes: 396 tweets, 0 threads...\n",
      "11-Jan-24 07:07:02 - Current stats for OpenGoodTimes: 413 tweets, 0 threads...\n",
      "11-Jan-24 07:07:07 - Current stats for OpenGoodTimes: 429 tweets, 0 threads...\n",
      "11-Jan-24 07:07:12 - Current stats for OpenGoodTimes: 442 tweets, 0 threads...\n",
      "11-Jan-24 07:07:17 - Current stats for OpenGoodTimes: 460 tweets, 0 threads...\n",
      "11-Jan-24 07:07:23 - Current stats for OpenGoodTimes: 477 tweets, 0 threads...\n",
      "11-Jan-24 07:07:28 - Current stats for OpenGoodTimes: 493 tweets, 0 threads...\n",
      "11-Jan-24 07:07:34 - Current stats for OpenGoodTimes: 508 tweets, 0 threads...\n",
      "11-Jan-24 07:07:39 - Current stats for OpenGoodTimes: 525 tweets, 0 threads...\n",
      "11-Jan-24 07:07:44 - Current stats for OpenGoodTimes: 541 tweets, 0 threads...\n",
      "11-Jan-24 07:07:49 - Current stats for OpenGoodTimes: 557 tweets, 0 threads...\n",
      "11-Jan-24 07:07:54 - Current stats for OpenGoodTimes: 574 tweets, 0 threads...\n",
      "11-Jan-24 07:07:59 - Current stats for OpenGoodTimes: 591 tweets, 0 threads...\n",
      "11-Jan-24 07:08:04 - Current stats for OpenGoodTimes: 608 tweets, 0 threads...\n",
      "11-Jan-24 07:08:09 - Current stats for OpenGoodTimes: 624 tweets, 0 threads...\n",
      "11-Jan-24 07:08:14 - Current stats for OpenGoodTimes: 636 tweets, 0 threads...\n",
      "11-Jan-24 07:08:19 - Current stats for OpenGoodTimes: 651 tweets, 0 threads...\n",
      "11-Jan-24 07:08:24 - Current stats for OpenGoodTimes: 665 tweets, 0 threads...\n",
      "11-Jan-24 07:08:28 - Current stats for OpenGoodTimes: 679 tweets, 0 threads...\n",
      "11-Jan-24 07:08:33 - Current stats for OpenGoodTimes: 695 tweets, 0 threads...\n",
      "11-Jan-24 07:08:38 - Current stats for OpenGoodTimes: 702 tweets, 0 threads...\n",
      "11-Jan-24 07:08:42 - Current stats for OpenGoodTimes: 712 tweets, 0 threads...\n",
      "11-Jan-24 07:08:47 - Current stats for OpenGoodTimes: 728 tweets, 0 threads...\n",
      "11-Jan-24 07:08:53 - Current stats for OpenGoodTimes: 741 tweets, 0 threads...\n",
      "11-Jan-24 07:08:57 - Current stats for OpenGoodTimes: 758 tweets, 0 threads...\n",
      "11-Jan-24 07:09:03 - Current stats for OpenGoodTimes: 775 tweets, 0 threads...\n",
      "11-Jan-24 07:09:09 - Current stats for OpenGoodTimes: 795 tweets, 0 threads...\n",
      "11-Jan-24 07:09:14 - Current stats for OpenGoodTimes: 814 tweets, 0 threads...\n",
      "11-Jan-24 07:09:19 - Current stats for OpenGoodTimes: 833 tweets, 0 threads...\n",
      "11-Jan-24 07:09:24 - Current stats for OpenGoodTimes: 852 tweets, 0 threads...\n",
      "11-Jan-24 07:09:29 - Current stats for OpenGoodTimes: 867 tweets, 0 threads...\n",
      "11-Jan-24 07:09:34 - Current stats for OpenGoodTimes: 883 tweets, 0 threads...\n",
      "11-Jan-24 07:09:39 - Current stats for OpenGoodTimes: 899 tweets, 0 threads...\n",
      "11-Jan-24 07:09:45 - Current stats for OpenGoodTimes: 917 tweets, 0 threads...\n",
      "11-Jan-24 07:09:50 - Current stats for OpenGoodTimes: 933 tweets, 0 threads...\n",
      "11-Jan-24 07:09:55 - Current stats for OpenGoodTimes: 950 tweets, 0 threads...\n",
      "11-Jan-24 07:10:00 - Current stats for OpenGoodTimes: 966 tweets, 0 threads...\n",
      "11-Jan-24 07:10:05 - Current stats for OpenGoodTimes: 983 tweets, 0 threads...\n",
      "11-Jan-24 07:10:10 - Current stats for OpenGoodTimes: 997 tweets, 0 threads...\n",
      "11-Jan-24 07:10:15 - Current stats for OpenGoodTimes: 1015 tweets, 0 threads...\n",
      "11-Jan-24 07:10:20 - Current stats for OpenGoodTimes: 1032 tweets, 0 threads...\n",
      "11-Jan-24 07:10:25 - Current stats for OpenGoodTimes: 1045 tweets, 0 threads...\n",
      "11-Jan-24 07:10:30 - Current stats for OpenGoodTimes: 1061 tweets, 0 threads...\n",
      "11-Jan-24 07:10:35 - Current stats for OpenGoodTimes: 1075 tweets, 0 threads...\n",
      "11-Jan-24 07:10:41 - Current stats for OpenGoodTimes: 1088 tweets, 0 threads...\n",
      "11-Jan-24 07:10:46 - Current stats for OpenGoodTimes: 1102 tweets, 0 threads...\n",
      "11-Jan-24 07:10:51 - Current stats for OpenGoodTimes: 1118 tweets, 0 threads...\n",
      "11-Jan-24 07:10:56 - Current stats for OpenGoodTimes: 1133 tweets, 0 threads...\n",
      "11-Jan-24 07:11:01 - Current stats for OpenGoodTimes: 1149 tweets, 0 threads...\n",
      "11-Jan-24 07:11:06 - Current stats for OpenGoodTimes: 1162 tweets, 0 threads...\n",
      "11-Jan-24 07:11:11 - Current stats for OpenGoodTimes: 1179 tweets, 0 threads...\n",
      "11-Jan-24 07:11:17 - Current stats for OpenGoodTimes: 1192 tweets, 0 threads...\n",
      "11-Jan-24 07:11:22 - Current stats for OpenGoodTimes: 1207 tweets, 0 threads...\n",
      "11-Jan-24 07:11:26 - Current stats for OpenGoodTimes: 1224 tweets, 0 threads...\n",
      "11-Jan-24 07:11:32 - Current stats for OpenGoodTimes: 1241 tweets, 0 threads...\n",
      "11-Jan-24 07:11:36 - Current stats for OpenGoodTimes: 1255 tweets, 0 threads...\n",
      "11-Jan-24 07:11:42 - Current stats for OpenGoodTimes: 1268 tweets, 0 threads...\n",
      "11-Jan-24 07:11:46 - Current stats for OpenGoodTimes: 1287 tweets, 0 threads...\n",
      "11-Jan-24 07:11:52 - Current stats for OpenGoodTimes: 1307 tweets, 0 threads...\n",
      "11-Jan-24 07:11:57 - Current stats for OpenGoodTimes: 1322 tweets, 0 threads...\n",
      "11-Jan-24 07:12:02 - Current stats for OpenGoodTimes: 1338 tweets, 0 threads...\n",
      "11-Jan-24 07:12:07 - Current stats for OpenGoodTimes: 1356 tweets, 0 threads...\n",
      "11-Jan-24 07:12:12 - Current stats for OpenGoodTimes: 1371 tweets, 0 threads...\n",
      "11-Jan-24 07:12:18 - Current stats for OpenGoodTimes: 1390 tweets, 0 threads...\n",
      "11-Jan-24 07:12:23 - Current stats for OpenGoodTimes: 1406 tweets, 0 threads...\n",
      "11-Jan-24 07:12:29 - Current stats for OpenGoodTimes: 1423 tweets, 0 threads...\n",
      "11-Jan-24 07:12:34 - Current stats for OpenGoodTimes: 1440 tweets, 0 threads...\n",
      "11-Jan-24 07:12:39 - Current stats for OpenGoodTimes: 1458 tweets, 0 threads...\n",
      "11-Jan-24 07:12:44 - Current stats for OpenGoodTimes: 1474 tweets, 0 threads...\n",
      "11-Jan-24 07:12:49 - Current stats for OpenGoodTimes: 1492 tweets, 0 threads...\n",
      "11-Jan-24 07:12:55 - Current stats for OpenGoodTimes: 1500 tweets, 0 threads...\n"
     ]
    }
   ],
   "source": [
    "hashtag2 = get_tweets_with_sentiment('OpenGoodTimes', 'hashtag', 1500) "
   ]
  },
  {
   "cell_type": "code",
   "execution_count": 10,
   "metadata": {},
   "outputs": [],
   "source": [
    "hashtag2.to_excel('hashtag2.xlsx', index=False)"
   ]
  },
  {
   "cell_type": "code",
   "execution_count": 12,
   "metadata": {},
   "outputs": [
    {
     "name": "stdout",
     "output_type": "stream",
     "text": [
      "11-Jan-24 07:13:04 - No instance specified, using random instance https://nitter.eu.projectsegfau.lt\n",
      "11-Jan-24 07:13:05 - Error fetching https://nitter.eu.projectsegfau.lt. Trying https://nitter.perennialte.ch\n",
      "11-Jan-24 07:13:16 - Current stats for BoycottEABL: 17 tweets, 0 threads...\n",
      "11-Jan-24 07:13:21 - Current stats for BoycottEABL: 32 tweets, 0 threads...\n",
      "11-Jan-24 07:13:26 - Current stats for BoycottEABL: 47 tweets, 0 threads...\n",
      "11-Jan-24 07:13:31 - Current stats for BoycottEABL: 60 tweets, 0 threads...\n",
      "11-Jan-24 07:13:36 - Current stats for BoycottEABL: 73 tweets, 0 threads...\n",
      "11-Jan-24 07:13:41 - Current stats for BoycottEABL: 84 tweets, 0 threads...\n",
      "11-Jan-24 07:13:47 - Current stats for BoycottEABL: 100 tweets, 0 threads...\n",
      "11-Jan-24 07:13:52 - Current stats for BoycottEABL: 115 tweets, 0 threads...\n",
      "11-Jan-24 07:13:57 - Current stats for BoycottEABL: 132 tweets, 0 threads...\n",
      "11-Jan-24 07:14:02 - Current stats for BoycottEABL: 150 tweets, 0 threads...\n",
      "11-Jan-24 07:14:07 - Current stats for BoycottEABL: 166 tweets, 0 threads...\n",
      "11-Jan-24 07:14:12 - Current stats for BoycottEABL: 182 tweets, 0 threads...\n",
      "11-Jan-24 07:14:17 - Current stats for BoycottEABL: 199 tweets, 0 threads...\n",
      "11-Jan-24 07:14:22 - Current stats for BoycottEABL: 206 tweets, 0 threads...\n",
      "11-Jan-24 07:14:27 - Current stats for BoycottEABL: 213 tweets, 0 threads...\n",
      "11-Jan-24 07:14:32 - Current stats for BoycottEABL: 225 tweets, 0 threads...\n",
      "11-Jan-24 07:14:37 - Current stats for BoycottEABL: 237 tweets, 0 threads...\n",
      "11-Jan-24 07:14:42 - Current stats for BoycottEABL: 246 tweets, 0 threads...\n",
      "11-Jan-24 07:14:47 - Current stats for BoycottEABL: 257 tweets, 0 threads...\n",
      "11-Jan-24 07:14:52 - Current stats for BoycottEABL: 269 tweets, 0 threads...\n",
      "11-Jan-24 07:14:57 - Current stats for BoycottEABL: 285 tweets, 0 threads...\n",
      "11-Jan-24 07:15:02 - Current stats for BoycottEABL: 303 tweets, 0 threads...\n",
      "11-Jan-24 07:15:07 - Current stats for BoycottEABL: 320 tweets, 0 threads...\n",
      "11-Jan-24 07:15:12 - Current stats for BoycottEABL: 335 tweets, 0 threads...\n",
      "11-Jan-24 07:15:17 - Current stats for BoycottEABL: 347 tweets, 0 threads...\n",
      "11-Jan-24 07:15:22 - Current stats for BoycottEABL: 359 tweets, 0 threads...\n",
      "11-Jan-24 07:15:26 - Current stats for BoycottEABL: 375 tweets, 0 threads...\n",
      "11-Jan-24 07:15:32 - Current stats for BoycottEABL: 390 tweets, 0 threads...\n",
      "11-Jan-24 07:15:36 - Current stats for BoycottEABL: 403 tweets, 0 threads...\n",
      "11-Jan-24 07:15:41 - Current stats for BoycottEABL: 412 tweets, 0 threads...\n",
      "11-Jan-24 07:15:47 - Current stats for BoycottEABL: 426 tweets, 0 threads...\n",
      "11-Jan-24 07:15:52 - Current stats for BoycottEABL: 441 tweets, 0 threads...\n",
      "11-Jan-24 07:15:57 - Current stats for BoycottEABL: 456 tweets, 0 threads...\n",
      "11-Jan-24 07:16:02 - Current stats for BoycottEABL: 467 tweets, 0 threads...\n",
      "11-Jan-24 07:16:06 - Current stats for BoycottEABL: 480 tweets, 0 threads...\n",
      "11-Jan-24 07:16:12 - Current stats for BoycottEABL: 498 tweets, 0 threads...\n",
      "11-Jan-24 07:16:17 - Current stats for BoycottEABL: 512 tweets, 0 threads...\n",
      "11-Jan-24 07:16:22 - Current stats for BoycottEABL: 529 tweets, 0 threads...\n",
      "11-Jan-24 07:16:27 - Current stats for BoycottEABL: 545 tweets, 0 threads...\n",
      "11-Jan-24 07:16:32 - Current stats for BoycottEABL: 560 tweets, 0 threads...\n",
      "11-Jan-24 07:16:37 - Current stats for BoycottEABL: 575 tweets, 0 threads...\n",
      "11-Jan-24 07:16:42 - Current stats for BoycottEABL: 592 tweets, 0 threads...\n",
      "11-Jan-24 07:16:47 - Current stats for BoycottEABL: 610 tweets, 0 threads...\n",
      "11-Jan-24 07:16:52 - Current stats for BoycottEABL: 625 tweets, 0 threads...\n",
      "11-Jan-24 07:16:57 - Current stats for BoycottEABL: 639 tweets, 0 threads...\n",
      "11-Jan-24 07:17:02 - Current stats for BoycottEABL: 655 tweets, 0 threads...\n",
      "11-Jan-24 07:17:07 - Current stats for BoycottEABL: 670 tweets, 0 threads...\n",
      "11-Jan-24 07:17:12 - Current stats for BoycottEABL: 679 tweets, 0 threads...\n",
      "11-Jan-24 07:17:16 - Current stats for BoycottEABL: 689 tweets, 0 threads...\n",
      "11-Jan-24 07:17:21 - Current stats for BoycottEABL: 704 tweets, 0 threads...\n",
      "11-Jan-24 07:17:26 - Current stats for BoycottEABL: 721 tweets, 0 threads...\n",
      "11-Jan-24 07:17:31 - Current stats for BoycottEABL: 732 tweets, 0 threads...\n",
      "11-Jan-24 07:17:36 - Current stats for BoycottEABL: 747 tweets, 0 threads...\n",
      "11-Jan-24 07:17:40 - Current stats for BoycottEABL: 765 tweets, 0 threads...\n",
      "11-Jan-24 07:17:45 - Current stats for BoycottEABL: 777 tweets, 0 threads...\n",
      "11-Jan-24 07:17:50 - Current stats for BoycottEABL: 787 tweets, 0 threads...\n",
      "11-Jan-24 07:17:54 - Current stats for BoycottEABL: 799 tweets, 0 threads...\n",
      "11-Jan-24 07:17:59 - Current stats for BoycottEABL: 813 tweets, 0 threads...\n",
      "11-Jan-24 07:18:03 - Current stats for BoycottEABL: 827 tweets, 0 threads...\n",
      "11-Jan-24 07:18:09 - Current stats for BoycottEABL: 842 tweets, 0 threads...\n",
      "11-Jan-24 07:18:13 - Current stats for BoycottEABL: 855 tweets, 0 threads...\n",
      "11-Jan-24 07:18:19 - Current stats for BoycottEABL: 868 tweets, 0 threads...\n",
      "11-Jan-24 07:18:24 - Current stats for BoycottEABL: 881 tweets, 0 threads...\n",
      "11-Jan-24 07:18:29 - Current stats for BoycottEABL: 894 tweets, 0 threads...\n",
      "11-Jan-24 07:18:34 - Current stats for BoycottEABL: 908 tweets, 0 threads...\n",
      "11-Jan-24 07:18:39 - Current stats for BoycottEABL: 923 tweets, 0 threads...\n",
      "11-Jan-24 07:18:43 - Current stats for BoycottEABL: 936 tweets, 0 threads...\n",
      "11-Jan-24 07:18:48 - Current stats for BoycottEABL: 951 tweets, 0 threads...\n",
      "11-Jan-24 07:18:53 - Current stats for BoycottEABL: 967 tweets, 0 threads...\n",
      "11-Jan-24 07:18:59 - Current stats for BoycottEABL: 982 tweets, 0 threads...\n",
      "11-Jan-24 07:19:04 - Current stats for BoycottEABL: 999 tweets, 0 threads...\n",
      "11-Jan-24 07:19:09 - Current stats for BoycottEABL: 1014 tweets, 0 threads...\n",
      "11-Jan-24 07:19:13 - Current stats for BoycottEABL: 1028 tweets, 0 threads...\n",
      "11-Jan-24 07:19:18 - Current stats for BoycottEABL: 1043 tweets, 0 threads...\n",
      "11-Jan-24 07:19:22 - Current stats for BoycottEABL: 1053 tweets, 0 threads...\n",
      "11-Jan-24 07:19:27 - Current stats for BoycottEABL: 1068 tweets, 0 threads...\n",
      "11-Jan-24 07:19:32 - Current stats for BoycottEABL: 1084 tweets, 0 threads...\n",
      "11-Jan-24 07:19:37 - Current stats for BoycottEABL: 1103 tweets, 0 threads...\n",
      "11-Jan-24 07:19:42 - Current stats for BoycottEABL: 1116 tweets, 0 threads...\n",
      "11-Jan-24 07:19:48 - Current stats for BoycottEABL: 1132 tweets, 0 threads...\n",
      "11-Jan-24 07:19:52 - Current stats for BoycottEABL: 1146 tweets, 0 threads...\n",
      "11-Jan-24 07:19:57 - Current stats for BoycottEABL: 1159 tweets, 0 threads...\n",
      "11-Jan-24 07:20:01 - Current stats for BoycottEABL: 1175 tweets, 0 threads...\n",
      "11-Jan-24 07:20:06 - Current stats for BoycottEABL: 1188 tweets, 0 threads...\n",
      "11-Jan-24 07:20:12 - Current stats for BoycottEABL: 1204 tweets, 0 threads...\n",
      "11-Jan-24 07:20:17 - Current stats for BoycottEABL: 1221 tweets, 0 threads...\n",
      "11-Jan-24 07:20:22 - Current stats for BoycottEABL: 1238 tweets, 0 threads...\n",
      "11-Jan-24 07:20:28 - Current stats for BoycottEABL: 1255 tweets, 0 threads...\n",
      "11-Jan-24 07:20:32 - Current stats for BoycottEABL: 1268 tweets, 0 threads...\n",
      "11-Jan-24 07:20:38 - Current stats for BoycottEABL: 1281 tweets, 0 threads...\n",
      "11-Jan-24 07:20:43 - Current stats for BoycottEABL: 1291 tweets, 0 threads...\n",
      "11-Jan-24 07:20:48 - Current stats for BoycottEABL: 1306 tweets, 0 threads...\n",
      "11-Jan-24 07:20:52 - Current stats for BoycottEABL: 1324 tweets, 0 threads...\n",
      "11-Jan-24 07:20:57 - Current stats for BoycottEABL: 1339 tweets, 0 threads...\n",
      "11-Jan-24 07:21:02 - Current stats for BoycottEABL: 1355 tweets, 0 threads...\n",
      "11-Jan-24 07:21:08 - Current stats for BoycottEABL: 1375 tweets, 0 threads...\n",
      "11-Jan-24 07:21:12 - Current stats for BoycottEABL: 1392 tweets, 0 threads...\n",
      "11-Jan-24 07:21:17 - Current stats for BoycottEABL: 1410 tweets, 0 threads...\n",
      "11-Jan-24 07:21:22 - Current stats for BoycottEABL: 1430 tweets, 0 threads...\n",
      "11-Jan-24 07:21:28 - Current stats for BoycottEABL: 1446 tweets, 0 threads...\n",
      "11-Jan-24 07:21:32 - Current stats for BoycottEABL: 1460 tweets, 0 threads...\n",
      "11-Jan-24 07:21:37 - Current stats for BoycottEABL: 1471 tweets, 0 threads...\n",
      "11-Jan-24 07:21:42 - Current stats for BoycottEABL: 1487 tweets, 0 threads...\n",
      "11-Jan-24 07:21:47 - Current stats for BoycottEABL: 1499 tweets, 0 threads...\n"
     ]
    },
    {
     "name": "stdout",
     "output_type": "stream",
     "text": [
      "11-Jan-24 07:21:52 - Current stats for BoycottEABL: 1500 tweets, 0 threads...\n"
     ]
    }
   ],
   "source": [
    "hashtag3 = get_tweets_with_sentiment('BoycottEABL', 'hashtag', 1500) \n",
    "hashtag3.to_csv('hashtag3')"
   ]
  },
  {
   "cell_type": "code",
   "execution_count": 13,
   "metadata": {
    "scrolled": true
   },
   "outputs": [
    {
     "name": "stdout",
     "output_type": "stream",
     "text": [
      "13-Jan-24 12:31:37 - No instance specified, using random instance https://nitter.us.projectsegfau.lt\n",
      "13-Jan-24 12:31:48 - Current stats for shikishaformnasenator: 20 tweets, 0 threads...\n",
      "13-Jan-24 12:31:53 - Current stats for shikishaformnasenator: 40 tweets, 0 threads...\n",
      "13-Jan-24 12:31:58 - Current stats for shikishaformnasenator: 59 tweets, 0 threads...\n",
      "13-Jan-24 12:32:03 - Current stats for shikishaformnasenator: 79 tweets, 0 threads...\n",
      "13-Jan-24 12:32:08 - Current stats for shikishaformnasenator: 84 tweets, 0 threads...\n"
     ]
    }
   ],
   "source": [
    "hashtag4 = get_tweets_with_sentiment('shikishaformnasenator', 'hashtag', 1500) \n",
    "import pandas as pd\n",
    "hashtag4.to_csv('hashtag4.csv')"
   ]
  },
  {
   "cell_type": "code",
   "execution_count": 14,
   "metadata": {
    "scrolled": true
   },
   "outputs": [
    {
     "name": "stdout",
     "output_type": "stream",
     "text": [
      "13-Jan-24 12:39:38 - No instance specified, using random instance https://nitter.in.projectsegfau.lt\n",
      "13-Jan-24 12:39:39 - Error fetching https://nitter.in.projectsegfau.lt. Trying https://nitter.us.projectsegfau.lt\n",
      "13-Jan-24 12:39:50 - Current stats for ChooseFlavourWithEdge: 18 tweets, 0 threads...\n",
      "13-Jan-24 12:39:55 - Current stats for ChooseFlavourWithEdge: 36 tweets, 0 threads...\n",
      "13-Jan-24 12:40:01 - Current stats for ChooseFlavourWithEdge: 56 tweets, 0 threads...\n",
      "13-Jan-24 12:40:08 - Current stats for ChooseFlavourWithEdge: 73 tweets, 0 threads...\n",
      "13-Jan-24 12:40:14 - Current stats for ChooseFlavourWithEdge: 91 tweets, 0 threads...\n",
      "13-Jan-24 12:40:19 - Current stats for ChooseFlavourWithEdge: 105 tweets, 0 threads...\n",
      "13-Jan-24 12:40:25 - Current stats for ChooseFlavourWithEdge: 120 tweets, 0 threads...\n",
      "13-Jan-24 12:40:32 - Current stats for ChooseFlavourWithEdge: 134 tweets, 0 threads...\n",
      "13-Jan-24 12:40:38 - Current stats for ChooseFlavourWithEdge: 153 tweets, 0 threads...\n",
      "13-Jan-24 12:40:44 - Current stats for ChooseFlavourWithEdge: 171 tweets, 0 threads...\n",
      "13-Jan-24 12:40:49 - Current stats for ChooseFlavourWithEdge: 185 tweets, 0 threads...\n"
     ]
    }
   ],
   "source": [
    "hashtag5 = get_tweets_with_sentiment('ChooseFlavourWithEdge', 'hashtag', 1500) \n",
    "hashtag5.to_csv('hashtag5.csv')"
   ]
  },
  {
   "cell_type": "code",
   "execution_count": 6,
   "metadata": {},
   "outputs": [],
   "source": [
    "hash1 = pd.read_csv('hashtag1')\n",
    "hash2 = pd.read_csv('hashtag2')\n",
    "hash3 = pd.read_csv('hashtag3')\n",
    "EablMentions = pd.read_csv(\"EABL_mentions\")"
   ]
  },
  {
   "cell_type": "code",
   "execution_count": 9,
   "metadata": {},
   "outputs": [],
   "source": [
    "hash1.to_excel('hash1.xlsx', index=False)\n",
    "hash2.to_excel('hash2.xlsx', index=False)\n",
    "hash3.to_excel('hash3.xlsx', index=False)\n",
    "EablMentions.to_excel('EablMentions', index=False)"
   ]
  }
 ],
 "metadata": {
  "kernelspec": {
   "display_name": "Python 3",
   "language": "python",
   "name": "python3"
  },
  "language_info": {
   "codemirror_mode": {
    "name": "ipython",
    "version": 3
   },
   "file_extension": ".py",
   "mimetype": "text/x-python",
   "name": "python",
   "nbconvert_exporter": "python",
   "pygments_lexer": "ipython3",
   "version": "3.8.5"
  }
 },
 "nbformat": 4,
 "nbformat_minor": 4
}
